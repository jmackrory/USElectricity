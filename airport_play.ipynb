{
 "cells": [
  {
   "cell_type": "markdown",
   "metadata": {
    "ein.tags": "worksheet-0",
    "slideshow": {
     "slide_type": "-"
    }
   },
   "source": [
    "# Debugging\n",
    "\n",
    "This notebook primarily serves to create and debug newer functions acround gathering the weather sensor\n",
    "data from airports.\n",
    "\n",
    "This relies on gathering data info, converting airport codes, keeping larger airports,\n",
    "and downloading the correct files from NOAA's FTP servers."
   ]
  },
  {
   "cell_type": "code",
   "execution_count": 1,
   "metadata": {
    "autoscroll": false,
    "collapsed": false,
    "ein.hycell": false,
    "ein.tags": "worksheet-0",
    "slideshow": {
     "slide_type": "-"
    }
   },
   "outputs": [],
   "source": [
    "import pandas as pd"
   ]
  },
  {
   "cell_type": "code",
   "execution_count": 2,
   "metadata": {
    "autoscroll": false,
    "collapsed": false,
    "ein.hycell": false,
    "ein.tags": "worksheet-0",
    "slideshow": {
     "slide_type": "-"
    }
   },
   "outputs": [],
   "source": [
    "df=pd.read_csv('data/airports.csv')#, skiprows=1)"
   ]
  },
  {
   "cell_type": "code",
   "execution_count": 3,
   "metadata": {
    "autoscroll": false,
    "collapsed": false,
    "ein.hycell": false,
    "ein.tags": "worksheet-0",
    "slideshow": {
     "slide_type": "-"
    }
   },
   "outputs": [],
   "source": [
    "msk = (df['iso_region']=='US-CA') & (df['type'] == 'medium_airport')\n",
    "#df[msk]"
   ]
  },
  {
   "cell_type": "code",
   "execution_count": 4,
   "metadata": {
    "autoscroll": false,
    "collapsed": false,
    "ein.hycell": false,
    "ein.tags": "worksheet-0",
    "slideshow": {
     "slide_type": "-"
    }
   },
   "outputs": [],
   "source": [
    "from util.get_weather_data import make_airport_df\n",
    "from util.get_weather_data import read_isd_df                                     \n",
    "from util.get_weather_data import merge_air_isd\n",
    "from util.get_weather_data import plot_airports\n",
    "from util.get_weather_data import get_all_data\n",
    "from util.get_weather_data import convert_state_isd"
   ]
  },
  {
   "cell_type": "code",
   "execution_count": 5,
   "metadata": {
    "autoscroll": false,
    "collapsed": false,
    "ein.hycell": false,
    "ein.tags": "worksheet-0",
    "slideshow": {
     "slide_type": "-"
    }
   },
   "outputs": [],
   "source": [
    "%load_ext autoreload\n",
    "%autoreload 2"
   ]
  },
  {
   "cell_type": "code",
   "execution_count": 5,
   "metadata": {
    "autoscroll": false,
    "collapsed": false,
    "ein.hycell": false,
    "ein.tags": "worksheet-0",
    "slideshow": {
     "slide_type": "-"
    }
   },
   "outputs": [
    {
     "name": "stdout",
     "output_type": "stream",
     "text": [
      "Automatic pdb calling has been turned OFF\n"
     ]
    }
   ],
   "source": [
    "%pdb off\n",
    "air_df = make_airport_df()"
   ]
  },
  {
   "cell_type": "code",
   "execution_count": 6,
   "metadata": {
    "autoscroll": false,
    "collapsed": false,
    "ein.hycell": false,
    "ein.tags": "worksheet-0",
    "slideshow": {
     "slide_type": "-"
    }
   },
   "outputs": [
    {
     "data": {
      "text/html": [
       "<div>\n<style scoped>\n    .dataframe tbody tr th:only-of-type {\n        vertical-align: middle;\n    }\n\n    .dataframe tbody tr th {\n        vertical-align: top;\n    }\n\n    .dataframe thead th {\n        text-align: right;\n    }\n</style>\n<table border=\"1\" class=\"dataframe\">\n  <thead>\n    <tr style=\"text-align: right;\">\n      <th></th>\n      <th>name</th>\n      <th>City</th>\n      <th>CALL</th>\n    </tr>\n  </thead>\n  <tbody>\n    <tr>\n      <th>6225</th>\n      <td>Aleknagik / New Airport</td>\n      <td>Aleknagik</td>\n      <td>5A8</td>\n    </tr>\n    <tr>\n      <th>27440</th>\n      <td>South Alabama Regional At Bill Benton Field Ai...</td>\n      <td>Andalusia/Opp</td>\n      <td>K79J</td>\n    </tr>\n    <tr>\n      <th>27619</th>\n      <td>Lehigh Valley International Airport</td>\n      <td>Allentown</td>\n      <td>KABE</td>\n    </tr>\n    <tr>\n      <th>27620</th>\n      <td>Abilene Regional Airport</td>\n      <td>Abilene</td>\n      <td>KABI</td>\n    </tr>\n    <tr>\n      <th>27621</th>\n      <td>Albuquerque International Sunport</td>\n      <td>Albuquerque</td>\n      <td>KABQ</td>\n    </tr>\n    <tr>\n      <th>27622</th>\n      <td>Aberdeen Regional Airport</td>\n      <td>Aberdeen</td>\n      <td>KABR</td>\n    </tr>\n    <tr>\n      <th>27623</th>\n      <td>Southwest Georgia Regional Airport</td>\n      <td>Albany</td>\n      <td>KABY</td>\n    </tr>\n    <tr>\n      <th>27626</th>\n      <td>Nantucket Memorial Airport</td>\n      <td>Nantucket</td>\n      <td>KACK</td>\n    </tr>\n    <tr>\n      <th>27629</th>\n      <td>Waco Regional Airport</td>\n      <td>Waco</td>\n      <td>KACT</td>\n    </tr>\n    <tr>\n      <th>27630</th>\n      <td>California Redwood Coast-Humboldt County Airport</td>\n      <td>Arcata/Eureka</td>\n      <td>KACV</td>\n    </tr>\n    <tr>\n      <th>27631</th>\n      <td>Atlantic City International Airport</td>\n      <td>Atlantic City</td>\n      <td>KACY</td>\n    </tr>\n    <tr>\n      <th>27640</th>\n      <td>Joint Base Andrews</td>\n      <td>Camp Springs</td>\n      <td>KADW</td>\n    </tr>\n    <tr>\n      <th>27645</th>\n      <td>Alexandria International Airport</td>\n      <td>Alexandria</td>\n      <td>KAEX</td>\n    </tr>\n    <tr>\n      <th>27653</th>\n      <td>Fort Worth Alliance Airport</td>\n      <td>Fort Worth</td>\n      <td>KAFW</td>\n    </tr>\n    <tr>\n      <th>27654</th>\n      <td>Allegheny County Airport</td>\n      <td>Pittsburgh</td>\n      <td>KAGC</td>\n    </tr>\n    <tr>\n      <th>27657</th>\n      <td>Augusta Regional At Bush Field</td>\n      <td>Augusta</td>\n      <td>KAGS</td>\n    </tr>\n    <tr>\n      <th>27661</th>\n      <td>Athens Ben Epps Airport</td>\n      <td>Athens</td>\n      <td>KAHN</td>\n    </tr>\n    <tr>\n      <th>27681</th>\n      <td>Akron Executive Airport</td>\n      <td>Akron</td>\n      <td>KAKR</td>\n    </tr>\n    <tr>\n      <th>27682</th>\n      <td>Albany International Airport</td>\n      <td>Albany</td>\n      <td>KALB</td>\n    </tr>\n    <tr>\n      <th>27683</th>\n      <td>Alice International Airport</td>\n      <td>Alice</td>\n      <td>KALI</td>\n    </tr>\n    <tr>\n      <th>27684</th>\n      <td>Alamogordo White Sands Regional Airport</td>\n      <td>Alamogordo</td>\n      <td>KALM</td>\n    </tr>\n    <tr>\n      <th>27685</th>\n      <td>St Louis Regional Airport</td>\n      <td>Alton/St Louis</td>\n      <td>KALN</td>\n    </tr>\n    <tr>\n      <th>27686</th>\n      <td>Waterloo Regional Airport</td>\n      <td>Waterloo</td>\n      <td>KALO</td>\n    </tr>\n    <tr>\n      <th>27687</th>\n      <td>San Luis Valley Regional Bergman Field</td>\n      <td>Alamosa</td>\n      <td>KALS</td>\n    </tr>\n    <tr>\n      <th>27688</th>\n      <td>Walla Walla Regional Airport</td>\n      <td>Walla Walla</td>\n      <td>KALW</td>\n    </tr>\n    <tr>\n      <th>27690</th>\n      <td>Rick Husband Amarillo International Airport</td>\n      <td>Amarillo</td>\n      <td>KAMA</td>\n    </tr>\n    <tr>\n      <th>27695</th>\n      <td>Anniston Regional Airport</td>\n      <td>Anniston</td>\n      <td>KANB</td>\n    </tr>\n    <tr>\n      <th>27696</th>\n      <td>Anderson Regional Airport</td>\n      <td>Anderson</td>\n      <td>KAND</td>\n    </tr>\n    <tr>\n      <th>27706</th>\n      <td>Altoona Blair County Airport</td>\n      <td>Altoona</td>\n      <td>KAOO</td>\n    </tr>\n    <tr>\n      <th>27708</th>\n      <td>Centennial Airport</td>\n      <td>Denver</td>\n      <td>KAPA</td>\n    </tr>\n    <tr>\n      <th>...</th>\n      <td>...</td>\n      <td>...</td>\n      <td>...</td>\n    </tr>\n    <tr>\n      <th>40361</th>\n      <td>Kivalina Airport</td>\n      <td>Kivalina</td>\n      <td>PAVL</td>\n    </tr>\n    <tr>\n      <th>40363</th>\n      <td>Seward Airport</td>\n      <td>Seward</td>\n      <td>PAWD</td>\n    </tr>\n    <tr>\n      <th>40364</th>\n      <td>Wrangell Airport</td>\n      <td>Wrangell</td>\n      <td>PAWG</td>\n    </tr>\n    <tr>\n      <th>40365</th>\n      <td>Wainwright Airport</td>\n      <td>Wainwright</td>\n      <td>PAWI</td>\n    </tr>\n    <tr>\n      <th>40367</th>\n      <td>Noatak Airport</td>\n      <td>Noatak</td>\n      <td>PAWN</td>\n    </tr>\n    <tr>\n      <th>40369</th>\n      <td>Wasilla Airport</td>\n      <td>Wasilla</td>\n      <td>PAWS</td>\n    </tr>\n    <tr>\n      <th>40372</th>\n      <td>Yakutat Airport</td>\n      <td>Yakutat</td>\n      <td>PAYA</td>\n    </tr>\n    <tr>\n      <th>40411</th>\n      <td>Fort Yukon Airport</td>\n      <td>Fort Yukon</td>\n      <td>PFYU</td>\n    </tr>\n    <tr>\n      <th>40720</th>\n      <td>Barking Sands Airport</td>\n      <td>Kekaha</td>\n      <td>PHBK</td>\n    </tr>\n    <tr>\n      <th>40721</th>\n      <td>Dillingham Airfield</td>\n      <td>Mokuleia</td>\n      <td>PHDH</td>\n    </tr>\n    <tr>\n      <th>40723</th>\n      <td>Wheeler Army Airfield</td>\n      <td>Wahiawa</td>\n      <td>PHHI</td>\n    </tr>\n    <tr>\n      <th>40724</th>\n      <td>Hana Airport</td>\n      <td>Hana</td>\n      <td>PHHN</td>\n    </tr>\n    <tr>\n      <th>40726</th>\n      <td>Kapalua Airport</td>\n      <td>Lahaina</td>\n      <td>PHJH</td>\n    </tr>\n    <tr>\n      <th>40727</th>\n      <td>Kalaeloa Airport</td>\n      <td>Kapolei</td>\n      <td>PHJR</td>\n    </tr>\n    <tr>\n      <th>40728</th>\n      <td>Ellison Onizuka Kona International Airport at ...</td>\n      <td>Kailua-Kona</td>\n      <td>PHKO</td>\n    </tr>\n    <tr>\n      <th>40730</th>\n      <td>Lihue Airport</td>\n      <td>Lihue</td>\n      <td>PHLI</td>\n    </tr>\n    <tr>\n      <th>40732</th>\n      <td>Molokai Airport</td>\n      <td>Kaunakakai</td>\n      <td>PHMK</td>\n    </tr>\n    <tr>\n      <th>40733</th>\n      <td>Waimea Kohala Airport</td>\n      <td>Waimea (Kamuela)</td>\n      <td>PHMU</td>\n    </tr>\n    <tr>\n      <th>40734</th>\n      <td>Kaneohe Bay MCAS (Marion E. Carl Field) Airport</td>\n      <td>Kaneohe</td>\n      <td>PHNG</td>\n    </tr>\n    <tr>\n      <th>40735</th>\n      <td>Daniel K Inouye International Airport</td>\n      <td>Honolulu</td>\n      <td>PHNL</td>\n    </tr>\n    <tr>\n      <th>40737</th>\n      <td>Lanai Airport</td>\n      <td>Lanai City</td>\n      <td>PHNY</td>\n    </tr>\n    <tr>\n      <th>40738</th>\n      <td>Kahului Airport</td>\n      <td>Kahului</td>\n      <td>PHOG</td>\n    </tr>\n    <tr>\n      <th>40740</th>\n      <td>Bradshaw Army Airfield</td>\n      <td>Camp Pohakuloa</td>\n      <td>PHSF</td>\n    </tr>\n    <tr>\n      <th>40741</th>\n      <td>Hilo International Airport</td>\n      <td>Hilo</td>\n      <td>PHTO</td>\n    </tr>\n    <tr>\n      <th>40742</th>\n      <td>Upolu Airport</td>\n      <td>Hawi</td>\n      <td>PHUP</td>\n    </tr>\n    <tr>\n      <th>41059</th>\n      <td>Point Lay LRRS Airport</td>\n      <td>Point Lay</td>\n      <td>PPIZ</td>\n    </tr>\n    <tr>\n      <th>51301</th>\n      <td>Jim's Private Airport</td>\n      <td>Conyers</td>\n      <td>US-0086</td>\n    </tr>\n    <tr>\n      <th>51469</th>\n      <td>Yuma Auxiliary Army Airfield 2</td>\n      <td>Yuma</td>\n      <td>US-0254</td>\n    </tr>\n    <tr>\n      <th>51787</th>\n      <td>Williston Basin International Airport</td>\n      <td>Williston</td>\n      <td>US-0571</td>\n    </tr>\n    <tr>\n      <th>55675</th>\n      <td>Modi</td>\n      <td>California</td>\n      <td>XXZ</td>\n    </tr>\n  </tbody>\n</table>\n<p>857 rows × 3 columns</p>\n</div>"
      ],
      "text/plain": [
       "                                                    name           City  \\\n6225                             Aleknagik / New Airport      Aleknagik   \n27440  South Alabama Regional At Bill Benton Field Ai...  Andalusia/Opp   \n27619                Lehigh Valley International Airport      Allentown   \n27620                           Abilene Regional Airport        Abilene   \n27621                  Albuquerque International Sunport    Albuquerque   \n...                                                  ...            ...   \n41059                             Point Lay LRRS Airport      Point Lay   \n51301                              Jim's Private Airport        Conyers   \n51469                     Yuma Auxiliary Army Airfield 2           Yuma   \n51787              Williston Basin International Airport      Williston   \n55675                                               Modi     California   \n\n          CALL  \n6225       5A8  \n27440     K79J  \n27619     KABE  \n27620     KABI  \n27621     KABQ  \n...        ...  \n41059     PPIZ  \n51301  US-0086  \n51469  US-0254  \n51787  US-0571  \n55675      XXZ  \n\n[857 rows x 3 columns]"
      ]
     },
     "execution_count": 6,
     "metadata": {},
     "output_type": "execute_result"
    }
   ],
   "source": [
    "air_df"
   ]
  },
  {
   "cell_type": "code",
   "execution_count": 7,
   "metadata": {
    "autoscroll": false,
    "collapsed": false,
    "ein.hycell": false,
    "ein.tags": "worksheet-0",
    "slideshow": {
     "slide_type": "-"
    }
   },
   "outputs": [
    {
     "data": {
      "text/plain": [
       "857"
      ]
     },
     "execution_count": 7,
     "metadata": {},
     "output_type": "execute_result"
    }
   ],
   "source": [
    "len(air_df)"
   ]
  },
  {
   "cell_type": "code",
   "execution_count": 8,
   "metadata": {
    "autoscroll": false,
    "collapsed": false,
    "ein.hycell": false,
    "ein.tags": "worksheet-0",
    "slideshow": {
     "slide_type": "-"
    }
   },
   "outputs": [],
   "source": [
    "import matplotlib as mpl\n",
    "mpl.rcParams.update({'text.color' : \"white\",\n",
    "                     'axes.labelcolor' : \"blue\"})\n",
    "#mpl.rcParams['text.color'] = 'white'\n",
    "#mpl.rcParams['axes.labelcolor'] = 'white'"
   ]
  },
  {
   "cell_type": "markdown",
   "metadata": {
    "ein.tags": "worksheet-0",
    "slideshow": {
     "slide_type": "-"
    }
   },
   "source": [
    "First up, let's load in the dataframe of weather stations at airports."
   ]
  },
  {
   "cell_type": "code",
   "execution_count": 9,
   "metadata": {
    "autoscroll": false,
    "collapsed": false,
    "ein.hycell": false,
    "ein.tags": "worksheet-0",
    "slideshow": {
     "slide_type": "-"
    }
   },
   "outputs": [],
   "source": [
    "isd_df = read_isd_df()"
   ]
  },
  {
   "cell_type": "code",
   "execution_count": 10,
   "metadata": {
    "autoscroll": false,
    "collapsed": false,
    "ein.hycell": false,
    "ein.tags": "worksheet-0",
    "slideshow": {
     "slide_type": "-"
    }
   },
   "outputs": [
    {
     "data": {
      "text/html": [
       "<div>\n<style scoped>\n    .dataframe tbody tr th:only-of-type {\n        vertical-align: middle;\n    }\n\n    .dataframe tbody tr th {\n        vertical-align: top;\n    }\n\n    .dataframe thead th {\n        text-align: right;\n    }\n</style>\n<table border=\"1\" class=\"dataframe\">\n  <thead>\n    <tr style=\"text-align: right;\">\n      <th></th>\n      <th>USAF</th>\n      <th>WBAN</th>\n      <th>CALL</th>\n      <th>LAT</th>\n      <th>LON</th>\n      <th>ST</th>\n    </tr>\n  </thead>\n  <tbody>\n    <tr>\n      <th>2</th>\n      <td>007026</td>\n      <td>99999.0</td>\n      <td>NaN</td>\n      <td>0.000</td>\n      <td>0.000</td>\n      <td>NaN</td>\n    </tr>\n    <tr>\n      <th>3</th>\n      <td>007070</td>\n      <td>99999.0</td>\n      <td>NaN</td>\n      <td>0.000</td>\n      <td>0.000</td>\n      <td>NaN</td>\n    </tr>\n    <tr>\n      <th>7</th>\n      <td>008411</td>\n      <td>99999.0</td>\n      <td>NaN</td>\n      <td>NaN</td>\n      <td>NaN</td>\n      <td>NaN</td>\n    </tr>\n    <tr>\n      <th>8</th>\n      <td>008414</td>\n      <td>99999.0</td>\n      <td>NaN</td>\n      <td>NaN</td>\n      <td>NaN</td>\n      <td>NaN</td>\n    </tr>\n    <tr>\n      <th>9</th>\n      <td>008415</td>\n      <td>99999.0</td>\n      <td>NaN</td>\n      <td>NaN</td>\n      <td>NaN</td>\n      <td>NaN</td>\n    </tr>\n    <tr>\n      <th>10</th>\n      <td>008418</td>\n      <td>99999.0</td>\n      <td>NaN</td>\n      <td>NaN</td>\n      <td>NaN</td>\n      <td>NaN</td>\n    </tr>\n    <tr>\n      <th>12</th>\n      <td>010010</td>\n      <td>99999.0</td>\n      <td>ENJA</td>\n      <td>70.933</td>\n      <td>-8.667</td>\n      <td>NaN</td>\n    </tr>\n    <tr>\n      <th>14</th>\n      <td>010014</td>\n      <td>99999.0</td>\n      <td>ENSO</td>\n      <td>59.792</td>\n      <td>5.341</td>\n      <td>NaN</td>\n    </tr>\n    <tr>\n      <th>18</th>\n      <td>010020</td>\n      <td>99999.0</td>\n      <td>NaN</td>\n      <td>80.050</td>\n      <td>16.250</td>\n      <td>NaN</td>\n    </tr>\n    <tr>\n      <th>19</th>\n      <td>010030</td>\n      <td>99999.0</td>\n      <td>NaN</td>\n      <td>77.000</td>\n      <td>15.500</td>\n      <td>NaN</td>\n    </tr>\n    <tr>\n      <th>22</th>\n      <td>010060</td>\n      <td>99999.0</td>\n      <td>NaN</td>\n      <td>78.250</td>\n      <td>22.817</td>\n      <td>NaN</td>\n    </tr>\n    <tr>\n      <th>23</th>\n      <td>010070</td>\n      <td>99999.0</td>\n      <td>NaN</td>\n      <td>78.917</td>\n      <td>11.933</td>\n      <td>NaN</td>\n    </tr>\n    <tr>\n      <th>25</th>\n      <td>010080</td>\n      <td>99999.0</td>\n      <td>ENSB</td>\n      <td>78.246</td>\n      <td>15.466</td>\n      <td>NaN</td>\n    </tr>\n    <tr>\n      <th>26</th>\n      <td>010090</td>\n      <td>99999.0</td>\n      <td>NaN</td>\n      <td>80.650</td>\n      <td>25.000</td>\n      <td>NaN</td>\n    </tr>\n    <tr>\n      <th>27</th>\n      <td>010100</td>\n      <td>99999.0</td>\n      <td>ENAN</td>\n      <td>69.293</td>\n      <td>16.144</td>\n      <td>NaN</td>\n    </tr>\n    <tr>\n      <th>28</th>\n      <td>010110</td>\n      <td>99999.0</td>\n      <td>NaN</td>\n      <td>80.067</td>\n      <td>31.500</td>\n      <td>NaN</td>\n    </tr>\n    <tr>\n      <th>31</th>\n      <td>010150</td>\n      <td>99999.0</td>\n      <td>NaN</td>\n      <td>69.600</td>\n      <td>17.833</td>\n      <td>NaN</td>\n    </tr>\n    <tr>\n      <th>32</th>\n      <td>010160</td>\n      <td>99999.0</td>\n      <td>NaN</td>\n      <td>78.933</td>\n      <td>28.900</td>\n      <td>NaN</td>\n    </tr>\n    <tr>\n      <th>33</th>\n      <td>010170</td>\n      <td>99999.0</td>\n      <td>NaN</td>\n      <td>77.683</td>\n      <td>14.783</td>\n      <td>NaN</td>\n    </tr>\n    <tr>\n      <th>36</th>\n      <td>010200</td>\n      <td>99999.0</td>\n      <td>NaN</td>\n      <td>76.483</td>\n      <td>16.550</td>\n      <td>NaN</td>\n    </tr>\n    <tr>\n      <th>37</th>\n      <td>010230</td>\n      <td>99999.0</td>\n      <td>ENDU</td>\n      <td>69.056</td>\n      <td>18.540</td>\n      <td>NaN</td>\n    </tr>\n    <tr>\n      <th>38</th>\n      <td>010231</td>\n      <td>99999.0</td>\n      <td>ENDR</td>\n      <td>64.350</td>\n      <td>7.800</td>\n      <td>NaN</td>\n    </tr>\n    <tr>\n      <th>39</th>\n      <td>010240</td>\n      <td>99999.0</td>\n      <td>NaN</td>\n      <td>78.650</td>\n      <td>16.367</td>\n      <td>NaN</td>\n    </tr>\n    <tr>\n      <th>40</th>\n      <td>010250</td>\n      <td>99999.0</td>\n      <td>ENTC</td>\n      <td>69.683</td>\n      <td>18.919</td>\n      <td>NaN</td>\n    </tr>\n    <tr>\n      <th>41</th>\n      <td>010260</td>\n      <td>99999.0</td>\n      <td>NaN</td>\n      <td>69.650</td>\n      <td>18.933</td>\n      <td>NaN</td>\n    </tr>\n    <tr>\n      <th>42</th>\n      <td>010270</td>\n      <td>99999.0</td>\n      <td>NaN</td>\n      <td>69.650</td>\n      <td>18.900</td>\n      <td>NaN</td>\n    </tr>\n    <tr>\n      <th>43</th>\n      <td>010280</td>\n      <td>99999.0</td>\n      <td>ENBJ</td>\n      <td>74.517</td>\n      <td>19.017</td>\n      <td>NaN</td>\n    </tr>\n    <tr>\n      <th>44</th>\n      <td>010300</td>\n      <td>99999.0</td>\n      <td>NaN</td>\n      <td>69.283</td>\n      <td>18.133</td>\n      <td>NaN</td>\n    </tr>\n    <tr>\n      <th>45</th>\n      <td>010303</td>\n      <td>99999.0</td>\n      <td>NaN</td>\n      <td>69.700</td>\n      <td>19.017</td>\n      <td>NaN</td>\n    </tr>\n    <tr>\n      <th>47</th>\n      <td>010330</td>\n      <td>99999.0</td>\n      <td>NaN</td>\n      <td>70.250</td>\n      <td>19.500</td>\n      <td>NaN</td>\n    </tr>\n    <tr>\n      <th>...</th>\n      <td>...</td>\n      <td>...</td>\n      <td>...</td>\n      <td>...</td>\n      <td>...</td>\n      <td>...</td>\n    </tr>\n    <tr>\n      <th>29735</th>\n      <td>A00013</td>\n      <td>63847.0</td>\n      <td>K4A9</td>\n      <td>34.474</td>\n      <td>-85.721</td>\n      <td>AL</td>\n    </tr>\n    <tr>\n      <th>29737</th>\n      <td>A00015</td>\n      <td>53129.0</td>\n      <td>KAZC</td>\n      <td>36.960</td>\n      <td>-113.014</td>\n      <td>AZ</td>\n    </tr>\n    <tr>\n      <th>29738</th>\n      <td>A00016</td>\n      <td>3036.0</td>\n      <td>KBDG</td>\n      <td>37.583</td>\n      <td>-109.483</td>\n      <td>UT</td>\n    </tr>\n    <tr>\n      <th>29739</th>\n      <td>A00017</td>\n      <td>4868.0</td>\n      <td>KC75</td>\n      <td>41.019</td>\n      <td>-89.386</td>\n      <td>IL</td>\n    </tr>\n    <tr>\n      <th>29740</th>\n      <td>A00018</td>\n      <td>23162.0</td>\n      <td>KDTA</td>\n      <td>39.383</td>\n      <td>-112.517</td>\n      <td>UT</td>\n    </tr>\n    <tr>\n      <th>29741</th>\n      <td>A00019</td>\n      <td>53969.0</td>\n      <td>KF05</td>\n      <td>34.226</td>\n      <td>-99.284</td>\n      <td>TX</td>\n    </tr>\n    <tr>\n      <th>29742</th>\n      <td>A00021</td>\n      <td>63884.0</td>\n      <td>KI16</td>\n      <td>37.601</td>\n      <td>-81.559</td>\n      <td>WV</td>\n    </tr>\n    <tr>\n      <th>29744</th>\n      <td>A00023</td>\n      <td>63890.0</td>\n      <td>KNEN</td>\n      <td>30.350</td>\n      <td>-81.883</td>\n      <td>FL</td>\n    </tr>\n    <tr>\n      <th>29745</th>\n      <td>A00024</td>\n      <td>53848.0</td>\n      <td>KNFJ</td>\n      <td>30.507</td>\n      <td>-86.960</td>\n      <td>FL</td>\n    </tr>\n    <tr>\n      <th>29746</th>\n      <td>A00026</td>\n      <td>94297.0</td>\n      <td>KNRA</td>\n      <td>48.217</td>\n      <td>-122.633</td>\n      <td>WA</td>\n    </tr>\n    <tr>\n      <th>29747</th>\n      <td>A00028</td>\n      <td>4116.0</td>\n      <td>KU42</td>\n      <td>40.619</td>\n      <td>-111.993</td>\n      <td>UT</td>\n    </tr>\n    <tr>\n      <th>29748</th>\n      <td>A00029</td>\n      <td>63820.0</td>\n      <td>KUCY</td>\n      <td>36.380</td>\n      <td>-88.985</td>\n      <td>TN</td>\n    </tr>\n    <tr>\n      <th>29749</th>\n      <td>A00031</td>\n      <td>3725.0</td>\n      <td>KW99</td>\n      <td>38.994</td>\n      <td>-79.144</td>\n      <td>WV</td>\n    </tr>\n    <tr>\n      <th>29750</th>\n      <td>A00032</td>\n      <td>25715.0</td>\n      <td>PAAK</td>\n      <td>52.220</td>\n      <td>-174.206</td>\n      <td>AK</td>\n    </tr>\n    <tr>\n      <th>29751</th>\n      <td>A05735</td>\n      <td>209.0</td>\n      <td>K0F2</td>\n      <td>33.600</td>\n      <td>-97.783</td>\n      <td>TX</td>\n    </tr>\n    <tr>\n      <th>29752</th>\n      <td>A06773</td>\n      <td>334.0</td>\n      <td>KI35</td>\n      <td>36.859</td>\n      <td>-83.358</td>\n      <td>KY</td>\n    </tr>\n    <tr>\n      <th>29753</th>\n      <td>A06800</td>\n      <td>120.0</td>\n      <td>KJFZ</td>\n      <td>37.067</td>\n      <td>-81.800</td>\n      <td>VA</td>\n    </tr>\n    <tr>\n      <th>29754</th>\n      <td>A06854</td>\n      <td>115.0</td>\n      <td>KL35</td>\n      <td>34.264</td>\n      <td>-116.854</td>\n      <td>CA</td>\n    </tr>\n    <tr>\n      <th>29755</th>\n      <td>A06884</td>\n      <td>416.0</td>\n      <td>KLUA</td>\n      <td>38.667</td>\n      <td>-78.501</td>\n      <td>VA</td>\n    </tr>\n    <tr>\n      <th>29756</th>\n      <td>A07049</td>\n      <td>320.0</td>\n      <td>KO69</td>\n      <td>38.250</td>\n      <td>-122.600</td>\n      <td>CA</td>\n    </tr>\n    <tr>\n      <th>29757</th>\n      <td>A07053</td>\n      <td>346.0</td>\n      <td>KO86</td>\n      <td>40.983</td>\n      <td>-122.694</td>\n      <td>CA</td>\n    </tr>\n    <tr>\n      <th>29758</th>\n      <td>A07056</td>\n      <td>464.0</td>\n      <td>KOCQ</td>\n      <td>44.874</td>\n      <td>-87.910</td>\n      <td>WI</td>\n    </tr>\n    <tr>\n      <th>29759</th>\n      <td>A07086</td>\n      <td>468.0</td>\n      <td>KPCW</td>\n      <td>41.516</td>\n      <td>-82.869</td>\n      <td>OH</td>\n    </tr>\n    <tr>\n      <th>29760</th>\n      <td>A07141</td>\n      <td>327.0</td>\n      <td>KS32</td>\n      <td>47.423</td>\n      <td>-98.106</td>\n      <td>ND</td>\n    </tr>\n    <tr>\n      <th>29761</th>\n      <td>A07354</td>\n      <td>132.0</td>\n      <td>KY50</td>\n      <td>44.033</td>\n      <td>-89.300</td>\n      <td>WI</td>\n    </tr>\n    <tr>\n      <th>29762</th>\n      <td>A07355</td>\n      <td>241.0</td>\n      <td>KY51</td>\n      <td>43.579</td>\n      <td>-90.913</td>\n      <td>WI</td>\n    </tr>\n    <tr>\n      <th>29763</th>\n      <td>A07357</td>\n      <td>182.0</td>\n      <td>KY63</td>\n      <td>45.986</td>\n      <td>-95.992</td>\n      <td>MN</td>\n    </tr>\n    <tr>\n      <th>29764</th>\n      <td>A07359</td>\n      <td>240.0</td>\n      <td>KY70</td>\n      <td>42.938</td>\n      <td>-85.061</td>\n      <td>MI</td>\n    </tr>\n    <tr>\n      <th>29765</th>\n      <td>A51255</td>\n      <td>445.0</td>\n      <td>KDYA</td>\n      <td>32.464</td>\n      <td>-87.954</td>\n      <td>AL</td>\n    </tr>\n    <tr>\n      <th>29766</th>\n      <td>A51256</td>\n      <td>451.0</td>\n      <td>KFWB</td>\n      <td>36.699</td>\n      <td>-93.402</td>\n      <td>MO</td>\n    </tr>\n  </tbody>\n</table>\n<p>15248 rows × 6 columns</p>\n</div>"
      ],
      "text/plain": [
       "         USAF     WBAN  CALL     LAT     LON   ST\n2      007026  99999.0   NaN   0.000   0.000  NaN\n3      007070  99999.0   NaN   0.000   0.000  NaN\n7      008411  99999.0   NaN     NaN     NaN  NaN\n8      008414  99999.0   NaN     NaN     NaN  NaN\n9      008415  99999.0   NaN     NaN     NaN  NaN\n...       ...      ...   ...     ...     ...  ...\n29762  A07355    241.0  KY51  43.579 -90.913   WI\n29763  A07357    182.0  KY63  45.986 -95.992   MN\n29764  A07359    240.0  KY70  42.938 -85.061   MI\n29765  A51255    445.0  KDYA  32.464 -87.954   AL\n29766  A51256    451.0  KFWB  36.699 -93.402   MO\n\n[15248 rows x 6 columns]"
      ]
     },
     "execution_count": 10,
     "metadata": {},
     "output_type": "execute_result"
    }
   ],
   "source": [
    "isd_df"
   ]
  },
  {
   "cell_type": "code",
   "execution_count": 11,
   "metadata": {
    "autoscroll": false,
    "collapsed": false,
    "ein.hycell": false,
    "ein.tags": "worksheet-0",
    "slideshow": {
     "slide_type": "-"
    }
   },
   "outputs": [
    {
     "name": "stdout",
     "output_type": "stream",
     "text": [
      "Duplicated values for:\n",
      "     CALL                City\n",
      "105  KBYS  Fort Irwin/Barstow\n",
      "189  KDYS             Abilene\n",
      "247  KFST       Fort Stockton\n",
      "333  KILM          Wilmington\n",
      "387  KLLQ          Monticello\n",
      "510  KNYL                Yuma\n",
      "624  KSBD      San Bernardino\n",
      "719  KUOX              Oxford\n",
      "742  KXMR         Cocoa Beach\n",
      "765  PADM            Marshall\n"
     ]
    }
   ],
   "source": [
    "merge_df = merge_air_isd(air_df, isd_df)"
   ]
  },
  {
   "cell_type": "code",
   "execution_count": 13,
   "metadata": {
    "autoscroll": false,
    "collapsed": false,
    "ein.hycell": false,
    "ein.tags": "worksheet-0",
    "slideshow": {
     "slide_type": "-"
    }
   },
   "outputs": [
    {
     "data": {
      "text/html": [
       "<div>\n<style scoped>\n    .dataframe tbody tr th:only-of-type {\n        vertical-align: middle;\n    }\n\n    .dataframe tbody tr th {\n        vertical-align: top;\n    }\n\n    .dataframe thead th {\n        text-align: right;\n    }\n</style>\n<table border=\"1\" class=\"dataframe\">\n  <thead>\n    <tr style=\"text-align: right;\">\n      <th></th>\n      <th>name</th>\n      <th>City</th>\n      <th>CALL</th>\n      <th>USAF</th>\n      <th>WBAN</th>\n      <th>LAT</th>\n      <th>LON</th>\n      <th>ST</th>\n    </tr>\n  </thead>\n  <tbody>\n    <tr>\n      <th>0</th>\n      <td>South Alabama Regional At Bill Benton Field Ai...</td>\n      <td>Andalusia/Opp</td>\n      <td>K79J</td>\n      <td>722275</td>\n      <td>53843</td>\n      <td>31.309</td>\n      <td>-86.394</td>\n      <td>AL</td>\n    </tr>\n    <tr>\n      <th>1</th>\n      <td>Lehigh Valley International Airport</td>\n      <td>Allentown</td>\n      <td>KABE</td>\n      <td>725170</td>\n      <td>14737</td>\n      <td>40.650</td>\n      <td>-75.448</td>\n      <td>PA</td>\n    </tr>\n    <tr>\n      <th>2</th>\n      <td>Abilene Regional Airport</td>\n      <td>Abilene</td>\n      <td>KABI</td>\n      <td>722660</td>\n      <td>13962</td>\n      <td>32.411</td>\n      <td>-99.682</td>\n      <td>TX</td>\n    </tr>\n    <tr>\n      <th>3</th>\n      <td>Albuquerque International Sunport</td>\n      <td>Albuquerque</td>\n      <td>KABQ</td>\n      <td>723650</td>\n      <td>23050</td>\n      <td>35.042</td>\n      <td>-106.616</td>\n      <td>NM</td>\n    </tr>\n    <tr>\n      <th>4</th>\n      <td>Aberdeen Regional Airport</td>\n      <td>Aberdeen</td>\n      <td>KABR</td>\n      <td>726590</td>\n      <td>14929</td>\n      <td>45.443</td>\n      <td>-98.413</td>\n      <td>SD</td>\n    </tr>\n    <tr>\n      <th>5</th>\n      <td>Southwest Georgia Regional Airport</td>\n      <td>Albany</td>\n      <td>KABY</td>\n      <td>722160</td>\n      <td>13869</td>\n      <td>31.536</td>\n      <td>-84.194</td>\n      <td>GA</td>\n    </tr>\n    <tr>\n      <th>6</th>\n      <td>Nantucket Memorial Airport</td>\n      <td>Nantucket</td>\n      <td>KACK</td>\n      <td>725060</td>\n      <td>14756</td>\n      <td>41.253</td>\n      <td>-70.061</td>\n      <td>MA</td>\n    </tr>\n    <tr>\n      <th>7</th>\n      <td>Waco Regional Airport</td>\n      <td>Waco</td>\n      <td>KACT</td>\n      <td>722560</td>\n      <td>13959</td>\n      <td>31.619</td>\n      <td>-97.228</td>\n      <td>TX</td>\n    </tr>\n    <tr>\n      <th>8</th>\n      <td>California Redwood Coast-Humboldt County Airport</td>\n      <td>Arcata/Eureka</td>\n      <td>KACV</td>\n      <td>725945</td>\n      <td>24283</td>\n      <td>40.978</td>\n      <td>-124.109</td>\n      <td>CA</td>\n    </tr>\n    <tr>\n      <th>9</th>\n      <td>Atlantic City International Airport</td>\n      <td>Atlantic City</td>\n      <td>KACY</td>\n      <td>724070</td>\n      <td>93730</td>\n      <td>39.452</td>\n      <td>-74.567</td>\n      <td>NJ</td>\n    </tr>\n    <tr>\n      <th>10</th>\n      <td>Joint Base Andrews</td>\n      <td>Camp Springs</td>\n      <td>KADW</td>\n      <td>745940</td>\n      <td>13705</td>\n      <td>38.817</td>\n      <td>-76.867</td>\n      <td>MD</td>\n    </tr>\n    <tr>\n      <th>11</th>\n      <td>Alexandria International Airport</td>\n      <td>Alexandria</td>\n      <td>KAEX</td>\n      <td>747540</td>\n      <td>93915</td>\n      <td>31.335</td>\n      <td>-92.559</td>\n      <td>LA</td>\n    </tr>\n    <tr>\n      <th>12</th>\n      <td>Fort Worth Alliance Airport</td>\n      <td>Fort Worth</td>\n      <td>KAFW</td>\n      <td>722594</td>\n      <td>53909</td>\n      <td>32.973</td>\n      <td>-97.318</td>\n      <td>TX</td>\n    </tr>\n    <tr>\n      <th>13</th>\n      <td>Allegheny County Airport</td>\n      <td>Pittsburgh</td>\n      <td>KAGC</td>\n      <td>725205</td>\n      <td>14762</td>\n      <td>40.355</td>\n      <td>-79.922</td>\n      <td>PA</td>\n    </tr>\n    <tr>\n      <th>14</th>\n      <td>Augusta Regional At Bush Field</td>\n      <td>Augusta</td>\n      <td>KAGS</td>\n      <td>722180</td>\n      <td>3820</td>\n      <td>33.364</td>\n      <td>-81.963</td>\n      <td>GA</td>\n    </tr>\n    <tr>\n      <th>15</th>\n      <td>Athens Ben Epps Airport</td>\n      <td>Athens</td>\n      <td>KAHN</td>\n      <td>723110</td>\n      <td>13873</td>\n      <td>33.948</td>\n      <td>-83.328</td>\n      <td>GA</td>\n    </tr>\n    <tr>\n      <th>16</th>\n      <td>Akron Executive Airport</td>\n      <td>Akron</td>\n      <td>KAKR</td>\n      <td>724303</td>\n      <td>14813</td>\n      <td>41.038</td>\n      <td>-81.464</td>\n      <td>OH</td>\n    </tr>\n    <tr>\n      <th>17</th>\n      <td>Albany International Airport</td>\n      <td>Albany</td>\n      <td>KALB</td>\n      <td>725180</td>\n      <td>14735</td>\n      <td>42.747</td>\n      <td>-73.799</td>\n      <td>NY</td>\n    </tr>\n    <tr>\n      <th>18</th>\n      <td>Alice International Airport</td>\n      <td>Alice</td>\n      <td>KALI</td>\n      <td>722517</td>\n      <td>12932</td>\n      <td>27.741</td>\n      <td>-98.025</td>\n      <td>TX</td>\n    </tr>\n    <tr>\n      <th>19</th>\n      <td>Alamogordo White Sands Regional Airport</td>\n      <td>Alamogordo</td>\n      <td>KALM</td>\n      <td>722693</td>\n      <td>93097</td>\n      <td>32.840</td>\n      <td>-105.991</td>\n      <td>NM</td>\n    </tr>\n    <tr>\n      <th>20</th>\n      <td>St Louis Regional Airport</td>\n      <td>Alton/St Louis</td>\n      <td>KALN</td>\n      <td>724395</td>\n      <td>3958</td>\n      <td>38.883</td>\n      <td>-90.050</td>\n      <td>IL</td>\n    </tr>\n    <tr>\n      <th>21</th>\n      <td>Waterloo Regional Airport</td>\n      <td>Waterloo</td>\n      <td>KALO</td>\n      <td>725480</td>\n      <td>94910</td>\n      <td>42.554</td>\n      <td>-92.401</td>\n      <td>IA</td>\n    </tr>\n    <tr>\n      <th>22</th>\n      <td>San Luis Valley Regional Bergman Field</td>\n      <td>Alamosa</td>\n      <td>KALS</td>\n      <td>724620</td>\n      <td>23061</td>\n      <td>37.439</td>\n      <td>-105.861</td>\n      <td>CO</td>\n    </tr>\n    <tr>\n      <th>23</th>\n      <td>Walla Walla Regional Airport</td>\n      <td>Walla Walla</td>\n      <td>KALW</td>\n      <td>727846</td>\n      <td>24160</td>\n      <td>46.095</td>\n      <td>-118.287</td>\n      <td>WA</td>\n    </tr>\n    <tr>\n      <th>24</th>\n      <td>Rick Husband Amarillo International Airport</td>\n      <td>Amarillo</td>\n      <td>KAMA</td>\n      <td>723630</td>\n      <td>23047</td>\n      <td>35.230</td>\n      <td>-101.704</td>\n      <td>TX</td>\n    </tr>\n    <tr>\n      <th>25</th>\n      <td>Anniston Regional Airport</td>\n      <td>Anniston</td>\n      <td>KANB</td>\n      <td>722287</td>\n      <td>13871</td>\n      <td>33.587</td>\n      <td>-85.856</td>\n      <td>AL</td>\n    </tr>\n    <tr>\n      <th>26</th>\n      <td>Anderson Regional Airport</td>\n      <td>Anderson</td>\n      <td>KAND</td>\n      <td>723190</td>\n      <td>93846</td>\n      <td>34.498</td>\n      <td>-82.710</td>\n      <td>SC</td>\n    </tr>\n    <tr>\n      <th>27</th>\n      <td>Altoona Blair County Airport</td>\n      <td>Altoona</td>\n      <td>KAOO</td>\n      <td>725126</td>\n      <td>14736</td>\n      <td>40.296</td>\n      <td>-78.320</td>\n      <td>PA</td>\n    </tr>\n    <tr>\n      <th>28</th>\n      <td>Centennial Airport</td>\n      <td>Denver</td>\n      <td>KAPA</td>\n      <td>724666</td>\n      <td>93067</td>\n      <td>39.570</td>\n      <td>-104.849</td>\n      <td>CO</td>\n    </tr>\n    <tr>\n      <th>29</th>\n      <td>Naples Municipal Airport</td>\n      <td>Naples</td>\n      <td>KAPF</td>\n      <td>722038</td>\n      <td>12897</td>\n      <td>26.155</td>\n      <td>-81.775</td>\n      <td>FL</td>\n    </tr>\n    <tr>\n      <th>...</th>\n      <td>...</td>\n      <td>...</td>\n      <td>...</td>\n      <td>...</td>\n      <td>...</td>\n      <td>...</td>\n      <td>...</td>\n      <td>...</td>\n    </tr>\n    <tr>\n      <th>824</th>\n      <td>Soldotna Airport</td>\n      <td>Soldotna</td>\n      <td>PASX</td>\n      <td>702595</td>\n      <td>26559</td>\n      <td>60.476</td>\n      <td>-151.034</td>\n      <td>AK</td>\n    </tr>\n    <tr>\n      <th>825</th>\n      <td>Eareckson Air Station</td>\n      <td>Shemya</td>\n      <td>PASY</td>\n      <td>704140</td>\n      <td>45715</td>\n      <td>52.717</td>\n      <td>174.100</td>\n      <td>AK</td>\n    </tr>\n    <tr>\n      <th>826</th>\n      <td>Togiak Airport</td>\n      <td>Togiak Village</td>\n      <td>PATG</td>\n      <td>703606</td>\n      <td>25629</td>\n      <td>59.067</td>\n      <td>-160.367</td>\n      <td>AK</td>\n    </tr>\n    <tr>\n      <th>827</th>\n      <td>Talkeetna Airport</td>\n      <td>Talkeetna</td>\n      <td>PATK</td>\n      <td>702510</td>\n      <td>26528</td>\n      <td>62.320</td>\n      <td>-150.095</td>\n      <td>AK</td>\n    </tr>\n    <tr>\n      <th>828</th>\n      <td>Tatalina LRRS Airport</td>\n      <td>Takotna</td>\n      <td>PATL</td>\n      <td>702315</td>\n      <td>26536</td>\n      <td>62.894</td>\n      <td>-155.976</td>\n      <td>AK</td>\n    </tr>\n    <tr>\n      <th>829</th>\n      <td>Atqasuk Edward Burnell Sr Memorial Airport</td>\n      <td>Atqasuk</td>\n      <td>PATQ</td>\n      <td>702685</td>\n      <td>27518</td>\n      <td>70.467</td>\n      <td>-157.436</td>\n      <td>AK</td>\n    </tr>\n    <tr>\n      <th>830</th>\n      <td>Valdez Pioneer Field</td>\n      <td>Valdez</td>\n      <td>PAVD</td>\n      <td>702756</td>\n      <td>26479</td>\n      <td>61.132</td>\n      <td>-146.244</td>\n      <td>AK</td>\n    </tr>\n    <tr>\n      <th>831</th>\n      <td>Kivalina Airport</td>\n      <td>Kivalina</td>\n      <td>PAVL</td>\n      <td>701486</td>\n      <td>26642</td>\n      <td>67.732</td>\n      <td>-164.548</td>\n      <td>AK</td>\n    </tr>\n    <tr>\n      <th>832</th>\n      <td>Seward Airport</td>\n      <td>Seward</td>\n      <td>PAWD</td>\n      <td>702770</td>\n      <td>26438</td>\n      <td>60.128</td>\n      <td>-149.417</td>\n      <td>AK</td>\n    </tr>\n    <tr>\n      <th>833</th>\n      <td>Wrangell Airport</td>\n      <td>Wrangell</td>\n      <td>PAWG</td>\n      <td>703870</td>\n      <td>25338</td>\n      <td>56.473</td>\n      <td>-132.387</td>\n      <td>AK</td>\n    </tr>\n    <tr>\n      <th>834</th>\n      <td>Wainwright Airport</td>\n      <td>Wainwright</td>\n      <td>PAWI</td>\n      <td>700300</td>\n      <td>27503</td>\n      <td>70.639</td>\n      <td>-159.995</td>\n      <td>AK</td>\n    </tr>\n    <tr>\n      <th>835</th>\n      <td>Noatak Airport</td>\n      <td>Noatak</td>\n      <td>PAWN</td>\n      <td>701335</td>\n      <td>26648</td>\n      <td>67.566</td>\n      <td>-162.975</td>\n      <td>AK</td>\n    </tr>\n    <tr>\n      <th>836</th>\n      <td>Wasilla Airport</td>\n      <td>Wasilla</td>\n      <td>PAWS</td>\n      <td>702325</td>\n      <td>26443</td>\n      <td>61.572</td>\n      <td>-149.541</td>\n      <td>AK</td>\n    </tr>\n    <tr>\n      <th>837</th>\n      <td>Yakutat Airport</td>\n      <td>Yakutat</td>\n      <td>PAYA</td>\n      <td>703610</td>\n      <td>25339</td>\n      <td>59.512</td>\n      <td>-139.671</td>\n      <td>AK</td>\n    </tr>\n    <tr>\n      <th>838</th>\n      <td>Fort Yukon Airport</td>\n      <td>Fort Yukon</td>\n      <td>PFYU</td>\n      <td>701940</td>\n      <td>26413</td>\n      <td>66.567</td>\n      <td>-145.267</td>\n      <td>AK</td>\n    </tr>\n    <tr>\n      <th>839</th>\n      <td>Barking Sands Airport</td>\n      <td>Kekaha</td>\n      <td>PHBK</td>\n      <td>911620</td>\n      <td>22501</td>\n      <td>22.033</td>\n      <td>-159.783</td>\n      <td>HI</td>\n    </tr>\n    <tr>\n      <th>840</th>\n      <td>Wheeler Army Airfield</td>\n      <td>Wahiawa</td>\n      <td>PHHI</td>\n      <td>911700</td>\n      <td>22508</td>\n      <td>21.487</td>\n      <td>-158.028</td>\n      <td>HI</td>\n    </tr>\n    <tr>\n      <th>841</th>\n      <td>Hana Airport</td>\n      <td>Hana</td>\n      <td>PHHN</td>\n      <td>911907</td>\n      <td>99999</td>\n      <td>20.796</td>\n      <td>-156.014</td>\n      <td>HI</td>\n    </tr>\n    <tr>\n      <th>842</th>\n      <td>Kapalua Airport</td>\n      <td>Lahaina</td>\n      <td>PHJH</td>\n      <td>911904</td>\n      <td>22552</td>\n      <td>20.963</td>\n      <td>-156.675</td>\n      <td>HI</td>\n    </tr>\n    <tr>\n      <th>843</th>\n      <td>Kalaeloa Airport</td>\n      <td>Kapolei</td>\n      <td>PHJR</td>\n      <td>911780</td>\n      <td>22551</td>\n      <td>21.317</td>\n      <td>-158.067</td>\n      <td>HI</td>\n    </tr>\n    <tr>\n      <th>844</th>\n      <td>Ellison Onizuka Kona International Airport at ...</td>\n      <td>Kailua-Kona</td>\n      <td>PHKO</td>\n      <td>911975</td>\n      <td>21510</td>\n      <td>19.736</td>\n      <td>-156.049</td>\n      <td>HI</td>\n    </tr>\n    <tr>\n      <th>845</th>\n      <td>Lihue Airport</td>\n      <td>Lihue</td>\n      <td>PHLI</td>\n      <td>911650</td>\n      <td>22536</td>\n      <td>21.984</td>\n      <td>-159.341</td>\n      <td>HI</td>\n    </tr>\n    <tr>\n      <th>846</th>\n      <td>Molokai Airport</td>\n      <td>Kaunakakai</td>\n      <td>PHMK</td>\n      <td>911860</td>\n      <td>22534</td>\n      <td>21.155</td>\n      <td>-157.096</td>\n      <td>HI</td>\n    </tr>\n    <tr>\n      <th>847</th>\n      <td>Kaneohe Bay MCAS (Marion E. Carl Field) Airport</td>\n      <td>Kaneohe</td>\n      <td>PHNG</td>\n      <td>911760</td>\n      <td>22519</td>\n      <td>21.450</td>\n      <td>-157.768</td>\n      <td>HI</td>\n    </tr>\n    <tr>\n      <th>848</th>\n      <td>Daniel K Inouye International Airport</td>\n      <td>Honolulu</td>\n      <td>PHNL</td>\n      <td>911820</td>\n      <td>22521</td>\n      <td>21.324</td>\n      <td>-157.929</td>\n      <td>HI</td>\n    </tr>\n    <tr>\n      <th>849</th>\n      <td>Lanai Airport</td>\n      <td>Lanai City</td>\n      <td>PHNY</td>\n      <td>911905</td>\n      <td>22524</td>\n      <td>20.790</td>\n      <td>-156.949</td>\n      <td>HI</td>\n    </tr>\n    <tr>\n      <th>850</th>\n      <td>Kahului Airport</td>\n      <td>Kahului</td>\n      <td>PHOG</td>\n      <td>911900</td>\n      <td>22516</td>\n      <td>20.900</td>\n      <td>-156.429</td>\n      <td>HI</td>\n    </tr>\n    <tr>\n      <th>851</th>\n      <td>Bradshaw Army Airfield</td>\n      <td>Camp Pohakuloa</td>\n      <td>PHSF</td>\n      <td>911977</td>\n      <td>21508</td>\n      <td>19.760</td>\n      <td>-155.554</td>\n      <td>HI</td>\n    </tr>\n    <tr>\n      <th>852</th>\n      <td>Hilo International Airport</td>\n      <td>Hilo</td>\n      <td>PHTO</td>\n      <td>912850</td>\n      <td>21504</td>\n      <td>19.719</td>\n      <td>-155.053</td>\n      <td>HI</td>\n    </tr>\n    <tr>\n      <th>853</th>\n      <td>Point Lay LRRS Airport</td>\n      <td>Point Lay</td>\n      <td>PPIZ</td>\n      <td>701210</td>\n      <td>26624</td>\n      <td>69.733</td>\n      <td>-163.005</td>\n      <td>AK</td>\n    </tr>\n  </tbody>\n</table>\n<p>844 rows × 8 columns</p>\n</div>"
      ],
      "text/plain": [
       "                                                  name            City  CALL  \\\n0    South Alabama Regional At Bill Benton Field Ai...   Andalusia/Opp  K79J   \n1                  Lehigh Valley International Airport       Allentown  KABE   \n2                             Abilene Regional Airport         Abilene  KABI   \n3                    Albuquerque International Sunport     Albuquerque  KABQ   \n4                            Aberdeen Regional Airport        Aberdeen  KABR   \n..                                                 ...             ...   ...   \n849                                      Lanai Airport      Lanai City  PHNY   \n850                                    Kahului Airport         Kahului  PHOG   \n851                             Bradshaw Army Airfield  Camp Pohakuloa  PHSF   \n852                         Hilo International Airport            Hilo  PHTO   \n853                             Point Lay LRRS Airport       Point Lay  PPIZ   \n\n       USAF   WBAN     LAT      LON  ST  \n0    722275  53843  31.309  -86.394  AL  \n1    725170  14737  40.650  -75.448  PA  \n2    722660  13962  32.411  -99.682  TX  \n3    723650  23050  35.042 -106.616  NM  \n4    726590  14929  45.443  -98.413  SD  \n..      ...    ...     ...      ...  ..  \n849  911905  22524  20.790 -156.949  HI  \n850  911900  22516  20.900 -156.429  HI  \n851  911977  21508  19.760 -155.554  HI  \n852  912850  21504  19.719 -155.053  HI  \n853  701210  26624  69.733 -163.005  AK  \n\n[844 rows x 8 columns]"
      ]
     },
     "execution_count": 13,
     "metadata": {},
     "output_type": "execute_result"
    }
   ],
   "source": [
    "merge_df"
   ]
  },
  {
   "cell_type": "code",
   "execution_count": 14,
   "metadata": {
    "autoscroll": false,
    "collapsed": false,
    "ein.hycell": false,
    "ein.tags": "worksheet-0",
    "slideshow": {
     "slide_type": "-"
    }
   },
   "outputs": [
    {
     "data": {
      "image/png": "[encoded data removed]",
      "text/plain": [
       "<Figure size 1440x1440 with 1 Axes>"
      ]
     },
     "metadata": {},
     "output_type": "display_data"
    }
   ],
   "source": [
    "plot_airports(merge_df)"
   ]
  },
  {
   "cell_type": "code",
   "execution_count": 15,
   "metadata": {
    "autoscroll": false,
    "collapsed": false,
    "ein.hycell": false,
    "ein.tags": "worksheet-0",
    "slideshow": {
     "slide_type": "-"
    }
   },
   "outputs": [
    {
     "data": {
      "text/html": [
       "<div>\n<style scoped>\n    .dataframe tbody tr th:only-of-type {\n        vertical-align: middle;\n    }\n\n    .dataframe tbody tr th {\n        vertical-align: top;\n    }\n\n    .dataframe thead th {\n        text-align: right;\n    }\n</style>\n<table border=\"1\" class=\"dataframe\">\n  <thead>\n    <tr style=\"text-align: right;\">\n      <th></th>\n      <th>name</th>\n      <th>City</th>\n      <th>CALL</th>\n      <th>USAF</th>\n      <th>WBAN</th>\n      <th>LAT</th>\n      <th>LON</th>\n      <th>ST</th>\n    </tr>\n  </thead>\n  <tbody>\n    <tr>\n      <th>0</th>\n      <td>South Alabama Regional At Bill Benton Field Ai...</td>\n      <td>Andalusia/Opp</td>\n      <td>K79J</td>\n      <td>722275</td>\n      <td>53843</td>\n      <td>31.309</td>\n      <td>-86.394</td>\n      <td>AL</td>\n    </tr>\n    <tr>\n      <th>1</th>\n      <td>Lehigh Valley International Airport</td>\n      <td>Allentown</td>\n      <td>KABE</td>\n      <td>725170</td>\n      <td>14737</td>\n      <td>40.650</td>\n      <td>-75.448</td>\n      <td>PA</td>\n    </tr>\n    <tr>\n      <th>2</th>\n      <td>Abilene Regional Airport</td>\n      <td>Abilene</td>\n      <td>KABI</td>\n      <td>722660</td>\n      <td>13962</td>\n      <td>32.411</td>\n      <td>-99.682</td>\n      <td>TX</td>\n    </tr>\n    <tr>\n      <th>3</th>\n      <td>Albuquerque International Sunport</td>\n      <td>Albuquerque</td>\n      <td>KABQ</td>\n      <td>723650</td>\n      <td>23050</td>\n      <td>35.042</td>\n      <td>-106.616</td>\n      <td>NM</td>\n    </tr>\n    <tr>\n      <th>4</th>\n      <td>Aberdeen Regional Airport</td>\n      <td>Aberdeen</td>\n      <td>KABR</td>\n      <td>726590</td>\n      <td>14929</td>\n      <td>45.443</td>\n      <td>-98.413</td>\n      <td>SD</td>\n    </tr>\n  </tbody>\n</table>\n</div>"
      ],
      "text/plain": [
       "                                                name           City  CALL  \\\n0  South Alabama Regional At Bill Benton Field Ai...  Andalusia/Opp  K79J   \n1                Lehigh Valley International Airport      Allentown  KABE   \n2                           Abilene Regional Airport        Abilene  KABI   \n3                  Albuquerque International Sunport    Albuquerque  KABQ   \n4                          Aberdeen Regional Airport       Aberdeen  KABR   \n\n     USAF   WBAN     LAT      LON  ST  \n0  722275  53843  31.309  -86.394  AL  \n1  725170  14737  40.650  -75.448  PA  \n2  722660  13962  32.411  -99.682  TX  \n3  723650  23050  35.042 -106.616  NM  \n4  726590  14929  45.443  -98.413  SD  "
      ]
     },
     "execution_count": 15,
     "metadata": {},
     "output_type": "execute_result"
    }
   ],
   "source": [
    "merge_df.iloc[:5]"
   ]
  },
  {
   "cell_type": "code",
   "execution_count": 18,
   "metadata": {
    "autoscroll": false,
    "collapsed": false,
    "ein.hycell": false,
    "ein.tags": "worksheet-0",
    "slideshow": {
     "slide_type": "-"
    }
   },
   "outputs": [
    {
     "data": {
      "text/plain": [
       "844"
      ]
     },
     "execution_count": 18,
     "metadata": {},
     "output_type": "execute_result"
    }
   ],
   "source": [
    "len(merge_df)"
   ]
  },
  {
   "cell_type": "code",
   "execution_count": 23,
   "metadata": {
    "autoscroll": false,
    "collapsed": false,
    "ein.hycell": false,
    "ein.tags": "worksheet-0",
    "slideshow": {
     "slide_type": "-"
    }
   },
   "outputs": [],
   "source": [
    "merge_df.to_csv('data/air_merge_df.csv.gz')"
   ]
  },
  {
   "cell_type": "code",
   "execution_count": null,
   "metadata": {
    "autoscroll": false,
    "collapsed": false,
    "ein.hycell": false,
    "ein.tags": "worksheet-0",
    "slideshow": {
     "slide_type": "-"
    }
   },
   "outputs": [],
   "source": [
    "ls data\n"
   ]
  },
  {
   "cell_type": "markdown",
   "metadata": {
    "ein.tags": "worksheet-0",
    "slideshow": {
     "slide_type": "-"
    }
   },
   "source": [
    "## Downloading the Data\n",
    "\n",
    "The next utilities then download the data from NOAA's FTP server using the merge_df lookup to find the\n",
    "correct file path."
   ]
  },
  {
   "cell_type": "code",
   "execution_count": 16,
   "metadata": {
    "autoscroll": false,
    "collapsed": false,
    "ein.hycell": false,
    "ein.tags": "worksheet-0",
    "slideshow": {
     "slide_type": "-"
    }
   },
   "outputs": [
    {
     "name": "stdout",
     "output_type": "stream",
     "text": [
      "Automatic pdb calling has been turned OFF\n"
     ]
    },
    {
     "name": "stdout",
     "output_type": "stream",
     "text": [
      "230-****** WARNING ** WARNING ** WARNING ** WARNING ** WARNING ** ** WARNING ** WARNING ** WARNING ******\n",
      " ** You are accessing a U.S. Government information system, which includes:                         **\n",
      " ** 1) This computer, 2)This computer network, 3) All computers connected to this network, and      **\n",
      " ** 4) All devices and storage media attached to this network or to a computer on this network.     **\n",
      " ** You understand and consent to the following:                                                    **\n",
      " ** you may access this information system for authorized use only; you have no reasonable          **\n",
      " ** expectation of privacy regarding any communication of data transiting or stored on this         **\n",
      " ** information system; at any time and for any lawful Government purpose, the Government may       **\n",
      " ** monitor, intercept, and search and seize any communication or data transiting or stored on      **\n",
      " ** this information system; and any communications or data transiting or stored on this            **\n",
      " ** information system may be disclosed or used for any lawful Government purpose.                  **\n",
      " ****** WARNING ** WARNING ** WARNING ** WARNING ** WARNING ** ** WARNING ** WARNING ** WARNING ******\n",
      "230 Anonymous\n"
     ]
    },
    {
     "name": "stderr",
     "output_type": "stream",
     "text": [
      "\r",
      "  0%|          | 0/2 [00:00<?, ?it/s]"
     ]
    },
    {
     "name": "stdout",
     "output_type": "stream",
     "text": [
      "/pub/data/noaa/isd-lite/2015\n"
     ]
    },
    {
     "name": "stderr",
     "output_type": "stream",
     "text": [
      "\r",
      " 50%|█████     | 1/2 [00:02<00:02,  2.16s/it]"
     ]
    },
    {
     "name": "stdout",
     "output_type": "stream",
     "text": [
      "/pub/data/noaa/isd-lite/2015\n"
     ]
    },
    {
     "name": "stderr",
     "output_type": "stream",
     "text": [
      "\r",
      "100%|██████████| 2/2 [00:03<00:00,  1.96s/it]"
     ]
    },
    {
     "name": "stderr",
     "output_type": "stream",
     "text": [
      "\r",
      "100%|██████████| 2/2 [00:03<00:00,  1.83s/it]"
     ]
    },
    {
     "name": "stderr",
     "output_type": "stream",
     "text": [
      "\n"
     ]
    }
   ],
   "source": [
    "# Note: very slow. \n",
    "%pdb off\n",
    "get_all_data(merge_df.iloc[:2], 2015, 2016)"
   ]
  },
  {
   "cell_type": "code",
   "execution_count": 17,
   "metadata": {
    "autoscroll": false,
    "collapsed": false,
    "ein.hycell": false,
    "ein.tags": "worksheet-0",
    "slideshow": {
     "slide_type": "-"
    }
   },
   "outputs": [
    {
     "name": "stdout",
     "output_type": "stream",
     "text": [
      "Automatic pdb calling has been turned ON\n"
     ]
    },
    {
     "name": "stderr",
     "output_type": "stream",
     "text": [
      "/mnt/BigDisk3TB/Data_Science/US-Electricity/util/get_weather_data.py:370: FutureWarning: Creating a DatetimeIndex by passing range endpoints is deprecated.  Use `pandas.date_range` instead.\n",
      "  Tindex = pd.DatetimeIndex(start='2015-07', end='2017-11', freq='h')\n",
      "/home/jonathan/.local/lib/python3.6/site-packages/pandas/core/frame.py:7116: FutureWarning: Sorting because non-concatenation axis is not aligned. A future version\n",
      "of pandas will change to not sort by default.\n",
      "\n",
      "To accept the future behavior, pass 'sort=False'.\n",
      "\n",
      "To retain the current behavior and silence the warning, pass 'sort=True'.\n",
      "\n",
      "  sort=sort,\n"
     ]
    },
    {
     "name": "stdout",
     "output_type": "stream",
     "text": [
      "done with Astoria Regional Airport\n"
     ]
    },
    {
     "name": "stdout",
     "output_type": "stream",
     "text": [
      "done with Baker City Municipal Airport\n"
     ]
    },
    {
     "name": "stdout",
     "output_type": "stream",
     "text": [
      "done with Burns Municipal Airport\n"
     ]
    },
    {
     "name": "stdout",
     "output_type": "stream",
     "text": [
      "done with Corvallis Municipal Airport\n"
     ]
    },
    {
     "name": "stdout",
     "output_type": "stream",
     "text": [
      "done with Mahlon Sweet Field\n"
     ]
    },
    {
     "name": "stdout",
     "output_type": "stream",
     "text": [
      "done with Portland Hillsboro Airport\n"
     ]
    },
    {
     "name": "stdout",
     "output_type": "stream",
     "text": [
      "done with Crater Lake-Klamath Regional Airport\n"
     ]
    },
    {
     "name": "stdout",
     "output_type": "stream",
     "text": [
      "done with Rogue Valley International Medford Airport\n"
     ]
    },
    {
     "name": "stdout",
     "output_type": "stream",
     "text": [
      "done with Mc Minnville Municipal Airport\n"
     ]
    },
    {
     "name": "stdout",
     "output_type": "stream",
     "text": [
      "done with Newport Municipal Airport\n"
     ]
    },
    {
     "name": "stdout",
     "output_type": "stream",
     "text": [
      "done with Southwest Oregon Regional Airport\n"
     ]
    },
    {
     "name": "stdout",
     "output_type": "stream",
     "text": [
      "done with Eastern Oregon Regional At Pendleton Airport\n"
     ]
    },
    {
     "name": "stdout",
     "output_type": "stream",
     "text": [
      "done with Portland International Airport\n"
     ]
    },
    {
     "name": "stdout",
     "output_type": "stream",
     "text": [
      "done with Roberts Field\n"
     ]
    },
    {
     "name": "stdout",
     "output_type": "stream",
     "text": [
      "done with Salem Municipal Airport/McNary Field\n"
     ]
    },
    {
     "name": "stdout",
     "output_type": "stream",
     "text": [
      "done with Portland Troutdale Airport\n"
     ]
    },
    {
     "name": "stdout",
     "output_type": "stream",
     "text": [
      "done with Aurora State Airport\n"
     ]
    },
    {
     "data": {
      "text/html": [
       "<div>\n<style scoped>\n    .dataframe tbody tr th:only-of-type {\n        vertical-align: middle;\n    }\n\n    .dataframe tbody tr th {\n        vertical-align: top;\n    }\n\n    .dataframe thead th {\n        text-align: right;\n    }\n</style>\n<table border=\"1\" class=\"dataframe\">\n  <thead>\n    <tr style=\"text-align: right;\">\n      <th></th>\n      <th>CloudCover</th>\n      <th>DewTemp</th>\n      <th>Precip-1hr</th>\n      <th>Precip-6hr</th>\n      <th>Pressure</th>\n      <th>Temp</th>\n      <th>WindDir</th>\n      <th>WindSpeed</th>\n      <th>city</th>\n      <th>city, state</th>\n      <th>region</th>\n      <th>state</th>\n    </tr>\n  </thead>\n  <tbody>\n    <tr>\n      <th>2015-07-01 00:00:00</th>\n      <td>NaN</td>\n      <td>NaN</td>\n      <td>NaN</td>\n      <td>NaN</td>\n      <td>NaN</td>\n      <td>NaN</td>\n      <td>NaN</td>\n      <td>NaN</td>\n      <td>NaN</td>\n      <td>NaN</td>\n      <td>NaN</td>\n      <td>NaN</td>\n    </tr>\n    <tr>\n      <th>2015-07-01 01:00:00</th>\n      <td>NaN</td>\n      <td>NaN</td>\n      <td>NaN</td>\n      <td>NaN</td>\n      <td>NaN</td>\n      <td>NaN</td>\n      <td>NaN</td>\n      <td>NaN</td>\n      <td>NaN</td>\n      <td>NaN</td>\n      <td>NaN</td>\n      <td>NaN</td>\n    </tr>\n    <tr>\n      <th>2015-07-01 02:00:00</th>\n      <td>NaN</td>\n      <td>NaN</td>\n      <td>NaN</td>\n      <td>NaN</td>\n      <td>NaN</td>\n      <td>NaN</td>\n      <td>NaN</td>\n      <td>NaN</td>\n      <td>NaN</td>\n      <td>NaN</td>\n      <td>NaN</td>\n      <td>NaN</td>\n    </tr>\n    <tr>\n      <th>2015-07-01 03:00:00</th>\n      <td>NaN</td>\n      <td>NaN</td>\n      <td>NaN</td>\n      <td>NaN</td>\n      <td>NaN</td>\n      <td>NaN</td>\n      <td>NaN</td>\n      <td>NaN</td>\n      <td>NaN</td>\n      <td>NaN</td>\n      <td>NaN</td>\n      <td>NaN</td>\n    </tr>\n    <tr>\n      <th>2015-07-01 04:00:00</th>\n      <td>NaN</td>\n      <td>NaN</td>\n      <td>NaN</td>\n      <td>NaN</td>\n      <td>NaN</td>\n      <td>NaN</td>\n      <td>NaN</td>\n      <td>NaN</td>\n      <td>NaN</td>\n      <td>NaN</td>\n      <td>NaN</td>\n      <td>NaN</td>\n    </tr>\n    <tr>\n      <th>2015-07-01 05:00:00</th>\n      <td>NaN</td>\n      <td>NaN</td>\n      <td>NaN</td>\n      <td>NaN</td>\n      <td>NaN</td>\n      <td>NaN</td>\n      <td>NaN</td>\n      <td>NaN</td>\n      <td>NaN</td>\n      <td>NaN</td>\n      <td>NaN</td>\n      <td>NaN</td>\n    </tr>\n    <tr>\n      <th>2015-07-01 06:00:00</th>\n      <td>NaN</td>\n      <td>NaN</td>\n      <td>NaN</td>\n      <td>NaN</td>\n      <td>NaN</td>\n      <td>NaN</td>\n      <td>NaN</td>\n      <td>NaN</td>\n      <td>NaN</td>\n      <td>NaN</td>\n      <td>NaN</td>\n      <td>NaN</td>\n    </tr>\n    <tr>\n      <th>2015-07-01 07:00:00</th>\n      <td>NaN</td>\n      <td>NaN</td>\n      <td>NaN</td>\n      <td>NaN</td>\n      <td>NaN</td>\n      <td>NaN</td>\n      <td>NaN</td>\n      <td>NaN</td>\n      <td>NaN</td>\n      <td>NaN</td>\n      <td>NaN</td>\n      <td>NaN</td>\n    </tr>\n    <tr>\n      <th>2015-07-01 08:00:00</th>\n      <td>NaN</td>\n      <td>NaN</td>\n      <td>NaN</td>\n      <td>NaN</td>\n      <td>NaN</td>\n      <td>NaN</td>\n      <td>NaN</td>\n      <td>NaN</td>\n      <td>NaN</td>\n      <td>NaN</td>\n      <td>NaN</td>\n      <td>NaN</td>\n    </tr>\n    <tr>\n      <th>2015-07-01 09:00:00</th>\n      <td>NaN</td>\n      <td>NaN</td>\n      <td>NaN</td>\n      <td>NaN</td>\n      <td>NaN</td>\n      <td>NaN</td>\n      <td>NaN</td>\n      <td>NaN</td>\n      <td>NaN</td>\n      <td>NaN</td>\n      <td>NaN</td>\n      <td>NaN</td>\n    </tr>\n    <tr>\n      <th>2015-07-01 10:00:00</th>\n      <td>NaN</td>\n      <td>NaN</td>\n      <td>NaN</td>\n      <td>NaN</td>\n      <td>NaN</td>\n      <td>NaN</td>\n      <td>NaN</td>\n      <td>NaN</td>\n      <td>NaN</td>\n      <td>NaN</td>\n      <td>NaN</td>\n      <td>NaN</td>\n    </tr>\n    <tr>\n      <th>2015-07-01 11:00:00</th>\n      <td>NaN</td>\n      <td>NaN</td>\n      <td>NaN</td>\n      <td>NaN</td>\n      <td>NaN</td>\n      <td>NaN</td>\n      <td>NaN</td>\n      <td>NaN</td>\n      <td>NaN</td>\n      <td>NaN</td>\n      <td>NaN</td>\n      <td>NaN</td>\n    </tr>\n    <tr>\n      <th>2015-07-01 12:00:00</th>\n      <td>NaN</td>\n      <td>NaN</td>\n      <td>NaN</td>\n      <td>NaN</td>\n      <td>NaN</td>\n      <td>NaN</td>\n      <td>NaN</td>\n      <td>NaN</td>\n      <td>NaN</td>\n      <td>NaN</td>\n      <td>NaN</td>\n      <td>NaN</td>\n    </tr>\n    <tr>\n      <th>2015-07-01 13:00:00</th>\n      <td>NaN</td>\n      <td>NaN</td>\n      <td>NaN</td>\n      <td>NaN</td>\n      <td>NaN</td>\n      <td>NaN</td>\n      <td>NaN</td>\n      <td>NaN</td>\n      <td>NaN</td>\n      <td>NaN</td>\n      <td>NaN</td>\n      <td>NaN</td>\n    </tr>\n    <tr>\n      <th>2015-07-01 14:00:00</th>\n      <td>NaN</td>\n      <td>NaN</td>\n      <td>NaN</td>\n      <td>NaN</td>\n      <td>NaN</td>\n      <td>NaN</td>\n      <td>NaN</td>\n      <td>NaN</td>\n      <td>NaN</td>\n      <td>NaN</td>\n      <td>NaN</td>\n      <td>NaN</td>\n    </tr>\n    <tr>\n      <th>2015-07-01 15:00:00</th>\n      <td>NaN</td>\n      <td>NaN</td>\n      <td>NaN</td>\n      <td>NaN</td>\n      <td>NaN</td>\n      <td>NaN</td>\n      <td>NaN</td>\n      <td>NaN</td>\n      <td>NaN</td>\n      <td>NaN</td>\n      <td>NaN</td>\n      <td>NaN</td>\n    </tr>\n    <tr>\n      <th>2015-07-01 16:00:00</th>\n      <td>NaN</td>\n      <td>NaN</td>\n      <td>NaN</td>\n      <td>NaN</td>\n      <td>NaN</td>\n      <td>NaN</td>\n      <td>NaN</td>\n      <td>NaN</td>\n      <td>NaN</td>\n      <td>NaN</td>\n      <td>NaN</td>\n      <td>NaN</td>\n    </tr>\n    <tr>\n      <th>2015-07-01 17:00:00</th>\n      <td>NaN</td>\n      <td>NaN</td>\n      <td>NaN</td>\n      <td>NaN</td>\n      <td>NaN</td>\n      <td>NaN</td>\n      <td>NaN</td>\n      <td>NaN</td>\n      <td>NaN</td>\n      <td>NaN</td>\n      <td>NaN</td>\n      <td>NaN</td>\n    </tr>\n    <tr>\n      <th>2015-07-01 18:00:00</th>\n      <td>NaN</td>\n      <td>NaN</td>\n      <td>NaN</td>\n      <td>NaN</td>\n      <td>NaN</td>\n      <td>NaN</td>\n      <td>NaN</td>\n      <td>NaN</td>\n      <td>NaN</td>\n      <td>NaN</td>\n      <td>NaN</td>\n      <td>NaN</td>\n    </tr>\n    <tr>\n      <th>2015-07-01 19:00:00</th>\n      <td>NaN</td>\n      <td>NaN</td>\n      <td>NaN</td>\n      <td>NaN</td>\n      <td>NaN</td>\n      <td>NaN</td>\n      <td>NaN</td>\n      <td>NaN</td>\n      <td>NaN</td>\n      <td>NaN</td>\n      <td>NaN</td>\n      <td>NaN</td>\n    </tr>\n    <tr>\n      <th>2015-07-01 20:00:00</th>\n      <td>NaN</td>\n      <td>NaN</td>\n      <td>NaN</td>\n      <td>NaN</td>\n      <td>NaN</td>\n      <td>NaN</td>\n      <td>NaN</td>\n      <td>NaN</td>\n      <td>NaN</td>\n      <td>NaN</td>\n      <td>NaN</td>\n      <td>NaN</td>\n    </tr>\n    <tr>\n      <th>2015-07-01 21:00:00</th>\n      <td>NaN</td>\n      <td>NaN</td>\n      <td>NaN</td>\n      <td>NaN</td>\n      <td>NaN</td>\n      <td>NaN</td>\n      <td>NaN</td>\n      <td>NaN</td>\n      <td>NaN</td>\n      <td>NaN</td>\n      <td>NaN</td>\n      <td>NaN</td>\n    </tr>\n    <tr>\n      <th>2015-07-01 22:00:00</th>\n      <td>NaN</td>\n      <td>NaN</td>\n      <td>NaN</td>\n      <td>NaN</td>\n      <td>NaN</td>\n      <td>NaN</td>\n      <td>NaN</td>\n      <td>NaN</td>\n      <td>NaN</td>\n      <td>NaN</td>\n      <td>NaN</td>\n      <td>NaN</td>\n    </tr>\n    <tr>\n      <th>2015-07-01 23:00:00</th>\n      <td>NaN</td>\n      <td>NaN</td>\n      <td>NaN</td>\n      <td>NaN</td>\n      <td>NaN</td>\n      <td>NaN</td>\n      <td>NaN</td>\n      <td>NaN</td>\n      <td>NaN</td>\n      <td>NaN</td>\n      <td>NaN</td>\n      <td>NaN</td>\n    </tr>\n    <tr>\n      <th>2015-07-02 00:00:00</th>\n      <td>NaN</td>\n      <td>NaN</td>\n      <td>NaN</td>\n      <td>NaN</td>\n      <td>NaN</td>\n      <td>NaN</td>\n      <td>NaN</td>\n      <td>NaN</td>\n      <td>NaN</td>\n      <td>NaN</td>\n      <td>NaN</td>\n      <td>NaN</td>\n    </tr>\n    <tr>\n      <th>2015-07-02 01:00:00</th>\n      <td>NaN</td>\n      <td>NaN</td>\n      <td>NaN</td>\n      <td>NaN</td>\n      <td>NaN</td>\n      <td>NaN</td>\n      <td>NaN</td>\n      <td>NaN</td>\n      <td>NaN</td>\n      <td>NaN</td>\n      <td>NaN</td>\n      <td>NaN</td>\n    </tr>\n    <tr>\n      <th>2015-07-02 02:00:00</th>\n      <td>NaN</td>\n      <td>NaN</td>\n      <td>NaN</td>\n      <td>NaN</td>\n      <td>NaN</td>\n      <td>NaN</td>\n      <td>NaN</td>\n      <td>NaN</td>\n      <td>NaN</td>\n      <td>NaN</td>\n      <td>NaN</td>\n      <td>NaN</td>\n    </tr>\n    <tr>\n      <th>2015-07-02 03:00:00</th>\n      <td>NaN</td>\n      <td>NaN</td>\n      <td>NaN</td>\n      <td>NaN</td>\n      <td>NaN</td>\n      <td>NaN</td>\n      <td>NaN</td>\n      <td>NaN</td>\n      <td>NaN</td>\n      <td>NaN</td>\n      <td>NaN</td>\n      <td>NaN</td>\n    </tr>\n    <tr>\n      <th>2015-07-02 04:00:00</th>\n      <td>NaN</td>\n      <td>NaN</td>\n      <td>NaN</td>\n      <td>NaN</td>\n      <td>NaN</td>\n      <td>NaN</td>\n      <td>NaN</td>\n      <td>NaN</td>\n      <td>NaN</td>\n      <td>NaN</td>\n      <td>NaN</td>\n      <td>NaN</td>\n    </tr>\n    <tr>\n      <th>2015-07-02 05:00:00</th>\n      <td>NaN</td>\n      <td>NaN</td>\n      <td>NaN</td>\n      <td>NaN</td>\n      <td>NaN</td>\n      <td>NaN</td>\n      <td>NaN</td>\n      <td>NaN</td>\n      <td>NaN</td>\n      <td>NaN</td>\n      <td>NaN</td>\n      <td>NaN</td>\n    </tr>\n    <tr>\n      <th>...</th>\n      <td>...</td>\n      <td>...</td>\n      <td>...</td>\n      <td>...</td>\n      <td>...</td>\n      <td>...</td>\n      <td>...</td>\n      <td>...</td>\n      <td>...</td>\n      <td>...</td>\n      <td>...</td>\n      <td>...</td>\n    </tr>\n    <tr>\n      <th>2017-12-30 18:00:00</th>\n      <td>4.0</td>\n      <td>61.0</td>\n      <td>0.0</td>\n      <td>NaN</td>\n      <td>10254.0</td>\n      <td>78.0</td>\n      <td>200.0</td>\n      <td>21.0</td>\n      <td>Aurora</td>\n      <td>Aurora, OR</td>\n      <td>Northwest</td>\n      <td>OR</td>\n    </tr>\n    <tr>\n      <th>2017-12-30 19:00:00</th>\n      <td>4.0</td>\n      <td>67.0</td>\n      <td>0.0</td>\n      <td>NaN</td>\n      <td>10256.0</td>\n      <td>94.0</td>\n      <td>210.0</td>\n      <td>26.0</td>\n      <td>Aurora</td>\n      <td>Aurora, OR</td>\n      <td>Northwest</td>\n      <td>OR</td>\n    </tr>\n    <tr>\n      <th>2017-12-30 20:00:00</th>\n      <td>NaN</td>\n      <td>67.0</td>\n      <td>0.0</td>\n      <td>NaN</td>\n      <td>10256.0</td>\n      <td>100.0</td>\n      <td>210.0</td>\n      <td>21.0</td>\n      <td>Aurora</td>\n      <td>Aurora, OR</td>\n      <td>Northwest</td>\n      <td>OR</td>\n    </tr>\n    <tr>\n      <th>2017-12-30 21:00:00</th>\n      <td>4.0</td>\n      <td>56.0</td>\n      <td>0.0</td>\n      <td>NaN</td>\n      <td>10253.0</td>\n      <td>100.0</td>\n      <td>200.0</td>\n      <td>21.0</td>\n      <td>Aurora</td>\n      <td>Aurora, OR</td>\n      <td>Northwest</td>\n      <td>OR</td>\n    </tr>\n    <tr>\n      <th>2017-12-30 22:00:00</th>\n      <td>NaN</td>\n      <td>50.0</td>\n      <td>0.0</td>\n      <td>NaN</td>\n      <td>10253.0</td>\n      <td>106.0</td>\n      <td>0.0</td>\n      <td>0.0</td>\n      <td>Aurora</td>\n      <td>Aurora, OR</td>\n      <td>Northwest</td>\n      <td>OR</td>\n    </tr>\n    <tr>\n      <th>2017-12-30 23:00:00</th>\n      <td>4.0</td>\n      <td>50.0</td>\n      <td>0.0</td>\n      <td>NaN</td>\n      <td>10252.0</td>\n      <td>111.0</td>\n      <td>0.0</td>\n      <td>0.0</td>\n      <td>Aurora</td>\n      <td>Aurora, OR</td>\n      <td>Northwest</td>\n      <td>OR</td>\n    </tr>\n    <tr>\n      <th>2017-12-31 00:00:00</th>\n      <td>4.0</td>\n      <td>44.0</td>\n      <td>0.0</td>\n      <td>NaN</td>\n      <td>10251.0</td>\n      <td>106.0</td>\n      <td>0.0</td>\n      <td>0.0</td>\n      <td>Aurora</td>\n      <td>Aurora, OR</td>\n      <td>Northwest</td>\n      <td>OR</td>\n    </tr>\n    <tr>\n      <th>2017-12-31 01:00:00</th>\n      <td>0.0</td>\n      <td>39.0</td>\n      <td>0.0</td>\n      <td>NaN</td>\n      <td>10252.0</td>\n      <td>67.0</td>\n      <td>60.0</td>\n      <td>15.0</td>\n      <td>Aurora</td>\n      <td>Aurora, OR</td>\n      <td>Northwest</td>\n      <td>OR</td>\n    </tr>\n    <tr>\n      <th>2017-12-31 02:00:00</th>\n      <td>0.0</td>\n      <td>39.0</td>\n      <td>0.0</td>\n      <td>NaN</td>\n      <td>10249.0</td>\n      <td>67.0</td>\n      <td>0.0</td>\n      <td>0.0</td>\n      <td>Aurora</td>\n      <td>Aurora, OR</td>\n      <td>Northwest</td>\n      <td>OR</td>\n    </tr>\n    <tr>\n      <th>2017-12-31 03:00:00</th>\n      <td>0.0</td>\n      <td>22.0</td>\n      <td>0.0</td>\n      <td>NaN</td>\n      <td>10249.0</td>\n      <td>39.0</td>\n      <td>20.0</td>\n      <td>15.0</td>\n      <td>Aurora</td>\n      <td>Aurora, OR</td>\n      <td>Northwest</td>\n      <td>OR</td>\n    </tr>\n    <tr>\n      <th>2017-12-31 04:00:00</th>\n      <td>0.0</td>\n      <td>28.0</td>\n      <td>0.0</td>\n      <td>NaN</td>\n      <td>10249.0</td>\n      <td>44.0</td>\n      <td>10.0</td>\n      <td>31.0</td>\n      <td>Aurora</td>\n      <td>Aurora, OR</td>\n      <td>Northwest</td>\n      <td>OR</td>\n    </tr>\n    <tr>\n      <th>2017-12-31 05:00:00</th>\n      <td>0.0</td>\n      <td>22.0</td>\n      <td>0.0</td>\n      <td>NaN</td>\n      <td>10248.0</td>\n      <td>39.0</td>\n      <td>10.0</td>\n      <td>21.0</td>\n      <td>Aurora</td>\n      <td>Aurora, OR</td>\n      <td>Northwest</td>\n      <td>OR</td>\n    </tr>\n    <tr>\n      <th>2017-12-31 06:00:00</th>\n      <td>0.0</td>\n      <td>22.0</td>\n      <td>0.0</td>\n      <td>NaN</td>\n      <td>10241.0</td>\n      <td>39.0</td>\n      <td>30.0</td>\n      <td>31.0</td>\n      <td>Aurora</td>\n      <td>Aurora, OR</td>\n      <td>Northwest</td>\n      <td>OR</td>\n    </tr>\n    <tr>\n      <th>2017-12-31 07:00:00</th>\n      <td>0.0</td>\n      <td>28.0</td>\n      <td>0.0</td>\n      <td>NaN</td>\n      <td>10238.0</td>\n      <td>39.0</td>\n      <td>340.0</td>\n      <td>26.0</td>\n      <td>Aurora</td>\n      <td>Aurora, OR</td>\n      <td>Northwest</td>\n      <td>OR</td>\n    </tr>\n    <tr>\n      <th>2017-12-31 08:00:00</th>\n      <td>0.0</td>\n      <td>17.0</td>\n      <td>0.0</td>\n      <td>NaN</td>\n      <td>10233.0</td>\n      <td>33.0</td>\n      <td>10.0</td>\n      <td>36.0</td>\n      <td>Aurora</td>\n      <td>Aurora, OR</td>\n      <td>Northwest</td>\n      <td>OR</td>\n    </tr>\n    <tr>\n      <th>2017-12-31 09:00:00</th>\n      <td>NaN</td>\n      <td>22.0</td>\n      <td>0.0</td>\n      <td>NaN</td>\n      <td>10223.0</td>\n      <td>28.0</td>\n      <td>360.0</td>\n      <td>46.0</td>\n      <td>Aurora</td>\n      <td>Aurora, OR</td>\n      <td>Northwest</td>\n      <td>OR</td>\n    </tr>\n    <tr>\n      <th>2017-12-31 10:00:00</th>\n      <td>0.0</td>\n      <td>17.0</td>\n      <td>0.0</td>\n      <td>NaN</td>\n      <td>10220.0</td>\n      <td>28.0</td>\n      <td>360.0</td>\n      <td>46.0</td>\n      <td>Aurora</td>\n      <td>Aurora, OR</td>\n      <td>Northwest</td>\n      <td>OR</td>\n    </tr>\n    <tr>\n      <th>2017-12-31 11:00:00</th>\n      <td>0.0</td>\n      <td>11.0</td>\n      <td>0.0</td>\n      <td>NaN</td>\n      <td>10216.0</td>\n      <td>22.0</td>\n      <td>10.0</td>\n      <td>57.0</td>\n      <td>Aurora</td>\n      <td>Aurora, OR</td>\n      <td>Northwest</td>\n      <td>OR</td>\n    </tr>\n    <tr>\n      <th>2017-12-31 12:00:00</th>\n      <td>0.0</td>\n      <td>11.0</td>\n      <td>0.0</td>\n      <td>NaN</td>\n      <td>10213.0</td>\n      <td>28.0</td>\n      <td>360.0</td>\n      <td>51.0</td>\n      <td>Aurora</td>\n      <td>Aurora, OR</td>\n      <td>Northwest</td>\n      <td>OR</td>\n    </tr>\n    <tr>\n      <th>2017-12-31 13:00:00</th>\n      <td>0.0</td>\n      <td>11.0</td>\n      <td>0.0</td>\n      <td>NaN</td>\n      <td>10210.0</td>\n      <td>28.0</td>\n      <td>360.0</td>\n      <td>36.0</td>\n      <td>Aurora</td>\n      <td>Aurora, OR</td>\n      <td>Northwest</td>\n      <td>OR</td>\n    </tr>\n    <tr>\n      <th>2017-12-31 14:00:00</th>\n      <td>0.0</td>\n      <td>6.0</td>\n      <td>0.0</td>\n      <td>NaN</td>\n      <td>10210.0</td>\n      <td>28.0</td>\n      <td>350.0</td>\n      <td>46.0</td>\n      <td>Aurora</td>\n      <td>Aurora, OR</td>\n      <td>Northwest</td>\n      <td>OR</td>\n    </tr>\n    <tr>\n      <th>2017-12-31 15:00:00</th>\n      <td>0.0</td>\n      <td>6.0</td>\n      <td>0.0</td>\n      <td>NaN</td>\n      <td>10211.0</td>\n      <td>28.0</td>\n      <td>360.0</td>\n      <td>41.0</td>\n      <td>Aurora</td>\n      <td>Aurora, OR</td>\n      <td>Northwest</td>\n      <td>OR</td>\n    </tr>\n    <tr>\n      <th>2017-12-31 16:00:00</th>\n      <td>0.0</td>\n      <td>0.0</td>\n      <td>0.0</td>\n      <td>NaN</td>\n      <td>10211.0</td>\n      <td>22.0</td>\n      <td>50.0</td>\n      <td>21.0</td>\n      <td>Aurora</td>\n      <td>Aurora, OR</td>\n      <td>Northwest</td>\n      <td>OR</td>\n    </tr>\n    <tr>\n      <th>2017-12-31 17:00:00</th>\n      <td>0.0</td>\n      <td>-11.0</td>\n      <td>0.0</td>\n      <td>NaN</td>\n      <td>10214.0</td>\n      <td>0.0</td>\n      <td>0.0</td>\n      <td>0.0</td>\n      <td>Aurora</td>\n      <td>Aurora, OR</td>\n      <td>Northwest</td>\n      <td>OR</td>\n    </tr>\n    <tr>\n      <th>2017-12-31 18:00:00</th>\n      <td>0.0</td>\n      <td>6.0</td>\n      <td>0.0</td>\n      <td>NaN</td>\n      <td>10213.0</td>\n      <td>28.0</td>\n      <td>0.0</td>\n      <td>0.0</td>\n      <td>Aurora</td>\n      <td>Aurora, OR</td>\n      <td>Northwest</td>\n      <td>OR</td>\n    </tr>\n    <tr>\n      <th>2017-12-31 19:00:00</th>\n      <td>0.0</td>\n      <td>17.0</td>\n      <td>0.0</td>\n      <td>NaN</td>\n      <td>10212.0</td>\n      <td>44.0</td>\n      <td>160.0</td>\n      <td>15.0</td>\n      <td>Aurora</td>\n      <td>Aurora, OR</td>\n      <td>Northwest</td>\n      <td>OR</td>\n    </tr>\n    <tr>\n      <th>2017-12-31 20:00:00</th>\n      <td>0.0</td>\n      <td>28.0</td>\n      <td>0.0</td>\n      <td>NaN</td>\n      <td>10208.0</td>\n      <td>67.0</td>\n      <td>160.0</td>\n      <td>21.0</td>\n      <td>Aurora</td>\n      <td>Aurora, OR</td>\n      <td>Northwest</td>\n      <td>OR</td>\n    </tr>\n    <tr>\n      <th>2017-12-31 21:00:00</th>\n      <td>4.0</td>\n      <td>28.0</td>\n      <td>0.0</td>\n      <td>NaN</td>\n      <td>10203.0</td>\n      <td>72.0</td>\n      <td>120.0</td>\n      <td>15.0</td>\n      <td>Aurora</td>\n      <td>Aurora, OR</td>\n      <td>Northwest</td>\n      <td>OR</td>\n    </tr>\n    <tr>\n      <th>2017-12-31 22:00:00</th>\n      <td>NaN</td>\n      <td>33.0</td>\n      <td>0.0</td>\n      <td>NaN</td>\n      <td>10199.0</td>\n      <td>83.0</td>\n      <td>0.0</td>\n      <td>0.0</td>\n      <td>Aurora</td>\n      <td>Aurora, OR</td>\n      <td>Northwest</td>\n      <td>OR</td>\n    </tr>\n    <tr>\n      <th>2017-12-31 23:00:00</th>\n      <td>0.0</td>\n      <td>11.0</td>\n      <td>0.0</td>\n      <td>NaN</td>\n      <td>10199.0</td>\n      <td>89.0</td>\n      <td>340.0</td>\n      <td>26.0</td>\n      <td>Aurora</td>\n      <td>Aurora, OR</td>\n      <td>Northwest</td>\n      <td>OR</td>\n    </tr>\n  </tbody>\n</table>\n<p>466244 rows × 12 columns</p>\n</div>"
      ],
      "text/plain": [
       "                     CloudCover  DewTemp  Precip-1hr  Precip-6hr  Pressure  \\\n2015-07-01 00:00:00         NaN      NaN         NaN         NaN       NaN   \n2015-07-01 01:00:00         NaN      NaN         NaN         NaN       NaN   \n2015-07-01 02:00:00         NaN      NaN         NaN         NaN       NaN   \n2015-07-01 03:00:00         NaN      NaN         NaN         NaN       NaN   \n2015-07-01 04:00:00         NaN      NaN         NaN         NaN       NaN   \n...                         ...      ...         ...         ...       ...   \n2017-12-31 19:00:00         0.0     17.0         0.0         NaN   10212.0   \n2017-12-31 20:00:00         0.0     28.0         0.0         NaN   10208.0   \n2017-12-31 21:00:00         4.0     28.0         0.0         NaN   10203.0   \n2017-12-31 22:00:00         NaN     33.0         0.0         NaN   10199.0   \n2017-12-31 23:00:00         0.0     11.0         0.0         NaN   10199.0   \n\n                     Temp  WindDir  WindSpeed    city city, state     region  \\\n2015-07-01 00:00:00   NaN      NaN        NaN     NaN         NaN        NaN   \n2015-07-01 01:00:00   NaN      NaN        NaN     NaN         NaN        NaN   \n2015-07-01 02:00:00   NaN      NaN        NaN     NaN         NaN        NaN   \n2015-07-01 03:00:00   NaN      NaN        NaN     NaN         NaN        NaN   \n2015-07-01 04:00:00   NaN      NaN        NaN     NaN         NaN        NaN   \n...                   ...      ...        ...     ...         ...        ...   \n2017-12-31 19:00:00  44.0    160.0       15.0  Aurora  Aurora, OR  Northwest   \n2017-12-31 20:00:00  67.0    160.0       21.0  Aurora  Aurora, OR  Northwest   \n2017-12-31 21:00:00  72.0    120.0       15.0  Aurora  Aurora, OR  Northwest   \n2017-12-31 22:00:00  83.0      0.0        0.0  Aurora  Aurora, OR  Northwest   \n2017-12-31 23:00:00  89.0    340.0       26.0  Aurora  Aurora, OR  Northwest   \n\n                    state  \n2015-07-01 00:00:00   NaN  \n2015-07-01 01:00:00   NaN  \n2015-07-01 02:00:00   NaN  \n2015-07-01 03:00:00   NaN  \n2015-07-01 04:00:00   NaN  \n...                   ...  \n2017-12-31 19:00:00    OR  \n2017-12-31 20:00:00    OR  \n2017-12-31 21:00:00    OR  \n2017-12-31 22:00:00    OR  \n2017-12-31 23:00:00    OR  \n\n[466244 rows x 12 columns]"
      ]
     },
     "execution_count": 17,
     "metadata": {},
     "output_type": "execute_result"
    }
   ],
   "source": [
    "%pdb on\n",
    "convert_state_isd(merge_df, 'OR')"
   ]
  },
  {
   "cell_type": "code",
   "execution_count": 85,
   "metadata": {
    "autoscroll": false,
    "collapsed": false,
    "ein.hycell": false,
    "ein.tags": "worksheet-0",
    "slideshow": {
     "slide_type": "-"
    }
   },
   "outputs": [],
   "source": [
    "import os"
   ]
  },
  {
   "cell_type": "code",
   "execution_count": 86,
   "metadata": {
    "autoscroll": false,
    "collapsed": false,
    "ein.hycell": false,
    "ein.tags": "worksheet-0",
    "slideshow": {
     "slide_type": "-"
    }
   },
   "outputs": [],
   "source": [
    "from util.get_weather_data import get_missing_data"
   ]
  },
  {
   "cell_type": "code",
   "execution_count": 88,
   "metadata": {
    "autoscroll": false,
    "collapsed": false,
    "ein.hycell": false,
    "ein.tags": "worksheet-0",
    "slideshow": {
     "slide_type": "-"
    }
   },
   "outputs": [
    {
     "name": "stderr",
     "output_type": "stream",
     "text": [
      "\r",
      "  0%|          | 0/844 [00:00<?, ?it/s]"
     ]
    },
    {
     "name": "stdout",
     "output_type": "stream",
     "text": [
      "230-****** WARNING ** WARNING ** WARNING ** WARNING ** WARNING ** ** WARNING ** WARNING ** WARNING ******\n",
      " ** You are accessing a U.S. Government information system, which includes:                         **\n",
      " ** 1) This computer, 2)This computer network, 3) All computers connected to this network, and      **\n",
      " ** 4) All devices and storage media attached to this network or to a computer on this network.     **\n",
      " ** You understand and consent to the following:                                                    **\n",
      " ** you may access this information system for authorized use only; you have no reasonable          **\n",
      " ** expectation of privacy regarding any communication of data transiting or stored on this         **\n",
      " ** information system; at any time and for any lawful Government purpose, the Government may       **\n",
      " ** monitor, intercept, and search and seize any communication or data transiting or stored on      **\n",
      " ** this information system; and any communications or data transiting or stored on this            **\n",
      " ** information system may be disclosed or used for any lawful Government purpose.                  **\n",
      " ****** WARNING ** WARNING ** WARNING ** WARNING ** WARNING ** ** WARNING ** WARNING ** WARNING ******\n",
      "230 Anonymous\n"
     ]
    },
    {
     "name": "stderr",
     "output_type": "stream",
     "text": [
      "\r",
      " 66%|██████▌   | 553/844 [00:00<00:00, 5526.36it/s]"
     ]
    },
    {
     "name": "stderr",
     "output_type": "stream",
     "text": [
      "\r",
      "100%|██████████| 844/844 [00:00<00:00, 5601.31it/s]"
     ]
    },
    {
     "name": "stderr",
     "output_type": "stream",
     "text": [
      "\n"
     ]
    },
    {
     "name": "stderr",
     "output_type": "stream",
     "text": [
      "\r",
      "  0%|          | 0/844 [00:00<?, ?it/s]"
     ]
    },
    {
     "name": "stderr",
     "output_type": "stream",
     "text": [
      "\r",
      " 65%|██████▍   | 545/844 [00:00<00:00, 5442.60it/s]"
     ]
    },
    {
     "name": "stderr",
     "output_type": "stream",
     "text": [
      "\r",
      "100%|██████████| 844/844 [00:00<00:00, 5556.07it/s]"
     ]
    },
    {
     "name": "stderr",
     "output_type": "stream",
     "text": [
      "\n"
     ]
    },
    {
     "name": "stderr",
     "output_type": "stream",
     "text": [
      "\r",
      "  0%|          | 0/844 [00:00<?, ?it/s]"
     ]
    },
    {
     "name": "stderr",
     "output_type": "stream",
     "text": [
      "\r",
      " 67%|██████▋   | 563/844 [00:00<00:00, 5617.99it/s]"
     ]
    },
    {
     "name": "stderr",
     "output_type": "stream",
     "text": [
      "\r",
      "100%|██████████| 844/844 [00:00<00:00, 5441.50it/s]"
     ]
    },
    {
     "name": "stderr",
     "output_type": "stream",
     "text": [
      "\n"
     ]
    },
    {
     "name": "stderr",
     "output_type": "stream",
     "text": [
      "\r",
      "  0%|          | 0/844 [00:00<?, ?it/s]"
     ]
    },
    {
     "name": "stderr",
     "output_type": "stream",
     "text": [
      "\r",
      " 71%|███████   | 596/844 [00:00<00:00, 5958.23it/s]"
     ]
    },
    {
     "name": "stderr",
     "output_type": "stream",
     "text": [
      "\r",
      "100%|██████████| 844/844 [00:00<00:00, 5909.25it/s]"
     ]
    },
    {
     "name": "stderr",
     "output_type": "stream",
     "text": [
      "\n"
     ]
    },
    {
     "name": "stderr",
     "output_type": "stream",
     "text": [
      "\r",
      "  0%|          | 0/844 [00:00<?, ?it/s]"
     ]
    },
    {
     "name": "stderr",
     "output_type": "stream",
     "text": [
      "\r",
      " 65%|██████▌   | 549/844 [00:00<00:00, 5488.19it/s]"
     ]
    },
    {
     "name": "stderr",
     "output_type": "stream",
     "text": [
      "\r",
      "100%|██████████| 844/844 [00:00<00:00, 5570.64it/s]"
     ]
    },
    {
     "name": "stderr",
     "output_type": "stream",
     "text": [
      "\n"
     ]
    },
    {
     "name": "stderr",
     "output_type": "stream",
     "text": [
      "\r",
      "  0%|          | 0/844 [00:00<?, ?it/s]"
     ]
    },
    {
     "name": "stdout",
     "output_type": "stream",
     "text": [
      "data/ISD/722287-13871-2020.gz missing for Anniston Regional Airport\n",
      "/pub/data/noaa/isd-lite/2020\n"
     ]
    },
    {
     "name": "stderr",
     "output_type": "stream",
     "text": [
      "\r",
      "  3%|▎         | 26/844 [00:01<00:55, 14.85it/s]"
     ]
    },
    {
     "name": "stdout",
     "output_type": "stream",
     "text": [
      "data/ISD/723190-93846-2020.gz missing for Anderson Regional Airport\n",
      "/pub/data/noaa/isd-lite/2020\n"
     ]
    },
    {
     "name": "stderr",
     "output_type": "stream",
     "text": [
      "\r",
      "  3%|▎         | 27/844 [00:03<08:33,  1.59it/s]"
     ]
    },
    {
     "name": "stdout",
     "output_type": "stream",
     "text": [
      "data/ISD/725126-14736-2020.gz missing for Altoona Blair County Airport\n",
      "/pub/data/noaa/isd-lite/2020\n"
     ]
    },
    {
     "name": "stderr",
     "output_type": "stream",
     "text": [
      "\r",
      "  3%|▎         | 28/844 [00:05<14:44,  1.08s/it]"
     ]
    },
    {
     "name": "stdout",
     "output_type": "stream",
     "text": [
      "data/ISD/724666-93067-2020.gz missing for Centennial Airport\n"
     ]
    },
    {
     "name": "stdout",
     "output_type": "stream",
     "text": [
      "/pub/data/noaa/isd-lite/2020\n"
     ]
    },
    {
     "name": "stderr",
     "output_type": "stream",
     "text": [
      "\r",
      "  3%|▎         | 29/844 [00:07<19:04,  1.40s/it]"
     ]
    },
    {
     "name": "stdout",
     "output_type": "stream",
     "text": [
      "data/ISD/722038-12897-2020.gz missing for Naples Municipal Airport\n"
     ]
    },
    {
     "name": "stdout",
     "output_type": "stream",
     "text": [
      "/pub/data/noaa/isd-lite/2020\n"
     ]
    },
    {
     "name": "stderr",
     "output_type": "stream",
     "text": [
      "\r",
      "  4%|▎         | 30/844 [00:09<21:15,  1.57s/it]"
     ]
    },
    {
     "name": "stdout",
     "output_type": "stream",
     "text": [
      "data/ISD/724057-13701-2020.gz missing for Phillips Army Air Field\n"
     ]
    },
    {
     "name": "stdout",
     "output_type": "stream",
     "text": [
      "/pub/data/noaa/isd-lite/2020\n"
     ]
    },
    {
     "name": "stderr",
     "output_type": "stream",
     "text": [
      "\r",
      "  4%|▎         | 31/844 [00:11<23:10,  1.71s/it]"
     ]
    },
    {
     "name": "stdout",
     "output_type": "stream",
     "text": [
      "data/ISD/726390-94849-2020.gz missing for Alpena County Regional Airport\n"
     ]
    },
    {
     "name": "stdout",
     "output_type": "stream",
     "text": [
      "/pub/data/noaa/isd-lite/2020\n"
     ]
    },
    {
     "name": "stderr",
     "output_type": "stream",
     "text": [
      "\r",
      "  4%|▍         | 32/844 [00:14<24:56,  1.84s/it]"
     ]
    },
    {
     "name": "stdout",
     "output_type": "stream",
     "text": [
      "data/ISD/722314-53915-2020.gz missing for Acadiana Regional Airport\n"
     ]
    },
    {
     "name": "stdout",
     "output_type": "stream",
     "text": [
      "/pub/data/noaa/isd-lite/2020\n"
     ]
    },
    {
     "name": "stderr",
     "output_type": "stream",
     "text": [
      "\r",
      "  4%|▍         | 33/844 [00:16<25:19,  1.87s/it]"
     ]
    },
    {
     "name": "stdout",
     "output_type": "stream",
     "text": [
      "data/ISD/726227-94790-2020.gz missing for Watertown International Airport\n",
      "/pub/data/noaa/isd-lite/2020\n"
     ]
    },
    {
     "name": "stderr",
     "output_type": "stream",
     "text": [
      "\r",
      "  4%|▍         | 34/844 [00:17<25:08,  1.86s/it]"
     ]
    },
    {
     "name": "stdout",
     "output_type": "stream",
     "text": [
      "data/ISD/724676-93073-2020.gz missing for Aspen-Pitkin Co/Sardy Field\n"
     ]
    },
    {
     "name": "stdout",
     "output_type": "stream",
     "text": [
      "/pub/data/noaa/isd-lite/2020\n"
     ]
    },
    {
     "name": "stderr",
     "output_type": "stream",
     "text": [
      "\r",
      "  4%|▍         | 35/844 [00:20<26:18,  1.95s/it]"
     ]
    },
    {
     "name": "stdout",
     "output_type": "stream",
     "text": [
      "data/ISD/727910-94224-2020.gz missing for Astoria Regional Airport\n",
      "/pub/data/noaa/isd-lite/2020\n"
     ]
    },
    {
     "name": "stderr",
     "output_type": "stream",
     "text": [
      "\r",
      "  4%|▍         | 36/844 [00:22<26:41,  1.98s/it]"
     ]
    },
    {
     "name": "stdout",
     "output_type": "stream",
     "text": [
      "data/ISD/722190-13874-2020.gz missing for Hartsfield Jackson Atlanta International Airport\n",
      "/pub/data/noaa/isd-lite/2020\n"
     ]
    },
    {
     "name": "stderr",
     "output_type": "stream",
     "text": [
      "\r",
      "  4%|▍         | 37/844 [00:24<26:53,  2.00s/it]"
     ]
    },
    {
     "name": "stdout",
     "output_type": "stream",
     "text": [
      "data/ISD/726546-14946-2020.gz missing for Watertown Regional Airport\n"
     ]
    },
    {
     "name": "stdout",
     "output_type": "stream",
     "text": [
      "/pub/data/noaa/isd-lite/2020\n"
     ]
    },
    {
     "name": "stderr",
     "output_type": "stream",
     "text": [
      "\r",
      "  5%|▍         | 38/844 [00:26<27:28,  2.05s/it]"
     ]
    },
    {
     "name": "stdout",
     "output_type": "stream",
     "text": [
      "data/ISD/726185-14605-2020.gz missing for Augusta State Airport\n",
      "/pub/data/noaa/isd-lite/2020\n"
     ]
    },
    {
     "name": "stderr",
     "output_type": "stream",
     "text": [
      "\r",
      "  5%|▍         | 39/844 [00:28<27:27,  2.05s/it]"
     ]
    },
    {
     "name": "stdout",
     "output_type": "stream",
     "text": [
      "data/ISD/722540-13904-2020.gz missing for Austin Bergstrom International Airport\n"
     ]
    },
    {
     "name": "stdout",
     "output_type": "stream",
     "text": [
      "/pub/data/noaa/isd-lite/2020\n"
     ]
    },
    {
     "name": "stderr",
     "output_type": "stream",
     "text": [
      "\r",
      "  5%|▍         | 40/844 [00:30<27:50,  2.08s/it]"
     ]
    },
    {
     "name": "stdout",
     "output_type": "stream",
     "text": [
      "data/ISD/726463-14897-2020.gz missing for Wausau Downtown Airport\n"
     ]
    },
    {
     "name": "stdout",
     "output_type": "stream",
     "text": [
      "/pub/data/noaa/isd-lite/2020\n"
     ]
    },
    {
     "name": "stderr",
     "output_type": "stream",
     "text": [
      "\r",
      "  5%|▍         | 41/844 [00:32<28:05,  2.10s/it]"
     ]
    },
    {
     "name": "stdout",
     "output_type": "stream",
     "text": [
      "data/ISD/723150-03812-2020.gz missing for Asheville Regional Airport\n"
     ]
    },
    {
     "name": "stdout",
     "output_type": "stream",
     "text": [
      "/pub/data/noaa/isd-lite/2020\n"
     ]
    },
    {
     "name": "stderr",
     "output_type": "stream",
     "text": [
      "\r",
      "  5%|▍         | 42/844 [00:34<27:26,  2.05s/it]"
     ]
    },
    {
     "name": "stdout",
     "output_type": "stream",
     "text": [
      "data/ISD/725130-14777-2020.gz missing for Wilkes Barre Scranton International Airport\n"
     ]
    },
    {
     "name": "stdout",
     "output_type": "stream",
     "text": [
      "/pub/data/noaa/isd-lite/2020\n"
     ]
    },
    {
     "name": "stderr",
     "output_type": "stream",
     "text": [
      "\r",
      "  5%|▌         | 43/844 [00:36<27:23,  2.05s/it]"
     ]
    },
    {
     "name": "stdout",
     "output_type": "stream",
     "text": [
      "data/ISD/726557-14910-2020.gz missing for Chandler Field\n"
     ]
    },
    {
     "name": "stdout",
     "output_type": "stream",
     "text": [
      "/pub/data/noaa/isd-lite/2020\n"
     ]
    },
    {
     "name": "stderr",
     "output_type": "stream",
     "text": [
      "\r",
      "  5%|▌         | 44/844 [00:38<27:20,  2.05s/it]"
     ]
    },
    {
     "name": "stdout",
     "output_type": "stream",
     "text": [
      "data/ISD/726357-94815-2020.gz missing for Kalamazoo Battle Creek International Airport\n"
     ]
    },
    {
     "name": "stdout",
     "output_type": "stream",
     "text": [
      "/pub/data/noaa/isd-lite/2020\n"
     ]
    },
    {
     "name": "stderr",
     "output_type": "stream",
     "text": [
      "\r",
      "  5%|▌         | 45/844 [00:40<26:28,  1.99s/it]"
     ]
    },
    {
     "name": "stdout",
     "output_type": "stream",
     "text": [
      "data/ISD/724837-93216-2020.gz missing for Beale Air Force Base\n"
     ]
    },
    {
     "name": "stdout",
     "output_type": "stream",
     "text": [
      "/pub/data/noaa/isd-lite/2020\n"
     ]
    },
    {
     "name": "stderr",
     "output_type": "stream",
     "text": [
      "\r",
      "  5%|▌         | 46/844 [00:42<26:16,  1.98s/it]"
     ]
    },
    {
     "name": "stdout",
     "output_type": "stream",
     "text": [
      "data/ISD/722485-13944-2020.gz missing for Barksdale Air Force Base\n"
     ]
    },
    {
     "name": "stdout",
     "output_type": "stream",
     "text": [
      "/pub/data/noaa/isd-lite/2020\n"
     ]
    },
    {
     "name": "stderr",
     "output_type": "stream",
     "text": [
      "\r",
      "  6%|▌         | 47/844 [00:44<26:32,  2.00s/it]"
     ]
    },
    {
     "name": "stdout",
     "output_type": "stream",
     "text": [
      "data/ISD/744915-14775-2020.gz missing for Westfield-Barnes Regional Airport\n"
     ]
    },
    {
     "name": "stdout",
     "output_type": "stream",
     "text": [
      "/pub/data/noaa/isd-lite/2020\n"
     ]
    },
    {
     "name": "stderr",
     "output_type": "stream",
     "text": [
      "\r",
      "  6%|▌         | 48/844 [00:46<27:06,  2.04s/it]"
     ]
    },
    {
     "name": "stdout",
     "output_type": "stream",
     "text": [
      "data/ISD/724363-13803-2020.gz missing for Columbus Municipal Airport\n",
      "/pub/data/noaa/isd-lite/2020\n"
     ]
    },
    {
     "name": "stderr",
     "output_type": "stream",
     "text": [
      "\r",
      "  6%|▌         | 49/844 [00:47<22:37,  1.71s/it]"
     ]
    },
    {
     "name": "stdout",
     "output_type": "stream",
     "text": [
      "data/ISD/723628-93942-2020.gz missing for Curtis Field\n",
      "/pub/data/noaa/isd-lite/2020\n"
     ]
    },
    {
     "name": "stderr",
     "output_type": "stream",
     "text": [
      "\r",
      "  6%|▌         | 50/844 [00:49<22:18,  1.69s/it]"
     ]
    },
    {
     "name": "stdout",
     "output_type": "stream",
     "text": [
      "data/ISD/724756-23159-2020.gz missing for Bryce Canyon Airport\n"
     ]
    },
    {
     "name": "stdout",
     "output_type": "stream",
     "text": [
      "/pub/data/noaa/isd-lite/2020\n"
     ]
    },
    {
     "name": "stderr",
     "output_type": "stream",
     "text": [
      "\r",
      "  6%|▌         | 51/844 [00:51<23:43,  1.79s/it]"
     ]
    },
    {
     "name": "stdout",
     "output_type": "stream",
     "text": [
      "data/ISD/727476-94961-2020.gz missing for Baudette International Airport\n"
     ]
    },
    {
     "name": "stdout",
     "output_type": "stream",
     "text": [
      "/pub/data/noaa/isd-lite/2020\n"
     ]
    },
    {
     "name": "stderr",
     "output_type": "stream",
     "text": [
      "\r",
      "  6%|▌         | 52/844 [00:53<25:06,  1.90s/it]"
     ]
    },
    {
     "name": "stdout",
     "output_type": "stream",
     "text": [
      "data/ISD/725080-14740-2020.gz missing for Bradley International Airport\n"
     ]
    },
    {
     "name": "stdout",
     "output_type": "stream",
     "text": [
      "/pub/data/noaa/isd-lite/2020\n"
     ]
    },
    {
     "name": "stderr",
     "output_type": "stream",
     "text": [
      "\r",
      "  6%|▋         | 53/844 [00:55<25:38,  1.95s/it]"
     ]
    },
    {
     "name": "stdout",
     "output_type": "stream",
     "text": [
      "data/ISD/725040-94702-2020.gz missing for Igor I Sikorsky Memorial Airport\n"
     ]
    },
    {
     "name": "stdout",
     "output_type": "stream",
     "text": [
      "/pub/data/noaa/isd-lite/2020\n"
     ]
    },
    {
     "name": "stderr",
     "output_type": "stream",
     "text": [
      "\r",
      "  6%|▋         | 54/844 [00:57<25:36,  1.95s/it]"
     ]
    },
    {
     "name": "stdout",
     "output_type": "stream",
     "text": [
      "data/ISD/725059-14702-2020.gz missing for Laurence G Hanscom Field\n"
     ]
    },
    {
     "name": "stdout",
     "output_type": "stream",
     "text": [
      "/pub/data/noaa/isd-lite/2020\n"
     ]
    },
    {
     "name": "stderr",
     "output_type": "stream",
     "text": [
      "\r",
      "  7%|▋         | 55/844 [00:59<26:23,  2.01s/it]"
     ]
    },
    {
     "name": "stdout",
     "output_type": "stream",
     "text": [
      "data/ISD/725266-04751-2020.gz missing for Bradford Regional Airport\n"
     ]
    },
    {
     "name": "stdout",
     "output_type": "stream",
     "text": [
      "/pub/data/noaa/isd-lite/2020\n"
     ]
    },
    {
     "name": "stderr",
     "output_type": "stream",
     "text": [
      "\r",
      "  7%|▋         | 56/844 [01:01<25:22,  1.93s/it]"
     ]
    },
    {
     "name": "stdout",
     "output_type": "stream",
     "text": [
      "data/ISD/725660-24028-2020.gz missing for Western Neb. Rgnl/William B. Heilig Airport\n",
      "/pub/data/noaa/isd-lite/2020\n"
     ]
    },
    {
     "name": "stderr",
     "output_type": "stream",
     "text": [
      "\r",
      "  7%|▋         | 57/844 [01:02<24:07,  1.84s/it]"
     ]
    },
    {
     "name": "stdout",
     "output_type": "stream",
     "text": [
      "data/ISD/727935-24234-2020.gz missing for Boeing Field King County International Airport\n"
     ]
    },
    {
     "name": "stdout",
     "output_type": "stream",
     "text": [
      "/pub/data/noaa/isd-lite/2020\n"
     ]
    },
    {
     "name": "stderr",
     "output_type": "stream",
     "text": [
      "\r",
      "  7%|▋         | 58/844 [01:05<24:55,  1.90s/it]"
     ]
    },
    {
     "name": "stdout",
     "output_type": "stream",
     "text": [
      "data/ISD/723840-23155-2020.gz missing for Meadows Field\n",
      "/pub/data/noaa/isd-lite/2020\n"
     ]
    },
    {
     "name": "stderr",
     "output_type": "stream",
     "text": [
      "\r",
      "  7%|▋         | 59/844 [01:06<24:14,  1.85s/it]"
     ]
    },
    {
     "name": "stdout",
     "output_type": "stream",
     "text": [
      "data/ISD/722235-13838-2020.gz missing for Mobile Downtown Airport\n"
     ]
    },
    {
     "name": "stdout",
     "output_type": "stream",
     "text": [
      "/pub/data/noaa/isd-lite/2020\n"
     ]
    },
    {
     "name": "stderr",
     "output_type": "stream",
     "text": [
      "\r",
      "  7%|▋         | 60/844 [01:08<24:34,  1.88s/it]"
     ]
    },
    {
     "name": "stdout",
     "output_type": "stream",
     "text": [
      "data/ISD/725150-04725-2020.gz missing for Greater Binghamton/Edwin A Link field\n",
      "/pub/data/noaa/isd-lite/2020\n"
     ]
    },
    {
     "name": "stderr",
     "output_type": "stream",
     "text": [
      "\r",
      "  7%|▋         | 61/844 [01:10<25:12,  1.93s/it]"
     ]
    },
    {
     "name": "stdout",
     "output_type": "stream",
     "text": [
      "data/ISD/726070-14606-2020.gz missing for Bangor International Airport\n"
     ]
    },
    {
     "name": "stdout",
     "output_type": "stream",
     "text": [
      "/pub/data/noaa/isd-lite/2020\n"
     ]
    },
    {
     "name": "stderr",
     "output_type": "stream",
     "text": [
      "\r",
      "  7%|▋         | 62/844 [01:12<23:37,  1.81s/it]"
     ]
    },
    {
     "name": "stdout",
     "output_type": "stream",
     "text": [
      "data/ISD/726077-14616-2020.gz missing for Hancock County-Bar Harbor Airport\n",
      "/pub/data/noaa/isd-lite/2020\n"
     ]
    },
    {
     "name": "stderr",
     "output_type": "stream",
     "text": [
      "\r",
      "  7%|▋         | 63/844 [01:14<23:18,  1.79s/it]"
     ]
    },
    {
     "name": "stdout",
     "output_type": "stream",
     "text": [
      "data/ISD/722280-13876-2020.gz missing for Birmingham-Shuttlesworth International Airport\n"
     ]
    },
    {
     "name": "stdout",
     "output_type": "stream",
     "text": [
      "/pub/data/noaa/isd-lite/2020\n"
     ]
    },
    {
     "name": "stderr",
     "output_type": "stream",
     "text": [
      "\r",
      "  8%|▊         | 64/844 [01:15<23:53,  1.84s/it]"
     ]
    },
    {
     "name": "stdout",
     "output_type": "stream",
     "text": [
      "data/ISD/722704-99999-2020.gz missing for Biggs Army Air Field (Fort Bliss)\n"
     ]
    },
    {
     "name": "stdout",
     "output_type": "stream",
     "text": [
      "/pub/data/noaa/isd-lite/2020\n"
     ]
    },
    {
     "name": "stderr",
     "output_type": "stream",
     "text": [
      "\r",
      "  8%|▊         | 65/844 [01:17<24:17,  1.87s/it]"
     ]
    },
    {
     "name": "stdout",
     "output_type": "stream",
     "text": [
      "data/ISD/724800-23157-2020.gz missing for Eastern Sierra Regional Airport\n"
     ]
    },
    {
     "name": "stdout",
     "output_type": "stream",
     "text": [
      "/pub/data/noaa/isd-lite/2020\n"
     ]
    },
    {
     "name": "stderr",
     "output_type": "stream",
     "text": [
      "\r",
      "  8%|▊         | 66/844 [01:20<25:20,  1.95s/it]"
     ]
    },
    {
     "name": "stdout",
     "output_type": "stream",
     "text": [
      "data/ISD/726770-24033-2020.gz missing for Billings Logan International Airport\n"
     ]
    },
    {
     "name": "stdout",
     "output_type": "stream",
     "text": [
      "/pub/data/noaa/isd-lite/2020\n"
     ]
    },
    {
     "name": "stderr",
     "output_type": "stream",
     "text": [
      "\r",
      "  8%|▊         | 67/844 [01:22<25:41,  1.98s/it]"
     ]
    },
    {
     "name": "stdout",
     "output_type": "stream",
     "text": [
      "data/ISD/727640-24011-2020.gz missing for Bismarck Municipal Airport\n",
      "/pub/data/noaa/isd-lite/2020\n"
     ]
    },
    {
     "name": "stderr",
     "output_type": "stream",
     "text": [
      "\r",
      "  8%|▊         | 68/844 [01:24<25:53,  2.00s/it]"
     ]
    },
    {
     "name": "stdout",
     "output_type": "stream",
     "text": [
      "data/ISD/747686-13820-2020.gz missing for Keesler Air Force Base\n"
     ]
    },
    {
     "name": "stdout",
     "output_type": "stream",
     "text": [
      "/pub/data/noaa/isd-lite/2020\n"
     ]
    },
    {
     "name": "stderr",
     "output_type": "stream",
     "text": [
      "\r",
      "  8%|▊         | 69/844 [01:26<25:38,  1.98s/it]"
     ]
    },
    {
     "name": "stdout",
     "output_type": "stream",
     "text": [
      "data/ISD/724699-03065-2020.gz missing for Rocky Mountain Metropolitan Airport\n"
     ]
    },
    {
     "name": "stdout",
     "output_type": "stream",
     "text": [
      "/pub/data/noaa/isd-lite/2020\n"
     ]
    },
    {
     "name": "stderr",
     "output_type": "stream",
     "text": [
      "\r",
      "  8%|▊         | 70/844 [01:27<23:28,  1.82s/it]"
     ]
    },
    {
     "name": "stdout",
     "output_type": "stream",
     "text": [
      "data/ISD/727550-14958-2020.gz missing for Bemidji Regional Airport\n"
     ]
    },
    {
     "name": "stdout",
     "output_type": "stream",
     "text": [
      "/pub/data/noaa/isd-lite/2020\n"
     ]
    },
    {
     "name": "stderr",
     "output_type": "stream",
     "text": [
      "\r",
      "  8%|▊         | 71/844 [01:29<24:19,  1.89s/it]"
     ]
    },
    {
     "name": "stdout",
     "output_type": "stream",
     "text": [
      "data/ISD/726886-24130-2020.gz missing for Baker City Municipal Airport\n"
     ]
    },
    {
     "name": "stdout",
     "output_type": "stream",
     "text": [
      "/pub/data/noaa/isd-lite/2020\n"
     ]
    },
    {
     "name": "stderr",
     "output_type": "stream",
     "text": [
      "\r",
      "  9%|▊         | 72/844 [01:31<23:43,  1.84s/it]"
     ]
    },
    {
     "name": "stdout",
     "output_type": "stream",
     "text": [
      "data/ISD/724695-23036-2020.gz missing for Buckley Air Force Base\n",
      "/pub/data/noaa/isd-lite/2020\n"
     ]
    },
    {
     "name": "stderr",
     "output_type": "stream",
     "text": [
      "\r",
      "  9%|▊         | 73/844 [01:33<24:53,  1.94s/it]"
     ]
    },
    {
     "name": "stdout",
     "output_type": "stream",
     "text": [
      "data/ISD/725245-04853-2020.gz missing for Burke Lakefront Airport\n",
      "/pub/data/noaa/isd-lite/2020\n"
     ]
    },
    {
     "name": "stderr",
     "output_type": "stream",
     "text": [
      "\r",
      "  9%|▉         | 74/844 [01:35<25:16,  1.97s/it]"
     ]
    },
    {
     "name": "stdout",
     "output_type": "stream",
     "text": [
      "data/ISD/724120-03872-2020.gz missing for Raleigh County Memorial Airport\n"
     ]
    },
    {
     "name": "stdout",
     "output_type": "stream",
     "text": [
      "/pub/data/noaa/isd-lite/2020\n"
     ]
    },
    {
     "name": "stderr",
     "output_type": "stream",
     "text": [
      "\r",
      "  9%|▉         | 75/844 [01:37<25:32,  1.99s/it]"
     ]
    },
    {
     "name": "stdout",
     "output_type": "stream",
     "text": [
      "data/ISD/724125-03859-2020.gz missing for Mercer County Airport\n"
     ]
    },
    {
     "name": "stdout",
     "output_type": "stream",
     "text": [
      "/pub/data/noaa/isd-lite/2020\n"
     ]
    },
    {
     "name": "stderr",
     "output_type": "stream",
     "text": [
      "\r",
      "  9%|▉         | 76/844 [01:39<26:07,  2.04s/it]"
     ]
    },
    {
     "name": "stdout",
     "output_type": "stream",
     "text": [
      "data/ISD/747188-23158-2020.gz missing for Blythe Airport\n",
      "/pub/data/noaa/isd-lite/2020\n"
     ]
    },
    {
     "name": "stderr",
     "output_type": "stream",
     "text": [
      "\r",
      "  9%|▉         | 77/844 [01:41<25:42,  2.01s/it]"
     ]
    },
    {
     "name": "stdout",
     "output_type": "stream",
     "text": [
      "data/ISD/727976-24217-2020.gz missing for Bellingham International Airport\n",
      "/pub/data/noaa/isd-lite/2020\n"
     ]
    },
    {
     "name": "stderr",
     "output_type": "stream",
     "text": [
      "\r",
      "  9%|▉         | 78/844 [01:43<25:02,  1.96s/it]"
     ]
    },
    {
     "name": "stdout",
     "output_type": "stream",
     "text": [
      "data/ISD/724338-13802-2020.gz missing for Scott AFB/Midamerica Airport\n"
     ]
    },
    {
     "name": "stdout",
     "output_type": "stream",
     "text": [
      "/pub/data/noaa/isd-lite/2020\n"
     ]
    },
    {
     "name": "stderr",
     "output_type": "stream",
     "text": [
      "\r",
      "  9%|▉         | 79/844 [01:45<25:00,  1.96s/it]"
     ]
    },
    {
     "name": "stdout",
     "output_type": "stream",
     "text": [
      "data/ISD/724375-03893-2020.gz missing for Monroe County Airport\n",
      "/pub/data/noaa/isd-lite/2020\n"
     ]
    },
    {
     "name": "stderr",
     "output_type": "stream",
     "text": [
      "\r",
      "  9%|▉         | 80/844 [01:47<24:27,  1.92s/it]"
     ]
    },
    {
     "name": "stdout",
     "output_type": "stream",
     "text": [
      "data/ISD/724397-54831-2020.gz missing for Central Illinois Regional Airport at Bloomington-Normal\n"
     ]
    },
    {
     "name": "stdout",
     "output_type": "stream",
     "text": [
      "/pub/data/noaa/isd-lite/2020\n"
     ]
    },
    {
     "name": "stderr",
     "output_type": "stream",
     "text": [
      "\r",
      " 10%|▉         | 81/844 [01:49<24:54,  1.96s/it]"
     ]
    },
    {
     "name": "stdout",
     "output_type": "stream",
     "text": [
      "data/ISD/723270-13897-2020.gz missing for Nashville International Airport\n"
     ]
    },
    {
     "name": "stdout",
     "output_type": "stream",
     "text": [
      "/pub/data/noaa/isd-lite/2020\n"
     ]
    },
    {
     "name": "stderr",
     "output_type": "stream",
     "text": [
      "\r",
      " 10%|▉         | 82/844 [01:51<25:13,  1.99s/it]"
     ]
    },
    {
     "name": "stdout",
     "output_type": "stream",
     "text": [
      "data/ISD/726830-94185-2020.gz missing for Burns Municipal Airport\n"
     ]
    },
    {
     "name": "stdout",
     "output_type": "stream",
     "text": [
      "/pub/data/noaa/isd-lite/2020\n"
     ]
    },
    {
     "name": "stderr",
     "output_type": "stream",
     "text": [
      "\r",
      " 10%|▉         | 83/844 [01:53<25:48,  2.04s/it]"
     ]
    },
    {
     "name": "stdout",
     "output_type": "stream",
     "text": [
      "data/ISD/726810-24131-2020.gz missing for Boise Air Terminal/Gowen Field\n"
     ]
    },
    {
     "name": "stdout",
     "output_type": "stream",
     "text": [
      "/pub/data/noaa/isd-lite/2020\n"
     ]
    },
    {
     "name": "stderr",
     "output_type": "stream",
     "text": [
      "\r",
      " 10%|▉         | 84/844 [01:55<25:29,  2.01s/it]"
     ]
    },
    {
     "name": "stdout",
     "output_type": "stream",
     "text": [
      "data/ISD/725090-14739-2020.gz missing for General Edward Lawrence Logan International Airport\n",
      "/pub/data/noaa/isd-lite/2020\n"
     ]
    },
    {
     "name": "stderr",
     "output_type": "stream",
     "text": [
      "\r",
      " 10%|█         | 85/844 [01:57<26:19,  2.08s/it]"
     ]
    },
    {
     "name": "stdout",
     "output_type": "stream",
     "text": [
      "data/ISD/726710-24164-2020.gz missing for Miley Memorial Field\n"
     ]
    },
    {
     "name": "stdout",
     "output_type": "stream",
     "text": [
      "/pub/data/noaa/isd-lite/2020\n"
     ]
    },
    {
     "name": "stderr",
     "output_type": "stream",
     "text": [
      "\r",
      " 10%|█         | 86/844 [01:59<26:33,  2.10s/it]"
     ]
    },
    {
     "name": "stdout",
     "output_type": "stream",
     "text": [
      "data/ISD/723439-53918-2020.gz missing for Ozark Regional Airport\n"
     ]
    },
    {
     "name": "stdout",
     "output_type": "stream",
     "text": [
      "/pub/data/noaa/isd-lite/2020\n"
     ]
    },
    {
     "name": "stderr",
     "output_type": "stream",
     "text": [
      "\r",
      " 10%|█         | 87/844 [02:01<24:45,  1.96s/it]"
     ]
    },
    {
     "name": "stdout",
     "output_type": "stream",
     "text": [
      "data/ISD/722410-12917-2020.gz missing for Southeast Texas Regional Airport\n"
     ]
    },
    {
     "name": "stdout",
     "output_type": "stream",
     "text": [
      "/pub/data/noaa/isd-lite/2020\n"
     ]
    },
    {
     "name": "stderr",
     "output_type": "stream",
     "text": [
      "\r",
      " 10%|█         | 88/844 [02:03<24:19,  1.93s/it]"
     ]
    },
    {
     "name": "stdout",
     "output_type": "stream",
     "text": [
      "data/ISD/722136-53883-2020.gz missing for Brunswick Golden Isles Airport\n",
      "/pub/data/noaa/isd-lite/2020\n"
     ]
    },
    {
     "name": "stderr",
     "output_type": "stream",
     "text": [
      "\r",
      " 11%|█         | 89/844 [02:05<24:18,  1.93s/it]"
     ]
    },
    {
     "name": "stdout",
     "output_type": "stream",
     "text": [
      "data/ISD/726555-94938-2020.gz missing for Brainerd Lakes Regional Airport\n"
     ]
    },
    {
     "name": "stdout",
     "output_type": "stream",
     "text": [
      "/pub/data/noaa/isd-lite/2020\n"
     ]
    },
    {
     "name": "stderr",
     "output_type": "stream",
     "text": [
      "\r",
      " 11%|█         | 90/844 [02:07<24:54,  1.98s/it]"
     ]
    },
    {
     "name": "stdout",
     "output_type": "stream",
     "text": [
      "data/ISD/725420-14931-2020.gz missing for Southeast Iowa Regional Airport\n",
      "/pub/data/noaa/isd-lite/2020\n"
     ]
    },
    {
     "name": "stderr",
     "output_type": "stream",
     "text": [
      "\r",
      " 11%|█         | 91/844 [02:09<24:32,  1.96s/it]"
     ]
    },
    {
     "name": "stdout",
     "output_type": "stream",
     "text": [
      "data/ISD/722500-12919-2020.gz missing for Brownsville South Padre Island International Airport\n",
      "/pub/data/noaa/isd-lite/2020\n"
     ]
    },
    {
     "name": "stderr",
     "output_type": "stream",
     "text": [
      "\r",
      " 11%|█         | 92/844 [02:11<23:42,  1.89s/it]"
     ]
    },
    {
     "name": "stdout",
     "output_type": "stream",
     "text": [
      "data/ISD/725396-14815-2020.gz missing for Battle Creek Executive Airport at Kellogg Field\n",
      "/pub/data/noaa/isd-lite/2020\n"
     ]
    },
    {
     "name": "stderr",
     "output_type": "stream",
     "text": [
      "\r",
      " 11%|█         | 93/844 [02:12<22:43,  1.82s/it]"
     ]
    },
    {
     "name": "stdout",
     "output_type": "stream",
     "text": [
      "data/ISD/727740-24135-2020.gz missing for Bert Mooney Airport\n"
     ]
    },
    {
     "name": "stdout",
     "output_type": "stream",
     "text": [
      "/pub/data/noaa/isd-lite/2020\n"
     ]
    },
    {
     "name": "stderr",
     "output_type": "stream",
     "text": [
      "\r",
      " 11%|█         | 94/844 [02:14<23:33,  1.89s/it]"
     ]
    },
    {
     "name": "stdout",
     "output_type": "stream",
     "text": [
      "data/ISD/722320-13970-2020.gz missing for Baton Rouge Metropolitan Airport\n"
     ]
    },
    {
     "name": "stdout",
     "output_type": "stream",
     "text": [
      "/pub/data/noaa/isd-lite/2020\n"
     ]
    },
    {
     "name": "stderr",
     "output_type": "stream",
     "text": [
      "\r",
      " 11%|█▏        | 95/844 [02:16<23:45,  1.90s/it]"
     ]
    },
    {
     "name": "stdout",
     "output_type": "stream",
     "text": [
      "data/ISD/726170-14742-2020.gz missing for Burlington International Airport\n"
     ]
    },
    {
     "name": "stdout",
     "output_type": "stream",
     "text": [
      "/pub/data/noaa/isd-lite/2020\n"
     ]
    },
    {
     "name": "stderr",
     "output_type": "stream",
     "text": [
      "\r",
      " 11%|█▏        | 96/844 [02:18<24:16,  1.95s/it]"
     ]
    },
    {
     "name": "stdout",
     "output_type": "stream",
     "text": [
      "data/ISD/725280-14733-2020.gz missing for Buffalo Niagara International Airport\n"
     ]
    },
    {
     "name": "stdout",
     "output_type": "stream",
     "text": [
      "/pub/data/noaa/isd-lite/2020\n"
     ]
    },
    {
     "name": "stderr",
     "output_type": "stream",
     "text": [
      "\r",
      " 11%|█▏        | 97/844 [02:20<23:51,  1.92s/it]"
     ]
    },
    {
     "name": "stdout",
     "output_type": "stream",
     "text": [
      "data/ISD/722880-23152-2020.gz missing for Bob Hope Airport\n"
     ]
    },
    {
     "name": "stdout",
     "output_type": "stream",
     "text": [
      "/pub/data/noaa/isd-lite/2020\n"
     ]
    },
    {
     "name": "stderr",
     "output_type": "stream",
     "text": [
      "\r",
      " 12%|█▏        | 98/844 [02:22<23:55,  1.92s/it]"
     ]
    },
    {
     "name": "stdout",
     "output_type": "stream",
     "text": [
      "data/ISD/725204-04813-2020.gz missing for Beaver County Airport\n",
      "/pub/data/noaa/isd-lite/2020\n"
     ]
    },
    {
     "name": "stderr",
     "output_type": "stream",
     "text": [
      "\r",
      " 12%|█▏        | 99/844 [02:24<22:09,  1.78s/it]"
     ]
    },
    {
     "name": "stdout",
     "output_type": "stream",
     "text": [
      "data/ISD/725088-54733-2020.gz missing for Beverly Regional Airport\n",
      "/pub/data/noaa/isd-lite/2020\n"
     ]
    },
    {
     "name": "stderr",
     "output_type": "stream",
     "text": [
      "\r",
      " 12%|█▏        | 100/844 [02:25<20:32,  1.66s/it]"
     ]
    },
    {
     "name": "stdout",
     "output_type": "stream",
     "text": [
      "data/ISD/746716-93808-2020.gz missing for Bowling Green Warren County Regional Airport\n",
      "/pub/data/noaa/isd-lite/2020\n"
     ]
    },
    {
     "name": "stderr",
     "output_type": "stream",
     "text": [
      "\r",
      " 12%|█▏        | 101/844 [02:26<18:53,  1.53s/it]"
     ]
    },
    {
     "name": "stdout",
     "output_type": "stream",
     "text": [
      "data/ISD/724060-93721-2020.gz missing for Baltimore/Washington International Thurgood Marshall Airport\n",
      "/pub/data/noaa/isd-lite/2020\n"
     ]
    },
    {
     "name": "stderr",
     "output_type": "stream",
     "text": [
      "\r",
      " 12%|█▏        | 102/844 [02:27<17:59,  1.45s/it]"
     ]
    },
    {
     "name": "stdout",
     "output_type": "stream",
     "text": [
      "data/ISD/723408-13814-2020.gz missing for Arkansas International Airport\n",
      "/pub/data/noaa/isd-lite/2020\n"
     ]
    },
    {
     "name": "stderr",
     "output_type": "stream",
     "text": [
      "\r",
      " 12%|█▏        | 103/844 [02:28<15:11,  1.23s/it]"
     ]
    },
    {
     "name": "stdout",
     "output_type": "stream",
     "text": [
      "data/ISD/725867-24133-2020.gz missing for Burley Municipal Airport\n",
      "/pub/data/noaa/isd-lite/2020\n"
     ]
    },
    {
     "name": "stderr",
     "output_type": "stream",
     "text": [
      "\r",
      " 12%|█▏        | 104/844 [02:29<15:28,  1.25s/it]"
     ]
    },
    {
     "name": "stdout",
     "output_type": "stream",
     "text": [
      "data/ISD/746110-03182-2020.gz missing for Bicycle Lake Army Air Field\n",
      "/pub/data/noaa/isd-lite/2020\n"
     ]
    },
    {
     "name": "stderr",
     "output_type": "stream",
     "text": [
      "\r",
      " 12%|█▏        | 105/844 [02:31<17:24,  1.41s/it]"
     ]
    },
    {
     "name": "stdout",
     "output_type": "stream",
     "text": [
      "data/ISD/726797-24132-2020.gz missing for Gallatin Field\n",
      "/pub/data/noaa/isd-lite/2020\n"
     ]
    },
    {
     "name": "stderr",
     "output_type": "stream",
     "text": [
      "\r",
      " 13%|█▎        | 106/844 [02:33<17:10,  1.40s/it]"
     ]
    },
    {
     "name": "stdout",
     "output_type": "stream",
     "text": [
      "data/ISD/723100-13883-2020.gz missing for Columbia Metropolitan Airport\n",
      "/pub/data/noaa/isd-lite/2020\n"
     ]
    },
    {
     "name": "stderr",
     "output_type": "stream",
     "text": [
      "\r",
      " 13%|█▎        | 107/844 [02:34<17:05,  1.39s/it]"
     ]
    },
    {
     "name": "stdout",
     "output_type": "stream",
     "text": [
      "data/ISD/725210-14895-2020.gz missing for Akron Canton Regional Airport\n"
     ]
    },
    {
     "name": "stdout",
     "output_type": "stream",
     "text": [
      "/pub/data/noaa/isd-lite/2020\n"
     ]
    },
    {
     "name": "stderr",
     "output_type": "stream",
     "text": [
      "\r",
      " 13%|█▎        | 108/844 [02:35<17:42,  1.44s/it]"
     ]
    },
    {
     "name": "stdout",
     "output_type": "stream",
     "text": [
      "data/ISD/727120-14607-2020.gz missing for Caribou Municipal Airport\n",
      "/pub/data/noaa/isd-lite/2020\n"
     ]
    },
    {
     "name": "stderr",
     "output_type": "stream",
     "text": [
      "\r",
      " 13%|█▎        | 109/844 [02:37<17:35,  1.44s/it]"
     ]
    },
    {
     "name": "stdout",
     "output_type": "stream",
     "text": [
      "data/ISD/723306-13825-2020.gz missing for Columbus Air Force Base\n",
      "/pub/data/noaa/isd-lite/2020\n"
     ]
    },
    {
     "name": "stderr",
     "output_type": "stream",
     "text": [
      "\r",
      " 13%|█▎        | 110/844 [02:38<17:33,  1.44s/it]"
     ]
    },
    {
     "name": "stdout",
     "output_type": "stream",
     "text": [
      "data/ISD/725463-14966-2020.gz missing for Northeast Iowa Regional Airport\n",
      "/pub/data/noaa/isd-lite/2020\n"
     ]
    },
    {
     "name": "stderr",
     "output_type": "stream",
     "text": [
      "\r",
      " 13%|█▎        | 111/844 [02:40<16:54,  1.38s/it]"
     ]
    },
    {
     "name": "stdout",
     "output_type": "stream",
     "text": [
      "data/ISD/724755-93129-2020.gz missing for Cedar City Regional Airport\n",
      "/pub/data/noaa/isd-lite/2020\n"
     ]
    },
    {
     "name": "stderr",
     "output_type": "stream",
     "text": [
      "\r",
      " 13%|█▎        | 112/844 [02:41<16:32,  1.36s/it]"
     ]
    },
    {
     "name": "stdout",
     "output_type": "stream",
     "text": [
      "data/ISD/725636-24017-2020.gz missing for Chadron Municipal Airport\n",
      "/pub/data/noaa/isd-lite/2020\n"
     ]
    },
    {
     "name": "stderr",
     "output_type": "stream",
     "text": [
      "\r",
      " 13%|█▎        | 113/844 [02:42<16:27,  1.35s/it]"
     ]
    },
    {
     "name": "stdout",
     "output_type": "stream",
     "text": [
      "data/ISD/723660-23007-2020.gz missing for Childress Municipal Airport\n",
      "/pub/data/noaa/isd-lite/2020\n"
     ]
    },
    {
     "name": "stderr",
     "output_type": "stream",
     "text": [
      "\r",
      " 14%|█▎        | 114/844 [02:44<16:10,  1.33s/it]"
     ]
    },
    {
     "name": "stdout",
     "output_type": "stream",
     "text": [
      "data/ISD/725946-24286-2020.gz missing for Jack Mc Namara Field Airport\n",
      "/pub/data/noaa/isd-lite/2020\n"
     ]
    },
    {
     "name": "stderr",
     "output_type": "stream",
     "text": [
      "\r",
      " 14%|█▎        | 115/844 [02:45<15:36,  1.28s/it]"
     ]
    },
    {
     "name": "stdout",
     "output_type": "stream",
     "text": [
      "data/ISD/744910-14703-2020.gz missing for Westover ARB/Metropolitan Airport\n"
     ]
    },
    {
     "name": "stdout",
     "output_type": "stream",
     "text": [
      "/pub/data/noaa/isd-lite/2020\n"
     ]
    },
    {
     "name": "stderr",
     "output_type": "stream",
     "text": [
      "\r",
      " 14%|█▎        | 116/844 [02:47<17:59,  1.48s/it]"
     ]
    },
    {
     "name": "stdout",
     "output_type": "stream",
     "text": [
      "data/ISD/722215-13884-2020.gz missing for Bob Sikes Airport\n"
     ]
    },
    {
     "name": "stdout",
     "output_type": "stream",
     "text": [
      "/pub/data/noaa/isd-lite/2020\n"
     ]
    },
    {
     "name": "stderr",
     "output_type": "stream",
     "text": [
      "\r",
      " 14%|█▍        | 117/844 [02:48<18:51,  1.56s/it]"
     ]
    },
    {
     "name": "stdout",
     "output_type": "stream",
     "text": [
      "data/ISD/725247-04805-2020.gz missing for Cuyahoga County Airport\n"
     ]
    },
    {
     "name": "stdout",
     "output_type": "stream",
     "text": [
      "/pub/data/noaa/isd-lite/2020\n"
     ]
    },
    {
     "name": "stderr",
     "output_type": "stream",
     "text": [
      "\r",
      " 14%|█▍        | 118/844 [02:49<17:18,  1.43s/it]"
     ]
    },
    {
     "name": "stdout",
     "output_type": "stream",
     "text": [
      "data/ISD/723290-03935-2020.gz missing for Cape Girardeau Regional Airport\n",
      "/pub/data/noaa/isd-lite/2020\n"
     ]
    },
    {
     "name": "stderr",
     "output_type": "stream",
     "text": [
      "\r",
      " 14%|█▍        | 119/844 [02:51<18:25,  1.52s/it]"
     ]
    },
    {
     "name": "stdout",
     "output_type": "stream",
     "text": [
      "data/ISD/723240-13882-2020.gz missing for Lovell Field\n",
      "/pub/data/noaa/isd-lite/2020\n"
     ]
    },
    {
     "name": "stderr",
     "output_type": "stream",
     "text": [
      "\r",
      " 14%|█▍        | 120/844 [02:53<18:48,  1.56s/it]"
     ]
    },
    {
     "name": "stdout",
     "output_type": "stream",
     "text": [
      "data/ISD/724016-93736-2020.gz missing for Charlottesville Albemarle Airport\n",
      "/pub/data/noaa/isd-lite/2020\n"
     ]
    },
    {
     "name": "stderr",
     "output_type": "stream",
     "text": [
      "\r",
      " 14%|█▍        | 121/844 [02:55<19:26,  1.61s/it]"
     ]
    },
    {
     "name": "stdout",
     "output_type": "stream",
     "text": [
      "data/ISD/722080-13880-2020.gz missing for Charleston Air Force Base-International Airport\n",
      "/pub/data/noaa/isd-lite/2020\n"
     ]
    },
    {
     "name": "stderr",
     "output_type": "stream",
     "text": [
      "\r",
      " 14%|█▍        | 122/844 [02:56<19:08,  1.59s/it]"
     ]
    },
    {
     "name": "stdout",
     "output_type": "stream",
     "text": [
      "data/ISD/725450-14990-2020.gz missing for The Eastern Iowa Airport\n"
     ]
    },
    {
     "name": "stdout",
     "output_type": "stream",
     "text": [
      "/pub/data/noaa/isd-lite/2020\n"
     ]
    },
    {
     "name": "stderr",
     "output_type": "stream",
     "text": [
      "\r",
      " 15%|█▍        | 123/844 [02:58<20:11,  1.68s/it]"
     ]
    },
    {
     "name": "stdout",
     "output_type": "stream",
     "text": [
      "data/ISD/727344-04869-2020.gz missing for Chippewa County International Airport\n",
      "/pub/data/noaa/isd-lite/2020\n"
     ]
    },
    {
     "name": "stderr",
     "output_type": "stream",
     "text": [
      "\r",
      " 15%|█▍        | 124/844 [03:00<19:28,  1.62s/it]"
     ]
    },
    {
     "name": "stdout",
     "output_type": "stream",
     "text": [
      "data/ISD/724175-03802-2020.gz missing for North Central West Virginia Airport\n",
      "/pub/data/noaa/isd-lite/2020\n"
     ]
    },
    {
     "name": "stderr",
     "output_type": "stream",
     "text": [
      "\r",
      " 15%|█▍        | 125/844 [03:01<19:52,  1.66s/it]"
     ]
    },
    {
     "name": "stdout",
     "output_type": "stream",
     "text": [
      "data/ISD/725240-14820-2020.gz missing for Cleveland Hopkins International Airport\n"
     ]
    },
    {
     "name": "stdout",
     "output_type": "stream",
     "text": [
      "/pub/data/noaa/isd-lite/2020\n"
     ]
    },
    {
     "name": "stderr",
     "output_type": "stream",
     "text": [
      "\r",
      " 15%|█▍        | 126/844 [03:03<21:36,  1.81s/it]"
     ]
    },
    {
     "name": "stdout",
     "output_type": "stream",
     "text": [
      "data/ISD/747460-03904-2020.gz missing for Easterwood Field\n",
      "/pub/data/noaa/isd-lite/2020\n"
     ]
    },
    {
     "name": "stderr",
     "output_type": "stream",
     "text": [
      "\r",
      " 15%|█▌        | 127/844 [03:05<20:14,  1.69s/it]"
     ]
    },
    {
     "name": "stdout",
     "output_type": "stream",
     "text": [
      "data/ISD/727885-94266-2020.gz missing for William R Fairchild International Airport\n"
     ]
    },
    {
     "name": "stdout",
     "output_type": "stream",
     "text": [
      "/pub/data/noaa/isd-lite/2020\n"
     ]
    },
    {
     "name": "stderr",
     "output_type": "stream",
     "text": [
      "\r",
      " 15%|█▌        | 128/844 [03:07<20:45,  1.74s/it]"
     ]
    },
    {
     "name": "stdout",
     "output_type": "stream",
     "text": [
      "data/ISD/723140-13881-2020.gz missing for Charlotte Douglas International Airport\n",
      "/pub/data/noaa/isd-lite/2020\n"
     ]
    },
    {
     "name": "stderr",
     "output_type": "stream",
     "text": [
      "\r",
      " 15%|█▌        | 129/844 [03:08<20:44,  1.74s/it]"
     ]
    },
    {
     "name": "stdout",
     "output_type": "stream",
     "text": [
      "data/ISD/724280-14821-2020.gz missing for John Glenn Columbus International Airport\n",
      "/pub/data/noaa/isd-lite/2020\n"
     ]
    },
    {
     "name": "stderr",
     "output_type": "stream",
     "text": [
      "\r",
      " 15%|█▌        | 130/844 [03:10<20:02,  1.68s/it]"
     ]
    },
    {
     "name": "stdout",
     "output_type": "stream",
     "text": [
      "data/ISD/725315-94870-2020.gz missing for University of Illinois Willard Airport\n",
      "/pub/data/noaa/isd-lite/2020\n"
     ]
    },
    {
     "name": "stderr",
     "output_type": "stream",
     "text": [
      "\r",
      " 16%|█▌        | 131/844 [03:12<19:24,  1.63s/it]"
     ]
    },
    {
     "name": "stdout",
     "output_type": "stream",
     "text": [
      "data/ISD/727440-14858-2020.gz missing for Houghton County Memorial Airport\n"
     ]
    },
    {
     "name": "stdout",
     "output_type": "stream",
     "text": [
      "/pub/data/noaa/isd-lite/2020\n"
     ]
    },
    {
     "name": "stderr",
     "output_type": "stream",
     "text": [
      "\r",
      " 16%|█▌        | 132/844 [03:14<21:13,  1.79s/it]"
     ]
    },
    {
     "name": "stdout",
     "output_type": "stream",
     "text": [
      "data/ISD/722687-93033-2020.gz missing for Cavern City Air Terminal\n",
      "/pub/data/noaa/isd-lite/2020\n"
     ]
    },
    {
     "name": "stderr",
     "output_type": "stream",
     "text": [
      "\r",
      " 16%|█▌        | 133/844 [03:16<21:48,  1.84s/it]"
     ]
    },
    {
     "name": "stdout",
     "output_type": "stream",
     "text": [
      "data/ISD/724507-13981-2020.gz missing for Chanute Martin Johnson Airport\n",
      "/pub/data/noaa/isd-lite/2020\n"
     ]
    },
    {
     "name": "stderr",
     "output_type": "stream",
     "text": [
      "\r",
      " 16%|█▌        | 134/844 [03:17<21:22,  1.81s/it]"
     ]
    },
    {
     "name": "stdout",
     "output_type": "stream",
     "text": [
      "data/ISD/726700-24045-2020.gz missing for Yellowstone Regional Airport\n"
     ]
    },
    {
     "name": "stdout",
     "output_type": "stream",
     "text": [
      "/pub/data/noaa/isd-lite/2020\n"
     ]
    },
    {
     "name": "stderr",
     "output_type": "stream",
     "text": [
      "\r",
      " 16%|█▌        | 135/844 [03:19<21:03,  1.78s/it]"
     ]
    },
    {
     "name": "stdout",
     "output_type": "stream",
     "text": [
      "data/ISD/727834-24136-2020.gz missing for Coeur D'Alene - Pappy Boyington Field\n",
      "/pub/data/noaa/isd-lite/2020\n"
     ]
    },
    {
     "name": "stderr",
     "output_type": "stream",
     "text": [
      "\r",
      " 16%|█▌        | 136/844 [03:21<20:12,  1.71s/it]"
     ]
    },
    {
     "name": "stdout",
     "output_type": "stream",
     "text": [
      "data/ISD/747950-12867-2020.gz missing for Patrick Air Force Base\n",
      "/pub/data/noaa/isd-lite/2020\n"
     ]
    },
    {
     "name": "stderr",
     "output_type": "stream",
     "text": [
      "\r",
      " 16%|█▌        | 137/844 [03:23<21:00,  1.78s/it]"
     ]
    },
    {
     "name": "stdout",
     "output_type": "stream",
     "text": [
      "data/ISD/726050-14745-2020.gz missing for Concord Municipal Airport\n"
     ]
    },
    {
     "name": "stdout",
     "output_type": "stream",
     "text": [
      "/pub/data/noaa/isd-lite/2020\n"
     ]
    },
    {
     "name": "stderr",
     "output_type": "stream",
     "text": [
      "\r",
      " 16%|█▋        | 138/844 [03:24<20:18,  1.73s/it]"
     ]
    },
    {
     "name": "stdout",
     "output_type": "stream",
     "text": [
      "data/ISD/724660-93037-2020.gz missing for City of Colorado Springs Municipal Airport\n",
      "/pub/data/noaa/isd-lite/2020\n"
     ]
    },
    {
     "name": "stderr",
     "output_type": "stream",
     "text": [
      "\r",
      " 16%|█▋        | 139/844 [03:26<20:07,  1.71s/it]"
     ]
    },
    {
     "name": "stdout",
     "output_type": "stream",
     "text": [
      "data/ISD/724450-03945-2020.gz missing for Columbia Regional Airport\n"
     ]
    },
    {
     "name": "stdout",
     "output_type": "stream",
     "text": [
      "/pub/data/noaa/isd-lite/2020\n"
     ]
    },
    {
     "name": "stderr",
     "output_type": "stream",
     "text": [
      "\r",
      " 17%|█▋        | 140/844 [03:27<19:50,  1.69s/it]"
     ]
    },
    {
     "name": "stdout",
     "output_type": "stream",
     "text": [
      "data/ISD/725690-24089-2020.gz missing for Casper-Natrona County International Airport\n"
     ]
    },
    {
     "name": "stdout",
     "output_type": "stream",
     "text": [
      "/pub/data/noaa/isd-lite/2020\n"
     ]
    },
    {
     "name": "stderr",
     "output_type": "stream",
     "text": [
      "\r",
      " 17%|█▋        | 141/844 [03:29<19:40,  1.68s/it]"
     ]
    },
    {
     "name": "stdout",
     "output_type": "stream",
     "text": [
      "data/ISD/747915-93718-2020.gz missing for Grand Strand Airport\n",
      "/pub/data/noaa/isd-lite/2020\n"
     ]
    },
    {
     "name": "stderr",
     "output_type": "stream",
     "text": [
      "\r",
      " 17%|█▋        | 142/844 [03:31<18:51,  1.61s/it]"
     ]
    },
    {
     "name": "stdout",
     "output_type": "stream",
     "text": [
      "data/ISD/747820-53860-2020.gz missing for Jacksonville Executive at Craig Airport\n",
      "/pub/data/noaa/isd-lite/2020\n"
     ]
    },
    {
     "name": "stderr",
     "output_type": "stream",
     "text": [
      "\r",
      " 17%|█▋        | 143/844 [03:32<19:09,  1.64s/it]"
     ]
    },
    {
     "name": "stdout",
     "output_type": "stream",
     "text": [
      "data/ISD/722510-12924-2020.gz missing for Corpus Christi International Airport\n"
     ]
    },
    {
     "name": "stdout",
     "output_type": "stream",
     "text": [
      "/pub/data/noaa/isd-lite/2020\n"
     ]
    },
    {
     "name": "stderr",
     "output_type": "stream",
     "text": [
      "\r",
      " 17%|█▋        | 144/844 [03:34<19:53,  1.71s/it]"
     ]
    },
    {
     "name": "stdout",
     "output_type": "stream",
     "text": [
      "data/ISD/722927-03177-2020.gz missing for Mc Clellan-Palomar Airport\n",
      "/pub/data/noaa/isd-lite/2020\n"
     ]
    },
    {
     "name": "stderr",
     "output_type": "stream",
     "text": [
      "\r",
      " 17%|█▋        | 145/844 [03:36<19:35,  1.68s/it]"
     ]
    },
    {
     "name": "stdout",
     "output_type": "stream",
     "text": [
      "data/ISD/724140-13866-2020.gz missing for Yeager Airport\n"
     ]
    },
    {
     "name": "stdout",
     "output_type": "stream",
     "text": [
      "/pub/data/noaa/isd-lite/2020\n"
     ]
    },
    {
     "name": "stderr",
     "output_type": "stream",
     "text": [
      "\r",
      " 17%|█▋        | 146/844 [03:38<20:42,  1.78s/it]"
     ]
    },
    {
     "name": "stdout",
     "output_type": "stream",
     "text": [
      "data/ISD/722255-93842-2020.gz missing for Columbus Metropolitan Airport\n",
      "/pub/data/noaa/isd-lite/2020\n"
     ]
    },
    {
     "name": "stderr",
     "output_type": "stream",
     "text": [
      "\r",
      " 17%|█▋        | 147/844 [03:39<19:39,  1.69s/it]"
     ]
    },
    {
     "name": "stdout",
     "output_type": "stream",
     "text": [
      "data/ISD/723250-03847-2020.gz missing for Crossville Memorial Whitson Field\n",
      "/pub/data/noaa/isd-lite/2020\n"
     ]
    },
    {
     "name": "stderr",
     "output_type": "stream",
     "text": [
      "\r",
      " 18%|█▊        | 148/844 [03:41<18:39,  1.61s/it]"
     ]
    },
    {
     "name": "stdout",
     "output_type": "stream",
     "text": [
      "data/ISD/727690-24137-2020.gz missing for Cut Bank International Airport\n",
      "/pub/data/noaa/isd-lite/2020\n"
     ]
    },
    {
     "name": "stderr",
     "output_type": "stream",
     "text": [
      "\r",
      " 18%|█▊        | 149/844 [03:42<19:06,  1.65s/it]"
     ]
    },
    {
     "name": "stdout",
     "output_type": "stream",
     "text": [
      "data/ISD/723104-53867-2020.gz missing for Jim Hamilton L.B. Owens Airport\n"
     ]
    },
    {
     "name": "stdout",
     "output_type": "stream",
     "text": [
      "/pub/data/noaa/isd-lite/2020\n"
     ]
    },
    {
     "name": "stderr",
     "output_type": "stream",
     "text": [
      "\r",
      " 18%|█▊        | 150/844 [03:44<19:23,  1.68s/it]"
     ]
    },
    {
     "name": "stdout",
     "output_type": "stream",
     "text": [
      "data/ISD/724210-93814-2020.gz missing for Cincinnati Northern Kentucky International Airport\n"
     ]
    },
    {
     "name": "stdout",
     "output_type": "stream",
     "text": [
      "/pub/data/noaa/isd-lite/2020\n"
     ]
    },
    {
     "name": "stderr",
     "output_type": "stream",
     "text": [
      "\r",
      " 18%|█▊        | 151/844 [03:46<19:35,  1.70s/it]"
     ]
    },
    {
     "name": "stdout",
     "output_type": "stream",
     "text": [
      "data/ISD/726945-24202-2020.gz missing for Corvallis Municipal Airport\n",
      "/pub/data/noaa/isd-lite/2020\n"
     ]
    },
    {
     "name": "stderr",
     "output_type": "stream",
     "text": [
      "\r",
      " 18%|█▊        | 152/844 [03:48<20:25,  1.77s/it]"
     ]
    },
    {
     "name": "stdout",
     "output_type": "stream",
     "text": [
      "data/ISD/722686-23008-2020.gz missing for Cannon Air Force Base\n"
     ]
    },
    {
     "name": "stdout",
     "output_type": "stream",
     "text": [
      "/pub/data/noaa/isd-lite/2020\n"
     ]
    },
    {
     "name": "stderr",
     "output_type": "stream",
     "text": [
      "\r",
      " 18%|█▊        | 153/844 [03:50<20:03,  1.74s/it]"
     ]
    },
    {
     "name": "stdout",
     "output_type": "stream",
     "text": [
      "data/ISD/726465-94890-2020.gz missing for Central Wisconsin Airport\n",
      "/pub/data/noaa/isd-lite/2020\n"
     ]
    },
    {
     "name": "stderr",
     "output_type": "stream",
     "text": [
      "\r",
      " 18%|█▊        | 154/844 [03:51<18:32,  1.61s/it]"
     ]
    },
    {
     "name": "stdout",
     "output_type": "stream",
     "text": [
      "data/ISD/722444-53902-2020.gz missing for Conroe-North Houston Regional Airport\n",
      "/pub/data/noaa/isd-lite/2020\n"
     ]
    },
    {
     "name": "stderr",
     "output_type": "stream",
     "text": [
      "\r",
      " 18%|█▊        | 155/844 [03:53<18:54,  1.65s/it]"
     ]
    },
    {
     "name": "stdout",
     "output_type": "stream",
     "text": [
      "data/ISD/725640-24018-2020.gz missing for Cheyenne Regional Jerry Olson Field\n"
     ]
    },
    {
     "name": "stdout",
     "output_type": "stream",
     "text": [
      "/pub/data/noaa/isd-lite/2020\n"
     ]
    },
    {
     "name": "stderr",
     "output_type": "stream",
     "text": [
      "\r",
      " 18%|█▊        | 156/844 [03:55<20:23,  1.78s/it]"
     ]
    },
    {
     "name": "stdout",
     "output_type": "stream",
     "text": [
      "data/ISD/724037-93728-2020.gz missing for Davison Army Air Field\n",
      "/pub/data/noaa/isd-lite/2020\n"
     ]
    },
    {
     "name": "stderr",
     "output_type": "stream",
     "text": [
      "\r",
      " 19%|█▊        | 157/844 [03:57<20:48,  1.82s/it]"
     ]
    },
    {
     "name": "stdout",
     "output_type": "stream",
     "text": [
      "data/ISD/747870-12834-2020.gz missing for Daytona Beach International Airport\n"
     ]
    },
    {
     "name": "stdout",
     "output_type": "stream",
     "text": [
      "/pub/data/noaa/isd-lite/2020\n"
     ]
    },
    {
     "name": "stderr",
     "output_type": "stream",
     "text": [
      "\r",
      " 19%|█▊        | 158/844 [03:58<20:10,  1.76s/it]"
     ]
    },
    {
     "name": "stdout",
     "output_type": "stream",
     "text": [
      "data/ISD/723815-23161-2020.gz missing for Barstow Daggett Airport\n",
      "/pub/data/noaa/isd-lite/2020\n"
     ]
    },
    {
     "name": "stderr",
     "output_type": "stream",
     "text": [
      "\r",
      " 19%|█▉        | 159/844 [04:00<18:59,  1.66s/it]"
     ]
    },
    {
     "name": "stdout",
     "output_type": "stream",
     "text": [
      "data/ISD/722580-13960-2020.gz missing for Dallas Love Field\n",
      "/pub/data/noaa/isd-lite/2020\n"
     ]
    },
    {
     "name": "stderr",
     "output_type": "stream",
     "text": [
      "\r",
      " 19%|█▉        | 160/844 [04:01<18:14,  1.60s/it]"
     ]
    },
    {
     "name": "stdout",
     "output_type": "stream",
     "text": [
      "data/ISD/724106-13728-2020.gz missing for Danville Regional Airport\n",
      "/pub/data/noaa/isd-lite/2020\n"
     ]
    },
    {
     "name": "stderr",
     "output_type": "stream",
     "text": [
      "\r",
      " 19%|█▉        | 161/844 [04:03<18:59,  1.67s/it]"
     ]
    },
    {
     "name": "stdout",
     "output_type": "stream",
     "text": [
      "data/ISD/724290-93815-2020.gz missing for James M Cox Dayton International Airport\n"
     ]
    },
    {
     "name": "stdout",
     "output_type": "stream",
     "text": [
      "/pub/data/noaa/isd-lite/2020\n"
     ]
    },
    {
     "name": "stderr",
     "output_type": "stream",
     "text": [
      "\r",
      " 19%|█▉        | 162/844 [04:05<20:01,  1.76s/it]"
     ]
    },
    {
     "name": "stdout",
     "output_type": "stream",
     "text": [
      "data/ISD/725470-94908-2020.gz missing for Dubuque Regional Airport\n",
      "/pub/data/noaa/isd-lite/2020\n"
     ]
    },
    {
     "name": "stderr",
     "output_type": "stream",
     "text": [
      "\r",
      " 19%|█▉        | 163/844 [04:06<19:06,  1.68s/it]"
     ]
    },
    {
     "name": "stdout",
     "output_type": "stream",
     "text": [
      "data/ISD/724050-13743-2020.gz missing for Ronald Reagan Washington National Airport\n"
     ]
    },
    {
     "name": "stdout",
     "output_type": "stream",
     "text": [
      "/pub/data/noaa/isd-lite/2020\n"
     ]
    },
    {
     "name": "stderr",
     "output_type": "stream",
     "text": [
      "\r",
      " 19%|█▉        | 164/844 [04:08<19:37,  1.73s/it]"
     ]
    },
    {
     "name": "stdout",
     "output_type": "stream",
     "text": [
      "data/ISD/724510-13985-2020.gz missing for Dodge City Regional Airport\n"
     ]
    },
    {
     "name": "stdout",
     "output_type": "stream",
     "text": [
      "/pub/data/noaa/isd-lite/2020\n"
     ]
    },
    {
     "name": "stderr",
     "output_type": "stream",
     "text": [
      "\r",
      " 20%|█▉        | 165/844 [04:10<18:21,  1.62s/it]"
     ]
    },
    {
     "name": "stdout",
     "output_type": "stream",
     "text": [
      "data/ISD/725316-03887-2020.gz missing for Decatur Airport\n",
      "/pub/data/noaa/isd-lite/2020\n"
     ]
    },
    {
     "name": "stderr",
     "output_type": "stream",
     "text": [
      "\r",
      " 20%|█▉        | 166/844 [04:11<17:12,  1.52s/it]"
     ]
    },
    {
     "name": "stdout",
     "output_type": "stream",
     "text": [
      "data/ISD/725650-03017-2020.gz missing for Denver International Airport\n",
      "/pub/data/noaa/isd-lite/2020\n"
     ]
    },
    {
     "name": "stderr",
     "output_type": "stream",
     "text": [
      "\r",
      " 20%|█▉        | 167/844 [04:12<16:36,  1.47s/it]"
     ]
    },
    {
     "name": "stdout",
     "output_type": "stream",
     "text": [
      "data/ISD/725375-14822-2020.gz missing for Coleman A. Young Municipal Airport\n",
      "/pub/data/noaa/isd-lite/2020\n"
     ]
    },
    {
     "name": "stderr",
     "output_type": "stream",
     "text": [
      "\r",
      " 20%|█▉        | 168/844 [04:14<18:07,  1.61s/it]"
     ]
    },
    {
     "name": "stdout",
     "output_type": "stream",
     "text": [
      "data/ISD/722590-03927-2020.gz missing for Dallas Fort Worth International Airport\n",
      "/pub/data/noaa/isd-lite/2020\n"
     ]
    },
    {
     "name": "stderr",
     "output_type": "stream",
     "text": [
      "\r",
      " 20%|██        | 169/844 [04:16<19:14,  1.71s/it]"
     ]
    },
    {
     "name": "stdout",
     "output_type": "stream",
     "text": [
      "data/ISD/722268-13839-2020.gz missing for Dothan Regional Airport\n"
     ]
    },
    {
     "name": "stdout",
     "output_type": "stream",
     "text": [
      "/pub/data/noaa/isd-lite/2020\n"
     ]
    },
    {
     "name": "stderr",
     "output_type": "stream",
     "text": [
      "\r",
      " 20%|██        | 170/844 [04:17<18:02,  1.61s/it]"
     ]
    },
    {
     "name": "stdout",
     "output_type": "stream",
     "text": [
      "data/ISD/747360-93042-2020.gz missing for Dalhart Municipal Airport\n",
      "/pub/data/noaa/isd-lite/2020\n"
     ]
    },
    {
     "name": "stderr",
     "output_type": "stream",
     "text": [
      "\r",
      " 20%|██        | 171/844 [04:19<17:19,  1.54s/it]"
     ]
    },
    {
     "name": "stdout",
     "output_type": "stream",
     "text": [
      "data/ISD/727630-24012-2020.gz missing for Dickinson Theodore Roosevelt Regional Airport\n"
     ]
    },
    {
     "name": "stdout",
     "output_type": "stream",
     "text": [
      "/pub/data/noaa/isd-lite/2020\n"
     ]
    },
    {
     "name": "stderr",
     "output_type": "stream",
     "text": [
      "\r",
      " 20%|██        | 172/844 [04:21<17:32,  1.57s/it]"
     ]
    },
    {
     "name": "stdout",
     "output_type": "stream",
     "text": [
      "data/ISD/722615-22001-2020.gz missing for DLF Airport\n"
     ]
    },
    {
     "name": "stdout",
     "output_type": "stream",
     "text": [
      "/pub/data/noaa/isd-lite/2020\n"
     ]
    },
    {
     "name": "stderr",
     "output_type": "stream",
     "text": [
      "\r",
      " 20%|██        | 173/844 [04:22<18:30,  1.65s/it]"
     ]
    },
    {
     "name": "stdout",
     "output_type": "stream",
     "text": [
      "data/ISD/727450-14913-2020.gz missing for Duluth International Airport\n",
      "/pub/data/noaa/isd-lite/2020\n"
     ]
    },
    {
     "name": "stderr",
     "output_type": "stream",
     "text": [
      "\r",
      " 21%|██        | 174/844 [04:24<18:26,  1.65s/it]"
     ]
    },
    {
     "name": "stdout",
     "output_type": "stream",
     "text": [
      "data/ISD/726988-24219-2020.gz missing for Columbia Gorge Regional the Dalles Municipal Airport\n",
      "/pub/data/noaa/isd-lite/2020\n"
     ]
    },
    {
     "name": "stderr",
     "output_type": "stream",
     "text": [
      "\r",
      " 21%|██        | 175/844 [04:25<17:41,  1.59s/it]"
     ]
    },
    {
     "name": "stdout",
     "output_type": "stream",
     "text": [
      "data/ISD/722745-23109-2020.gz missing for Davis Monthan Air Force Base\n",
      "/pub/data/noaa/isd-lite/2020\n"
     ]
    },
    {
     "name": "stderr",
     "output_type": "stream",
     "text": [
      "\r",
      " 21%|██        | 176/844 [04:27<19:11,  1.72s/it]"
     ]
    },
    {
     "name": "stdout",
     "output_type": "stream",
     "text": [
      "data/ISD/722725-23078-2020.gz missing for Deming Municipal Airport\n"
     ]
    },
    {
     "name": "stdout",
     "output_type": "stream",
     "text": [
      "/pub/data/noaa/isd-lite/2020\n"
     ]
    },
    {
     "name": "stderr",
     "output_type": "stream",
     "text": [
      "\r",
      " 21%|██        | 177/844 [04:29<19:34,  1.76s/it]"
     ]
    },
    {
     "name": "stdout",
     "output_type": "stream",
     "text": [
      "data/ISD/722181-13837-2020.gz missing for Daniel Field\n"
     ]
    },
    {
     "name": "stdout",
     "output_type": "stream",
     "text": [
      "/pub/data/noaa/isd-lite/2020\n"
     ]
    },
    {
     "name": "stderr",
     "output_type": "stream",
     "text": [
      "\r",
      " 21%|██        | 178/844 [04:31<18:47,  1.69s/it]"
     ]
    },
    {
     "name": "stdout",
     "output_type": "stream",
     "text": [
      "data/ISD/724088-13707-2020.gz missing for Dover Air Force Base\n"
     ]
    },
    {
     "name": "stdout",
     "output_type": "stream",
     "text": [
      "/pub/data/noaa/isd-lite/2020\n"
     ]
    },
    {
     "name": "stderr",
     "output_type": "stream",
     "text": [
      "\r",
      " 21%|██        | 179/844 [04:33<19:56,  1.80s/it]"
     ]
    },
    {
     "name": "stdout",
     "output_type": "stream",
     "text": [
      "data/ISD/725305-94892-2020.gz missing for Dupage Airport\n",
      "/pub/data/noaa/isd-lite/2020\n"
     ]
    },
    {
     "name": "stderr",
     "output_type": "stream",
     "text": [
      "\r",
      " 21%|██▏       | 180/844 [04:35<19:43,  1.78s/it]"
     ]
    },
    {
     "name": "stdout",
     "output_type": "stream",
     "text": [
      "data/ISD/723870-03160-2020.gz missing for Desert Rock Airport\n"
     ]
    },
    {
     "name": "stdout",
     "output_type": "stream",
     "text": [
      "/pub/data/noaa/isd-lite/2020\n"
     ]
    },
    {
     "name": "stderr",
     "output_type": "stream",
     "text": [
      "\r",
      " 21%|██▏       | 181/844 [04:37<20:34,  1.86s/it]"
     ]
    },
    {
     "name": "stdout",
     "output_type": "stream",
     "text": [
      "data/ISD/722334-03976-2020.gz missing for Beauregard Regional Airport\n"
     ]
    },
    {
     "name": "stdout",
     "output_type": "stream",
     "text": [
      "/pub/data/noaa/isd-lite/2020\n"
     ]
    },
    {
     "name": "stderr",
     "output_type": "stream",
     "text": [
      "\r",
      " 22%|██▏       | 182/844 [04:38<19:48,  1.79s/it]"
     ]
    },
    {
     "name": "stdout",
     "output_type": "stream",
     "text": [
      "data/ISD/722610-22010-2020.gz missing for Del Rio International Airport\n"
     ]
    },
    {
     "name": "stdout",
     "output_type": "stream",
     "text": [
      "/pub/data/noaa/isd-lite/2020\n"
     ]
    },
    {
     "name": "stderr",
     "output_type": "stream",
     "text": [
      "\r",
      " 22%|██▏       | 183/844 [04:40<20:36,  1.87s/it]"
     ]
    },
    {
     "name": "stdout",
     "output_type": "stream",
     "text": [
      "data/ISD/725460-14933-2020.gz missing for Des Moines International Airport\n",
      "/pub/data/noaa/isd-lite/2020\n"
     ]
    },
    {
     "name": "stderr",
     "output_type": "stream",
     "text": [
      "\r",
      " 22%|██▏       | 184/844 [04:42<19:51,  1.81s/it]"
     ]
    },
    {
     "name": "stdout",
     "output_type": "stream",
     "text": [
      "data/ISD/725370-94847-2020.gz missing for Detroit Metropolitan Wayne County Airport\n",
      "/pub/data/noaa/isd-lite/2020\n"
     ]
    },
    {
     "name": "stderr",
     "output_type": "stream",
     "text": [
      "\r",
      " 22%|██▏       | 185/844 [04:44<20:14,  1.84s/it]"
     ]
    },
    {
     "name": "stdout",
     "output_type": "stream",
     "text": [
      "data/ISD/722720-93026-2020.gz missing for Bisbee Douglas International Airport\n"
     ]
    },
    {
     "name": "stdout",
     "output_type": "stream",
     "text": [
      "/pub/data/noaa/isd-lite/2020\n"
     ]
    },
    {
     "name": "stderr",
     "output_type": "stream",
     "text": [
      "\r",
      " 22%|██▏       | 186/844 [04:45<18:31,  1.69s/it]"
     ]
    },
    {
     "name": "stdout",
     "output_type": "stream",
     "text": [
      "data/ISD/725125-04787-2020.gz missing for DuBois Regional Airport\n"
     ]
    },
    {
     "name": "stdout",
     "output_type": "stream",
     "text": [
      "/pub/data/noaa/isd-lite/2020\n"
     ]
    },
    {
     "name": "stderr",
     "output_type": "stream",
     "text": [
      "\r",
      " 22%|██▏       | 187/844 [04:47<18:28,  1.69s/it]"
     ]
    },
    {
     "name": "stdout",
     "output_type": "stream",
     "text": [
      "data/ISD/720965-13910-2020.gz missing for Dyess Air Force Base\n",
      "/pub/data/noaa/isd-lite/2020\n"
     ]
    },
    {
     "name": "stderr",
     "output_type": "stream",
     "text": [
      "\r",
      " 22%|██▏       | 188/844 [04:48<17:48,  1.63s/it]"
     ]
    },
    {
     "name": "stdout",
     "output_type": "stream",
     "text": [
      "data/ISD/727825-94239-2020.gz missing for Pangborn Memorial Airport\n",
      "/pub/data/noaa/isd-lite/2020\n"
     ]
    },
    {
     "name": "stderr",
     "output_type": "stream",
     "text": [
      "\r",
      " 22%|██▏       | 189/844 [04:50<17:08,  1.57s/it]"
     ]
    },
    {
     "name": "stdout",
     "output_type": "stream",
     "text": [
      "data/ISD/726435-14991-2020.gz missing for Chippewa Valley Regional Airport\n"
     ]
    },
    {
     "name": "stdout",
     "output_type": "stream",
     "text": [
      "/pub/data/noaa/isd-lite/2020\n"
     ]
    },
    {
     "name": "stderr",
     "output_type": "stream",
     "text": [
      "\r",
      " 23%|██▎       | 190/844 [04:52<17:40,  1.62s/it]"
     ]
    },
    {
     "name": "stdout",
     "output_type": "stream",
     "text": [
      "data/ISD/723070-13786-2020.gz missing for Elizabeth City Regional Airport & Coast Guard Air Station\n",
      "/pub/data/noaa/isd-lite/2020\n"
     ]
    },
    {
     "name": "stderr",
     "output_type": "stream",
     "text": [
      "\r",
      " 23%|██▎       | 191/844 [04:54<18:22,  1.69s/it]"
     ]
    },
    {
     "name": "stdout",
     "output_type": "stream",
     "text": [
      "data/ISD/720735-73805-2020.gz missing for Northwest Florida Beaches International Airport\n"
     ]
    },
    {
     "name": "stdout",
     "output_type": "stream",
     "text": [
      "/pub/data/noaa/isd-lite/2020\n"
     ]
    },
    {
     "name": "stderr",
     "output_type": "stream",
     "text": [
      "\r",
      " 23%|██▎       | 192/844 [04:55<17:30,  1.61s/it]"
     ]
    },
    {
     "name": "stdout",
     "output_type": "stream",
     "text": [
      "data/ISD/723810-23114-2020.gz missing for Edwards Air Force Base\n",
      "/pub/data/noaa/isd-lite/2020\n"
     ]
    },
    {
     "name": "stderr",
     "output_type": "stream",
     "text": [
      "\r",
      " 23%|██▎       | 193/844 [04:57<17:39,  1.63s/it]"
     ]
    },
    {
     "name": "stdout",
     "output_type": "stream",
     "text": [
      "data/ISD/723805-23179-2020.gz missing for Needles Airport\n",
      "/pub/data/noaa/isd-lite/2020\n"
     ]
    },
    {
     "name": "stderr",
     "output_type": "stream",
     "text": [
      "\r",
      " 23%|██▎       | 194/844 [04:58<17:17,  1.60s/it]"
     ]
    },
    {
     "name": "stdout",
     "output_type": "stream",
     "text": [
      "data/ISD/726165-94721-2020.gz missing for Dillant Hopkins Airport\n",
      "/pub/data/noaa/isd-lite/2020\n"
     ]
    },
    {
     "name": "stderr",
     "output_type": "stream",
     "text": [
      "\r",
      " 23%|██▎       | 195/844 [05:00<17:41,  1.64s/it]"
     ]
    },
    {
     "name": "stdout",
     "output_type": "stream",
     "text": [
      "data/ISD/722300-53864-2020.gz missing for Shelby County Airport\n"
     ]
    },
    {
     "name": "stdout",
     "output_type": "stream",
     "text": [
      "/pub/data/noaa/isd-lite/2020\n"
     ]
    },
    {
     "name": "stderr",
     "output_type": "stream",
     "text": [
      "\r",
      " 23%|██▎       | 196/844 [05:02<18:23,  1.70s/it]"
     ]
    },
    {
     "name": "stdout",
     "output_type": "stream",
     "text": [
      "data/ISD/722436-12906-2020.gz missing for Ellington Airport\n",
      "/pub/data/noaa/isd-lite/2020\n"
     ]
    },
    {
     "name": "stderr",
     "output_type": "stream",
     "text": [
      "\r",
      " 23%|██▎       | 197/844 [05:03<17:28,  1.62s/it]"
     ]
    },
    {
     "name": "stdout",
     "output_type": "stream",
     "text": [
      "data/ISD/724675-23063-2020.gz missing for Eagle County Regional Airport\n",
      "/pub/data/noaa/isd-lite/2020\n"
     ]
    },
    {
     "name": "stderr",
     "output_type": "stream",
     "text": [
      "\r",
      " 23%|██▎       | 198/844 [05:05<16:56,  1.57s/it]"
     ]
    },
    {
     "name": "stdout",
     "output_type": "stream",
     "text": [
      "data/ISD/722246-03844-2020.gz missing for Duke Field\n",
      "/pub/data/noaa/isd-lite/2020\n"
     ]
    },
    {
     "name": "stderr",
     "output_type": "stream",
     "text": [
      "\r",
      " 24%|██▎       | 199/844 [05:07<18:38,  1.73s/it]"
     ]
    },
    {
     "name": "stdout",
     "output_type": "stream",
     "text": [
      "data/ISD/725940-24213-2020.gz missing for Murray Field\n",
      "/pub/data/noaa/isd-lite/2020\n"
     ]
    },
    {
     "name": "stderr",
     "output_type": "stream",
     "text": [
      "\r",
      " 24%|██▎       | 200/844 [05:08<15:55,  1.48s/it]"
     ]
    },
    {
     "name": "stdout",
     "output_type": "stream",
     "text": [
      "data/ISD/724170-13729-2020.gz missing for Elkins-Randolph Co-Jennings Randolph Field\n"
     ]
    },
    {
     "name": "stdout",
     "output_type": "stream",
     "text": [
      "/pub/data/noaa/isd-lite/2020\n"
     ]
    },
    {
     "name": "stderr",
     "output_type": "stream",
     "text": [
      "\r",
      " 24%|██▍       | 201/844 [05:09<16:15,  1.52s/it]"
     ]
    },
    {
     "name": "stdout",
     "output_type": "stream",
     "text": [
      "data/ISD/725825-24121-2020.gz missing for Elko Regional Airport\n",
      "/pub/data/noaa/isd-lite/2020\n"
     ]
    },
    {
     "name": "stderr",
     "output_type": "stream",
     "text": [
      "\r",
      " 24%|██▍       | 202/844 [05:11<18:29,  1.73s/it]"
     ]
    },
    {
     "name": "stdout",
     "output_type": "stream",
     "text": [
      "data/ISD/723419-93992-2020.gz missing for South Arkansas Regional At Goodwin Field\n",
      "/pub/data/noaa/isd-lite/2020\n"
     ]
    },
    {
     "name": "stderr",
     "output_type": "stream",
     "text": [
      "\r",
      " 24%|██▍       | 203/844 [05:13<19:09,  1.79s/it]"
     ]
    },
    {
     "name": "stdout",
     "output_type": "stream",
     "text": [
      "data/ISD/725156-14748-2020.gz missing for Elmira Corning Regional Airport\n",
      "/pub/data/noaa/isd-lite/2020\n"
     ]
    },
    {
     "name": "stderr",
     "output_type": "stream",
     "text": [
      "\r",
      " 24%|██▍       | 204/844 [05:15<19:16,  1.81s/it]"
     ]
    },
    {
     "name": "stdout",
     "output_type": "stream",
     "text": [
      "data/ISD/727459-94964-2020.gz missing for Ely Municipal Airport\n",
      "/pub/data/noaa/isd-lite/2020\n"
     ]
    },
    {
     "name": "stderr",
     "output_type": "stream",
     "text": [
      "\r",
      " 24%|██▍       | 205/844 [05:16<17:32,  1.65s/it]"
     ]
    },
    {
     "name": "stdout",
     "output_type": "stream",
     "text": [
      "data/ISD/722700-23044-2020.gz missing for El Paso International Airport\n",
      "/pub/data/noaa/isd-lite/2020\n"
     ]
    },
    {
     "name": "stderr",
     "output_type": "stream",
     "text": [
      "\r",
      " 24%|██▍       | 206/844 [05:18<16:51,  1.59s/it]"
     ]
    },
    {
     "name": "stdout",
     "output_type": "stream",
     "text": [
      "data/ISD/724860-23154-2020.gz missing for Ely Airport Yelland Field\n",
      "/pub/data/noaa/isd-lite/2020\n"
     ]
    },
    {
     "name": "stderr",
     "output_type": "stream",
     "text": [
      "\r",
      " 25%|██▍       | 207/844 [05:19<16:33,  1.56s/it]"
     ]
    },
    {
     "name": "stdout",
     "output_type": "stream",
     "text": [
      "data/ISD/723535-13909-2020.gz missing for Vance Air Force Base\n",
      "/pub/data/noaa/isd-lite/2020\n"
     ]
    },
    {
     "name": "stderr",
     "output_type": "stream",
     "text": [
      "\r",
      " 25%|██▍       | 208/844 [05:21<17:27,  1.65s/it]"
     ]
    },
    {
     "name": "stdout",
     "output_type": "stream",
     "text": [
      "data/ISD/725810-24193-2020.gz missing for Wendover Airport\n",
      "/pub/data/noaa/isd-lite/2020\n"
     ]
    },
    {
     "name": "stderr",
     "output_type": "stream",
     "text": [
      "\r",
      " 25%|██▍       | 209/844 [05:23<18:02,  1.70s/it]"
     ]
    },
    {
     "name": "stdout",
     "output_type": "stream",
     "text": [
      "data/ISD/726505-04845-2020.gz missing for Kenosha Regional Airport\n",
      "/pub/data/noaa/isd-lite/2020\n"
     ]
    },
    {
     "name": "stderr",
     "output_type": "stream",
     "text": [
      "\r",
      " 25%|██▍       | 210/844 [05:25<18:43,  1.77s/it]"
     ]
    },
    {
     "name": "stdout",
     "output_type": "stream",
     "text": [
      "data/ISD/725260-14860-2020.gz missing for Erie International Tom Ridge Field\n"
     ]
    },
    {
     "name": "stdout",
     "output_type": "stream",
     "text": [
      "/pub/data/noaa/isd-lite/2020\n"
     ]
    },
    {
     "name": "stderr",
     "output_type": "stream",
     "text": [
      "\r",
      " 25%|██▌       | 211/844 [05:27<17:56,  1.70s/it]"
     ]
    },
    {
     "name": "stdout",
     "output_type": "stream",
     "text": [
      "data/ISD/722487-13935-2020.gz missing for Esler Regional Airport\n"
     ]
    },
    {
     "name": "stdout",
     "output_type": "stream",
     "text": [
      "/pub/data/noaa/isd-lite/2020\n"
     ]
    },
    {
     "name": "stderr",
     "output_type": "stream",
     "text": [
      "\r",
      " 25%|██▌       | 212/844 [05:28<17:33,  1.67s/it]"
     ]
    },
    {
     "name": "stdout",
     "output_type": "stream",
     "text": [
      "data/ISD/726930-24221-2020.gz missing for Mahlon Sweet Field\n",
      "/pub/data/noaa/isd-lite/2020\n"
     ]
    },
    {
     "name": "stderr",
     "output_type": "stream",
     "text": [
      "\r",
      " 25%|██▌       | 213/844 [05:30<17:36,  1.67s/it]"
     ]
    },
    {
     "name": "stdout",
     "output_type": "stream",
     "text": [
      "data/ISD/724320-93817-2020.gz missing for Evansville Regional Airport\n"
     ]
    },
    {
     "name": "stdout",
     "output_type": "stream",
     "text": [
      "/pub/data/noaa/isd-lite/2020\n"
     ]
    },
    {
     "name": "stderr",
     "output_type": "stream",
     "text": [
      "\r",
      " 25%|██▌       | 214/844 [05:32<17:31,  1.67s/it]"
     ]
    },
    {
     "name": "stdout",
     "output_type": "stream",
     "text": [
      "data/ISD/725775-04111-2020.gz missing for Evanston-Uinta County Airport-Burns Field\n",
      "/pub/data/noaa/isd-lite/2020\n"
     ]
    },
    {
     "name": "stderr",
     "output_type": "stream",
     "text": [
      "\r",
      " 25%|██▌       | 215/844 [05:34<18:40,  1.78s/it]"
     ]
    },
    {
     "name": "stdout",
     "output_type": "stream",
     "text": [
      "data/ISD/725065-94726-2020.gz missing for New Bedford Regional Airport\n",
      "/pub/data/noaa/isd-lite/2020\n"
     ]
    },
    {
     "name": "stderr",
     "output_type": "stream",
     "text": [
      "\r",
      " 26%|██▌       | 216/844 [05:35<18:31,  1.77s/it]"
     ]
    },
    {
     "name": "stdout",
     "output_type": "stream",
     "text": [
      "data/ISD/723095-93719-2020.gz missing for Coastal Carolina Regional Airport\n",
      "/pub/data/noaa/isd-lite/2020\n"
     ]
    },
    {
     "name": "stderr",
     "output_type": "stream",
     "text": [
      "\r",
      " 26%|██▌       | 217/844 [05:37<18:44,  1.79s/it]"
     ]
    },
    {
     "name": "stdout",
     "output_type": "stream",
     "text": [
      "data/ISD/725020-14734-2020.gz missing for Newark Liberty International Airport\n",
      "/pub/data/noaa/isd-lite/2020\n"
     ]
    },
    {
     "name": "stderr",
     "output_type": "stream",
     "text": [
      "\r",
      " 26%|██▌       | 218/844 [05:39<18:09,  1.74s/it]"
     ]
    },
    {
     "name": "stdout",
     "output_type": "stream",
     "text": [
      "data/ISD/722010-12836-2020.gz missing for Key West International Airport\n",
      "/pub/data/noaa/isd-lite/2020\n"
     ]
    },
    {
     "name": "stderr",
     "output_type": "stream",
     "text": [
      "\r",
      " 26%|██▌       | 219/844 [05:41<18:46,  1.80s/it]"
     ]
    },
    {
     "name": "stdout",
     "output_type": "stream",
     "text": [
      "data/ISD/723087-93735-2020.gz missing for Felker Army Air Field\n"
     ]
    },
    {
     "name": "stdout",
     "output_type": "stream",
     "text": [
      "/pub/data/noaa/isd-lite/2020\n"
     ]
    },
    {
     "name": "stderr",
     "output_type": "stream",
     "text": [
      "\r",
      " 26%|██▌       | 220/844 [05:43<19:36,  1.89s/it]"
     ]
    },
    {
     "name": "stdout",
     "output_type": "stream",
     "text": [
      "data/ISD/727530-14914-2020.gz missing for Hector International Airport\n",
      "/pub/data/noaa/isd-lite/2020\n"
     ]
    },
    {
     "name": "stderr",
     "output_type": "stream",
     "text": [
      "\r",
      " 26%|██▌       | 221/844 [05:45<19:27,  1.87s/it]"
     ]
    },
    {
     "name": "stdout",
     "output_type": "stream",
     "text": [
      "data/ISD/723890-93193-2020.gz missing for Fresno Yosemite International Airport\n",
      "/pub/data/noaa/isd-lite/2020\n"
     ]
    },
    {
     "name": "stderr",
     "output_type": "stream",
     "text": [
      "\r",
      " 26%|██▋       | 222/844 [05:47<19:32,  1.88s/it]"
     ]
    },
    {
     "name": "stdout",
     "output_type": "stream",
     "text": [
      "data/ISD/723035-93740-2020.gz missing for Fayetteville Regional Grannis Field\n"
     ]
    },
    {
     "name": "stdout",
     "output_type": "stream",
     "text": [
      "/pub/data/noaa/isd-lite/2020\n"
     ]
    },
    {
     "name": "stderr",
     "output_type": "stream",
     "text": [
      "\r",
      " 26%|██▋       | 223/844 [05:48<19:05,  1.85s/it]"
     ]
    },
    {
     "name": "stdout",
     "output_type": "stream",
     "text": [
      "data/ISD/746930-93737-2020.gz missing for Simmons Army Air Field\n",
      "/pub/data/noaa/isd-lite/2020\n"
     ]
    },
    {
     "name": "stderr",
     "output_type": "stream",
     "text": [
      "\r",
      " 27%|██▋       | 224/844 [05:50<18:42,  1.81s/it]"
     ]
    },
    {
     "name": "stdout",
     "output_type": "stream",
     "text": [
      "data/ISD/724680-94015-2020.gz missing for Butts AAF (Fort Carson) Air Field\n"
     ]
    },
    {
     "name": "stdout",
     "output_type": "stream",
     "text": [
      "/pub/data/noaa/isd-lite/2020\n"
     ]
    },
    {
     "name": "stderr",
     "output_type": "stream",
     "text": [
      "\r",
      " 27%|██▋       | 225/844 [05:52<20:02,  1.94s/it]"
     ]
    },
    {
     "name": "stdout",
     "output_type": "stream",
     "text": [
      "data/ISD/725366-14825-2020.gz missing for Findlay Airport\n"
     ]
    },
    {
     "name": "stdout",
     "output_type": "stream",
     "text": [
      "/pub/data/noaa/isd-lite/2020\n"
     ]
    },
    {
     "name": "stderr",
     "output_type": "stream",
     "text": [
      "\r",
      " 27%|██▋       | 226/844 [05:54<20:01,  1.94s/it]"
     ]
    },
    {
     "name": "stdout",
     "output_type": "stream",
     "text": [
      "data/ISD/745700-13840-2020.gz missing for Wright-Patterson Air Force Base\n"
     ]
    },
    {
     "name": "stdout",
     "output_type": "stream",
     "text": [
      "/pub/data/noaa/isd-lite/2020\n"
     ]
    },
    {
     "name": "stderr",
     "output_type": "stream",
     "text": [
      "\r",
      " 27%|██▋       | 227/844 [05:56<20:18,  1.98s/it]"
     ]
    },
    {
     "name": "stdout",
     "output_type": "stream",
     "text": [
      "data/ISD/722730-03124-2020.gz missing for Sierra Vista Municipal Airport / Libby Army Air Field\n"
     ]
    },
    {
     "name": "stdout",
     "output_type": "stream",
     "text": [
      "/pub/data/noaa/isd-lite/2020\n"
     ]
    },
    {
     "name": "stderr",
     "output_type": "stream",
     "text": [
      "\r",
      " 27%|██▋       | 228/844 [05:58<20:55,  2.04s/it]"
     ]
    },
    {
     "name": "stdout",
     "output_type": "stream",
     "text": [
      "data/ISD/725267-94868-2020.gz missing for Venango Regional Airport\n",
      "/pub/data/noaa/isd-lite/2020\n"
     ]
    },
    {
     "name": "stderr",
     "output_type": "stream",
     "text": [
      "\r",
      " 27%|██▋       | 229/844 [06:00<20:11,  1.97s/it]"
     ]
    },
    {
     "name": "stdout",
     "output_type": "stream",
     "text": [
      "data/ISD/723750-03103-2020.gz missing for Flagstaff Pulliam Airport\n"
     ]
    },
    {
     "name": "stdout",
     "output_type": "stream",
     "text": [
      "/pub/data/noaa/isd-lite/2020\n"
     ]
    },
    {
     "name": "stderr",
     "output_type": "stream",
     "text": [
      "\r",
      " 27%|██▋       | 230/844 [06:02<19:45,  1.93s/it]"
     ]
    },
    {
     "name": "stdout",
     "output_type": "stream",
     "text": [
      "data/ISD/747830-12849-2020.gz missing for Fort Lauderdale Hollywood International Airport\n"
     ]
    },
    {
     "name": "stdout",
     "output_type": "stream",
     "text": [
      "/pub/data/noaa/isd-lite/2020\n"
     ]
    },
    {
     "name": "stderr",
     "output_type": "stream",
     "text": [
      "\r",
      " 27%|██▋       | 231/844 [06:04<19:08,  1.87s/it]"
     ]
    },
    {
     "name": "stdout",
     "output_type": "stream",
     "text": [
      "data/ISD/723106-13744-2020.gz missing for Florence Regional Airport\n"
     ]
    },
    {
     "name": "stdout",
     "output_type": "stream",
     "text": [
      "/pub/data/noaa/isd-lite/2020\n"
     ]
    },
    {
     "name": "stderr",
     "output_type": "stream",
     "text": [
      "\r",
      " 27%|██▋       | 232/844 [06:06<19:29,  1.91s/it]"
     ]
    },
    {
     "name": "stdout",
     "output_type": "stream",
     "text": [
      "data/ISD/724065-99999-2020.gz missing for Tipton Airport\n",
      "/pub/data/noaa/isd-lite/2020\n"
     ]
    },
    {
     "name": "stderr",
     "output_type": "stream",
     "text": [
      "\r",
      " 28%|██▊       | 233/844 [06:07<17:31,  1.72s/it]"
     ]
    },
    {
     "name": "stdout",
     "output_type": "stream",
     "text": [
      "data/ISD/723658-23090-2020.gz missing for Four Corners Regional Airport\n"
     ]
    },
    {
     "name": "stdout",
     "output_type": "stream",
     "text": [
      "/pub/data/noaa/isd-lite/2020\n"
     ]
    },
    {
     "name": "stderr",
     "output_type": "stream",
     "text": [
      "\r",
      " 28%|██▊       | 234/844 [06:09<17:25,  1.71s/it]"
     ]
    },
    {
     "name": "stdout",
     "output_type": "stream",
     "text": [
      "data/ISD/722106-12835-2020.gz missing for Page Field\n",
      "/pub/data/noaa/isd-lite/2020\n"
     ]
    },
    {
     "name": "stderr",
     "output_type": "stream",
     "text": [
      "\r",
      " 28%|██▊       | 235/844 [06:11<18:32,  1.83s/it]"
     ]
    },
    {
     "name": "stdout",
     "output_type": "stream",
     "text": [
      "data/ISD/726370-14826-2020.gz missing for Bishop International Airport\n"
     ]
    },
    {
     "name": "stdout",
     "output_type": "stream",
     "text": [
      "/pub/data/noaa/isd-lite/2020\n"
     ]
    },
    {
     "name": "stderr",
     "output_type": "stream",
     "text": [
      "\r",
      " 28%|██▊       | 236/844 [06:13<18:34,  1.83s/it]"
     ]
    },
    {
     "name": "stdout",
     "output_type": "stream",
     "text": [
      "data/ISD/725490-94933-2020.gz missing for Fort Dodge Regional Airport\n"
     ]
    },
    {
     "name": "stdout",
     "output_type": "stream",
     "text": [
      "/pub/data/noaa/isd-lite/2020\n"
     ]
    },
    {
     "name": "stderr",
     "output_type": "stream",
     "text": [
      "\r",
      " 28%|██▊       | 237/844 [06:15<18:19,  1.81s/it]"
     ]
    },
    {
     "name": "stdout",
     "output_type": "stream",
     "text": [
      "data/ISD/724565-13920-2020.gz missing for Topeka Regional Airport - Forbes Field\n",
      "/pub/data/noaa/isd-lite/2020\n"
     ]
    },
    {
     "name": "stderr",
     "output_type": "stream",
     "text": [
      "\r",
      " 28%|██▊       | 238/844 [06:16<17:55,  1.78s/it]"
     ]
    },
    {
     "name": "stdout",
     "output_type": "stream",
     "text": [
      "data/ISD/722103-12895-2020.gz missing for St Lucie County International Airport\n",
      "/pub/data/noaa/isd-lite/2020\n"
     ]
    },
    {
     "name": "stderr",
     "output_type": "stream",
     "text": [
      "\r",
      " 28%|██▊       | 239/844 [06:18<17:33,  1.74s/it]"
     ]
    },
    {
     "name": "stdout",
     "output_type": "stream",
     "text": [
      "data/ISD/744864-54787-2020.gz missing for Republic Airport\n"
     ]
    },
    {
     "name": "stdout",
     "output_type": "stream",
     "text": [
      "/pub/data/noaa/isd-lite/2020\n"
     ]
    },
    {
     "name": "stderr",
     "output_type": "stream",
     "text": [
      "\r",
      " 28%|██▊       | 240/844 [06:20<17:32,  1.74s/it]"
     ]
    },
    {
     "name": "stdout",
     "output_type": "stream",
     "text": [
      "data/ISD/724550-13947-2020.gz missing for Marshall Army Air Field\n",
      "/pub/data/noaa/isd-lite/2020\n"
     ]
    },
    {
     "name": "stderr",
     "output_type": "stream",
     "text": [
      "\r",
      " 29%|██▊       | 241/844 [06:22<18:07,  1.80s/it]"
     ]
    },
    {
     "name": "stdout",
     "output_type": "stream",
     "text": [
      "data/ISD/726510-14944-2020.gz missing for Joe Foss Field Airport\n"
     ]
    },
    {
     "name": "stdout",
     "output_type": "stream",
     "text": [
      "/pub/data/noaa/isd-lite/2020\n"
     ]
    },
    {
     "name": "stderr",
     "output_type": "stream",
     "text": [
      "\r",
      " 29%|██▊       | 242/844 [06:23<18:12,  1.82s/it]"
     ]
    },
    {
     "name": "stdout",
     "output_type": "stream",
     "text": [
      "data/ISD/723550-13945-2020.gz missing for Henry Post Army Air Field (Fort Sill)\n"
     ]
    },
    {
     "name": "stdout",
     "output_type": "stream",
     "text": [
      "/pub/data/noaa/isd-lite/2020\n"
     ]
    },
    {
     "name": "stderr",
     "output_type": "stream",
     "text": [
      "\r",
      " 29%|██▉       | 243/844 [06:25<17:41,  1.77s/it]"
     ]
    },
    {
     "name": "stdout",
     "output_type": "stream",
     "text": [
      "data/ISD/723440-13964-2020.gz missing for Fort Smith Regional Airport\n",
      "/pub/data/noaa/isd-lite/2020\n"
     ]
    },
    {
     "name": "stderr",
     "output_type": "stream",
     "text": [
      "\r",
      " 29%|██▉       | 244/844 [06:27<18:46,  1.88s/it]"
     ]
    },
    {
     "name": "stdout",
     "output_type": "stream",
     "text": [
      "data/ISD/722618-23091-2020.gz missing for Fort Stockton Pecos County Airport\n"
     ]
    },
    {
     "name": "stdout",
     "output_type": "stream",
     "text": [
      "/pub/data/noaa/isd-lite/2020\n"
     ]
    },
    {
     "name": "stderr",
     "output_type": "stream",
     "text": [
      "\r",
      " 29%|██▉       | 245/844 [06:29<18:40,  1.87s/it]"
     ]
    },
    {
     "name": "stdout",
     "output_type": "stream",
     "text": [
      "data/ISD/724240-13807-2020.gz missing for Godman Army Air Field\n",
      "/pub/data/noaa/isd-lite/2020\n"
     ]
    },
    {
     "name": "stderr",
     "output_type": "stream",
     "text": [
      "\r",
      " 29%|██▉       | 246/844 [06:31<17:54,  1.80s/it]"
     ]
    },
    {
     "name": "stdout",
     "output_type": "stream",
     "text": [
      "data/ISD/747390-13961-2020.gz missing for Fort Worth Meacham International Airport\n"
     ]
    },
    {
     "name": "stdout",
     "output_type": "stream",
     "text": [
      "/pub/data/noaa/isd-lite/2020\n"
     ]
    },
    {
     "name": "stderr",
     "output_type": "stream",
     "text": [
      "\r",
      " 29%|██▉       | 247/844 [06:33<18:58,  1.91s/it]"
     ]
    },
    {
     "name": "stdout",
     "output_type": "stream",
     "text": [
      "data/ISD/722195-03888-2020.gz missing for Fulton County Airport Brown Field\n",
      "/pub/data/noaa/isd-lite/2020\n"
     ]
    },
    {
     "name": "stderr",
     "output_type": "stream",
     "text": [
      "\r",
      " 29%|██▉       | 248/844 [06:35<19:01,  1.91s/it]"
     ]
    },
    {
     "name": "stdout",
     "output_type": "stream",
     "text": [
      "data/ISD/725330-14827-2020.gz missing for Fort Wayne International Airport\n"
     ]
    },
    {
     "name": "stdout",
     "output_type": "stream",
     "text": [
      "/pub/data/noaa/isd-lite/2020\n"
     ]
    },
    {
     "name": "stderr",
     "output_type": "stream",
     "text": [
      "\r",
      " 30%|██▉       | 249/844 [06:37<19:23,  1.95s/it]"
     ]
    },
    {
     "name": "stdout",
     "output_type": "stream",
     "text": [
      "data/ISD/722039-12885-2020.gz missing for Fort Lauderdale Executive Airport\n"
     ]
    },
    {
     "name": "stdout",
     "output_type": "stream",
     "text": [
      "/pub/data/noaa/isd-lite/2020\n"
     ]
    },
    {
     "name": "stderr",
     "output_type": "stream",
     "text": [
      "\r",
      " 30%|██▉       | 250/844 [06:39<19:40,  1.99s/it]"
     ]
    },
    {
     "name": "stdout",
     "output_type": "stream",
     "text": [
      "data/ISD/723445-93993-2020.gz missing for Drake Field\n",
      "/pub/data/noaa/isd-lite/2020\n"
     ]
    },
    {
     "name": "stderr",
     "output_type": "stream",
     "text": [
      "\r",
      " 30%|██▉       | 251/844 [06:42<24:22,  2.47s/it]"
     ]
    },
    {
     "name": "stdout",
     "output_type": "stream",
     "text": [
      "data/ISD/726650-94023-2020.gz missing for Gillette Campbell County Airport\n",
      "/pub/data/noaa/isd-lite/2020\n"
     ]
    },
    {
     "name": "stderr",
     "output_type": "stream",
     "text": [
      "\r",
      " 30%|██▉       | 252/844 [06:44<22:08,  2.24s/it]"
     ]
    },
    {
     "name": "stdout",
     "output_type": "stream",
     "text": [
      "data/ISD/724515-23064-2020.gz missing for Garden City Regional Airport\n"
     ]
    },
    {
     "name": "stdout",
     "output_type": "stream",
     "text": [
      "/pub/data/noaa/isd-lite/2020\n"
     ]
    },
    {
     "name": "stderr",
     "output_type": "stream",
     "text": [
      "\r",
      " 30%|██▉       | 253/844 [06:46<20:55,  2.12s/it]"
     ]
    },
    {
     "name": "stdout",
     "output_type": "stream",
     "text": [
      "data/ISD/723783-03195-2020.gz missing for Grand Canyon National Park Airport\n"
     ]
    },
    {
     "name": "stdout",
     "output_type": "stream",
     "text": [
      "/pub/data/noaa/isd-lite/2020\n"
     ]
    },
    {
     "name": "stderr",
     "output_type": "stream",
     "text": [
      "\r",
      " 30%|███       | 254/844 [06:48<20:24,  2.07s/it]"
     ]
    },
    {
     "name": "stdout",
     "output_type": "stream",
     "text": [
      "data/ISD/726676-24087-2020.gz missing for Dawson Community Airport\n",
      "/pub/data/noaa/isd-lite/2020\n"
     ]
    },
    {
     "name": "stderr",
     "output_type": "stream",
     "text": [
      "\r",
      " 30%|███       | 255/844 [06:50<19:02,  1.94s/it]"
     ]
    },
    {
     "name": "stdout",
     "output_type": "stream",
     "text": [
      "data/ISD/727850-24157-2020.gz missing for Spokane International Airport\n"
     ]
    },
    {
     "name": "stdout",
     "output_type": "stream",
     "text": [
      "/pub/data/noaa/isd-lite/2020\n"
     ]
    },
    {
     "name": "stderr",
     "output_type": "stream",
     "text": [
      "\r",
      " 30%|███       | 256/844 [06:52<19:37,  2.00s/it]"
     ]
    },
    {
     "name": "stdout",
     "output_type": "stream",
     "text": [
      "data/ISD/727570-14916-2020.gz missing for Grand Forks International Airport\n"
     ]
    },
    {
     "name": "stdout",
     "output_type": "stream",
     "text": [
      "/pub/data/noaa/isd-lite/2020\n"
     ]
    },
    {
     "name": "stderr",
     "output_type": "stream",
     "text": [
      "\r",
      " 30%|███       | 257/844 [06:54<20:01,  2.05s/it]"
     ]
    },
    {
     "name": "stdout",
     "output_type": "stream",
     "text": [
      "data/ISD/725220-14750-2020.gz missing for Floyd Bennett Memorial Airport\n",
      "/pub/data/noaa/isd-lite/2020\n"
     ]
    },
    {
     "name": "stderr",
     "output_type": "stream",
     "text": [
      "\r",
      " 31%|███       | 258/844 [06:56<18:47,  1.92s/it]"
     ]
    },
    {
     "name": "stdout",
     "output_type": "stream",
     "text": [
      "data/ISD/722470-03901-2020.gz missing for East Texas Regional Airport\n"
     ]
    },
    {
     "name": "stdout",
     "output_type": "stream",
     "text": [
      "/pub/data/noaa/isd-lite/2020\n"
     ]
    },
    {
     "name": "stderr",
     "output_type": "stream",
     "text": [
      "\r",
      " 31%|███       | 259/844 [06:58<19:07,  1.96s/it]"
     ]
    },
    {
     "name": "stdout",
     "output_type": "stream",
     "text": [
      "data/ISD/727680-94008-2020.gz missing for Wokal Field/Glasgow-Valley County Airport\n"
     ]
    },
    {
     "name": "stdout",
     "output_type": "stream",
     "text": [
      "/pub/data/noaa/isd-lite/2020\n"
     ]
    },
    {
     "name": "stderr",
     "output_type": "stream",
     "text": [
      "\r",
      " 31%|███       | 260/844 [07:00<19:03,  1.96s/it]"
     ]
    },
    {
     "name": "stdout",
     "output_type": "stream",
     "text": [
      "data/ISD/724760-23066-2020.gz missing for Grand Junction Regional Airport\n",
      "/pub/data/noaa/isd-lite/2020\n"
     ]
    },
    {
     "name": "stderr",
     "output_type": "stream",
     "text": [
      "\r",
      " 31%|███       | 261/844 [07:01<17:59,  1.85s/it]"
     ]
    },
    {
     "name": "stdout",
     "output_type": "stream",
     "text": [
      "data/ISD/724650-23065-2020.gz missing for Renner Field-Goodland Municipal Airport\n",
      "/pub/data/noaa/isd-lite/2020\n"
     ]
    },
    {
     "name": "stderr",
     "output_type": "stream",
     "text": [
      "\r",
      " 31%|███       | 262/844 [07:03<18:01,  1.86s/it]"
     ]
    },
    {
     "name": "stdout",
     "output_type": "stream",
     "text": [
      "data/ISD/747680-13939-2020.gz missing for Mid Delta Regional Airport\n",
      "/pub/data/noaa/isd-lite/2020\n"
     ]
    },
    {
     "name": "stderr",
     "output_type": "stream",
     "text": [
      "\r",
      " 31%|███       | 263/844 [07:05<18:32,  1.92s/it]"
     ]
    },
    {
     "name": "stdout",
     "output_type": "stream",
     "text": [
      "data/ISD/722420-12923-2020.gz missing for Scholes International At Galveston Airport\n"
     ]
    },
    {
     "name": "stdout",
     "output_type": "stream",
     "text": [
      "/pub/data/noaa/isd-lite/2020\n"
     ]
    },
    {
     "name": "stderr",
     "output_type": "stream",
     "text": [
      "\r",
      " 31%|███▏      | 264/844 [07:07<17:42,  1.83s/it]"
     ]
    },
    {
     "name": "stdout",
     "output_type": "stream",
     "text": [
      "data/ISD/723119-13886-2020.gz missing for Greenville Downtown Airport\n"
     ]
    },
    {
     "name": "stdout",
     "output_type": "stream",
     "text": [
      "/pub/data/noaa/isd-lite/2020\n"
     ]
    },
    {
     "name": "stderr",
     "output_type": "stream",
     "text": [
      "\r",
      " 31%|███▏      | 265/844 [07:09<18:00,  1.87s/it]"
     ]
    },
    {
     "name": "stdout",
     "output_type": "stream",
     "text": [
      "data/ISD/747560-12816-2020.gz missing for Gainesville Regional Airport\n"
     ]
    },
    {
     "name": "stdout",
     "output_type": "stream",
     "text": [
      "/pub/data/noaa/isd-lite/2020\n"
     ]
    },
    {
     "name": "stderr",
     "output_type": "stream",
     "text": [
      "\r",
      " 32%|███▏      | 266/844 [07:10<17:19,  1.80s/it]"
     ]
    },
    {
     "name": "stdout",
     "output_type": "stream",
     "text": [
      "data/ISD/725046-14707-2020.gz missing for Groton New London Airport\n",
      "/pub/data/noaa/isd-lite/2020\n"
     ]
    },
    {
     "name": "stderr",
     "output_type": "stream",
     "text": [
      "\r",
      " 32%|███▏      | 267/844 [07:12<17:25,  1.81s/it]"
     ]
    },
    {
     "name": "stdout",
     "output_type": "stream",
     "text": [
      "data/ISD/727790-24146-2020.gz missing for Glacier Park International Airport\n"
     ]
    },
    {
     "name": "stdout",
     "output_type": "stream",
     "text": [
      "/pub/data/noaa/isd-lite/2020\n"
     ]
    },
    {
     "name": "stderr",
     "output_type": "stream",
     "text": [
      "\r",
      " 32%|███▏      | 268/844 [07:14<18:04,  1.88s/it]"
     ]
    },
    {
     "name": "stdout",
     "output_type": "stream",
     "text": [
      "data/ISD/747570-93874-2020.gz missing for Gulfport Biloxi International Airport\n"
     ]
    },
    {
     "name": "stdout",
     "output_type": "stream",
     "text": [
      "/pub/data/noaa/isd-lite/2020\n"
     ]
    },
    {
     "name": "stderr",
     "output_type": "stream",
     "text": [
      "\r",
      " 32%|███▏      | 269/844 [07:16<17:57,  1.87s/it]"
     ]
    },
    {
     "name": "stdout",
     "output_type": "stream",
     "text": [
      "data/ISD/726450-14898-2020.gz missing for Austin Straubel International Airport\n",
      "/pub/data/noaa/isd-lite/2020\n"
     ]
    },
    {
     "name": "stderr",
     "output_type": "stream",
     "text": [
      "\r",
      " 32%|███▏      | 270/844 [07:18<17:30,  1.83s/it]"
     ]
    },
    {
     "name": "stdout",
     "output_type": "stream",
     "text": [
      "data/ISD/742071-24201-2020.gz missing for Gray Army Air Field\n",
      "/pub/data/noaa/isd-lite/2020\n"
     ]
    },
    {
     "name": "stderr",
     "output_type": "stream",
     "text": [
      "\r",
      " 32%|███▏      | 271/844 [07:19<16:20,  1.71s/it]"
     ]
    },
    {
     "name": "stdout",
     "output_type": "stream",
     "text": [
      "data/ISD/725520-14935-2020.gz missing for Central Nebraska Regional Airport\n"
     ]
    },
    {
     "name": "stdout",
     "output_type": "stream",
     "text": [
      "/pub/data/noaa/isd-lite/2020\n"
     ]
    },
    {
     "name": "stderr",
     "output_type": "stream",
     "text": [
      "\r",
      " 32%|███▏      | 272/844 [07:21<15:31,  1.63s/it]"
     ]
    },
    {
     "name": "stdout",
     "output_type": "stream",
     "text": [
      "data/ISD/722576-03902-2020.gz missing for Robert Gray  Army Air Field Airport\n",
      "/pub/data/noaa/isd-lite/2020\n"
     ]
    },
    {
     "name": "stderr",
     "output_type": "stream",
     "text": [
      "\r",
      " 32%|███▏      | 273/844 [07:22<14:50,  1.56s/it]"
     ]
    },
    {
     "name": "stdout",
     "output_type": "stream",
     "text": [
      "data/ISD/726350-94860-2020.gz missing for Gerald R. Ford International Airport\n",
      "/pub/data/noaa/isd-lite/2020\n"
     ]
    },
    {
     "name": "stderr",
     "output_type": "stream",
     "text": [
      "\r",
      " 32%|███▏      | 274/844 [07:23<14:02,  1.48s/it]"
     ]
    },
    {
     "name": "stdout",
     "output_type": "stream",
     "text": [
      "data/ISD/723066-13713-2020.gz missing for Seymour Johnson Air Force Base\n",
      "/pub/data/noaa/isd-lite/2020\n"
     ]
    },
    {
     "name": "stderr",
     "output_type": "stream",
     "text": [
      "\r",
      " 33%|███▎      | 275/844 [07:25<13:48,  1.46s/it]"
     ]
    },
    {
     "name": "stdout",
     "output_type": "stream",
     "text": [
      "data/ISD/723170-13723-2020.gz missing for Piedmont Triad International Airport\n",
      "/pub/data/noaa/isd-lite/2020\n"
     ]
    },
    {
     "name": "stderr",
     "output_type": "stream",
     "text": [
      "\r",
      " 33%|███▎      | 276/844 [07:26<13:37,  1.44s/it]"
     ]
    },
    {
     "name": "stdout",
     "output_type": "stream",
     "text": [
      "data/ISD/723120-03870-2020.gz missing for Greenville Spartanburg International Airport\n",
      "/pub/data/noaa/isd-lite/2020\n"
     ]
    },
    {
     "name": "stderr",
     "output_type": "stream",
     "text": [
      "\r",
      " 33%|███▎      | 277/844 [07:27<13:08,  1.39s/it]"
     ]
    },
    {
     "name": "stdout",
     "output_type": "stream",
     "text": [
      "data/ISD/743700-14715-2020.gz missing for Wheeler Sack Army Air Field\n",
      "/pub/data/noaa/isd-lite/2020\n"
     ]
    },
    {
     "name": "stderr",
     "output_type": "stream",
     "text": [
      "\r",
      " 33%|███▎      | 278/844 [07:29<13:07,  1.39s/it]"
     ]
    },
    {
     "name": "stdout",
     "output_type": "stream",
     "text": [
      "data/ISD/727750-24143-2020.gz missing for Great Falls International Airport\n",
      "/pub/data/noaa/isd-lite/2020\n"
     ]
    },
    {
     "name": "stderr",
     "output_type": "stream",
     "text": [
      "\r",
      " 33%|███▎      | 279/844 [07:30<13:39,  1.45s/it]"
     ]
    },
    {
     "name": "stdout",
     "output_type": "stream",
     "text": [
      "data/ISD/723307-53893-2020.gz missing for Golden Triangle Regional Airport\n",
      "/pub/data/noaa/isd-lite/2020\n"
     ]
    },
    {
     "name": "stderr",
     "output_type": "stream",
     "text": [
      "\r",
      " 33%|███▎      | 280/844 [07:34<19:30,  2.08s/it]"
     ]
    },
    {
     "name": "stdout",
     "output_type": "stream",
     "text": [
      "data/ISD/723627-23081-2020.gz missing for Gallup Municipal Airport\n"
     ]
    },
    {
     "name": "stdout",
     "output_type": "stream",
     "text": [
      "/pub/data/noaa/isd-lite/2020\n"
     ]
    },
    {
     "name": "stderr",
     "output_type": "stream",
     "text": [
      "\r",
      " 33%|███▎      | 281/844 [07:36<18:36,  1.98s/it]"
     ]
    },
    {
     "name": "stdout",
     "output_type": "stream",
     "text": [
      "data/ISD/725335-94833-2020.gz missing for Grissom Air Reserve Base\n",
      "/pub/data/noaa/isd-lite/2020\n"
     ]
    },
    {
     "name": "stderr",
     "output_type": "stream",
     "text": [
      "\r",
      " 33%|███▎      | 282/844 [07:37<16:57,  1.81s/it]"
     ]
    },
    {
     "name": "stdout",
     "output_type": "stream",
     "text": [
      "data/ISD/722095-03030-2020.gz missing for Guymon Municipal Airport\n",
      "/pub/data/noaa/isd-lite/2020\n"
     ]
    },
    {
     "name": "stderr",
     "output_type": "stream",
     "text": [
      "\r",
      " 34%|███▎      | 283/844 [07:39<16:31,  1.77s/it]"
     ]
    },
    {
     "name": "stdout",
     "output_type": "stream",
     "text": [
      "data/ISD/747580-13978-2020.gz missing for Greenwood–Leflore Airport\n"
     ]
    },
    {
     "name": "stdout",
     "output_type": "stream",
     "text": [
      "/pub/data/noaa/isd-lite/2020\n"
     ]
    },
    {
     "name": "stderr",
     "output_type": "stream",
     "text": [
      "\r",
      " 34%|███▎      | 284/844 [07:40<15:55,  1.71s/it]"
     ]
    },
    {
     "name": "stdout",
     "output_type": "stream",
     "text": [
      "data/ISD/725337-04807-2020.gz missing for Gary Chicago International Airport\n",
      "/pub/data/noaa/isd-lite/2020\n"
     ]
    },
    {
     "name": "stderr",
     "output_type": "stream",
     "text": [
      "\r",
      " 34%|███▍      | 285/844 [07:41<14:11,  1.52s/it]"
     ]
    },
    {
     "name": "stdout",
     "output_type": "stream",
     "text": [
      "data/ISD/747590-13833-2020.gz missing for Hattiesburg Bobby L Chain Municipal Airport\n"
     ]
    },
    {
     "name": "stdout",
     "output_type": "stream",
     "text": [
      "/pub/data/noaa/isd-lite/2020\n"
     ]
    },
    {
     "name": "stderr",
     "output_type": "stream",
     "text": [
      "\r",
      " 34%|███▍      | 286/844 [07:43<14:50,  1.60s/it]"
     ]
    },
    {
     "name": "stdout",
     "output_type": "stream",
     "text": [
      "data/ISD/723525-93986-2020.gz missing for Hobart Regional Airport\n",
      "/pub/data/noaa/isd-lite/2020\n"
     ]
    },
    {
     "name": "stderr",
     "output_type": "stream",
     "text": [
      "\r",
      " 34%|███▍      | 287/844 [07:45<14:20,  1.54s/it]"
     ]
    },
    {
     "name": "stdout",
     "output_type": "stream",
     "text": [
      "data/ISD/725087-14752-2020.gz missing for Hartford Brainard Airport\n",
      "/pub/data/noaa/isd-lite/2020\n"
     ]
    },
    {
     "name": "stderr",
     "output_type": "stream",
     "text": [
      "\r",
      " 34%|███▍      | 288/844 [07:46<14:43,  1.59s/it]"
     ]
    },
    {
     "name": "stdout",
     "output_type": "stream",
     "text": [
      "data/ISD/724066-93706-2020.gz missing for Hagerstown Regional Richard A Henson Field\n",
      "/pub/data/noaa/isd-lite/2020\n"
     ]
    },
    {
     "name": "stderr",
     "output_type": "stream",
     "text": [
      "\r",
      " 34%|███▍      | 289/844 [07:48<15:42,  1.70s/it]"
     ]
    },
    {
     "name": "stdout",
     "output_type": "stream",
     "text": [
      "data/ISD/722956-03167-2020.gz missing for Jack Northrop Field Hawthorne Municipal Airport\n",
      "/pub/data/noaa/isd-lite/2020\n"
     ]
    },
    {
     "name": "stderr",
     "output_type": "stream",
     "text": [
      "\r",
      " 34%|███▍      | 290/844 [07:50<16:43,  1.81s/it]"
     ]
    },
    {
     "name": "stdout",
     "output_type": "stream",
     "text": [
      "data/ISD/727455-94931-2020.gz missing for Range Regional Airport\n",
      "/pub/data/noaa/isd-lite/2020\n"
     ]
    },
    {
     "name": "stderr",
     "output_type": "stream",
     "text": [
      "\r",
      " 34%|███▍      | 291/844 [07:52<16:46,  1.82s/it]"
     ]
    },
    {
     "name": "stdout",
     "output_type": "stream",
     "text": [
      "data/ISD/725755-24101-2020.gz missing for Hill Air Force Base\n"
     ]
    },
    {
     "name": "stdout",
     "output_type": "stream",
     "text": [
      "/pub/data/noaa/isd-lite/2020\n"
     ]
    },
    {
     "name": "stderr",
     "output_type": "stream",
     "text": [
      "\r",
      " 35%|███▍      | 292/844 [07:54<16:22,  1.78s/it]"
     ]
    },
    {
     "name": "stdout",
     "output_type": "stream",
     "text": [
      "data/ISD/726986-94261-2020.gz missing for Portland Hillsboro Airport\n",
      "/pub/data/noaa/isd-lite/2020\n"
     ]
    },
    {
     "name": "stderr",
     "output_type": "stream",
     "text": [
      "\r",
      " 35%|███▍      | 293/844 [07:56<16:06,  1.75s/it]"
     ]
    },
    {
     "name": "stdout",
     "output_type": "stream",
     "text": [
      "data/ISD/723010-03810-2020.gz missing for Hickory Regional Airport\n"
     ]
    },
    {
     "name": "stdout",
     "output_type": "stream",
     "text": [
      "/pub/data/noaa/isd-lite/2020\n"
     ]
    },
    {
     "name": "stderr",
     "output_type": "stream",
     "text": [
      "\r",
      " 35%|███▍      | 294/844 [07:58<16:53,  1.84s/it]"
     ]
    },
    {
     "name": "stdout",
     "output_type": "stream",
     "text": [
      "data/ISD/724275-14894-2020.gz missing for Wheeling Ohio County Airport\n"
     ]
    },
    {
     "name": "stdout",
     "output_type": "stream",
     "text": [
      "/pub/data/noaa/isd-lite/2020\n"
     ]
    },
    {
     "name": "stderr",
     "output_type": "stream",
     "text": [
      "\r",
      " 35%|███▍      | 295/844 [08:00<16:54,  1.85s/it]"
     ]
    },
    {
     "name": "stdout",
     "output_type": "stream",
     "text": [
      "data/ISD/727720-24144-2020.gz missing for Helena Regional Airport\n",
      "/pub/data/noaa/isd-lite/2020\n"
     ]
    },
    {
     "name": "stderr",
     "output_type": "stream",
     "text": [
      "\r",
      " 35%|███▌      | 296/844 [08:01<16:36,  1.82s/it]"
     ]
    },
    {
     "name": "stdout",
     "output_type": "stream",
     "text": [
      "data/ISD/722570-03933-2020.gz missing for Hood Army Air Field\n",
      "/pub/data/noaa/isd-lite/2020\n"
     ]
    },
    {
     "name": "stderr",
     "output_type": "stream",
     "text": [
      "\r",
      " 35%|███▌      | 297/844 [08:04<17:58,  1.97s/it]"
     ]
    },
    {
     "name": "stdout",
     "output_type": "stream",
     "text": [
      "data/ISD/747320-23002-2020.gz missing for Holloman Air Force Base\n",
      "/pub/data/noaa/isd-lite/2020\n"
     ]
    },
    {
     "name": "stderr",
     "output_type": "stream",
     "text": [
      "\r",
      " 35%|███▌      | 298/844 [08:05<17:35,  1.93s/it]"
     ]
    },
    {
     "name": "stdout",
     "output_type": "stream",
     "text": [
      "data/ISD/722688-93034-2020.gz missing for Lea County Regional Airport\n",
      "/pub/data/noaa/isd-lite/2020\n"
     ]
    },
    {
     "name": "stderr",
     "output_type": "stream",
     "text": [
      "\r",
      " 35%|███▌      | 299/844 [08:07<16:28,  1.81s/it]"
     ]
    },
    {
     "name": "stdout",
     "output_type": "stream",
     "text": [
      "data/ISD/726540-14936-2020.gz missing for Huron Regional Airport\n"
     ]
    },
    {
     "name": "stdout",
     "output_type": "stream",
     "text": [
      "/pub/data/noaa/isd-lite/2020\n"
     ]
    },
    {
     "name": "stderr",
     "output_type": "stream",
     "text": [
      "\r",
      " 36%|███▌      | 300/844 [08:09<15:58,  1.76s/it]"
     ]
    },
    {
     "name": "stdout",
     "output_type": "stream",
     "text": [
      "data/ISD/746710-13806-2020.gz missing for Campbell AAF (Fort Campbell) Air Field\n"
     ]
    },
    {
     "name": "stdout",
     "output_type": "stream",
     "text": [
      "/pub/data/noaa/isd-lite/2020\n"
     ]
    },
    {
     "name": "stderr",
     "output_type": "stream",
     "text": [
      "\r",
      " 36%|███▌      | 301/844 [08:10<15:21,  1.70s/it]"
     ]
    },
    {
     "name": "stdout",
     "output_type": "stream",
     "text": [
      "data/ISD/723415-03962-2020.gz missing for Memorial Field\n",
      "/pub/data/noaa/isd-lite/2020\n"
     ]
    },
    {
     "name": "stderr",
     "output_type": "stream",
     "text": [
      "\r",
      " 36%|███▌      | 302/844 [08:12<15:08,  1.68s/it]"
     ]
    },
    {
     "name": "stdout",
     "output_type": "stream",
     "text": [
      "data/ISD/722440-12918-2020.gz missing for William P Hobby Airport\n",
      "/pub/data/noaa/isd-lite/2020\n"
     ]
    },
    {
     "name": "stderr",
     "output_type": "stream",
     "text": [
      "\r",
      " 36%|███▌      | 303/844 [08:13<15:00,  1.66s/it]"
     ]
    },
    {
     "name": "stdout",
     "output_type": "stream",
     "text": [
      "data/ISD/725037-94745-2020.gz missing for Westchester County Airport\n"
     ]
    },
    {
     "name": "stdout",
     "output_type": "stream",
     "text": [
      "/pub/data/noaa/isd-lite/2020\n"
     ]
    },
    {
     "name": "stderr",
     "output_type": "stream",
     "text": [
      "\r",
      " 36%|███▌      | 304/844 [08:15<14:39,  1.63s/it]"
     ]
    },
    {
     "name": "stdout",
     "output_type": "stream",
     "text": [
      "data/ISD/727923-94225-2020.gz missing for Bowerman Airport\n",
      "/pub/data/noaa/isd-lite/2020\n"
     ]
    },
    {
     "name": "stderr",
     "output_type": "stream",
     "text": [
      "\r",
      " 36%|███▌      | 305/844 [08:16<14:21,  1.60s/it]"
     ]
    },
    {
     "name": "stdout",
     "output_type": "stream",
     "text": [
      "data/ISD/722505-12904-2020.gz missing for Valley International Airport\n"
     ]
    },
    {
     "name": "stdout",
     "output_type": "stream",
     "text": [
      "/pub/data/noaa/isd-lite/2020\n"
     ]
    },
    {
     "name": "stderr",
     "output_type": "stream",
     "text": [
      "\r",
      " 36%|███▋      | 306/844 [08:18<14:14,  1.59s/it]"
     ]
    },
    {
     "name": "stdout",
     "output_type": "stream",
     "text": [
      "data/ISD/723450-13971-2020.gz missing for Boone County Airport\n",
      "/pub/data/noaa/isd-lite/2020\n"
     ]
    },
    {
     "name": "stderr",
     "output_type": "stream",
     "text": [
      "\r",
      " 36%|███▋      | 307/844 [08:20<14:23,  1.61s/it]"
     ]
    },
    {
     "name": "stdout",
     "output_type": "stream",
     "text": [
      "data/ISD/747770-03852-2020.gz missing for Hurlburt Field\n",
      "/pub/data/noaa/isd-lite/2020\n"
     ]
    },
    {
     "name": "stderr",
     "output_type": "stream",
     "text": [
      "\r",
      " 36%|███▋      | 308/844 [08:21<14:06,  1.58s/it]"
     ]
    },
    {
     "name": "stdout",
     "output_type": "stream",
     "text": [
      "data/ISD/722026-12826-2020.gz missing for Homestead ARB Airport\n",
      "/pub/data/noaa/isd-lite/2020\n"
     ]
    },
    {
     "name": "stderr",
     "output_type": "stream",
     "text": [
      "\r",
      " 37%|███▋      | 309/844 [08:23<14:43,  1.65s/it]"
     ]
    },
    {
     "name": "stdout",
     "output_type": "stream",
     "text": [
      "data/ISD/723230-03856-2020.gz missing for Huntsville International Carl T Jones Field\n"
     ]
    },
    {
     "name": "stdout",
     "output_type": "stream",
     "text": [
      "/pub/data/noaa/isd-lite/2020\n"
     ]
    },
    {
     "name": "stderr",
     "output_type": "stream",
     "text": [
      "\r",
      " 37%|███▋      | 310/844 [08:25<15:15,  1.71s/it]"
     ]
    },
    {
     "name": "stdout",
     "output_type": "stream",
     "text": [
      "data/ISD/724250-03860-2020.gz missing for Tri-State/Milton J. Ferguson Field\n",
      "/pub/data/noaa/isd-lite/2020\n"
     ]
    },
    {
     "name": "stderr",
     "output_type": "stream",
     "text": [
      "\r",
      " 37%|███▋      | 311/844 [08:27<14:59,  1.69s/it]"
     ]
    },
    {
     "name": "stdout",
     "output_type": "stream",
     "text": [
      "data/ISD/723231-63883-2020.gz missing for Redstone Army Air Field\n"
     ]
    },
    {
     "name": "stdout",
     "output_type": "stream",
     "text": [
      "/pub/data/noaa/isd-lite/2020\n"
     ]
    },
    {
     "name": "stderr",
     "output_type": "stream",
     "text": [
      "\r",
      " 37%|███▋      | 312/844 [08:29<15:58,  1.80s/it]"
     ]
    },
    {
     "name": "stdout",
     "output_type": "stream",
     "text": [
      "data/ISD/724373-03868-2020.gz missing for Terre Haute Regional Airport, Hulman Field\n",
      "/pub/data/noaa/isd-lite/2020\n"
     ]
    },
    {
     "name": "stderr",
     "output_type": "stream",
     "text": [
      "\r",
      " 37%|███▋      | 313/844 [08:30<15:10,  1.72s/it]"
     ]
    },
    {
     "name": "stdout",
     "output_type": "stream",
     "text": [
      "data/ISD/727033-14609-2020.gz missing for Houlton International Airport\n",
      "/pub/data/noaa/isd-lite/2020\n"
     ]
    },
    {
     "name": "stderr",
     "output_type": "stream",
     "text": [
      "\r",
      " 37%|███▋      | 314/844 [08:32<14:40,  1.66s/it]"
     ]
    },
    {
     "name": "stdout",
     "output_type": "stream",
     "text": [
      "data/ISD/724506-13986-2020.gz missing for Hutchinson Municipal Airport\n"
     ]
    },
    {
     "name": "stdout",
     "output_type": "stream",
     "text": [
      "/pub/data/noaa/isd-lite/2020\n"
     ]
    },
    {
     "name": "stderr",
     "output_type": "stream",
     "text": [
      "\r",
      " 37%|███▋      | 315/844 [08:34<16:12,  1.84s/it]"
     ]
    },
    {
     "name": "stdout",
     "output_type": "stream",
     "text": [
      "data/ISD/725045-14758-2020.gz missing for Tweed New Haven Airport\n",
      "/pub/data/noaa/isd-lite/2020\n"
     ]
    },
    {
     "name": "stderr",
     "output_type": "stream",
     "text": [
      "\r",
      " 37%|███▋      | 316/844 [08:36<16:11,  1.84s/it]"
     ]
    },
    {
     "name": "stdout",
     "output_type": "stream",
     "text": [
      "data/ISD/727770-94012-2020.gz missing for Havre City County Airport\n",
      "/pub/data/noaa/isd-lite/2020\n"
     ]
    },
    {
     "name": "stderr",
     "output_type": "stream",
     "text": [
      "\r",
      " 38%|███▊      | 317/844 [08:37<15:37,  1.78s/it]"
     ]
    },
    {
     "name": "stdout",
     "output_type": "stream",
     "text": [
      "data/ISD/725067-94720-2020.gz missing for Barnstable Municipal Boardman Polando Field\n"
     ]
    },
    {
     "name": "stdout",
     "output_type": "stream",
     "text": [
      "/pub/data/noaa/isd-lite/2020\n"
     ]
    },
    {
     "name": "stderr",
     "output_type": "stream",
     "text": [
      "\r",
      " 38%|███▊      | 318/844 [08:39<15:00,  1.71s/it]"
     ]
    },
    {
     "name": "stdout",
     "output_type": "stream",
     "text": [
      "data/ISD/722539-12979-2020.gz missing for San Marcos Regional Airport\n",
      "/pub/data/noaa/isd-lite/2020\n"
     ]
    },
    {
     "name": "stderr",
     "output_type": "stream",
     "text": [
      "\r",
      " 38%|███▊      | 319/844 [08:40<14:15,  1.63s/it]"
     ]
    },
    {
     "name": "stdout",
     "output_type": "stream",
     "text": [
      "data/ISD/726508-94973-2020.gz missing for Sawyer County Airport\n",
      "/pub/data/noaa/isd-lite/2020\n"
     ]
    },
    {
     "name": "stderr",
     "output_type": "stream",
     "text": [
      "\r",
      " 38%|███▊      | 320/844 [08:42<13:31,  1.55s/it]"
     ]
    },
    {
     "name": "stdout",
     "output_type": "stream",
     "text": [
      "data/ISD/724518-03968-2020.gz missing for Hays Regional Airport\n",
      "/pub/data/noaa/isd-lite/2020\n"
     ]
    },
    {
     "name": "stderr",
     "output_type": "stream",
     "text": [
      "\r",
      " 38%|███▊      | 321/844 [08:43<13:38,  1.56s/it]"
     ]
    },
    {
     "name": "stdout",
     "output_type": "stream",
     "text": [
      "data/ISD/724505-03923-2020.gz missing for Mc Connell Air Force Base\n",
      "/pub/data/noaa/isd-lite/2020\n"
     ]
    },
    {
     "name": "stderr",
     "output_type": "stream",
     "text": [
      "\r",
      " 38%|███▊      | 322/844 [08:45<14:02,  1.61s/it]"
     ]
    },
    {
     "name": "stdout",
     "output_type": "stream",
     "text": [
      "data/ISD/724030-93738-2020.gz missing for Washington Dulles International Airport\n"
     ]
    },
    {
     "name": "stdout",
     "output_type": "stream",
     "text": [
      "/pub/data/noaa/isd-lite/2020\n"
     ]
    },
    {
     "name": "stderr",
     "output_type": "stream",
     "text": [
      "\r",
      " 38%|███▊      | 323/844 [08:47<14:40,  1.69s/it]"
     ]
    },
    {
     "name": "stdout",
     "output_type": "stream",
     "text": [
      "data/ISD/725287-04724-2020.gz missing for Niagara Falls International Airport\n",
      "/pub/data/noaa/isd-lite/2020\n"
     ]
    },
    {
     "name": "stderr",
     "output_type": "stream",
     "text": [
      "\r",
      " 38%|███▊      | 324/844 [08:49<14:27,  1.67s/it]"
     ]
    },
    {
     "name": "stdout",
     "output_type": "stream",
     "text": [
      "data/ISD/722430-12960-2020.gz missing for George Bush Intercontinental Houston Airport\n"
     ]
    },
    {
     "name": "stdout",
     "output_type": "stream",
     "text": [
      "/pub/data/noaa/isd-lite/2020\n"
     ]
    },
    {
     "name": "stderr",
     "output_type": "stream",
     "text": [
      "\r",
      " 39%|███▊      | 325/844 [08:50<13:54,  1.61s/it]"
     ]
    },
    {
     "name": "stdout",
     "output_type": "stream",
     "text": [
      "data/ISD/724500-03928-2020.gz missing for Wichita Eisenhower National Airport\n",
      "/pub/data/noaa/isd-lite/2020\n"
     ]
    },
    {
     "name": "stderr",
     "output_type": "stream",
     "text": [
      "\r",
      " 39%|███▊      | 326/844 [08:52<14:08,  1.64s/it]"
     ]
    },
    {
     "name": "stdout",
     "output_type": "stream",
     "text": [
      "data/ISD/725785-24145-2020.gz missing for Idaho Falls Regional Airport\n",
      "/pub/data/noaa/isd-lite/2020\n"
     ]
    },
    {
     "name": "stderr",
     "output_type": "stream",
     "text": [
      "\r",
      " 39%|███▊      | 327/844 [08:53<14:22,  1.67s/it]"
     ]
    },
    {
     "name": "stdout",
     "output_type": "stream",
     "text": [
      "data/ISD/722127-04880-2020.gz missing for Greater Kankakee Airport\n"
     ]
    },
    {
     "name": "stdout",
     "output_type": "stream",
     "text": [
      "/pub/data/noaa/isd-lite/2020\n"
     ]
    },
    {
     "name": "stderr",
     "output_type": "stream",
     "text": [
      "\r",
      " 39%|███▉      | 328/844 [08:55<14:02,  1.63s/it]"
     ]
    },
    {
     "name": "stdout",
     "output_type": "stream",
     "text": [
      "data/ISD/724180-13781-2020.gz missing for New Castle Airport\n",
      "/pub/data/noaa/isd-lite/2020\n"
     ]
    },
    {
     "name": "stderr",
     "output_type": "stream",
     "text": [
      "\r",
      " 39%|███▉      | 329/844 [08:57<14:15,  1.66s/it]"
     ]
    },
    {
     "name": "stdout",
     "output_type": "stream",
     "text": [
      "data/ISD/723020-13748-2020.gz missing for Wilmington International Airport\n"
     ]
    },
    {
     "name": "stdout",
     "output_type": "stream",
     "text": [
      "/pub/data/noaa/isd-lite/2020\n"
     ]
    },
    {
     "name": "stderr",
     "output_type": "stream",
     "text": [
      "\r",
      " 39%|███▉      | 330/844 [08:58<13:57,  1.63s/it]"
     ]
    },
    {
     "name": "stdout",
     "output_type": "stream",
     "text": [
      "data/ISD/724296-13841-2020.gz missing for Wilmington Airpark\n",
      "/pub/data/noaa/isd-lite/2020\n"
     ]
    },
    {
     "name": "stderr",
     "output_type": "stream",
     "text": [
      "\r",
      " 39%|███▉      | 331/844 [09:00<14:07,  1.65s/it]"
     ]
    },
    {
     "name": "stdout",
     "output_type": "stream",
     "text": [
      "data/ISD/724380-93819-2020.gz missing for Indianapolis International Airport\n",
      "/pub/data/noaa/isd-lite/2020\n"
     ]
    },
    {
     "name": "stderr",
     "output_type": "stream",
     "text": [
      "\r",
      " 39%|███▉      | 332/844 [09:02<14:37,  1.71s/it]"
     ]
    },
    {
     "name": "stdout",
     "output_type": "stream",
     "text": [
      "data/ISD/722656-23040-2020.gz missing for Winkler County Airport\n",
      "/pub/data/noaa/isd-lite/2020\n"
     ]
    },
    {
     "name": "stderr",
     "output_type": "stream",
     "text": [
      "\r",
      " 39%|███▉      | 333/844 [09:04<16:31,  1.94s/it]"
     ]
    },
    {
     "name": "stdout",
     "output_type": "stream",
     "text": [
      "data/ISD/727470-14918-2020.gz missing for Falls International Airport\n",
      "/pub/data/noaa/isd-lite/2020\n"
     ]
    },
    {
     "name": "stderr",
     "output_type": "stream",
     "text": [
      "\r",
      " 40%|███▉      | 334/844 [09:06<16:12,  1.91s/it]"
     ]
    },
    {
     "name": "stdout",
     "output_type": "stream",
     "text": [
      "data/ISD/723193-93807-2020.gz missing for Smith Reynolds Airport\n",
      "/pub/data/noaa/isd-lite/2020\n"
     ]
    },
    {
     "name": "stderr",
     "output_type": "stream",
     "text": [
      "\r",
      " 40%|███▉      | 335/844 [09:08<15:19,  1.81s/it]"
     ]
    },
    {
     "name": "stdout",
     "output_type": "stream",
     "text": [
      "data/ISD/723740-23194-2020.gz missing for Winslow Lindbergh Regional Airport\n",
      "/pub/data/noaa/isd-lite/2020\n"
     ]
    },
    {
     "name": "stderr",
     "output_type": "stream",
     "text": [
      "\r",
      " 40%|███▉      | 336/844 [09:09<14:46,  1.75s/it]"
     ]
    },
    {
     "name": "stdout",
     "output_type": "stream",
     "text": [
      "data/ISD/747185-03144-2020.gz missing for Imperial County Airport\n"
     ]
    },
    {
     "name": "stdout",
     "output_type": "stream",
     "text": [
      "/pub/data/noaa/isd-lite/2020\n"
     ]
    },
    {
     "name": "stderr",
     "output_type": "stream",
     "text": [
      "\r",
      " 40%|███▉      | 337/844 [09:11<14:46,  1.75s/it]"
     ]
    },
    {
     "name": "stdout",
     "output_type": "stream",
     "text": [
      "data/ISD/725140-14778-2020.gz missing for Williamsport Regional Airport\n",
      "/pub/data/noaa/isd-lite/2020\n"
     ]
    },
    {
     "name": "stderr",
     "output_type": "stream",
     "text": [
      "\r",
      " 40%|████      | 338/844 [09:13<15:12,  1.80s/it]"
     ]
    },
    {
     "name": "stdout",
     "output_type": "stream",
     "text": [
      "data/ISD/724455-14938-2020.gz missing for Kirksville Regional Airport\n",
      "/pub/data/noaa/isd-lite/2020\n"
     ]
    },
    {
     "name": "stderr",
     "output_type": "stream",
     "text": [
      "\r",
      " 40%|████      | 339/844 [09:15<15:33,  1.85s/it]"
     ]
    },
    {
     "name": "stdout",
     "output_type": "stream",
     "text": [
      "data/ISD/722011-92813-2020.gz missing for Kissimmee Gateway Airport\n",
      "/pub/data/noaa/isd-lite/2020\n"
     ]
    },
    {
     "name": "stderr",
     "output_type": "stream",
     "text": [
      "\r",
      " 40%|████      | 340/844 [09:17<15:14,  1.81s/it]"
     ]
    },
    {
     "name": "stdout",
     "output_type": "stream",
     "text": [
      "data/ISD/723067-93726-2020.gz missing for Kinston Regional Jetport At Stallings Field\n",
      "/pub/data/noaa/isd-lite/2020\n"
     ]
    },
    {
     "name": "stderr",
     "output_type": "stream",
     "text": [
      "\r",
      " 40%|████      | 341/844 [09:18<15:03,  1.80s/it]"
     ]
    },
    {
     "name": "stdout",
     "output_type": "stream",
     "text": [
      "data/ISD/725050-04781-2020.gz missing for Long Island Mac Arthur Airport\n",
      "/pub/data/noaa/isd-lite/2020\n"
     ]
    },
    {
     "name": "stderr",
     "output_type": "stream",
     "text": [
      "\r",
      " 41%|████      | 342/844 [09:20<14:13,  1.70s/it]"
     ]
    },
    {
     "name": "stdout",
     "output_type": "stream",
     "text": [
      "data/ISD/725155-94761-2020.gz missing for Ithaca Tompkins Regional Airport\n",
      "/pub/data/noaa/isd-lite/2020\n"
     ]
    },
    {
     "name": "stderr",
     "output_type": "stream",
     "text": [
      "\r",
      " 41%|████      | 343/844 [09:22<14:39,  1.76s/it]"
     ]
    },
    {
     "name": "stdout",
     "output_type": "stream",
     "text": [
      "data/ISD/722786-23104-2020.gz missing for Phoenix-Mesa-Gateway Airport\n"
     ]
    },
    {
     "name": "stdout",
     "output_type": "stream",
     "text": [
      "/pub/data/noaa/isd-lite/2020\n"
     ]
    },
    {
     "name": "stderr",
     "output_type": "stream",
     "text": [
      "\r",
      " 41%|████      | 344/844 [09:24<14:35,  1.75s/it]"
     ]
    },
    {
     "name": "stdout",
     "output_type": "stream",
     "text": [
      "data/ISD/725776-24166-2020.gz missing for Jackson Hole Airport\n"
     ]
    },
    {
     "name": "stdout",
     "output_type": "stream",
     "text": [
      "/pub/data/noaa/isd-lite/2020\n"
     ]
    },
    {
     "name": "stderr",
     "output_type": "stream",
     "text": [
      "\r",
      " 41%|████      | 345/844 [09:25<14:03,  1.69s/it]"
     ]
    },
    {
     "name": "stdout",
     "output_type": "stream",
     "text": [
      "data/ISD/722350-03940-2020.gz missing for Jackson-Medgar Wiley Evers International Airport\n",
      "/pub/data/noaa/isd-lite/2020\n"
     ]
    },
    {
     "name": "stderr",
     "output_type": "stream",
     "text": [
      "\r",
      " 41%|████      | 346/844 [09:27<14:22,  1.73s/it]"
     ]
    },
    {
     "name": "stdout",
     "output_type": "stream",
     "text": [
      "data/ISD/722060-13889-2020.gz missing for Jacksonville International Airport\n"
     ]
    },
    {
     "name": "stdout",
     "output_type": "stream",
     "text": [
      "/pub/data/noaa/isd-lite/2020\n"
     ]
    },
    {
     "name": "stderr",
     "output_type": "stream",
     "text": [
      "\r",
      " 41%|████      | 347/844 [09:29<15:08,  1.83s/it]"
     ]
    },
    {
     "name": "stdout",
     "output_type": "stream",
     "text": [
      "data/ISD/723407-03953-2020.gz missing for Jonesboro Municipal Airport\n",
      "/pub/data/noaa/isd-lite/2020\n"
     ]
    },
    {
     "name": "stderr",
     "output_type": "stream",
     "text": [
      "\r",
      " 41%|████      | 348/844 [09:31<14:23,  1.74s/it]"
     ]
    },
    {
     "name": "stdout",
     "output_type": "stream",
     "text": [
      "data/ISD/747400-13973-2020.gz missing for Kimble County Airport\n"
     ]
    },
    {
     "name": "stdout",
     "output_type": "stream",
     "text": [
      "/pub/data/noaa/isd-lite/2020\n"
     ]
    },
    {
     "name": "stderr",
     "output_type": "stream",
     "text": [
      "\r",
      " 41%|████▏     | 349/844 [09:33<15:06,  1.83s/it]"
     ]
    },
    {
     "name": "stdout",
     "output_type": "stream",
     "text": [
      "data/ISD/744860-94789-2020.gz missing for John F Kennedy International Airport\n"
     ]
    },
    {
     "name": "stdout",
     "output_type": "stream",
     "text": [
      "/pub/data/noaa/isd-lite/2020\n"
     ]
    },
    {
     "name": "stderr",
     "output_type": "stream",
     "text": [
      "\r",
      " 41%|████▏     | 350/844 [09:35<15:38,  1.90s/it]"
     ]
    },
    {
     "name": "stdout",
     "output_type": "stream",
     "text": [
      "data/ISD/725235-04720-2020.gz missing for Chautauqua County-Jamestown Airport\n",
      "/pub/data/noaa/isd-lite/2020\n"
     ]
    },
    {
     "name": "stderr",
     "output_type": "stream",
     "text": [
      "\r",
      " 42%|████▏     | 351/844 [09:36<15:27,  1.88s/it]"
     ]
    },
    {
     "name": "stdout",
     "output_type": "stream",
     "text": [
      "data/ISD/724190-03889-2020.gz missing for Julian Carroll Airport\n"
     ]
    },
    {
     "name": "stdout",
     "output_type": "stream",
     "text": [
      "/pub/data/noaa/isd-lite/2020\n"
     ]
    },
    {
     "name": "stderr",
     "output_type": "stream",
     "text": [
      "\r",
      " 42%|████▏     | 352/844 [09:38<15:35,  1.90s/it]"
     ]
    },
    {
     "name": "stdout",
     "output_type": "stream",
     "text": [
      "data/ISD/723495-13987-2020.gz missing for Joplin Regional Airport\n",
      "/pub/data/noaa/isd-lite/2020\n"
     ]
    },
    {
     "name": "stderr",
     "output_type": "stream",
     "text": [
      "\r",
      " 42%|████▏     | 353/844 [09:40<14:24,  1.76s/it]"
     ]
    },
    {
     "name": "stdout",
     "output_type": "stream",
     "text": [
      "data/ISD/727535-14919-2020.gz missing for Jamestown Regional Airport\n",
      "/pub/data/noaa/isd-lite/2020\n"
     ]
    },
    {
     "name": "stderr",
     "output_type": "stream",
     "text": [
      "\r",
      " 42%|████▏     | 354/844 [09:41<13:57,  1.71s/it]"
     ]
    },
    {
     "name": "stdout",
     "output_type": "stream",
     "text": [
      "data/ISD/725127-04726-2020.gz missing for John Murtha Johnstown Cambria County Airport\n",
      "/pub/data/noaa/isd-lite/2020\n"
     ]
    },
    {
     "name": "stderr",
     "output_type": "stream",
     "text": [
      "\r",
      " 42%|████▏     | 355/844 [09:44<14:52,  1.82s/it]"
     ]
    },
    {
     "name": "stdout",
     "output_type": "stream",
     "text": [
      "data/ISD/725395-14833-2020.gz missing for Jackson County Reynolds Field\n",
      "/pub/data/noaa/isd-lite/2020\n"
     ]
    },
    {
     "name": "stderr",
     "output_type": "stream",
     "text": [
      "\r",
      " 42%|████▏     | 356/844 [09:46<15:23,  1.89s/it]"
     ]
    },
    {
     "name": "stdout",
     "output_type": "stream",
     "text": [
      "data/ISD/727924-24223-2020.gz missing for Southwest Washington Regional Airport\n",
      "/pub/data/noaa/isd-lite/2020\n"
     ]
    },
    {
     "name": "stderr",
     "output_type": "stream",
     "text": [
      "\r",
      " 42%|████▏     | 357/844 [09:47<14:20,  1.77s/it]"
     ]
    },
    {
     "name": "stdout",
     "output_type": "stream",
     "text": [
      "data/ISD/724386-14835-2020.gz missing for Purdue University Airport\n",
      "/pub/data/noaa/isd-lite/2020\n"
     ]
    },
    {
     "name": "stderr",
     "output_type": "stream",
     "text": [
      "\r",
      " 42%|████▏     | 358/844 [09:49<14:23,  1.78s/it]"
     ]
    },
    {
     "name": "stdout",
     "output_type": "stream",
     "text": [
      "data/ISD/722119-12883-2020.gz missing for Lakeland Linder International Airport\n"
     ]
    },
    {
     "name": "stdout",
     "output_type": "stream",
     "text": [
      "/pub/data/noaa/isd-lite/2020\n"
     ]
    },
    {
     "name": "stderr",
     "output_type": "stream",
     "text": [
      "\r",
      " 43%|████▎     | 359/844 [09:50<13:31,  1.67s/it]"
     ]
    },
    {
     "name": "stdout",
     "output_type": "stream",
     "text": [
      "data/ISD/725390-14836-2020.gz missing for Capital City Airport\n"
     ]
    },
    {
     "name": "stdout",
     "output_type": "stream",
     "text": [
      "/pub/data/noaa/isd-lite/2020\n"
     ]
    },
    {
     "name": "stderr",
     "output_type": "stream",
     "text": [
      "\r",
      " 43%|████▎     | 360/844 [09:52<13:51,  1.72s/it]"
     ]
    },
    {
     "name": "stdout",
     "output_type": "stream",
     "text": [
      "data/ISD/725645-24022-2020.gz missing for Laramie Regional Airport\n",
      "/pub/data/noaa/isd-lite/2020\n"
     ]
    },
    {
     "name": "stderr",
     "output_type": "stream",
     "text": [
      "\r",
      " 43%|████▎     | 361/844 [09:54<13:42,  1.70s/it]"
     ]
    },
    {
     "name": "stdout",
     "output_type": "stream",
     "text": [
      "data/ISD/723860-23169-2020.gz missing for McCarran International Airport\n"
     ]
    },
    {
     "name": "stdout",
     "output_type": "stream",
     "text": [
      "/pub/data/noaa/isd-lite/2020\n"
     ]
    },
    {
     "name": "stderr",
     "output_type": "stream",
     "text": [
      "\r",
      " 43%|████▎     | 362/844 [09:56<14:32,  1.81s/it]"
     ]
    },
    {
     "name": "stdout",
     "output_type": "stream",
     "text": [
      "data/ISD/723575-03950-2020.gz missing for Lawton Fort Sill Regional Airport\n",
      "/pub/data/noaa/isd-lite/2020\n"
     ]
    },
    {
     "name": "stderr",
     "output_type": "stream",
     "text": [
      "\r",
      " 43%|████▎     | 363/844 [09:57<13:38,  1.70s/it]"
     ]
    },
    {
     "name": "stdout",
     "output_type": "stream",
     "text": [
      "data/ISD/722950-23174-2020.gz missing for Los Angeles International Airport\n",
      "/pub/data/noaa/isd-lite/2020\n"
     ]
    },
    {
     "name": "stderr",
     "output_type": "stream",
     "text": [
      "\r",
      " 43%|████▎     | 364/844 [09:59<14:09,  1.77s/it]"
     ]
    },
    {
     "name": "stdout",
     "output_type": "stream",
     "text": [
      "data/ISD/722670-23042-2020.gz missing for Lubbock Preston Smith International Airport\n"
     ]
    },
    {
     "name": "stdout",
     "output_type": "stream",
     "text": [
      "/pub/data/noaa/isd-lite/2020\n"
     ]
    },
    {
     "name": "stderr",
     "output_type": "stream",
     "text": [
      "\r",
      " 43%|████▎     | 365/844 [10:01<15:00,  1.88s/it]"
     ]
    },
    {
     "name": "stdout",
     "output_type": "stream",
     "text": [
      "data/ISD/725207-54735-2020.gz missing for Arnold Palmer Regional Airport\n"
     ]
    },
    {
     "name": "stdout",
     "output_type": "stream",
     "text": [
      "/pub/data/noaa/isd-lite/2020\n"
     ]
    },
    {
     "name": "stderr",
     "output_type": "stream",
     "text": [
      "\r",
      " 43%|████▎     | 366/844 [10:03<14:09,  1.78s/it]"
     ]
    },
    {
     "name": "stdout",
     "output_type": "stream",
     "text": [
      "data/ISD/725620-24023-2020.gz missing for North Platte Regional Airport Lee Bird Field\n"
     ]
    },
    {
     "name": "stdout",
     "output_type": "stream",
     "text": [
      "/pub/data/noaa/isd-lite/2020\n"
     ]
    },
    {
     "name": "stderr",
     "output_type": "stream",
     "text": [
      "\r",
      " 43%|████▎     | 367/844 [10:05<14:46,  1.86s/it]"
     ]
    },
    {
     "name": "stdout",
     "output_type": "stream",
     "text": [
      "data/ISD/724516-23020-2020.gz missing for Liberal Mid-America Regional Airport\n"
     ]
    },
    {
     "name": "stdout",
     "output_type": "stream",
     "text": [
      "/pub/data/noaa/isd-lite/2020\n"
     ]
    },
    {
     "name": "stderr",
     "output_type": "stream",
     "text": [
      "\r",
      " 44%|████▎     | 368/844 [10:07<14:30,  1.83s/it]"
     ]
    },
    {
     "name": "stdout",
     "output_type": "stream",
     "text": [
      "data/ISD/723108-13776-2020.gz missing for Lumberton Regional Airport\n",
      "/pub/data/noaa/isd-lite/2020\n"
     ]
    },
    {
     "name": "stderr",
     "output_type": "stream",
     "text": [
      "\r",
      " 44%|████▎     | 369/844 [10:07<11:33,  1.46s/it]"
     ]
    },
    {
     "name": "stdout",
     "output_type": "stream",
     "text": [
      "Couldn't find info for Lumberton Lumberton Regional Airport 723108-13776-2020.gz\n",
      "data/ISD/722527-12976-2020.gz missing for Texas Gulf Coast Regional Airport\n",
      "/pub/data/noaa/isd-lite/2020\n"
     ]
    },
    {
     "name": "stderr",
     "output_type": "stream",
     "text": [
      "\r",
      " 44%|████▍     | 370/844 [10:09<12:55,  1.64s/it]"
     ]
    },
    {
     "name": "stdout",
     "output_type": "stream",
     "text": [
      "data/ISD/722400-03937-2020.gz missing for Lake Charles Regional Airport\n"
     ]
    },
    {
     "name": "stdout",
     "output_type": "stream",
     "text": [
      "/pub/data/noaa/isd-lite/2020\n"
     ]
    },
    {
     "name": "stderr",
     "output_type": "stream",
     "text": [
      "\r",
      " 44%|████▍     | 371/844 [10:11<13:10,  1.67s/it]"
     ]
    },
    {
     "name": "stdout",
     "output_type": "stream",
     "text": [
      "data/ISD/724285-13812-2020.gz missing for Rickenbacker International Airport\n",
      "/pub/data/noaa/isd-lite/2020\n"
     ]
    },
    {
     "name": "stderr",
     "output_type": "stream",
     "text": [
      "\r",
      " 44%|████▍     | 372/844 [10:13<13:02,  1.66s/it]"
     ]
    },
    {
     "name": "stdout",
     "output_type": "stream",
     "text": [
      "data/ISD/726116-94765-2020.gz missing for Lebanon Municipal Airport\n"
     ]
    },
    {
     "name": "stdout",
     "output_type": "stream",
     "text": [
      "/pub/data/noaa/isd-lite/2020\n"
     ]
    },
    {
     "name": "stderr",
     "output_type": "stream",
     "text": [
      "\r",
      " 44%|████▍     | 373/844 [10:15<14:10,  1.81s/it]"
     ]
    },
    {
     "name": "stdout",
     "output_type": "stream",
     "text": [
      "data/ISD/722213-12819-2020.gz missing for Leesburg International Airport\n"
     ]
    },
    {
     "name": "stdout",
     "output_type": "stream",
     "text": [
      "/pub/data/noaa/isd-lite/2020\n"
     ]
    },
    {
     "name": "stderr",
     "output_type": "stream",
     "text": [
      "\r",
      " 44%|████▍     | 374/844 [10:17<14:28,  1.85s/it]"
     ]
    },
    {
     "name": "stdout",
     "output_type": "stream",
     "text": [
      "data/ISD/724220-93820-2020.gz missing for Blue Grass Airport\n"
     ]
    },
    {
     "name": "stdout",
     "output_type": "stream",
     "text": [
      "/pub/data/noaa/isd-lite/2020\n"
     ]
    },
    {
     "name": "stderr",
     "output_type": "stream",
     "text": [
      "\r",
      " 44%|████▍     | 375/844 [10:19<14:56,  1.91s/it]"
     ]
    },
    {
     "name": "stdout",
     "output_type": "stream",
     "text": [
      "data/ISD/745980-13702-2020.gz missing for Langley Air Force Base\n",
      "/pub/data/noaa/isd-lite/2020\n"
     ]
    },
    {
     "name": "stderr",
     "output_type": "stream",
     "text": [
      "\r",
      " 45%|████▍     | 376/844 [10:21<15:01,  1.93s/it]"
     ]
    },
    {
     "name": "stdout",
     "output_type": "stream",
     "text": [
      "data/ISD/722446-93987-2020.gz missing for Angelina County Airport\n",
      "/pub/data/noaa/isd-lite/2020\n"
     ]
    },
    {
     "name": "stderr",
     "output_type": "stream",
     "text": [
      "\r",
      " 45%|████▍     | 377/844 [10:22<14:23,  1.85s/it]"
     ]
    },
    {
     "name": "stdout",
     "output_type": "stream",
     "text": [
      "data/ISD/722405-13976-2020.gz missing for Lafayette Regional Airport\n",
      "/pub/data/noaa/isd-lite/2020\n"
     ]
    },
    {
     "name": "stderr",
     "output_type": "stream",
     "text": [
      "\r",
      " 45%|████▍     | 378/844 [10:24<13:29,  1.74s/it]"
     ]
    },
    {
     "name": "stdout",
     "output_type": "stream",
     "text": [
      "data/ISD/725030-14732-2020.gz missing for La Guardia Airport\n"
     ]
    },
    {
     "name": "stdout",
     "output_type": "stream",
     "text": [
      "/pub/data/noaa/isd-lite/2020\n"
     ]
    },
    {
     "name": "stderr",
     "output_type": "stream",
     "text": [
      "\r",
      " 45%|████▍     | 379/844 [10:26<14:54,  1.92s/it]"
     ]
    },
    {
     "name": "stdout",
     "output_type": "stream",
     "text": [
      "data/ISD/722970-23129-2020.gz missing for Long Beach Airport (Daugherty Field)\n"
     ]
    },
    {
     "name": "stdout",
     "output_type": "stream",
     "text": [
      "/pub/data/noaa/isd-lite/2020\n"
     ]
    },
    {
     "name": "stderr",
     "output_type": "stream",
     "text": [
      "\r",
      " 45%|████▌     | 380/844 [10:28<14:12,  1.84s/it]"
     ]
    },
    {
     "name": "stdout",
     "output_type": "stream",
     "text": [
      "data/ISD/724796-94128-2020.gz missing for Logan-Cache Airport\n"
     ]
    },
    {
     "name": "stdout",
     "output_type": "stream",
     "text": [
      "/pub/data/noaa/isd-lite/2020\n"
     ]
    },
    {
     "name": "stderr",
     "output_type": "stream",
     "text": [
      "\r",
      " 45%|████▌     | 381/844 [10:30<14:11,  1.84s/it]"
     ]
    },
    {
     "name": "stdout",
     "output_type": "stream",
     "text": [
      "data/ISD/723403-13963-2020.gz missing for Bill & Hillary Clinton National Airport/Adams Field\n"
     ]
    },
    {
     "name": "stdout",
     "output_type": "stream",
     "text": [
      "/pub/data/noaa/isd-lite/2020\n"
     ]
    },
    {
     "name": "stderr",
     "output_type": "stream",
     "text": [
      "\r",
      " 45%|████▌     | 382/844 [10:32<14:18,  1.86s/it]"
     ]
    },
    {
     "name": "stdout",
     "output_type": "stream",
     "text": [
      "data/ISD/720175-53919-2020.gz missing for Monticello Municipal Ellis Field\n",
      "/pub/data/noaa/isd-lite/2020\n"
     ]
    },
    {
     "name": "stderr",
     "output_type": "stream",
     "text": [
      "\r",
      " 45%|████▌     | 383/844 [10:33<13:52,  1.81s/it]"
     ]
    },
    {
     "name": "stdout",
     "output_type": "stream",
     "text": [
      "data/ISD/725895-94236-2020.gz missing for Crater Lake-Klamath Regional Airport\n",
      "/pub/data/noaa/isd-lite/2020\n"
     ]
    },
    {
     "name": "stderr",
     "output_type": "stream",
     "text": [
      "\r",
      " 45%|████▌     | 384/844 [10:35<13:57,  1.82s/it]"
     ]
    },
    {
     "name": "stdout",
     "output_type": "stream",
     "text": [
      "data/ISD/725760-24021-2020.gz missing for Hunt Field\n",
      "/pub/data/noaa/isd-lite/2020\n"
     ]
    },
    {
     "name": "stderr",
     "output_type": "stream",
     "text": [
      "\r",
      " 46%|████▌     | 385/844 [10:37<13:57,  1.82s/it]"
     ]
    },
    {
     "name": "stdout",
     "output_type": "stream",
     "text": [
      "data/ISD/725510-14939-2020.gz missing for Lincoln Airport\n"
     ]
    },
    {
     "name": "stdout",
     "output_type": "stream",
     "text": [
      "/pub/data/noaa/isd-lite/2020\n"
     ]
    },
    {
     "name": "stderr",
     "output_type": "stream",
     "text": [
      "\r",
      " 46%|████▌     | 386/844 [10:39<13:52,  1.82s/it]"
     ]
    },
    {
     "name": "stdout",
     "output_type": "stream",
     "text": [
      "data/ISD/725116-54737-2020.gz missing for Lancaster Airport\n",
      "/pub/data/noaa/isd-lite/2020\n"
     ]
    },
    {
     "name": "stderr",
     "output_type": "stream",
     "text": [
      "\r",
      " 46%|████▌     | 387/844 [10:41<13:47,  1.81s/it]"
     ]
    },
    {
     "name": "stdout",
     "output_type": "stream",
     "text": [
      "data/ISD/725805-24172-2020.gz missing for Derby Field\n",
      "/pub/data/noaa/isd-lite/2020\n"
     ]
    },
    {
     "name": "stderr",
     "output_type": "stream",
     "text": [
      "\r",
      " 46%|████▌     | 388/844 [10:43<14:02,  1.85s/it]"
     ]
    },
    {
     "name": "stdout",
     "output_type": "stream",
     "text": [
      "data/ISD/724235-13810-2020.gz missing for Bowman Field\n"
     ]
    },
    {
     "name": "stdout",
     "output_type": "stream",
     "text": [
      "/pub/data/noaa/isd-lite/2020\n"
     ]
    },
    {
     "name": "stderr",
     "output_type": "stream",
     "text": [
      "\r",
      " 46%|████▌     | 389/844 [10:44<14:02,  1.85s/it]"
     ]
    },
    {
     "name": "stdout",
     "output_type": "stream",
     "text": [
      "data/ISD/724243-03849-2020.gz missing for London-Corbin Airport/Magee Field\n",
      "/pub/data/noaa/isd-lite/2020\n"
     ]
    },
    {
     "name": "stderr",
     "output_type": "stream",
     "text": [
      "\r",
      " 46%|████▌     | 390/844 [10:47<14:24,  1.90s/it]"
     ]
    },
    {
     "name": "stdout",
     "output_type": "stream",
     "text": [
      "data/ISD/722520-12907-2020.gz missing for Laredo International Airport\n"
     ]
    },
    {
     "name": "stdout",
     "output_type": "stream",
     "text": [
      "/pub/data/noaa/isd-lite/2020\n"
     ]
    },
    {
     "name": "stderr",
     "output_type": "stream",
     "text": [
      "\r",
      " 46%|████▋     | 391/844 [10:48<14:28,  1.92s/it]"
     ]
    },
    {
     "name": "stdout",
     "output_type": "stream",
     "text": [
      "data/ISD/723405-03930-2020.gz missing for Little Rock Air Force Base\n"
     ]
    },
    {
     "name": "stdout",
     "output_type": "stream",
     "text": [
      "/pub/data/noaa/isd-lite/2020\n"
     ]
    },
    {
     "name": "stderr",
     "output_type": "stream",
     "text": [
      "\r",
      " 46%|████▋     | 392/844 [10:50<14:30,  1.93s/it]"
     ]
    },
    {
     "name": "stdout",
     "output_type": "stream",
     "text": [
      "data/ISD/722695-93041-2020.gz missing for Las Cruces International Airport\n"
     ]
    },
    {
     "name": "stdout",
     "output_type": "stream",
     "text": [
      "/pub/data/noaa/isd-lite/2020\n"
     ]
    },
    {
     "name": "stderr",
     "output_type": "stream",
     "text": [
      "\r",
      " 47%|████▋     | 393/844 [10:52<14:31,  1.93s/it]"
     ]
    },
    {
     "name": "stdout",
     "output_type": "stream",
     "text": [
      "data/ISD/726430-14920-2020.gz missing for La Crosse Municipal Airport\n"
     ]
    },
    {
     "name": "stdout",
     "output_type": "stream",
     "text": [
      "/pub/data/noaa/isd-lite/2020\n"
     ]
    },
    {
     "name": "stderr",
     "output_type": "stream",
     "text": [
      "\r",
      " 47%|████▋     | 394/844 [10:54<14:31,  1.94s/it]"
     ]
    },
    {
     "name": "stdout",
     "output_type": "stream",
     "text": [
      "data/ISD/722250-13829-2020.gz missing for Lawson Army Air Field (Fort Benning)\n"
     ]
    },
    {
     "name": "stdout",
     "output_type": "stream",
     "text": [
      "/pub/data/noaa/isd-lite/2020\n"
     ]
    },
    {
     "name": "stderr",
     "output_type": "stream",
     "text": [
      "\r",
      " 47%|████▋     | 395/844 [10:56<14:44,  1.97s/it]"
     ]
    },
    {
     "name": "stdout",
     "output_type": "stream",
     "text": [
      "data/ISD/746140-23112-2020.gz missing for Nellis Air Force Base\n",
      "/pub/data/noaa/isd-lite/2020\n"
     ]
    },
    {
     "name": "stderr",
     "output_type": "stream",
     "text": [
      "\r",
      " 47%|████▋     | 396/844 [10:58<13:30,  1.81s/it]"
     ]
    },
    {
     "name": "stdout",
     "output_type": "stream",
     "text": [
      "data/ISD/723520-13902-2020.gz missing for Altus Air Force Base\n"
     ]
    },
    {
     "name": "stdout",
     "output_type": "stream",
     "text": [
      "/pub/data/noaa/isd-lite/2020\n"
     ]
    },
    {
     "name": "stderr",
     "output_type": "stream",
     "text": [
      "\r",
      " 47%|████▋     | 397/844 [11:00<14:00,  1.88s/it]"
     ]
    },
    {
     "name": "stdout",
     "output_type": "stream",
     "text": [
      "data/ISD/722785-23111-2020.gz missing for Luke Air Force Base\n"
     ]
    },
    {
     "name": "stdout",
     "output_type": "stream",
     "text": [
      "/pub/data/noaa/isd-lite/2020\n"
     ]
    },
    {
     "name": "stderr",
     "output_type": "stream",
     "text": [
      "\r",
      " 47%|████▋     | 398/844 [11:02<14:34,  1.96s/it]"
     ]
    },
    {
     "name": "stdout",
     "output_type": "stream",
     "text": [
      "data/ISD/724297-93812-2020.gz missing for Cincinnati Municipal Airport Lunken Field\n"
     ]
    },
    {
     "name": "stdout",
     "output_type": "stream",
     "text": [
      "/pub/data/noaa/isd-lite/2020\n"
     ]
    },
    {
     "name": "stderr",
     "output_type": "stream",
     "text": [
      "\r",
      " 47%|████▋     | 399/844 [11:04<14:30,  1.96s/it]"
     ]
    },
    {
     "name": "stdout",
     "output_type": "stream",
     "text": [
      "data/ISD/726798-24150-2020.gz missing for Mission Field\n"
     ]
    },
    {
     "name": "stdout",
     "output_type": "stream",
     "text": [
      "/pub/data/noaa/isd-lite/2020\n"
     ]
    },
    {
     "name": "stderr",
     "output_type": "stream",
     "text": [
      "\r",
      " 47%|████▋     | 400/844 [11:06<14:40,  1.98s/it]"
     ]
    },
    {
     "name": "stdout",
     "output_type": "stream",
     "text": [
      "data/ISD/723677-23054-2020.gz missing for Las Vegas Municipal Airport\n"
     ]
    },
    {
     "name": "stdout",
     "output_type": "stream",
     "text": [
      "/pub/data/noaa/isd-lite/2020\n"
     ]
    },
    {
     "name": "stderr",
     "output_type": "stream",
     "text": [
      "\r",
      " 48%|████▊     | 401/844 [11:08<14:47,  2.00s/it]"
     ]
    },
    {
     "name": "stdout",
     "output_type": "stream",
     "text": [
      "data/ISD/724127-53801-2020.gz missing for Greenbrier Valley Airport\n"
     ]
    },
    {
     "name": "stdout",
     "output_type": "stream",
     "text": [
      "/pub/data/noaa/isd-lite/2020\n"
     ]
    },
    {
     "name": "stderr",
     "output_type": "stream",
     "text": [
      "\r",
      " 48%|████▊     | 402/844 [11:10<13:59,  1.90s/it]"
     ]
    },
    {
     "name": "stdout",
     "output_type": "stream",
     "text": [
      "data/ISD/744904-94723-2020.gz missing for Lawrence Municipal Airport\n",
      "/pub/data/noaa/isd-lite/2020\n"
     ]
    },
    {
     "name": "stderr",
     "output_type": "stream",
     "text": [
      "\r",
      " 48%|████▊     | 403/844 [11:12<14:28,  1.97s/it]"
     ]
    },
    {
     "name": "stdout",
     "output_type": "stream",
     "text": [
      "data/ISD/727830-24149-2020.gz missing for Lewiston Nez Perce County Airport\n",
      "/pub/data/noaa/isd-lite/2020\n"
     ]
    },
    {
     "name": "stderr",
     "output_type": "stream",
     "text": [
      "\r",
      " 48%|████▊     | 404/844 [11:14<14:09,  1.93s/it]"
     ]
    },
    {
     "name": "stdout",
     "output_type": "stream",
     "text": [
      "data/ISD/726776-24036-2020.gz missing for Lewistown Municipal Airport\n",
      "/pub/data/noaa/isd-lite/2020\n"
     ]
    },
    {
     "name": "stderr",
     "output_type": "stream",
     "text": [
      "\r",
      " 48%|████▊     | 405/844 [11:15<13:42,  1.87s/it]"
     ]
    },
    {
     "name": "stdout",
     "output_type": "stream",
     "text": [
      "data/ISD/724100-13733-2020.gz missing for Lynchburg Regional Preston Glenn Field\n"
     ]
    },
    {
     "name": "stdout",
     "output_type": "stream",
     "text": [
      "/pub/data/noaa/isd-lite/2020\n"
     ]
    },
    {
     "name": "stderr",
     "output_type": "stream",
     "text": [
      "\r",
      " 48%|████▊     | 406/844 [11:17<13:23,  1.83s/it]"
     ]
    },
    {
     "name": "stdout",
     "output_type": "stream",
     "text": [
      "data/ISD/722650-23023-2020.gz missing for Midland International Airport\n"
     ]
    },
    {
     "name": "stdout",
     "output_type": "stream",
     "text": [
      "/pub/data/noaa/isd-lite/2020\n"
     ]
    },
    {
     "name": "stderr",
     "output_type": "stream",
     "text": [
      "\r",
      " 48%|████▊     | 407/844 [11:19<13:36,  1.87s/it]"
     ]
    },
    {
     "name": "stdout",
     "output_type": "stream",
     "text": [
      "data/ISD/726685-94052-2020.gz missing for Mobridge Municipal Airport\n"
     ]
    },
    {
     "name": "stdout",
     "output_type": "stream",
     "text": [
      "/pub/data/noaa/isd-lite/2020\n"
     ]
    },
    {
     "name": "stderr",
     "output_type": "stream",
     "text": [
      "\r",
      " 48%|████▊     | 408/844 [11:21<13:31,  1.86s/it]"
     ]
    },
    {
     "name": "stdout",
     "output_type": "stream",
     "text": [
      "data/ISD/726379-14845-2020.gz missing for MBS International Airport\n",
      "/pub/data/noaa/isd-lite/2020\n"
     ]
    },
    {
     "name": "stderr",
     "output_type": "stream",
     "text": [
      "\r",
      " 48%|████▊     | 409/844 [11:23<13:40,  1.89s/it]"
     ]
    },
    {
     "name": "stdout",
     "output_type": "stream",
     "text": [
      "data/ISD/722358-93919-2020.gz missing for McComb-Pike County Airport / John E Lewis Field\n"
     ]
    },
    {
     "name": "stdout",
     "output_type": "stream",
     "text": [
      "/pub/data/noaa/isd-lite/2020\n"
     ]
    },
    {
     "name": "stderr",
     "output_type": "stream",
     "text": [
      "\r",
      " 49%|████▊     | 410/844 [11:25<13:46,  1.90s/it]"
     ]
    },
    {
     "name": "stdout",
     "output_type": "stream",
     "text": [
      "data/ISD/724836-23208-2020.gz missing for Mc Clellan Airfield\n"
     ]
    },
    {
     "name": "stdout",
     "output_type": "stream",
     "text": [
      "/pub/data/noaa/isd-lite/2020\n"
     ]
    },
    {
     "name": "stderr",
     "output_type": "stream",
     "text": [
      "\r",
      " 49%|████▊     | 411/844 [11:26<12:56,  1.79s/it]"
     ]
    },
    {
     "name": "stdout",
     "output_type": "stream",
     "text": [
      "data/ISD/724815-23257-2020.gz missing for Merced Regional Macready Field\n"
     ]
    },
    {
     "name": "stdout",
     "output_type": "stream",
     "text": [
      "/pub/data/noaa/isd-lite/2020\n"
     ]
    },
    {
     "name": "stderr",
     "output_type": "stream",
     "text": [
      "\r",
      " 49%|████▉     | 412/844 [11:28<13:41,  1.90s/it]"
     ]
    },
    {
     "name": "stdout",
     "output_type": "stream",
     "text": [
      "data/ISD/747880-12810-2020.gz missing for Mac Dill Air Force Base\n"
     ]
    },
    {
     "name": "stdout",
     "output_type": "stream",
     "text": [
      "/pub/data/noaa/isd-lite/2020\n"
     ]
    },
    {
     "name": "stderr",
     "output_type": "stream",
     "text": [
      "\r",
      " 49%|████▉     | 413/844 [11:31<13:59,  1.95s/it]"
     ]
    },
    {
     "name": "stdout",
     "output_type": "stream",
     "text": [
      "data/ISD/724460-03947-2020.gz missing for Kansas City International Airport\n",
      "/pub/data/noaa/isd-lite/2020\n"
     ]
    },
    {
     "name": "stderr",
     "output_type": "stream",
     "text": [
      "\r",
      " 49%|████▉     | 414/844 [11:32<13:42,  1.91s/it]"
     ]
    },
    {
     "name": "stdout",
     "output_type": "stream",
     "text": [
      "data/ISD/725625-94040-2020.gz missing for Mc Cook Ben Nelson Regional Airport\n"
     ]
    },
    {
     "name": "stdout",
     "output_type": "stream",
     "text": [
      "/pub/data/noaa/isd-lite/2020\n"
     ]
    },
    {
     "name": "stderr",
     "output_type": "stream",
     "text": [
      "\r",
      " 49%|████▉     | 415/844 [11:34<13:58,  1.95s/it]"
     ]
    },
    {
     "name": "stdout",
     "output_type": "stream",
     "text": [
      "data/ISD/722170-03813-2020.gz missing for Middle Georgia Regional Airport\n"
     ]
    },
    {
     "name": "stdout",
     "output_type": "stream",
     "text": [
      "/pub/data/noaa/isd-lite/2020\n"
     ]
    },
    {
     "name": "stderr",
     "output_type": "stream",
     "text": [
      "\r",
      " 49%|████▉     | 416/844 [11:36<13:42,  1.92s/it]"
     ]
    },
    {
     "name": "stdout",
     "output_type": "stream",
     "text": [
      "data/ISD/722050-12815-2020.gz missing for Orlando International Airport\n"
     ]
    },
    {
     "name": "stdout",
     "output_type": "stream",
     "text": [
      "/pub/data/noaa/isd-lite/2020\n"
     ]
    },
    {
     "name": "stderr",
     "output_type": "stream",
     "text": [
      "\r",
      " 49%|████▉     | 417/844 [11:38<13:31,  1.90s/it]"
     ]
    },
    {
     "name": "stdout",
     "output_type": "stream",
     "text": [
      "data/ISD/725485-14940-2020.gz missing for Mason City Municipal Airport\n",
      "/pub/data/noaa/isd-lite/2020\n"
     ]
    },
    {
     "name": "stderr",
     "output_type": "stream",
     "text": [
      "\r",
      " 50%|████▉     | 418/844 [11:40<13:34,  1.91s/it]"
     ]
    },
    {
     "name": "stdout",
     "output_type": "stream",
     "text": [
      "data/ISD/724336-93810-2020.gz missing for Southern Illinois Airport\n"
     ]
    },
    {
     "name": "stdout",
     "output_type": "stream",
     "text": [
      "/pub/data/noaa/isd-lite/2020\n"
     ]
    },
    {
     "name": "stderr",
     "output_type": "stream",
     "text": [
      "\r",
      " 50%|████▉     | 419/844 [11:42<13:25,  1.89s/it]"
     ]
    },
    {
     "name": "stdout",
     "output_type": "stream",
     "text": [
      "data/ISD/723990-14711-2020.gz missing for Harrisburg International Airport\n",
      "/pub/data/noaa/isd-lite/2020\n"
     ]
    },
    {
     "name": "stderr",
     "output_type": "stream",
     "text": [
      "\r",
      " 50%|████▉     | 420/844 [11:44<13:28,  1.91s/it]"
     ]
    },
    {
     "name": "stdout",
     "output_type": "stream",
     "text": [
      "data/ISD/725340-14819-2020.gz missing for Chicago Midway International Airport\n"
     ]
    },
    {
     "name": "stdout",
     "output_type": "stream",
     "text": [
      "/pub/data/noaa/isd-lite/2020\n"
     ]
    },
    {
     "name": "stderr",
     "output_type": "stream",
     "text": [
      "\r",
      " 50%|████▉     | 421/844 [11:46<13:31,  1.92s/it]"
     ]
    },
    {
     "name": "stdout",
     "output_type": "stream",
     "text": [
      "data/ISD/722340-13865-2020.gz missing for Key Field\n"
     ]
    },
    {
     "name": "stdout",
     "output_type": "stream",
     "text": [
      "/pub/data/noaa/isd-lite/2020\n"
     ]
    },
    {
     "name": "stderr",
     "output_type": "stream",
     "text": [
      "\r",
      " 50%|█████     | 422/844 [11:48<13:32,  1.93s/it]"
     ]
    },
    {
     "name": "stdout",
     "output_type": "stream",
     "text": [
      "data/ISD/723340-13893-2020.gz missing for Memphis International Airport\n"
     ]
    },
    {
     "name": "stdout",
     "output_type": "stream",
     "text": [
      "/pub/data/noaa/isd-lite/2020\n"
     ]
    },
    {
     "name": "stderr",
     "output_type": "stream",
     "text": [
      "\r",
      " 50%|█████     | 423/844 [11:50<13:20,  1.90s/it]"
     ]
    },
    {
     "name": "stdout",
     "output_type": "stream",
     "text": [
      "data/ISD/724810-23203-2020.gz missing for Castle Airport\n",
      "/pub/data/noaa/isd-lite/2020\n"
     ]
    },
    {
     "name": "stderr",
     "output_type": "stream",
     "text": [
      "\r",
      " 50%|█████     | 424/844 [11:50<11:06,  1.59s/it]"
     ]
    },
    {
     "name": "stdout",
     "output_type": "stream",
     "text": [
      "data/ISD/724200-14891-2020.gz missing for Mansfield Lahm Regional Airport\n",
      "/pub/data/noaa/isd-lite/2020\n"
     ]
    },
    {
     "name": "stderr",
     "output_type": "stream",
     "text": [
      "\r",
      " 50%|█████     | 425/844 [11:52<11:58,  1.72s/it]"
     ]
    },
    {
     "name": "stdout",
     "output_type": "stream",
     "text": [
      "data/ISD/722506-12959-2020.gz missing for Mc Allen Miller International Airport\n"
     ]
    },
    {
     "name": "stdout",
     "output_type": "stream",
     "text": [
      "/pub/data/noaa/isd-lite/2020\n"
     ]
    },
    {
     "name": "stderr",
     "output_type": "stream",
     "text": [
      "\r",
      " 50%|█████     | 426/844 [11:55<12:51,  1.85s/it]"
     ]
    },
    {
     "name": "stdout",
     "output_type": "stream",
     "text": [
      "data/ISD/725970-24225-2020.gz missing for Rogue Valley International Medford Airport\n",
      "/pub/data/noaa/isd-lite/2020\n"
     ]
    },
    {
     "name": "stderr",
     "output_type": "stream",
     "text": [
      "\r",
      " 51%|█████     | 427/844 [11:57<13:02,  1.88s/it]"
     ]
    },
    {
     "name": "stdout",
     "output_type": "stream",
     "text": [
      "data/ISD/722270-13864-2020.gz missing for Dobbins Air Reserve Base\n"
     ]
    },
    {
     "name": "stdout",
     "output_type": "stream",
     "text": [
      "/pub/data/noaa/isd-lite/2020\n"
     ]
    },
    {
     "name": "stderr",
     "output_type": "stream",
     "text": [
      "\r",
      " 51%|█████     | 428/844 [11:58<12:43,  1.84s/it]"
     ]
    },
    {
     "name": "stdout",
     "output_type": "stream",
     "text": [
      "data/ISD/722260-13895-2020.gz missing for Montgomery Regional (Dannelly Field) Airport\n"
     ]
    },
    {
     "name": "stdout",
     "output_type": "stream",
     "text": [
      "/pub/data/noaa/isd-lite/2020\n"
     ]
    },
    {
     "name": "stderr",
     "output_type": "stream",
     "text": [
      "\r",
      " 51%|█████     | 429/844 [12:00<12:44,  1.84s/it]"
     ]
    },
    {
     "name": "stdout",
     "output_type": "stream",
     "text": [
      "data/ISD/724176-13736-2020.gz missing for Morgantown Municipal Walter L. Bill Hart Field\n",
      "/pub/data/noaa/isd-lite/2020\n"
     ]
    },
    {
     "name": "stderr",
     "output_type": "stream",
     "text": [
      "\r",
      " 51%|█████     | 430/844 [12:02<12:53,  1.87s/it]"
     ]
    },
    {
     "name": "stdout",
     "output_type": "stream",
     "text": [
      "data/ISD/724555-03936-2020.gz missing for Manhattan Regional Airport\n"
     ]
    },
    {
     "name": "stdout",
     "output_type": "stream",
     "text": [
      "/pub/data/noaa/isd-lite/2020\n"
     ]
    },
    {
     "name": "stderr",
     "output_type": "stream",
     "text": [
      "\r",
      " 51%|█████     | 431/844 [12:04<13:03,  1.90s/it]"
     ]
    },
    {
     "name": "stdout",
     "output_type": "stream",
     "text": [
      "data/ISD/724833-23206-2020.gz missing for Sacramento Mather Airport\n",
      "/pub/data/noaa/isd-lite/2020\n"
     ]
    },
    {
     "name": "stderr",
     "output_type": "stream",
     "text": [
      "\r",
      " 51%|█████     | 432/844 [12:05<11:24,  1.66s/it]"
     ]
    },
    {
     "name": "stdout",
     "output_type": "stream",
     "text": [
      "data/ISD/743945-14710-2020.gz missing for Manchester-Boston Regional Airport\n"
     ]
    },
    {
     "name": "stdout",
     "output_type": "stream",
     "text": [
      "/pub/data/noaa/isd-lite/2020\n"
     ]
    },
    {
     "name": "stderr",
     "output_type": "stream",
     "text": [
      "\r",
      " 51%|█████▏    | 433/844 [12:07<12:10,  1.78s/it]"
     ]
    },
    {
     "name": "stdout",
     "output_type": "stream",
     "text": [
      "data/ISD/722020-12839-2020.gz missing for Miami International Airport\n"
     ]
    },
    {
     "name": "stdout",
     "output_type": "stream",
     "text": [
      "/pub/data/noaa/isd-lite/2020\n"
     ]
    },
    {
     "name": "stderr",
     "output_type": "stream",
     "text": [
      "\r",
      " 51%|█████▏    | 434/844 [12:09<12:54,  1.89s/it]"
     ]
    },
    {
     "name": "stdout",
     "output_type": "stream",
     "text": [
      "data/ISD/727675-94011-2020.gz missing for Minot Air Force Base\n"
     ]
    },
    {
     "name": "stdout",
     "output_type": "stream",
     "text": [
      "/pub/data/noaa/isd-lite/2020\n"
     ]
    },
    {
     "name": "stderr",
     "output_type": "stream",
     "text": [
      "\r",
      " 52%|█████▏    | 435/844 [12:12<13:37,  2.00s/it]"
     ]
    },
    {
     "name": "stdout",
     "output_type": "stream",
     "text": [
      "data/ISD/725336-94895-2020.gz missing for Delaware County Johnson Field\n"
     ]
    },
    {
     "name": "stdout",
     "output_type": "stream",
     "text": [
      "/pub/data/noaa/isd-lite/2020\n"
     ]
    },
    {
     "name": "stderr",
     "output_type": "stream",
     "text": [
      "\r",
      " 52%|█████▏    | 436/844 [12:14<13:43,  2.02s/it]"
     ]
    },
    {
     "name": "stdout",
     "output_type": "stream",
     "text": [
      "data/ISD/724075-13735-2020.gz missing for Millville Municipal Airport\n",
      "/pub/data/noaa/isd-lite/2020\n"
     ]
    },
    {
     "name": "stderr",
     "output_type": "stream",
     "text": [
      "\r",
      " 52%|█████▏    | 437/844 [12:16<13:30,  1.99s/it]"
     ]
    },
    {
     "name": "stdout",
     "output_type": "stream",
     "text": [
      "data/ISD/724463-13988-2020.gz missing for Charles B. Wheeler Downtown Airport\n"
     ]
    },
    {
     "name": "stdout",
     "output_type": "stream",
     "text": [
      "/pub/data/noaa/isd-lite/2020\n"
     ]
    },
    {
     "name": "stderr",
     "output_type": "stream",
     "text": [
      "\r",
      " 52%|█████▏    | 438/844 [12:18<13:47,  2.04s/it]"
     ]
    },
    {
     "name": "stdout",
     "output_type": "stream",
     "text": [
      "data/ISD/726400-14839-2020.gz missing for General Mitchell International Airport\n"
     ]
    },
    {
     "name": "stdout",
     "output_type": "stream",
     "text": [
      "/pub/data/noaa/isd-lite/2020\n"
     ]
    },
    {
     "name": "stderr",
     "output_type": "stream",
     "text": [
      "\r",
      " 52%|█████▏    | 439/844 [12:20<13:22,  1.98s/it]"
     ]
    },
    {
     "name": "stdout",
     "output_type": "stream",
     "text": [
      "data/ISD/726360-14840-2020.gz missing for Muskegon County Airport\n"
     ]
    },
    {
     "name": "stdout",
     "output_type": "stream",
     "text": [
      "/pub/data/noaa/isd-lite/2020\n"
     ]
    },
    {
     "name": "stderr",
     "output_type": "stream",
     "text": [
      "\r",
      " 52%|█████▏    | 440/844 [12:21<12:57,  1.92s/it]"
     ]
    },
    {
     "name": "stdout",
     "output_type": "stream",
     "text": [
      "data/ISD/723346-03811-2020.gz missing for McKellar-Sipes Regional Airport\n",
      "/pub/data/noaa/isd-lite/2020\n"
     ]
    },
    {
     "name": "stderr",
     "output_type": "stream",
     "text": [
      "\r",
      " 52%|█████▏    | 441/844 [12:23<13:16,  1.98s/it]"
     ]
    },
    {
     "name": "stdout",
     "output_type": "stream",
     "text": [
      "data/ISD/722040-12838-2020.gz missing for Melbourne International Airport\n"
     ]
    },
    {
     "name": "stdout",
     "output_type": "stream",
     "text": [
      "/pub/data/noaa/isd-lite/2020\n"
     ]
    },
    {
     "name": "stderr",
     "output_type": "stream",
     "text": [
      "\r",
      " 52%|█████▏    | 442/844 [12:26<13:23,  2.00s/it]"
     ]
    },
    {
     "name": "stdout",
     "output_type": "stream",
     "text": [
      "data/ISD/723566-93950-2020.gz missing for Mc Alester Regional Airport\n"
     ]
    },
    {
     "name": "stdout",
     "output_type": "stream",
     "text": [
      "/pub/data/noaa/isd-lite/2020\n"
     ]
    },
    {
     "name": "stderr",
     "output_type": "stream",
     "text": [
      "\r",
      " 52%|█████▏    | 443/844 [12:27<12:52,  1.93s/it]"
     ]
    },
    {
     "name": "stdout",
     "output_type": "stream",
     "text": [
      "data/ISD/725440-14923-2020.gz missing for Quad City International Airport\n",
      "/pub/data/noaa/isd-lite/2020\n"
     ]
    },
    {
     "name": "stderr",
     "output_type": "stream",
     "text": [
      "\r",
      " 53%|█████▎    | 444/844 [12:30<13:27,  2.02s/it]"
     ]
    },
    {
     "name": "stdout",
     "output_type": "stream",
     "text": [
      "data/ISD/742300-24037-2020.gz missing for Frank Wiley Field\n",
      "/pub/data/noaa/isd-lite/2020\n"
     ]
    },
    {
     "name": "stderr",
     "output_type": "stream",
     "text": [
      "\r",
      " 53%|█████▎    | 445/844 [12:31<12:52,  1.94s/it]"
     ]
    },
    {
     "name": "stdout",
     "output_type": "stream",
     "text": [
      "data/ISD/722486-13942-2020.gz missing for Monroe Regional Airport\n",
      "/pub/data/noaa/isd-lite/2020\n"
     ]
    },
    {
     "name": "stderr",
     "output_type": "stream",
     "text": [
      "\r",
      " 53%|█████▎    | 446/844 [12:33<12:53,  1.94s/it]"
     ]
    },
    {
     "name": "stdout",
     "output_type": "stream",
     "text": [
      "data/ISD/723105-03858-2020.gz missing for Mc Entire Joint National Guard Base\n",
      "/pub/data/noaa/isd-lite/2020\n"
     ]
    },
    {
     "name": "stderr",
     "output_type": "stream",
     "text": [
      "\r",
      " 53%|█████▎    | 447/844 [12:35<13:02,  1.97s/it]"
     ]
    },
    {
     "name": "stdout",
     "output_type": "stream",
     "text": [
      "data/ISD/724097-54738-2020.gz missing for Morristown Municipal Airport\n"
     ]
    },
    {
     "name": "stdout",
     "output_type": "stream",
     "text": [
      "/pub/data/noaa/isd-lite/2020\n"
     ]
    },
    {
     "name": "stderr",
     "output_type": "stream",
     "text": [
      "\r",
      " 53%|█████▎    | 448/844 [12:36<11:21,  1.72s/it]"
     ]
    },
    {
     "name": "stdout",
     "output_type": "stream",
     "text": [
      "data/ISD/726881-94273-2020.gz missing for Mc Minnville Municipal Airport\n",
      "/pub/data/noaa/isd-lite/2020\n"
     ]
    },
    {
     "name": "stderr",
     "output_type": "stream",
     "text": [
      "\r",
      " 53%|█████▎    | 449/844 [12:39<12:09,  1.85s/it]"
     ]
    },
    {
     "name": "stdout",
     "output_type": "stream",
     "text": [
      "data/ISD/722230-13894-2020.gz missing for Mobile Regional Airport\n"
     ]
    },
    {
     "name": "stdout",
     "output_type": "stream",
     "text": [
      "/pub/data/noaa/isd-lite/2020\n"
     ]
    },
    {
     "name": "stderr",
     "output_type": "stream",
     "text": [
      "\r",
      " 53%|█████▎    | 450/844 [12:41<12:43,  1.94s/it]"
     ]
    },
    {
     "name": "stdout",
     "output_type": "stream",
     "text": [
      "data/ISD/724926-23258-2020.gz missing for Modesto City Co-Harry Sham Field\n"
     ]
    },
    {
     "name": "stdout",
     "output_type": "stream",
     "text": [
      "/pub/data/noaa/isd-lite/2020\n"
     ]
    },
    {
     "name": "stderr",
     "output_type": "stream",
     "text": [
      "\r",
      " 53%|█████▎    | 451/844 [12:42<11:56,  1.82s/it]"
     ]
    },
    {
     "name": "stdout",
     "output_type": "stream",
     "text": [
      "data/ISD/727676-24013-2020.gz missing for Minot International Airport\n",
      "/pub/data/noaa/isd-lite/2020\n"
     ]
    },
    {
     "name": "stderr",
     "output_type": "stream",
     "text": [
      "\r",
      " 54%|█████▎    | 452/844 [12:44<11:54,  1.82s/it]"
     ]
    },
    {
     "name": "stdout",
     "output_type": "stream",
     "text": [
      "data/ISD/726145-94705-2020.gz missing for Edward F Knapp State Airport\n"
     ]
    },
    {
     "name": "stdout",
     "output_type": "stream",
     "text": [
      "/pub/data/noaa/isd-lite/2020\n"
     ]
    },
    {
     "name": "stderr",
     "output_type": "stream",
     "text": [
      "\r",
      " 54%|█████▎    | 453/844 [12:46<12:19,  1.89s/it]"
     ]
    },
    {
     "name": "stdout",
     "output_type": "stream",
     "text": [
      "data/ISD/723273-13827-2020.gz missing for Smyrna Airport\n",
      "/pub/data/noaa/isd-lite/2020\n"
     ]
    },
    {
     "name": "stderr",
     "output_type": "stream",
     "text": [
      "\r",
      " 54%|█████▍    | 454/844 [12:48<12:11,  1.88s/it]"
     ]
    },
    {
     "name": "stdout",
     "output_type": "stream",
     "text": [
      "data/ISD/724177-13734-2020.gz missing for Eastern WV Regional Airport/Shepherd Field\n",
      "/pub/data/noaa/isd-lite/2020\n"
     ]
    },
    {
     "name": "stderr",
     "output_type": "stream",
     "text": [
      "\r",
      " 54%|█████▍    | 455/844 [12:50<11:42,  1.80s/it]"
     ]
    },
    {
     "name": "stdout",
     "output_type": "stream",
     "text": [
      "data/ISD/724915-23259-2020.gz missing for Monterey Peninsula Airport\n",
      "/pub/data/noaa/isd-lite/2020\n"
     ]
    },
    {
     "name": "stderr",
     "output_type": "stream",
     "text": [
      "\r",
      " 54%|█████▍    | 456/844 [12:51<11:51,  1.83s/it]"
     ]
    },
    {
     "name": "stdout",
     "output_type": "stream",
     "text": [
      "data/ISD/723235-13896-2020.gz missing for Northwest Alabama Regional Airport\n",
      "/pub/data/noaa/isd-lite/2020\n"
     ]
    },
    {
     "name": "stderr",
     "output_type": "stream",
     "text": [
      "\r",
      " 54%|█████▍    | 457/844 [12:53<11:57,  1.85s/it]"
     ]
    },
    {
     "name": "stdout",
     "output_type": "stream",
     "text": [
      "data/ISD/726410-14837-2020.gz missing for Dane County Regional Truax Field\n",
      "/pub/data/noaa/isd-lite/2020\n"
     ]
    },
    {
     "name": "stderr",
     "output_type": "stream",
     "text": [
      "\r",
      " 54%|█████▍    | 458/844 [12:55<12:05,  1.88s/it]"
     ]
    },
    {
     "name": "stdout",
     "output_type": "stream",
     "text": [
      "data/ISD/727730-24153-2020.gz missing for Missoula International Airport\n"
     ]
    },
    {
     "name": "stdout",
     "output_type": "stream",
     "text": [
      "/pub/data/noaa/isd-lite/2020\n"
     ]
    },
    {
     "name": "stderr",
     "output_type": "stream",
     "text": [
      "\r",
      " 54%|█████▍    | 459/844 [12:57<12:10,  1.90s/it]"
     ]
    },
    {
     "name": "stdout",
     "output_type": "stream",
     "text": [
      "data/ISD/726580-14922-2020.gz missing for Minneapolis-St Paul International/Wold-Chamberlain Airport\n"
     ]
    },
    {
     "name": "stdout",
     "output_type": "stream",
     "text": [
      "/pub/data/noaa/isd-lite/2020\n"
     ]
    },
    {
     "name": "stderr",
     "output_type": "stream",
     "text": [
      "\r",
      " 55%|█████▍    | 460/844 [12:59<11:27,  1.79s/it]"
     ]
    },
    {
     "name": "stdout",
     "output_type": "stream",
     "text": [
      "data/ISD/726223-94725-2020.gz missing for Massena International Richards Field\n"
     ]
    },
    {
     "name": "stdout",
     "output_type": "stream",
     "text": [
      "/pub/data/noaa/isd-lite/2020\n"
     ]
    },
    {
     "name": "stderr",
     "output_type": "stream",
     "text": [
      "\r",
      " 55%|█████▍    | 461/844 [13:01<11:55,  1.87s/it]"
     ]
    },
    {
     "name": "stdout",
     "output_type": "stream",
     "text": [
      "data/ISD/722310-12916-2020.gz missing for Louis Armstrong New Orleans International Airport\n"
     ]
    },
    {
     "name": "stdout",
     "output_type": "stream",
     "text": [
      "/pub/data/noaa/isd-lite/2020\n"
     ]
    },
    {
     "name": "stderr",
     "output_type": "stream",
     "text": [
      "\r",
      " 55%|█████▍    | 462/844 [13:03<11:52,  1.86s/it]"
     ]
    },
    {
     "name": "stdout",
     "output_type": "stream",
     "text": [
      "data/ISD/725377-14804-2020.gz missing for Selfridge Air National Guard Base Airport\n",
      "/pub/data/noaa/isd-lite/2020\n"
     ]
    },
    {
     "name": "stderr",
     "output_type": "stream",
     "text": [
      "\r",
      " 55%|█████▍    | 463/844 [13:05<12:21,  1.95s/it]"
     ]
    },
    {
     "name": "stdout",
     "output_type": "stream",
     "text": [
      "data/ISD/722016-12896-2020.gz missing for The Florida Keys Marathon Airport\n"
     ]
    },
    {
     "name": "stdout",
     "output_type": "stream",
     "text": [
      "/pub/data/noaa/isd-lite/2020\n"
     ]
    },
    {
     "name": "stderr",
     "output_type": "stream",
     "text": [
      "\r",
      " 55%|█████▍    | 464/844 [13:07<12:31,  1.98s/it]"
     ]
    },
    {
     "name": "stdout",
     "output_type": "stream",
     "text": [
      "data/ISD/724765-93013-2020.gz missing for Montrose Regional Airport\n",
      "/pub/data/noaa/isd-lite/2020\n"
     ]
    },
    {
     "name": "stderr",
     "output_type": "stream",
     "text": [
      "\r",
      " 55%|█████▌    | 465/844 [13:09<13:00,  2.06s/it]"
     ]
    },
    {
     "name": "stdout",
     "output_type": "stream",
     "text": [
      "data/ISD/724067-93744-2020.gz missing for Martin State Airport\n"
     ]
    },
    {
     "name": "stdout",
     "output_type": "stream",
     "text": [
      "/pub/data/noaa/isd-lite/2020\n"
     ]
    },
    {
     "name": "stderr",
     "output_type": "stream",
     "text": [
      "\r",
      " 55%|█████▌    | 466/844 [13:11<12:22,  1.96s/it]"
     ]
    },
    {
     "name": "stdout",
     "output_type": "stream",
     "text": [
      "data/ISD/725144-54723-2020.gz missing for Muir Army Air Field (Fort Indiantown Gap) Airport\n"
     ]
    },
    {
     "name": "stdout",
     "output_type": "stream",
     "text": [
      "/pub/data/noaa/isd-lite/2020\n"
     ]
    },
    {
     "name": "stderr",
     "output_type": "stream",
     "text": [
      "\r",
      " 55%|█████▌    | 467/844 [13:13<12:10,  1.94s/it]"
     ]
    },
    {
     "name": "stdout",
     "output_type": "stream",
     "text": [
      "data/ISD/726815-24106-2020.gz missing for Mountain Home Air Force Base\n",
      "/pub/data/noaa/isd-lite/2020\n"
     ]
    },
    {
     "name": "stderr",
     "output_type": "stream",
     "text": [
      "\r",
      " 55%|█████▌    | 468/844 [13:15<12:07,  1.93s/it]"
     ]
    },
    {
     "name": "stdout",
     "output_type": "stream",
     "text": [
      "data/ISD/727827-24110-2020.gz missing for Grant County International Airport\n",
      "/pub/data/noaa/isd-lite/2020\n"
     ]
    },
    {
     "name": "stderr",
     "output_type": "stream",
     "text": [
      "\r",
      " 56%|█████▌    | 469/844 [13:17<12:05,  1.93s/it]"
     ]
    },
    {
     "name": "stdout",
     "output_type": "stream",
     "text": [
      "data/ISD/722265-13821-2020.gz missing for Maxwell Air Force Base\n"
     ]
    },
    {
     "name": "stdout",
     "output_type": "stream",
     "text": [
      "/pub/data/noaa/isd-lite/2020\n"
     ]
    },
    {
     "name": "stderr",
     "output_type": "stream",
     "text": [
      "\r",
      " 56%|█████▌    | 470/844 [13:19<12:27,  2.00s/it]"
     ]
    },
    {
     "name": "stdout",
     "output_type": "stream",
     "text": [
      "data/ISD/725864-94182-2020.gz missing for McCall Municipal Airport\n",
      "/pub/data/noaa/isd-lite/2020\n"
     ]
    },
    {
     "name": "stderr",
     "output_type": "stream",
     "text": [
      "\r",
      " 56%|█████▌    | 471/844 [13:21<12:08,  1.95s/it]"
     ]
    },
    {
     "name": "stdout",
     "output_type": "stream",
     "text": [
      "data/ISD/747910-13717-2020.gz missing for Myrtle Beach International Airport\n"
     ]
    },
    {
     "name": "stdout",
     "output_type": "stream",
     "text": [
      "/pub/data/noaa/isd-lite/2020\n"
     ]
    },
    {
     "name": "stderr",
     "output_type": "stream",
     "text": [
      "\r",
      " 56%|█████▌    | 472/844 [13:22<11:54,  1.92s/it]"
     ]
    },
    {
     "name": "stdout",
     "output_type": "stream",
     "text": [
      "data/ISD/724838-93205-2020.gz missing for Yuba County Airport\n"
     ]
    },
    {
     "name": "stdout",
     "output_type": "stream",
     "text": [
      "/pub/data/noaa/isd-lite/2020\n"
     ]
    },
    {
     "name": "stderr",
     "output_type": "stream",
     "text": [
      "\r",
      " 56%|█████▌    | 473/844 [13:25<12:06,  1.96s/it]"
     ]
    },
    {
     "name": "stdout",
     "output_type": "stream",
     "text": [
      "data/ISD/722085-93831-2020.gz missing for Beaufort MCAS - Merritt Field\n"
     ]
    },
    {
     "name": "stdout",
     "output_type": "stream",
     "text": [
      "/pub/data/noaa/isd-lite/2020\n"
     ]
    },
    {
     "name": "stderr",
     "output_type": "stream",
     "text": [
      "\r",
      " 56%|█████▌    | 474/844 [13:27<12:26,  2.02s/it]"
     ]
    },
    {
     "name": "stdout",
     "output_type": "stream",
     "text": [
      "data/ISD/722316-12958-2020.gz missing for New Orleans NAS JRB/Alvin Callender Field\n",
      "/pub/data/noaa/isd-lite/2020\n"
     ]
    },
    {
     "name": "stderr",
     "output_type": "stream",
     "text": [
      "\r",
      " 56%|█████▋    | 475/844 [13:28<11:53,  1.93s/it]"
     ]
    },
    {
     "name": "stdout",
     "output_type": "stream",
     "text": [
      "data/ISD/723096-93727-2020.gz missing for New River MCAS /H/ /Mccutcheon Fld/ Airport\n"
     ]
    },
    {
     "name": "stdout",
     "output_type": "stream",
     "text": [
      "/pub/data/noaa/isd-lite/2020\n"
     ]
    },
    {
     "name": "stderr",
     "output_type": "stream",
     "text": [
      "\r",
      " 56%|█████▋    | 476/844 [13:30<12:04,  1.97s/it]"
     ]
    },
    {
     "name": "stdout",
     "output_type": "stream",
     "text": [
      "data/ISD/720383-53847-2020.gz missing for Whiting Field Naval Air Station South Airport\n",
      "/pub/data/noaa/isd-lite/2020\n"
     ]
    },
    {
     "name": "stderr",
     "output_type": "stream",
     "text": [
      "\r",
      " 57%|█████▋    | 477/844 [13:32<12:05,  1.98s/it]"
     ]
    },
    {
     "name": "stdout",
     "output_type": "stream",
     "text": [
      "data/ISD/724090-14780-2020.gz missing for Lakehurst Maxfield Field Airport\n",
      "/pub/data/noaa/isd-lite/2020\n"
     ]
    },
    {
     "name": "stderr",
     "output_type": "stream",
     "text": [
      "\r",
      " 57%|█████▋    | 478/844 [13:34<11:43,  1.92s/it]"
     ]
    },
    {
     "name": "stdout",
     "output_type": "stream",
     "text": [
      "data/ISD/722315-53917-2020.gz missing for Lakefront Airport\n"
     ]
    },
    {
     "name": "stdout",
     "output_type": "stream",
     "text": [
      "/pub/data/noaa/isd-lite/2020\n"
     ]
    },
    {
     "name": "stderr",
     "output_type": "stream",
     "text": [
      "\r",
      " 57%|█████▋    | 479/844 [13:36<12:06,  1.99s/it]"
     ]
    },
    {
     "name": "stdout",
     "output_type": "stream",
     "text": [
      "data/ISD/722926-03154-2020.gz missing for Camp Pendleton MCAS (Munn Field) Airport\n"
     ]
    },
    {
     "name": "stdout",
     "output_type": "stream",
     "text": [
      "/pub/data/noaa/isd-lite/2020\n"
     ]
    },
    {
     "name": "stderr",
     "output_type": "stream",
     "text": [
      "\r",
      " 57%|█████▋    | 480/844 [13:38<11:59,  1.98s/it]"
     ]
    },
    {
     "name": "stdout",
     "output_type": "stream",
     "text": [
      "data/ISD/724885-93102-2020.gz missing for Fallon Naval Air Station\n"
     ]
    },
    {
     "name": "stdout",
     "output_type": "stream",
     "text": [
      "/pub/data/noaa/isd-lite/2020\n"
     ]
    },
    {
     "name": "stderr",
     "output_type": "stream",
     "text": [
      "\r",
      " 57%|█████▋    | 481/844 [13:40<11:20,  1.88s/it]"
     ]
    },
    {
     "name": "stdout",
     "output_type": "stream",
     "text": [
      "data/ISD/722595-13911-2020.gz missing for NAS Fort Worth JRB/Carswell Field\n",
      "/pub/data/noaa/isd-lite/2020\n"
     ]
    },
    {
     "name": "stderr",
     "output_type": "stream",
     "text": [
      "\r",
      " 57%|█████▋    | 482/844 [13:42<11:37,  1.93s/it]"
     ]
    },
    {
     "name": "stdout",
     "output_type": "stream",
     "text": [
      "data/ISD/722515-12926-2020.gz missing for Corpus Christi Naval Air Station/Truax Field\n"
     ]
    },
    {
     "name": "stdout",
     "output_type": "stream",
     "text": [
      "/pub/data/noaa/isd-lite/2020\n"
     ]
    },
    {
     "name": "stderr",
     "output_type": "stream",
     "text": [
      "\r",
      " 57%|█████▋    | 483/844 [13:44<11:37,  1.93s/it]"
     ]
    },
    {
     "name": "stdout",
     "output_type": "stream",
     "text": [
      "data/ISD/723085-13750-2020.gz missing for Norfolk Naval Station (Chambers Field)\n"
     ]
    },
    {
     "name": "stdout",
     "output_type": "stream",
     "text": [
      "/pub/data/noaa/isd-lite/2020\n"
     ]
    },
    {
     "name": "stderr",
     "output_type": "stream",
     "text": [
      "\r",
      " 57%|█████▋    | 484/844 [13:46<11:53,  1.98s/it]"
     ]
    },
    {
     "name": "stdout",
     "output_type": "stream",
     "text": [
      "data/ISD/724040-13721-2020.gz missing for Patuxent River Naval Air Station (Trapnell Field)\n",
      "/pub/data/noaa/isd-lite/2020\n"
     ]
    },
    {
     "name": "stderr",
     "output_type": "stream",
     "text": [
      "\r",
      " 57%|█████▋    | 485/844 [13:48<11:28,  1.92s/it]"
     ]
    },
    {
     "name": "stdout",
     "output_type": "stream",
     "text": [
      "data/ISD/746120-93104-2020.gz missing for China Lake Naws (Armitage Field) Airport\n",
      "/pub/data/noaa/isd-lite/2020\n"
     ]
    },
    {
     "name": "stderr",
     "output_type": "stream",
     "text": [
      "\r",
      " 58%|█████▊    | 486/844 [13:49<10:48,  1.81s/it]"
     ]
    },
    {
     "name": "stdout",
     "output_type": "stream",
     "text": [
      "data/ISD/722065-93837-2020.gz missing for Jacksonville Naval Air Station (Towers Field)\n"
     ]
    },
    {
     "name": "stdout",
     "output_type": "stream",
     "text": [
      "/pub/data/noaa/isd-lite/2020\n"
     ]
    },
    {
     "name": "stderr",
     "output_type": "stream",
     "text": [
      "\r",
      " 58%|█████▊    | 487/844 [13:52<11:22,  1.91s/it]"
     ]
    },
    {
     "name": "stdout",
     "output_type": "stream",
     "text": [
      "data/ISD/722810-23199-2020.gz missing for El Centro NAF Airport (Vraciu Field)\n"
     ]
    },
    {
     "name": "stdout",
     "output_type": "stream",
     "text": [
      "/pub/data/noaa/isd-lite/2020\n"
     ]
    },
    {
     "name": "stderr",
     "output_type": "stream",
     "text": [
      "\r",
      " 58%|█████▊    | 488/844 [13:54<11:35,  1.95s/it]"
     ]
    },
    {
     "name": "stdout",
     "output_type": "stream",
     "text": [
      "data/ISD/723090-13754-2020.gz missing for Cherry Point MCAS /Cunningham Field/\n"
     ]
    },
    {
     "name": "stdout",
     "output_type": "stream",
     "text": [
      "/pub/data/noaa/isd-lite/2020\n"
     ]
    },
    {
     "name": "stderr",
     "output_type": "stream",
     "text": [
      "\r",
      " 58%|█████▊    | 489/844 [13:55<11:21,  1.92s/it]"
     ]
    },
    {
     "name": "stdout",
     "output_type": "stream",
     "text": [
      "data/ISD/722931-93107-2020.gz missing for Miramar Marine Corps Air Station - Mitscher Field\n"
     ]
    },
    {
     "name": "stdout",
     "output_type": "stream",
     "text": [
      "/pub/data/noaa/isd-lite/2020\n"
     ]
    },
    {
     "name": "stderr",
     "output_type": "stream",
     "text": [
      "\r",
      " 58%|█████▊    | 490/844 [13:58<11:44,  1.99s/it]"
     ]
    },
    {
     "name": "stdout",
     "output_type": "stream",
     "text": [
      "data/ISD/747020-23110-2020.gz missing for Lemoore Naval Air Station (Reeves Field) Airport\n"
     ]
    },
    {
     "name": "stdout",
     "output_type": "stream",
     "text": [
      "/pub/data/noaa/isd-lite/2020\n"
     ]
    },
    {
     "name": "stderr",
     "output_type": "stream",
     "text": [
      "\r",
      " 58%|█████▊    | 491/844 [13:59<11:03,  1.88s/it]"
     ]
    },
    {
     "name": "stdout",
     "output_type": "stream",
     "text": [
      "data/ISD/722345-03866-2020.gz missing for Meridian Naval Air Station\n"
     ]
    },
    {
     "name": "stdout",
     "output_type": "stream",
     "text": [
      "/pub/data/noaa/isd-lite/2020\n"
     ]
    },
    {
     "name": "stderr",
     "output_type": "stream",
     "text": [
      "\r",
      " 58%|█████▊    | 492/844 [14:01<11:21,  1.93s/it]"
     ]
    },
    {
     "name": "stdout",
     "output_type": "stream",
     "text": [
      "data/ISD/722225-03855-2020.gz missing for Pensacola Naval Air Station/Forrest Sherman Field\n"
     ]
    },
    {
     "name": "stdout",
     "output_type": "stream",
     "text": [
      "/pub/data/noaa/isd-lite/2020\n"
     ]
    },
    {
     "name": "stderr",
     "output_type": "stream",
     "text": [
      "\r",
      " 58%|█████▊    | 493/844 [14:03<11:06,  1.90s/it]"
     ]
    },
    {
     "name": "stdout",
     "output_type": "stream",
     "text": [
      "data/ISD/723284-93839-2020.gz missing for Millington-Memphis Airport\n",
      "/pub/data/noaa/isd-lite/2020\n"
     ]
    },
    {
     "name": "stderr",
     "output_type": "stream",
     "text": [
      "\r",
      " 59%|█████▊    | 494/844 [14:05<10:40,  1.83s/it]"
     ]
    },
    {
     "name": "stdout",
     "output_type": "stream",
     "text": [
      "data/ISD/722516-12928-2020.gz missing for Kingsville Naval Air Station\n"
     ]
    },
    {
     "name": "stdout",
     "output_type": "stream",
     "text": [
      "/pub/data/noaa/isd-lite/2020\n"
     ]
    },
    {
     "name": "stderr",
     "output_type": "stream",
     "text": [
      "\r",
      " 59%|█████▊    | 495/844 [14:07<11:01,  1.89s/it]"
     ]
    },
    {
     "name": "stdout",
     "output_type": "stream",
     "text": [
      "data/ISD/722015-12850-2020.gz missing for Naval Air Station Key West/Boca Chica Field\n"
     ]
    },
    {
     "name": "stdout",
     "output_type": "stream",
     "text": [
      "/pub/data/noaa/isd-lite/2020\n"
     ]
    },
    {
     "name": "stderr",
     "output_type": "stream",
     "text": [
      "\r",
      " 59%|█████▉    | 496/844 [14:09<10:53,  1.88s/it]"
     ]
    },
    {
     "name": "stdout",
     "output_type": "stream",
     "text": [
      "data/ISD/722066-03853-2020.gz missing for Naval Station Mayport (Admiral David L. Mcdonald Field)\n"
     ]
    },
    {
     "name": "stdout",
     "output_type": "stream",
     "text": [
      "/pub/data/noaa/isd-lite/2020\n"
     ]
    },
    {
     "name": "stderr",
     "output_type": "stream",
     "text": [
      "\r",
      " 59%|█████▉    | 497/844 [14:11<11:15,  1.95s/it]"
     ]
    },
    {
     "name": "stdout",
     "output_type": "stream",
     "text": [
      "data/ISD/722226-93841-2020.gz missing for Whiting Field Naval Air Station - North\n",
      "/pub/data/noaa/isd-lite/2020\n"
     ]
    },
    {
     "name": "stderr",
     "output_type": "stream",
     "text": [
      "\r",
      " 59%|█████▉    | 498/844 [14:13<11:07,  1.93s/it]"
     ]
    },
    {
     "name": "stdout",
     "output_type": "stream",
     "text": [
      "data/ISD/723910-93111-2020.gz missing for Point Mugu Naval Air Station (Naval Base Ventura Co)\n"
     ]
    },
    {
     "name": "stdout",
     "output_type": "stream",
     "text": [
      "/pub/data/noaa/isd-lite/2020\n"
     ]
    },
    {
     "name": "stderr",
     "output_type": "stream",
     "text": [
      "\r",
      " 59%|█████▉    | 499/844 [14:14<10:46,  1.87s/it]"
     ]
    },
    {
     "name": "stdout",
     "output_type": "stream",
     "text": [
      "data/ISD/723075-13769-2020.gz missing for Oceana Naval Air Station\n"
     ]
    },
    {
     "name": "stdout",
     "output_type": "stream",
     "text": [
      "/pub/data/noaa/isd-lite/2020\n"
     ]
    },
    {
     "name": "stderr",
     "output_type": "stream",
     "text": [
      "\r",
      " 59%|█████▉    | 500/844 [14:16<10:51,  1.89s/it]"
     ]
    },
    {
     "name": "stdout",
     "output_type": "stream",
     "text": [
      "data/ISD/745090-23244-2020.gz missing for Moffett Federal Airfield\n"
     ]
    },
    {
     "name": "stdout",
     "output_type": "stream",
     "text": [
      "/pub/data/noaa/isd-lite/2020\n"
     ]
    },
    {
     "name": "stderr",
     "output_type": "stream",
     "text": [
      "\r",
      " 59%|█████▉    | 501/844 [14:17<09:30,  1.66s/it]"
     ]
    },
    {
     "name": "stdout",
     "output_type": "stream",
     "text": [
      "data/ISD/720749-24255-2020.gz missing for Whidbey Island Naval Air Station (Ault Field)\n"
     ]
    },
    {
     "name": "stdout",
     "output_type": "stream",
     "text": [
      "/pub/data/noaa/isd-lite/2020\n"
     ]
    },
    {
     "name": "stderr",
     "output_type": "stream",
     "text": [
      "\r",
      " 59%|█████▉    | 502/844 [14:19<09:59,  1.75s/it]"
     ]
    },
    {
     "name": "stdout",
     "output_type": "stream",
     "text": [
      "data/ISD/690150-93121-2020.gz missing for Twentynine Palms (Self) Airport\n",
      "/pub/data/noaa/isd-lite/2020\n"
     ]
    },
    {
     "name": "stderr",
     "output_type": "stream",
     "text": [
      "\r",
      " 60%|█████▉    | 503/844 [14:21<10:09,  1.79s/it]"
     ]
    },
    {
     "name": "stdout",
     "output_type": "stream",
     "text": [
      "data/ISD/724035-13773-2020.gz missing for Quantico MCAF /Turner field\n",
      "/pub/data/noaa/isd-lite/2020\n"
     ]
    },
    {
     "name": "stderr",
     "output_type": "stream",
     "text": [
      "\r",
      " 60%|█████▉    | 504/844 [14:23<10:40,  1.89s/it]"
     ]
    },
    {
     "name": "stdout",
     "output_type": "stream",
     "text": [
      "data/ISD/740035-03145-2020.gz missing for Yuma MCAS/Yuma International Airport\n"
     ]
    },
    {
     "name": "stdout",
     "output_type": "stream",
     "text": [
      "/pub/data/noaa/isd-lite/2020\n"
     ]
    },
    {
     "name": "stderr",
     "output_type": "stream",
     "text": [
      "\r",
      " 60%|█████▉    | 505/844 [14:26<11:06,  1.97s/it]"
     ]
    },
    {
     "name": "stdout",
     "output_type": "stream",
     "text": [
      "data/ISD/722906-93112-2020.gz missing for North Island Naval Air Station-Halsey Field\n"
     ]
    },
    {
     "name": "stdout",
     "output_type": "stream",
     "text": [
      "/pub/data/noaa/isd-lite/2020\n"
     ]
    },
    {
     "name": "stderr",
     "output_type": "stream",
     "text": [
      "\r",
      " 60%|█████▉    | 506/844 [14:27<11:02,  1.96s/it]"
     ]
    },
    {
     "name": "stdout",
     "output_type": "stream",
     "text": [
      "data/ISD/723069-93753-2020.gz missing for Albert J Ellis Airport\n"
     ]
    },
    {
     "name": "stdout",
     "output_type": "stream",
     "text": [
      "/pub/data/noaa/isd-lite/2020\n"
     ]
    },
    {
     "name": "stderr",
     "output_type": "stream",
     "text": [
      "\r",
      " 60%|██████    | 507/844 [14:29<10:38,  1.89s/it]"
     ]
    },
    {
     "name": "stdout",
     "output_type": "stream",
     "text": [
      "data/ISD/724930-23230-2020.gz missing for Metropolitan Oakland International Airport\n"
     ]
    },
    {
     "name": "stdout",
     "output_type": "stream",
     "text": [
      "/pub/data/noaa/isd-lite/2020\n"
     ]
    },
    {
     "name": "stderr",
     "output_type": "stream",
     "text": [
      "\r",
      " 60%|██████    | 508/844 [14:31<10:30,  1.88s/it]"
     ]
    },
    {
     "name": "stdout",
     "output_type": "stream",
     "text": [
      "data/ISD/725540-14949-2020.gz missing for Offutt Air Force Base\n",
      "/pub/data/noaa/isd-lite/2020\n"
     ]
    },
    {
     "name": "stderr",
     "output_type": "stream",
     "text": [
      "\r",
      " 60%|██████    | 509/844 [14:33<11:07,  1.99s/it]"
     ]
    },
    {
     "name": "stdout",
     "output_type": "stream",
     "text": [
      "data/ISD/725560-14941-2020.gz missing for Karl Stefan Memorial Airport\n"
     ]
    },
    {
     "name": "stdout",
     "output_type": "stream",
     "text": [
      "/pub/data/noaa/isd-lite/2020\n"
     ]
    },
    {
     "name": "stderr",
     "output_type": "stream",
     "text": [
      "\r",
      " 60%|██████    | 510/844 [14:35<11:15,  2.02s/it]"
     ]
    },
    {
     "name": "stdout",
     "output_type": "stream",
     "text": [
      "data/ISD/723115-53854-2020.gz missing for Orangeburg Municipal Airport\n",
      "/pub/data/noaa/isd-lite/2020\n"
     ]
    },
    {
     "name": "stderr",
     "output_type": "stream",
     "text": [
      "\r",
      " 61%|██████    | 511/844 [14:38<11:21,  2.05s/it]"
     ]
    },
    {
     "name": "stdout",
     "output_type": "stream",
     "text": [
      "data/ISD/725750-24126-2020.gz missing for Ogden Hinckley Airport\n",
      "/pub/data/noaa/isd-lite/2020\n"
     ]
    },
    {
     "name": "stderr",
     "output_type": "stream",
     "text": [
      "\r",
      " 61%|██████    | 512/844 [14:39<11:00,  1.99s/it]"
     ]
    },
    {
     "name": "stdout",
     "output_type": "stream",
     "text": [
      "data/ISD/723530-13967-2020.gz missing for Will Rogers World Airport\n",
      "/pub/data/noaa/isd-lite/2020\n"
     ]
    },
    {
     "name": "stderr",
     "output_type": "stream",
     "text": [
      "\r",
      " 61%|██████    | 513/844 [14:41<10:52,  1.97s/it]"
     ]
    },
    {
     "name": "stdout",
     "output_type": "stream",
     "text": [
      "data/ISD/727686-94017-2020.gz missing for L M Clayton Airport\n"
     ]
    },
    {
     "name": "stdout",
     "output_type": "stream",
     "text": [
      "/pub/data/noaa/isd-lite/2020\n"
     ]
    },
    {
     "name": "stderr",
     "output_type": "stream",
     "text": [
      "\r",
      " 61%|██████    | 514/844 [14:43<11:08,  2.03s/it]"
     ]
    },
    {
     "name": "stdout",
     "output_type": "stream",
     "text": [
      "data/ISD/727920-24227-2020.gz missing for Olympia Regional Airport\n"
     ]
    },
    {
     "name": "stdout",
     "output_type": "stream",
     "text": [
      "/pub/data/noaa/isd-lite/2020\n"
     ]
    },
    {
     "name": "stderr",
     "output_type": "stream",
     "text": [
      "\r",
      " 61%|██████    | 515/844 [14:46<11:08,  2.03s/it]"
     ]
    },
    {
     "name": "stdout",
     "output_type": "stream",
     "text": [
      "data/ISD/722728-03196-2020.gz missing for Nogales International Airport\n"
     ]
    },
    {
     "name": "stdout",
     "output_type": "stream",
     "text": [
      "/pub/data/noaa/isd-lite/2020\n"
     ]
    },
    {
     "name": "stderr",
     "output_type": "stream",
     "text": [
      "\r",
      " 61%|██████    | 516/844 [14:48<11:28,  2.10s/it]"
     ]
    },
    {
     "name": "stdout",
     "output_type": "stream",
     "text": [
      "data/ISD/725565-94951-2020.gz missing for Columbus Municipal Airport\n"
     ]
    },
    {
     "name": "stdout",
     "output_type": "stream",
     "text": [
      "/pub/data/noaa/isd-lite/2020\n"
     ]
    },
    {
     "name": "stderr",
     "output_type": "stream",
     "text": [
      "\r",
      " 61%|██████▏   | 517/844 [14:50<11:22,  2.09s/it]"
     ]
    },
    {
     "name": "stdout",
     "output_type": "stream",
     "text": [
      "data/ISD/725500-14942-2020.gz missing for Eppley Airfield\n",
      "/pub/data/noaa/isd-lite/2020\n"
     ]
    },
    {
     "name": "stderr",
     "output_type": "stream",
     "text": [
      "\r",
      " 61%|██████▏   | 518/844 [14:52<11:25,  2.10s/it]"
     ]
    },
    {
     "name": "stdout",
     "output_type": "stream",
     "text": [
      "data/ISD/726950-24285-2020.gz missing for Newport Municipal Airport\n"
     ]
    },
    {
     "name": "stdout",
     "output_type": "stream",
     "text": [
      "/pub/data/noaa/isd-lite/2020\n"
     ]
    },
    {
     "name": "stderr",
     "output_type": "stream",
     "text": [
      "\r",
      " 61%|██████▏   | 519/844 [14:54<10:48,  1.99s/it]"
     ]
    },
    {
     "name": "stdout",
     "output_type": "stream",
     "text": [
      "data/ISD/747040-03102-2020.gz missing for Ontario International Airport\n"
     ]
    },
    {
     "name": "stdout",
     "output_type": "stream",
     "text": [
      "/pub/data/noaa/isd-lite/2020\n"
     ]
    },
    {
     "name": "stderr",
     "output_type": "stream",
     "text": [
      "\r",
      " 62%|██████▏   | 520/844 [14:56<10:51,  2.01s/it]"
     ]
    },
    {
     "name": "stdout",
     "output_type": "stream",
     "text": [
      "data/ISD/722024-12882-2020.gz missing for Miami-Opa Locka Executive Airport\n"
     ]
    },
    {
     "name": "stdout",
     "output_type": "stream",
     "text": [
      "/pub/data/noaa/isd-lite/2020\n"
     ]
    },
    {
     "name": "stderr",
     "output_type": "stream",
     "text": [
      "\r",
      " 62%|██████▏   | 521/844 [14:58<11:02,  2.05s/it]"
     ]
    },
    {
     "name": "stdout",
     "output_type": "stream",
     "text": [
      "data/ISD/725074-54752-2020.gz missing for Quonset State Airport\n"
     ]
    },
    {
     "name": "stdout",
     "output_type": "stream",
     "text": [
      "/pub/data/noaa/isd-lite/2020\n"
     ]
    },
    {
     "name": "stderr",
     "output_type": "stream",
     "text": [
      "\r",
      " 62%|██████▏   | 522/844 [14:59<10:01,  1.87s/it]"
     ]
    },
    {
     "name": "stdout",
     "output_type": "stream",
     "text": [
      "data/ISD/725300-94846-2020.gz missing for Chicago O'Hare International Airport\n"
     ]
    },
    {
     "name": "stdout",
     "output_type": "stream",
     "text": [
      "/pub/data/noaa/isd-lite/2020\n"
     ]
    },
    {
     "name": "stderr",
     "output_type": "stream",
     "text": [
      "\r",
      " 62%|██████▏   | 523/844 [15:01<10:16,  1.92s/it]"
     ]
    },
    {
     "name": "stdout",
     "output_type": "stream",
     "text": [
      "data/ISD/723080-13737-2020.gz missing for Norfolk International Airport\n"
     ]
    },
    {
     "name": "stdout",
     "output_type": "stream",
     "text": [
      "/pub/data/noaa/isd-lite/2020\n"
     ]
    },
    {
     "name": "stderr",
     "output_type": "stream",
     "text": [
      "\r",
      " 62%|██████▏   | 524/844 [15:03<10:26,  1.96s/it]"
     ]
    },
    {
     "name": "stdout",
     "output_type": "stream",
     "text": [
      "data/ISD/725100-94746-2020.gz missing for Worcester Regional Airport\n"
     ]
    },
    {
     "name": "stdout",
     "output_type": "stream",
     "text": [
      "/pub/data/noaa/isd-lite/2020\n"
     ]
    },
    {
     "name": "stderr",
     "output_type": "stream",
     "text": [
      "\r",
      " 62%|██████▏   | 525/844 [15:05<10:15,  1.93s/it]"
     ]
    },
    {
     "name": "stdout",
     "output_type": "stream",
     "text": [
      "data/ISD/726456-94855-2020.gz missing for Wittman Regional Airport\n",
      "/pub/data/noaa/isd-lite/2020\n"
     ]
    },
    {
     "name": "stderr",
     "output_type": "stream",
     "text": [
      "\r",
      " 62%|██████▏   | 526/844 [15:07<10:13,  1.93s/it]"
     ]
    },
    {
     "name": "stdout",
     "output_type": "stream",
     "text": [
      "data/ISD/724288-04804-2020.gz missing for The Ohio State University Airport - Don Scott Field\n"
     ]
    },
    {
     "name": "stdout",
     "output_type": "stream",
     "text": [
      "/pub/data/noaa/isd-lite/2020\n"
     ]
    },
    {
     "name": "stderr",
     "output_type": "stream",
     "text": [
      "\r",
      " 62%|██████▏   | 527/844 [15:09<10:22,  1.96s/it]"
     ]
    },
    {
     "name": "stdout",
     "output_type": "stream",
     "text": [
      "data/ISD/726917-24284-2020.gz missing for Southwest Oregon Regional Airport\n"
     ]
    },
    {
     "name": "stdout",
     "output_type": "stream",
     "text": [
      "/pub/data/noaa/isd-lite/2020\n"
     ]
    },
    {
     "name": "stderr",
     "output_type": "stream",
     "text": [
      "\r",
      " 63%|██████▎   | 528/844 [15:11<09:59,  1.90s/it]"
     ]
    },
    {
     "name": "stdout",
     "output_type": "stream",
     "text": [
      "data/ISD/725465-14950-2020.gz missing for Ottumwa Regional Airport\n"
     ]
    },
    {
     "name": "stdout",
     "output_type": "stream",
     "text": [
      "/pub/data/noaa/isd-lite/2020\n"
     ]
    },
    {
     "name": "stderr",
     "output_type": "stream",
     "text": [
      "\r",
      " 63%|██████▎   | 529/844 [15:13<10:21,  1.97s/it]"
     ]
    },
    {
     "name": "stdout",
     "output_type": "stream",
     "text": [
      "data/ISD/724237-53803-2020.gz missing for Owensboro Daviess County Airport\n"
     ]
    },
    {
     "name": "stdout",
     "output_type": "stream",
     "text": [
      "/pub/data/noaa/isd-lite/2020\n"
     ]
    },
    {
     "name": "stderr",
     "output_type": "stream",
     "text": [
      "\r",
      " 63%|██████▎   | 530/844 [15:15<10:26,  2.00s/it]"
     ]
    },
    {
     "name": "stdout",
     "output_type": "stream",
     "text": [
      "data/ISD/725098-54704-2020.gz missing for Norwood Memorial Airport\n",
      "/pub/data/noaa/isd-lite/2020\n"
     ]
    },
    {
     "name": "stderr",
     "output_type": "stream",
     "text": [
      "\r",
      " 63%|██████▎   | 531/844 [15:17<10:00,  1.92s/it]"
     ]
    },
    {
     "name": "stdout",
     "output_type": "stream",
     "text": [
      "data/ISD/723927-93110-2020.gz missing for Oxnard Airport\n",
      "/pub/data/noaa/isd-lite/2020\n"
     ]
    },
    {
     "name": "stderr",
     "output_type": "stream",
     "text": [
      "\r",
      " 63%|██████▎   | 532/844 [15:19<09:42,  1.87s/it]"
     ]
    },
    {
     "name": "stdout",
     "output_type": "stream",
     "text": [
      "data/ISD/722269-03850-2020.gz missing for Cairns AAF (Fort Rucker) Air Field\n",
      "/pub/data/noaa/isd-lite/2020\n"
     ]
    },
    {
     "name": "stderr",
     "output_type": "stream",
     "text": [
      "\r",
      " 63%|██████▎   | 533/844 [15:20<09:20,  1.80s/it]"
     ]
    },
    {
     "name": "stdout",
     "output_type": "stream",
     "text": [
      "data/ISD/727937-24222-2020.gz missing for Snohomish County (Paine Field) Airport\n",
      "/pub/data/noaa/isd-lite/2020\n"
     ]
    },
    {
     "name": "stderr",
     "output_type": "stream",
     "text": [
      "\r",
      " 63%|██████▎   | 534/844 [15:22<09:21,  1.81s/it]"
     ]
    },
    {
     "name": "stdout",
     "output_type": "stream",
     "text": [
      "data/ISD/724350-03816-2020.gz missing for Barkley Regional Airport\n"
     ]
    },
    {
     "name": "stdout",
     "output_type": "stream",
     "text": [
      "/pub/data/noaa/isd-lite/2020\n"
     ]
    },
    {
     "name": "stderr",
     "output_type": "stream",
     "text": [
      "\r",
      " 63%|██████▎   | 535/844 [15:24<09:41,  1.88s/it]"
     ]
    },
    {
     "name": "stdout",
     "output_type": "stream",
     "text": [
      "data/ISD/747750-13846-2020.gz missing for Tyndall Air Force Base\n"
     ]
    },
    {
     "name": "stdout",
     "output_type": "stream",
     "text": [
      "/pub/data/noaa/isd-lite/2020\n"
     ]
    },
    {
     "name": "stderr",
     "output_type": "stream",
     "text": [
      "\r",
      " 64%|██████▎   | 536/844 [15:26<10:04,  1.96s/it]"
     ]
    },
    {
     "name": "stdout",
     "output_type": "stream",
     "text": [
      "data/ISD/723417-93988-2020.gz missing for Pine Bluff Regional Airport, Grider Field\n",
      "/pub/data/noaa/isd-lite/2020\n"
     ]
    },
    {
     "name": "stderr",
     "output_type": "stream",
     "text": [
      "\r",
      " 64%|██████▎   | 537/844 [15:28<10:00,  1.96s/it]"
     ]
    },
    {
     "name": "stdout",
     "output_type": "stream",
     "text": [
      "data/ISD/726225-64776-2020.gz missing for Plattsburgh International Airport\n"
     ]
    },
    {
     "name": "stdout",
     "output_type": "stream",
     "text": [
      "/pub/data/noaa/isd-lite/2020\n"
     ]
    },
    {
     "name": "stderr",
     "output_type": "stream",
     "text": [
      "\r",
      " 64%|██████▎   | 538/844 [15:30<10:16,  2.02s/it]"
     ]
    },
    {
     "name": "stdout",
     "output_type": "stream",
     "text": [
      "data/ISD/722030-12844-2020.gz missing for Palm Beach International Airport\n",
      "/pub/data/noaa/isd-lite/2020\n"
     ]
    },
    {
     "name": "stderr",
     "output_type": "stream",
     "text": [
      "\r",
      " 64%|██████▍   | 539/844 [15:32<10:07,  1.99s/it]"
     ]
    },
    {
     "name": "stdout",
     "output_type": "stream",
     "text": [
      "data/ISD/722196-53863-2020.gz missing for DeKalb Peachtree Airport\n"
     ]
    },
    {
     "name": "stdout",
     "output_type": "stream",
     "text": [
      "/pub/data/noaa/isd-lite/2020\n"
     ]
    },
    {
     "name": "stderr",
     "output_type": "stream",
     "text": [
      "\r",
      " 64%|██████▍   | 540/844 [15:34<10:11,  2.01s/it]"
     ]
    },
    {
     "name": "stdout",
     "output_type": "stream",
     "text": [
      "data/ISD/726880-24155-2020.gz missing for Eastern Oregon Regional At Pendleton Airport\n"
     ]
    },
    {
     "name": "stdout",
     "output_type": "stream",
     "text": [
      "/pub/data/noaa/isd-lite/2020\n"
     ]
    },
    {
     "name": "stderr",
     "output_type": "stream",
     "text": [
      "\r",
      " 64%|██████▍   | 541/844 [15:37<10:22,  2.05s/it]"
     ]
    },
    {
     "name": "stdout",
     "output_type": "stream",
     "text": [
      "data/ISD/726980-24229-2020.gz missing for Portland International Airport\n"
     ]
    },
    {
     "name": "stdout",
     "output_type": "stream",
     "text": [
      "/pub/data/noaa/isd-lite/2020\n"
     ]
    },
    {
     "name": "stderr",
     "output_type": "stream",
     "text": [
      "\r",
      " 64%|██████▍   | 542/844 [15:39<10:19,  2.05s/it]"
     ]
    },
    {
     "name": "stdout",
     "output_type": "stream",
     "text": [
      "data/ISD/723710-03162-2020.gz missing for Page Municipal Airport\n"
     ]
    },
    {
     "name": "stdout",
     "output_type": "stream",
     "text": [
      "/pub/data/noaa/isd-lite/2020\n"
     ]
    },
    {
     "name": "stderr",
     "output_type": "stream",
     "text": [
      "\r",
      " 64%|██████▍   | 543/844 [15:41<10:26,  2.08s/it]"
     ]
    },
    {
     "name": "stdout",
     "output_type": "stream",
     "text": [
      "data/ISD/723065-13783-2020.gz missing for Pitt Greenville Airport\n"
     ]
    },
    {
     "name": "stdout",
     "output_type": "stream",
     "text": [
      "/pub/data/noaa/isd-lite/2020\n"
     ]
    },
    {
     "name": "stderr",
     "output_type": "stream",
     "text": [
      "\r",
      " 64%|██████▍   | 544/844 [15:43<09:53,  1.98s/it]"
     ]
    },
    {
     "name": "stdout",
     "output_type": "stream",
     "text": [
      "data/ISD/723086-93741-2020.gz missing for Newport News Williamsburg International Airport\n"
     ]
    },
    {
     "name": "stdout",
     "output_type": "stream",
     "text": [
      "/pub/data/noaa/isd-lite/2020\n"
     ]
    },
    {
     "name": "stderr",
     "output_type": "stream",
     "text": [
      "\r",
      " 65%|██████▍   | 545/844 [15:45<10:07,  2.03s/it]"
     ]
    },
    {
     "name": "stdout",
     "output_type": "stream",
     "text": [
      "data/ISD/724080-13739-2020.gz missing for Philadelphia International Airport\n"
     ]
    },
    {
     "name": "stdout",
     "output_type": "stream",
     "text": [
      "/pub/data/noaa/isd-lite/2020\n"
     ]
    },
    {
     "name": "stderr",
     "output_type": "stream",
     "text": [
      "\r",
      " 65%|██████▍   | 546/844 [15:47<10:15,  2.07s/it]"
     ]
    },
    {
     "name": "stdout",
     "output_type": "stream",
     "text": [
      "data/ISD/722780-23183-2020.gz missing for Phoenix Sky Harbor International Airport\n"
     ]
    },
    {
     "name": "stdout",
     "output_type": "stream",
     "text": [
      "/pub/data/noaa/isd-lite/2020\n"
     ]
    },
    {
     "name": "stderr",
     "output_type": "stream",
     "text": [
      "\r",
      " 65%|██████▍   | 547/844 [15:49<10:02,  2.03s/it]"
     ]
    },
    {
     "name": "stdout",
     "output_type": "stream",
     "text": [
      "data/ISD/725320-14842-2020.gz missing for General Wayne A. Downing Peoria International Airport\n"
     ]
    },
    {
     "name": "stdout",
     "output_type": "stream",
     "text": [
      "/pub/data/noaa/isd-lite/2020\n"
     ]
    },
    {
     "name": "stderr",
     "output_type": "stream",
     "text": [
      "\r",
      " 65%|██████▍   | 548/844 [15:51<10:02,  2.04s/it]"
     ]
    },
    {
     "name": "stdout",
     "output_type": "stream",
     "text": [
      "data/ISD/722348-53808-2020.gz missing for Hattiesburg Laurel Regional Airport\n"
     ]
    },
    {
     "name": "stdout",
     "output_type": "stream",
     "text": [
      "/pub/data/noaa/isd-lite/2020\n"
     ]
    },
    {
     "name": "stderr",
     "output_type": "stream",
     "text": [
      "\r",
      " 65%|██████▌   | 549/844 [15:53<10:10,  2.07s/it]"
     ]
    },
    {
     "name": "stdout",
     "output_type": "stream",
     "text": [
      "data/ISD/722116-12873-2020.gz missing for St Petersburg Clearwater International Airport\n"
     ]
    },
    {
     "name": "stdout",
     "output_type": "stream",
     "text": [
      "/pub/data/noaa/isd-lite/2020\n"
     ]
    },
    {
     "name": "stderr",
     "output_type": "stream",
     "text": [
      "\r",
      " 65%|██████▌   | 550/844 [15:55<10:06,  2.06s/it]"
     ]
    },
    {
     "name": "stdout",
     "output_type": "stream",
     "text": [
      "data/ISD/725780-24156-2020.gz missing for Pocatello Regional Airport\n"
     ]
    },
    {
     "name": "stdout",
     "output_type": "stream",
     "text": [
      "/pub/data/noaa/isd-lite/2020\n"
     ]
    },
    {
     "name": "stderr",
     "output_type": "stream",
     "text": [
      "\r",
      " 65%|██████▌   | 551/844 [15:57<10:12,  2.09s/it]"
     ]
    },
    {
     "name": "stdout",
     "output_type": "stream",
     "text": [
      "data/ISD/726560-24025-2020.gz missing for Pierre Regional Airport\n",
      "/pub/data/noaa/isd-lite/2020\n"
     ]
    },
    {
     "name": "stderr",
     "output_type": "stream",
     "text": [
      "\r",
      " 65%|██████▌   | 552/844 [15:59<09:42,  1.99s/it]"
     ]
    },
    {
     "name": "stdout",
     "output_type": "stream",
     "text": [
      "data/ISD/725200-94823-2020.gz missing for Pittsburgh International Airport\n",
      "/pub/data/noaa/isd-lite/2020\n"
     ]
    },
    {
     "name": "stderr",
     "output_type": "stream",
     "text": [
      "\r",
      " 66%|██████▌   | 553/844 [16:01<09:07,  1.88s/it]"
     ]
    },
    {
     "name": "stdout",
     "output_type": "stream",
     "text": [
      "data/ISD/724273-03804-2020.gz missing for Mid Ohio Valley Regional Airport\n",
      "/pub/data/noaa/isd-lite/2020\n"
     ]
    },
    {
     "name": "stderr",
     "output_type": "stream",
     "text": [
      "\r",
      " 66%|██████▌   | 554/844 [16:03<09:13,  1.91s/it]"
     ]
    },
    {
     "name": "stdout",
     "output_type": "stream",
     "text": [
      "data/ISD/727347-14841-2020.gz missing for Pellston Regional Airport of Emmet County Airport\n",
      "/pub/data/noaa/isd-lite/2020\n"
     ]
    },
    {
     "name": "stderr",
     "output_type": "stream",
     "text": [
      "\r",
      " 66%|██████▌   | 555/844 [16:05<09:26,  1.96s/it]"
     ]
    },
    {
     "name": "stdout",
     "output_type": "stream",
     "text": [
      "data/ISD/723820-23182-2020.gz missing for Palmdale Regional/USAF Plant 42 Airport\n",
      "/pub/data/noaa/isd-lite/2020\n"
     ]
    },
    {
     "name": "stderr",
     "output_type": "stream",
     "text": [
      "\r",
      " 66%|██████▌   | 556/844 [16:07<09:26,  1.97s/it]"
     ]
    },
    {
     "name": "stdout",
     "output_type": "stream",
     "text": [
      "data/ISD/720345-94086-2020.gz missing for Ralph Wenz Field\n"
     ]
    },
    {
     "name": "stdout",
     "output_type": "stream",
     "text": [
      "/pub/data/noaa/isd-lite/2020\n"
     ]
    },
    {
     "name": "stderr",
     "output_type": "stream",
     "text": [
      "\r",
      " 66%|██████▌   | 557/844 [16:08<09:12,  1.93s/it]"
     ]
    },
    {
     "name": "stdout",
     "output_type": "stream",
     "text": [
      "data/ISD/724530-13969-2020.gz missing for Ponca City Regional Airport\n",
      "/pub/data/noaa/isd-lite/2020\n"
     ]
    },
    {
     "name": "stderr",
     "output_type": "stream",
     "text": [
      "\r",
      " 66%|██████▌   | 558/844 [16:10<08:55,  1.87s/it]"
     ]
    },
    {
     "name": "stdout",
     "output_type": "stream",
     "text": [
      "data/ISD/724085-94732-2020.gz missing for Northeast Philadelphia Airport\n",
      "/pub/data/noaa/isd-lite/2020\n"
     ]
    },
    {
     "name": "stderr",
     "output_type": "stream",
     "text": [
      "\r",
      " 66%|██████▌   | 559/844 [16:12<08:37,  1.81s/it]"
     ]
    },
    {
     "name": "stdout",
     "output_type": "stream",
     "text": [
      "data/ISD/722223-13899-2020.gz missing for Pensacola International Airport\n",
      "/pub/data/noaa/isd-lite/2020\n"
     ]
    },
    {
     "name": "stderr",
     "output_type": "stream",
     "text": [
      "\r",
      " 66%|██████▋   | 560/844 [16:13<07:56,  1.68s/it]"
     ]
    },
    {
     "name": "stdout",
     "output_type": "stream",
     "text": [
      "data/ISD/723030-13714-2020.gz missing for Pope Field\n",
      "/pub/data/noaa/isd-lite/2020\n"
     ]
    },
    {
     "name": "stderr",
     "output_type": "stream",
     "text": [
      "\r",
      " 66%|██████▋   | 561/844 [16:15<07:38,  1.62s/it]"
     ]
    },
    {
     "name": "stdout",
     "output_type": "stream",
     "text": [
      "data/ISD/722390-03931-2020.gz missing for Polk Army Air Field\n",
      "/pub/data/noaa/isd-lite/2020\n"
     ]
    },
    {
     "name": "stderr",
     "output_type": "stream",
     "text": [
      "\r",
      " 67%|██████▋   | 562/844 [16:16<07:17,  1.55s/it]"
     ]
    },
    {
     "name": "stdout",
     "output_type": "stream",
     "text": [
      "data/ISD/725036-14757-2020.gz missing for Dutchess County Airport\n",
      "/pub/data/noaa/isd-lite/2020\n"
     ]
    },
    {
     "name": "stderr",
     "output_type": "stream",
     "text": [
      "\r",
      " 67%|██████▋   | 563/844 [16:18<07:51,  1.68s/it]"
     ]
    },
    {
     "name": "stdout",
     "output_type": "stream",
     "text": [
      "data/ISD/727130-14604-2020.gz missing for Presque Isle International Airport\n",
      "/pub/data/noaa/isd-lite/2020\n"
     ]
    },
    {
     "name": "stderr",
     "output_type": "stream",
     "text": [
      "\r",
      " 67%|██████▋   | 564/844 [16:20<08:04,  1.73s/it]"
     ]
    },
    {
     "name": "stdout",
     "output_type": "stream",
     "text": [
      "data/ISD/723965-93209-2020.gz missing for Paso Robles Municipal Airport\n",
      "/pub/data/noaa/isd-lite/2020\n"
     ]
    },
    {
     "name": "stderr",
     "output_type": "stream",
     "text": [
      "\r",
      " 67%|██████▋   | 565/844 [16:22<08:15,  1.77s/it]"
     ]
    },
    {
     "name": "stdout",
     "output_type": "stream",
     "text": [
      "data/ISD/723723-23184-2020.gz missing for Prescott Regional Airport - Ernest A. Love Field\n",
      "/pub/data/noaa/isd-lite/2020\n"
     ]
    },
    {
     "name": "stderr",
     "output_type": "stream",
     "text": [
      "\r",
      " 67%|██████▋   | 566/844 [16:23<07:58,  1.72s/it]"
     ]
    },
    {
     "name": "stdout",
     "output_type": "stream",
     "text": [
      "data/ISD/722587-93955-2020.gz missing for Cox Field\n"
     ]
    },
    {
     "name": "stdout",
     "output_type": "stream",
     "text": [
      "/pub/data/noaa/isd-lite/2020\n"
     ]
    },
    {
     "name": "stderr",
     "output_type": "stream",
     "text": [
      "\r",
      " 67%|██████▋   | 567/844 [16:26<08:32,  1.85s/it]"
     ]
    },
    {
     "name": "stdout",
     "output_type": "stream",
     "text": [
      "data/ISD/727845-24163-2020.gz missing for Tri Cities Airport\n"
     ]
    },
    {
     "name": "stdout",
     "output_type": "stream",
     "text": [
      "/pub/data/noaa/isd-lite/2020\n"
     ]
    },
    {
     "name": "stderr",
     "output_type": "stream",
     "text": [
      "\r",
      " 67%|██████▋   | 568/844 [16:28<08:46,  1.91s/it]"
     ]
    },
    {
     "name": "stdout",
     "output_type": "stream",
     "text": [
      "data/ISD/726055-04743-2020.gz missing for Portsmouth International at Pease Airport\n"
     ]
    },
    {
     "name": "stdout",
     "output_type": "stream",
     "text": [
      "/pub/data/noaa/isd-lite/2020\n"
     ]
    },
    {
     "name": "stderr",
     "output_type": "stream",
     "text": [
      "\r",
      " 67%|██████▋   | 569/844 [16:30<08:57,  1.95s/it]"
     ]
    },
    {
     "name": "stdout",
     "output_type": "stream",
     "text": [
      "data/ISD/722868-93138-2020.gz missing for Palm Springs International Airport\n",
      "/pub/data/noaa/isd-lite/2020\n"
     ]
    },
    {
     "name": "stderr",
     "output_type": "stream",
     "text": [
      "\r",
      " 68%|██████▊   | 570/844 [16:32<08:53,  1.95s/it]"
     ]
    },
    {
     "name": "stdout",
     "output_type": "stream",
     "text": [
      "data/ISD/726375-94817-2020.gz missing for Oakland County International Airport\n"
     ]
    },
    {
     "name": "stdout",
     "output_type": "stream",
     "text": [
      "/pub/data/noaa/isd-lite/2020\n"
     ]
    },
    {
     "name": "stderr",
     "output_type": "stream",
     "text": [
      "\r",
      " 68%|██████▊   | 571/844 [16:34<08:51,  1.95s/it]"
     ]
    },
    {
     "name": "stdout",
     "output_type": "stream",
     "text": [
      "data/ISD/727857-94129-2020.gz missing for Pullman Moscow Regional Airport\n"
     ]
    },
    {
     "name": "stdout",
     "output_type": "stream",
     "text": [
      "/pub/data/noaa/isd-lite/2020\n"
     ]
    },
    {
     "name": "stderr",
     "output_type": "stream",
     "text": [
      "\r",
      " 68%|██████▊   | 572/844 [16:36<08:57,  1.98s/it]"
     ]
    },
    {
     "name": "stdout",
     "output_type": "stream",
     "text": [
      "data/ISD/725070-14765-2020.gz missing for Theodore Francis Green State Airport\n"
     ]
    },
    {
     "name": "stdout",
     "output_type": "stream",
     "text": [
      "/pub/data/noaa/isd-lite/2020\n"
     ]
    },
    {
     "name": "stderr",
     "output_type": "stream",
     "text": [
      "\r",
      " 68%|██████▊   | 573/844 [16:38<09:09,  2.03s/it]"
     ]
    },
    {
     "name": "stdout",
     "output_type": "stream",
     "text": [
      "data/ISD/725724-24174-2020.gz missing for Provo Municipal Airport\n"
     ]
    },
    {
     "name": "stdout",
     "output_type": "stream",
     "text": [
      "/pub/data/noaa/isd-lite/2020\n"
     ]
    },
    {
     "name": "stderr",
     "output_type": "stream",
     "text": [
      "\r",
      " 68%|██████▊   | 574/844 [16:40<09:01,  2.00s/it]"
     ]
    },
    {
     "name": "stdout",
     "output_type": "stream",
     "text": [
      "data/ISD/744665-04838-2020.gz missing for Chicago Executive Airport\n",
      "/pub/data/noaa/isd-lite/2020\n"
     ]
    },
    {
     "name": "stderr",
     "output_type": "stream",
     "text": [
      "\r",
      " 68%|██████▊   | 575/844 [16:42<08:54,  1.99s/it]"
     ]
    },
    {
     "name": "stdout",
     "output_type": "stream",
     "text": [
      "data/ISD/726060-14764-2020.gz missing for Portland International Jetport\n"
     ]
    },
    {
     "name": "stdout",
     "output_type": "stream",
     "text": [
      "/pub/data/noaa/isd-lite/2020\n"
     ]
    },
    {
     "name": "stderr",
     "output_type": "stream",
     "text": [
      "\r",
      " 68%|██████▊   | 576/844 [16:44<08:50,  1.98s/it]"
     ]
    },
    {
     "name": "stdout",
     "output_type": "stream",
     "text": [
      "data/ISD/727928-94263-2020.gz missing for Bremerton National Airport\n",
      "/pub/data/noaa/isd-lite/2020\n"
     ]
    },
    {
     "name": "stderr",
     "output_type": "stream",
     "text": [
      "\r",
      " 68%|██████▊   | 577/844 [16:46<09:01,  2.03s/it]"
     ]
    },
    {
     "name": "stdout",
     "output_type": "stream",
     "text": [
      "data/ISD/722869-03171-2020.gz missing for Riverside Municipal Airport\n"
     ]
    },
    {
     "name": "stdout",
     "output_type": "stream",
     "text": [
      "/pub/data/noaa/isd-lite/2020\n"
     ]
    },
    {
     "name": "stderr",
     "output_type": "stream",
     "text": [
      "\r",
      " 68%|██████▊   | 578/844 [16:48<08:52,  2.00s/it]"
     ]
    },
    {
     "name": "stdout",
     "output_type": "stream",
     "text": [
      "data/ISD/726620-24090-2020.gz missing for Rapid City Regional Airport\n",
      "/pub/data/noaa/isd-lite/2020\n"
     ]
    },
    {
     "name": "stderr",
     "output_type": "stream",
     "text": [
      "\r",
      " 69%|██████▊   | 579/844 [16:50<08:55,  2.02s/it]"
     ]
    },
    {
     "name": "stdout",
     "output_type": "stream",
     "text": [
      "data/ISD/725910-24216-2020.gz missing for Red Bluff Municipal Airport\n",
      "/pub/data/noaa/isd-lite/2020\n"
     ]
    },
    {
     "name": "stderr",
     "output_type": "stream",
     "text": [
      "\r",
      " 69%|██████▊   | 580/844 [16:52<08:36,  1.96s/it]"
     ]
    },
    {
     "name": "stdout",
     "output_type": "stream",
     "text": [
      "data/ISD/726625-24006-2020.gz missing for Ellsworth Air Force Base\n"
     ]
    },
    {
     "name": "stdout",
     "output_type": "stream",
     "text": [
      "/pub/data/noaa/isd-lite/2020\n"
     ]
    },
    {
     "name": "stderr",
     "output_type": "stream",
     "text": [
      "\r",
      " 69%|██████▉   | 581/844 [16:54<08:35,  1.96s/it]"
     ]
    },
    {
     "name": "stdout",
     "output_type": "stream",
     "text": [
      "data/ISD/725920-24257-2020.gz missing for Redding Municipal Airport\n"
     ]
    },
    {
     "name": "stdout",
     "output_type": "stream",
     "text": [
      "/pub/data/noaa/isd-lite/2020\n"
     ]
    },
    {
     "name": "stderr",
     "output_type": "stream",
     "text": [
      "\r",
      " 69%|██████▉   | 582/844 [16:56<08:48,  2.02s/it]"
     ]
    },
    {
     "name": "stdout",
     "output_type": "stream",
     "text": [
      "data/ISD/725103-14712-2020.gz missing for Reading Regional Carl A Spaatz Field\n"
     ]
    },
    {
     "name": "stdout",
     "output_type": "stream",
     "text": [
      "/pub/data/noaa/isd-lite/2020\n"
     ]
    },
    {
     "name": "stderr",
     "output_type": "stream",
     "text": [
      "\r",
      " 69%|██████▉   | 583/844 [16:58<08:56,  2.06s/it]"
     ]
    },
    {
     "name": "stdout",
     "output_type": "stream",
     "text": [
      "data/ISD/726920-24230-2020.gz missing for Roberts Field\n"
     ]
    },
    {
     "name": "stdout",
     "output_type": "stream",
     "text": [
      "/pub/data/noaa/isd-lite/2020\n"
     ]
    },
    {
     "name": "stderr",
     "output_type": "stream",
     "text": [
      "\r",
      " 69%|██████▉   | 584/844 [17:00<08:54,  2.05s/it]"
     ]
    },
    {
     "name": "stdout",
     "output_type": "stream",
     "text": [
      "data/ISD/727575-94925-2020.gz missing for Grand Forks Air Force Base\n"
     ]
    },
    {
     "name": "stdout",
     "output_type": "stream",
     "text": [
      "/pub/data/noaa/isd-lite/2020\n"
     ]
    },
    {
     "name": "stderr",
     "output_type": "stream",
     "text": [
      "\r",
      " 69%|██████▉   | 585/844 [17:02<08:51,  2.05s/it]"
     ]
    },
    {
     "name": "stdout",
     "output_type": "stream",
     "text": [
      "data/ISD/723060-13722-2020.gz missing for Raleigh Durham International Airport\n"
     ]
    },
    {
     "name": "stdout",
     "output_type": "stream",
     "text": [
      "/pub/data/noaa/isd-lite/2020\n"
     ]
    },
    {
     "name": "stderr",
     "output_type": "stream",
     "text": [
      "\r",
      " 69%|██████▉   | 586/844 [17:04<08:41,  2.02s/it]"
     ]
    },
    {
     "name": "stdout",
     "output_type": "stream",
     "text": [
      "data/ISD/725430-94822-2020.gz missing for Chicago Rockford International Airport\n",
      "/pub/data/noaa/isd-lite/2020\n"
     ]
    },
    {
     "name": "stderr",
     "output_type": "stream",
     "text": [
      "\r",
      " 70%|██████▉   | 587/844 [17:06<08:33,  2.00s/it]"
     ]
    },
    {
     "name": "stdout",
     "output_type": "stream",
     "text": [
      "data/ISD/727415-04803-2020.gz missing for Rhinelander Oneida County Airport\n"
     ]
    },
    {
     "name": "stdout",
     "output_type": "stream",
     "text": [
      "/pub/data/noaa/isd-lite/2020\n"
     ]
    },
    {
     "name": "stderr",
     "output_type": "stream",
     "text": [
      "\r",
      " 70%|██████▉   | 588/844 [17:08<08:35,  2.01s/it]"
     ]
    },
    {
     "name": "stdout",
     "output_type": "stream",
     "text": [
      "data/ISD/724010-13740-2020.gz missing for Richmond International Airport\n",
      "/pub/data/noaa/isd-lite/2020\n"
     ]
    },
    {
     "name": "stderr",
     "output_type": "stream",
     "text": [
      "\r",
      " 70%|██████▉   | 589/844 [17:10<08:28,  1.99s/it]"
     ]
    },
    {
     "name": "stdout",
     "output_type": "stream",
     "text": [
      "data/ISD/725717-03016-2020.gz missing for Garfield County Regional Airport\n"
     ]
    },
    {
     "name": "stdout",
     "output_type": "stream",
     "text": [
      "/pub/data/noaa/isd-lite/2020\n"
     ]
    },
    {
     "name": "stderr",
     "output_type": "stream",
     "text": [
      "\r",
      " 70%|██████▉   | 590/844 [17:12<08:14,  1.95s/it]"
     ]
    },
    {
     "name": "stdout",
     "output_type": "stream",
     "text": [
      "data/ISD/722860-23119-2020.gz missing for March ARB Airport\n"
     ]
    },
    {
     "name": "stdout",
     "output_type": "stream",
     "text": [
      "/pub/data/noaa/isd-lite/2020\n"
     ]
    },
    {
     "name": "stderr",
     "output_type": "stream",
     "text": [
      "\r",
      " 70%|███████   | 591/844 [17:13<07:50,  1.86s/it]"
     ]
    },
    {
     "name": "stdout",
     "output_type": "stream",
     "text": [
      "data/ISD/726720-24061-2020.gz missing for Riverton Regional Airport\n",
      "/pub/data/noaa/isd-lite/2020\n"
     ]
    },
    {
     "name": "stderr",
     "output_type": "stream",
     "text": [
      "\r",
      " 70%|███████   | 592/844 [17:15<07:38,  1.82s/it]"
     ]
    },
    {
     "name": "stdout",
     "output_type": "stream",
     "text": [
      "data/ISD/725744-24027-2020.gz missing for Southwest Wyoming Regional Airport\n"
     ]
    },
    {
     "name": "stdout",
     "output_type": "stream",
     "text": [
      "/pub/data/noaa/isd-lite/2020\n"
     ]
    },
    {
     "name": "stderr",
     "output_type": "stream",
     "text": [
      "\r",
      " 70%|███████   | 593/844 [17:17<07:53,  1.89s/it]"
     ]
    },
    {
     "name": "stdout",
     "output_type": "stream",
     "text": [
      "data/ISD/725196-64775-2020.gz missing for Griffiss International Airport\n"
     ]
    },
    {
     "name": "stdout",
     "output_type": "stream",
     "text": [
      "/pub/data/noaa/isd-lite/2020\n"
     ]
    },
    {
     "name": "stderr",
     "output_type": "stream",
     "text": [
      "\r",
      " 70%|███████   | 594/844 [17:19<08:11,  1.97s/it]"
     ]
    },
    {
     "name": "stdout",
     "output_type": "stream",
     "text": [
      "data/ISD/723200-93801-2020.gz missing for Richard B Russell Airport\n",
      "/pub/data/noaa/isd-lite/2020\n"
     ]
    },
    {
     "name": "stderr",
     "output_type": "stream",
     "text": [
      "\r",
      " 70%|███████   | 595/844 [17:21<07:49,  1.88s/it]"
     ]
    },
    {
     "name": "stdout",
     "output_type": "stream",
     "text": [
      "data/ISD/722536-12911-2020.gz missing for Randolph Air Force Base\n",
      "/pub/data/noaa/isd-lite/2020\n"
     ]
    },
    {
     "name": "stderr",
     "output_type": "stream",
     "text": [
      "\r",
      " 71%|███████   | 596/844 [17:23<07:58,  1.93s/it]"
     ]
    },
    {
     "name": "stdout",
     "output_type": "stream",
     "text": [
      "data/ISD/722179-04968-2020.gz missing for New Richmond Regional Airport\n",
      "/pub/data/noaa/isd-lite/2020\n"
     ]
    },
    {
     "name": "stderr",
     "output_type": "stream",
     "text": [
      "\r",
      " 71%|███████   | 597/844 [17:25<08:02,  1.95s/it]"
     ]
    },
    {
     "name": "stdout",
     "output_type": "stream",
     "text": [
      "data/ISD/724880-23185-2020.gz missing for Reno Tahoe International Airport\n",
      "/pub/data/noaa/isd-lite/2020\n"
     ]
    },
    {
     "name": "stderr",
     "output_type": "stream",
     "text": [
      "\r",
      " 71%|███████   | 598/844 [17:27<08:07,  1.98s/it]"
     ]
    },
    {
     "name": "stdout",
     "output_type": "stream",
     "text": [
      "data/ISD/724110-13741-2020.gz missing for Roanoke–Blacksburg Regional Airport\n"
     ]
    },
    {
     "name": "stdout",
     "output_type": "stream",
     "text": [
      "/pub/data/noaa/isd-lite/2020\n"
     ]
    },
    {
     "name": "stderr",
     "output_type": "stream",
     "text": [
      "\r",
      " 71%|███████   | 599/844 [17:29<07:55,  1.94s/it]"
     ]
    },
    {
     "name": "stdout",
     "output_type": "stream",
     "text": [
      "data/ISD/725290-14768-2020.gz missing for Greater Rochester International Airport\n",
      "/pub/data/noaa/isd-lite/2020\n"
     ]
    },
    {
     "name": "stderr",
     "output_type": "stream",
     "text": [
      "\r",
      " 71%|███████   | 600/844 [17:31<07:53,  1.94s/it]"
     ]
    },
    {
     "name": "stdout",
     "output_type": "stream",
     "text": [
      "data/ISD/722680-23009-2020.gz missing for Roswell Air Center Airport\n",
      "/pub/data/noaa/isd-lite/2020\n"
     ]
    },
    {
     "name": "stderr",
     "output_type": "stream",
     "text": [
      "\r",
      " 71%|███████   | 601/844 [17:33<07:52,  1.94s/it]"
     ]
    },
    {
     "name": "stdout",
     "output_type": "stream",
     "text": [
      "data/ISD/724585-93997-2020.gz missing for Russell Municipal Airport\n",
      "/pub/data/noaa/isd-lite/2020\n"
     ]
    },
    {
     "name": "stderr",
     "output_type": "stream",
     "text": [
      "\r",
      " 71%|███████▏  | 602/844 [17:35<07:50,  1.94s/it]"
     ]
    },
    {
     "name": "stdout",
     "output_type": "stream",
     "text": [
      "data/ISD/726440-14925-2020.gz missing for Rochester International Airport\n",
      "/pub/data/noaa/isd-lite/2020\n"
     ]
    },
    {
     "name": "stderr",
     "output_type": "stream",
     "text": [
      "\r",
      " 71%|███████▏  | 603/844 [17:37<07:48,  1.94s/it]"
     ]
    },
    {
     "name": "stdout",
     "output_type": "stream",
     "text": [
      "data/ISD/722108-12894-2020.gz missing for Southwest Florida International Airport\n"
     ]
    },
    {
     "name": "stdout",
     "output_type": "stream",
     "text": [
      "/pub/data/noaa/isd-lite/2020\n"
     ]
    },
    {
     "name": "stderr",
     "output_type": "stream",
     "text": [
      "\r",
      " 72%|███████▏  | 604/844 [17:39<07:46,  1.94s/it]"
     ]
    },
    {
     "name": "stdout",
     "output_type": "stream",
     "text": [
      "data/ISD/725165-94737-2020.gz missing for Rutland - Southern Vermont Regional Airport\n"
     ]
    },
    {
     "name": "stdout",
     "output_type": "stream",
     "text": [
      "/pub/data/noaa/isd-lite/2020\n"
     ]
    },
    {
     "name": "stderr",
     "output_type": "stream",
     "text": [
      "\r",
      " 72%|███████▏  | 605/844 [17:41<07:52,  1.98s/it]"
     ]
    },
    {
     "name": "stdout",
     "output_type": "stream",
     "text": [
      "data/ISD/723564-53908-2020.gz missing for Richard Lloyd Jones Jr Airport\n"
     ]
    },
    {
     "name": "stdout",
     "output_type": "stream",
     "text": [
      "/pub/data/noaa/isd-lite/2020\n"
     ]
    },
    {
     "name": "stderr",
     "output_type": "stream",
     "text": [
      "\r",
      " 72%|███████▏  | 606/844 [17:42<07:40,  1.94s/it]"
     ]
    },
    {
     "name": "stdout",
     "output_type": "stream",
     "text": [
      "data/ISD/726556-14992-2020.gz missing for Redwood Falls Municipal Airport\n"
     ]
    },
    {
     "name": "stderr",
     "output_type": "stream",
     "text": [
      "\r",
      " 72%|███████▏  | 607/844 [17:44<07:32,  1.91s/it]"
     ]
    },
    {
     "name": "stdout",
     "output_type": "stream",
     "text": [
      "/pub/data/noaa/isd-lite/2020\n",
      "data/ISD/723068-93759-2020.gz missing for Rocky Mount Wilson Regional Airport\n"
     ]
    },
    {
     "name": "stdout",
     "output_type": "stream",
     "text": [
      "/pub/data/noaa/isd-lite/2020\n"
     ]
    },
    {
     "name": "stderr",
     "output_type": "stream",
     "text": [
      "\r",
      " 72%|███████▏  | 608/844 [17:46<07:31,  1.91s/it]"
     ]
    },
    {
     "name": "stdout",
     "output_type": "stream",
     "text": [
      "data/ISD/726690-24057-2020.gz missing for Rawlins Municipal Airport/Harvey Field\n",
      "/pub/data/noaa/isd-lite/2020\n"
     ]
    },
    {
     "name": "stderr",
     "output_type": "stream",
     "text": [
      "\r",
      " 72%|███████▏  | 609/844 [17:48<07:40,  1.96s/it]"
     ]
    },
    {
     "name": "stdout",
     "output_type": "stream",
     "text": [
      "data/ISD/747812-63813-2020.gz missing for Cobb County-Mc Collum Field\n"
     ]
    },
    {
     "name": "stdout",
     "output_type": "stream",
     "text": [
      "/pub/data/noaa/isd-lite/2020\n"
     ]
    },
    {
     "name": "stderr",
     "output_type": "stream",
     "text": [
      "\r",
      " 72%|███████▏  | 610/844 [17:50<07:44,  1.99s/it]"
     ]
    },
    {
     "name": "stdout",
     "output_type": "stream",
     "text": [
      "data/ISD/724830-23232-2020.gz missing for Sacramento Executive Airport\n"
     ]
    },
    {
     "name": "stdout",
     "output_type": "stream",
     "text": [
      "/pub/data/noaa/isd-lite/2020\n"
     ]
    },
    {
     "name": "stderr",
     "output_type": "stream",
     "text": [
      "\r",
      " 72%|███████▏  | 611/844 [17:52<07:26,  1.92s/it]"
     ]
    },
    {
     "name": "stdout",
     "output_type": "stream",
     "text": [
      "data/ISD/723656-23049-2020.gz missing for Santa Fe Municipal Airport\n",
      "/pub/data/noaa/isd-lite/2020\n"
     ]
    },
    {
     "name": "stderr",
     "output_type": "stream",
     "text": [
      "\r",
      " 73%|███████▎  | 612/844 [17:54<07:33,  1.96s/it]"
     ]
    },
    {
     "name": "stdout",
     "output_type": "stream",
     "text": [
      "data/ISD/722900-23188-2020.gz missing for San Diego International Airport\n",
      "/pub/data/noaa/isd-lite/2020\n"
     ]
    },
    {
     "name": "stderr",
     "output_type": "stream",
     "text": [
      "\r",
      " 73%|███████▎  | 613/844 [17:56<07:30,  1.95s/it]"
     ]
    },
    {
     "name": "stdout",
     "output_type": "stream",
     "text": [
      "data/ISD/722530-12921-2020.gz missing for San Antonio International Airport\n"
     ]
    },
    {
     "name": "stdout",
     "output_type": "stream",
     "text": [
      "/pub/data/noaa/isd-lite/2020\n"
     ]
    },
    {
     "name": "stderr",
     "output_type": "stream",
     "text": [
      "\r",
      " 73%|███████▎  | 614/844 [17:58<07:35,  1.98s/it]"
     ]
    },
    {
     "name": "stdout",
     "output_type": "stream",
     "text": [
      "data/ISD/722070-03822-2020.gz missing for Savannah Hilton Head International Airport\n"
     ]
    },
    {
     "name": "stdout",
     "output_type": "stream",
     "text": [
      "/pub/data/noaa/isd-lite/2020\n"
     ]
    },
    {
     "name": "stderr",
     "output_type": "stream",
     "text": [
      "\r",
      " 73%|███████▎  | 615/844 [18:00<07:30,  1.97s/it]"
     ]
    },
    {
     "name": "stdout",
     "output_type": "stream",
     "text": [
      "data/ISD/726284-94836-2020.gz missing for Sawyer International Airport\n"
     ]
    },
    {
     "name": "stdout",
     "output_type": "stream",
     "text": [
      "/pub/data/noaa/isd-lite/2020\n"
     ]
    },
    {
     "name": "stderr",
     "output_type": "stream",
     "text": [
      "\r",
      " 73%|███████▎  | 616/844 [18:01<06:45,  1.78s/it]"
     ]
    },
    {
     "name": "stdout",
     "output_type": "stream",
     "text": [
      "data/ISD/723925-23190-2020.gz missing for Santa Barbara Municipal Airport\n"
     ]
    },
    {
     "name": "stdout",
     "output_type": "stream",
     "text": [
      "/pub/data/noaa/isd-lite/2020\n"
     ]
    },
    {
     "name": "stderr",
     "output_type": "stream",
     "text": [
      "\r",
      " 73%|███████▎  | 617/844 [18:03<07:01,  1.86s/it]"
     ]
    },
    {
     "name": "stdout",
     "output_type": "stream",
     "text": [
      "data/ISD/722866-99999-2020.gz missing for San Bernardino International Airport\n"
     ]
    },
    {
     "name": "stdout",
     "output_type": "stream",
     "text": [
      "/pub/data/noaa/isd-lite/2020\n"
     ]
    },
    {
     "name": "stderr",
     "output_type": "stream",
     "text": [
      "\r",
      " 73%|███████▎  | 618/844 [18:05<06:31,  1.73s/it]"
     ]
    },
    {
     "name": "stdout",
     "output_type": "stream",
     "text": [
      "data/ISD/725350-14848-2020.gz missing for South Bend Regional Airport\n"
     ]
    },
    {
     "name": "stdout",
     "output_type": "stream",
     "text": [
      "/pub/data/noaa/isd-lite/2020\n"
     ]
    },
    {
     "name": "stderr",
     "output_type": "stream",
     "text": [
      "\r",
      " 73%|███████▎  | 619/844 [18:07<06:47,  1.81s/it]"
     ]
    },
    {
     "name": "stdout",
     "output_type": "stream",
     "text": [
      "data/ISD/722897-93206-2020.gz missing for San Luis County Regional Airport\n",
      "/pub/data/noaa/isd-lite/2020\n"
     ]
    },
    {
     "name": "stderr",
     "output_type": "stream",
     "text": [
      "\r",
      " 73%|███████▎  | 620/844 [18:09<06:51,  1.84s/it]"
     ]
    },
    {
     "name": "stdout",
     "output_type": "stream",
     "text": [
      "data/ISD/723980-93720-2020.gz missing for Salisbury Ocean City Wicomico Regional Airport\n"
     ]
    },
    {
     "name": "stdout",
     "output_type": "stream",
     "text": [
      "/pub/data/noaa/isd-lite/2020\n"
     ]
    },
    {
     "name": "stderr",
     "output_type": "stream",
     "text": [
      "\r",
      " 74%|███████▎  | 621/844 [18:11<07:13,  1.94s/it]"
     ]
    },
    {
     "name": "stdout",
     "output_type": "stream",
     "text": [
      "data/ISD/744994-04741-2020.gz missing for Schenectady County Airport\n",
      "/pub/data/noaa/isd-lite/2020\n"
     ]
    },
    {
     "name": "stderr",
     "output_type": "stream",
     "text": [
      "\r",
      " 74%|███████▎  | 622/844 [18:12<06:20,  1.72s/it]"
     ]
    },
    {
     "name": "stdout",
     "output_type": "stream",
     "text": [
      "data/ISD/724920-23237-2020.gz missing for Stockton Metropolitan Airport\n"
     ]
    },
    {
     "name": "stdout",
     "output_type": "stream",
     "text": [
      "/pub/data/noaa/isd-lite/2020\n"
     ]
    },
    {
     "name": "stderr",
     "output_type": "stream",
     "text": [
      "\r",
      " 74%|███████▍  | 623/844 [18:14<06:20,  1.72s/it]"
     ]
    },
    {
     "name": "stdout",
     "output_type": "stream",
     "text": [
      "data/ISD/724230-93821-2020.gz missing for Louisville Muhammad Ali International Airport\n"
     ]
    },
    {
     "name": "stdout",
     "output_type": "stream",
     "text": [
      "/pub/data/noaa/isd-lite/2020\n"
     ]
    },
    {
     "name": "stderr",
     "output_type": "stream",
     "text": [
      "\r",
      " 74%|███████▍  | 624/844 [18:16<06:33,  1.79s/it]"
     ]
    },
    {
     "name": "stdout",
     "output_type": "stream",
     "text": [
      "data/ISD/722904-03178-2020.gz missing for Brown Field Municipal Airport\n",
      "/pub/data/noaa/isd-lite/2020\n"
     ]
    },
    {
     "name": "stderr",
     "output_type": "stream",
     "text": [
      "\r",
      " 74%|███████▍  | 625/844 [18:18<06:48,  1.87s/it]"
     ]
    },
    {
     "name": "stdout",
     "output_type": "stream",
     "text": [
      "data/ISD/727687-94028-2020.gz missing for Sidney - Richland Regional Airport\n"
     ]
    },
    {
     "name": "stdout",
     "output_type": "stream",
     "text": [
      "/pub/data/noaa/isd-lite/2020\n"
     ]
    },
    {
     "name": "stderr",
     "output_type": "stream",
     "text": [
      "\r",
      " 74%|███████▍  | 626/844 [18:20<06:45,  1.86s/it]"
     ]
    },
    {
     "name": "stdout",
     "output_type": "stream",
     "text": [
      "data/ISD/727930-24233-2020.gz missing for Seattle Tacoma International Airport\n"
     ]
    },
    {
     "name": "stdout",
     "output_type": "stream",
     "text": [
      "/pub/data/noaa/isd-lite/2020\n"
     ]
    },
    {
     "name": "stderr",
     "output_type": "stream",
     "text": [
      "\r",
      " 74%|███████▍  | 627/844 [18:22<06:47,  1.88s/it]"
     ]
    },
    {
     "name": "stdout",
     "output_type": "stream",
     "text": [
      "data/ISD/722057-12854-2020.gz missing for Orlando Sanford International Airport\n",
      "/pub/data/noaa/isd-lite/2020\n"
     ]
    },
    {
     "name": "stderr",
     "output_type": "stream",
     "text": [
      "\r",
      " 74%|███████▍  | 628/844 [18:23<06:38,  1.84s/it]"
     ]
    },
    {
     "name": "stdout",
     "output_type": "stream",
     "text": [
      "data/ISD/727856-94176-2020.gz missing for Felts Field\n"
     ]
    },
    {
     "name": "stdout",
     "output_type": "stream",
     "text": [
      "/pub/data/noaa/isd-lite/2020\n"
     ]
    },
    {
     "name": "stderr",
     "output_type": "stream",
     "text": [
      "\r",
      " 75%|███████▍  | 629/844 [18:25<06:49,  1.90s/it]"
     ]
    },
    {
     "name": "stdout",
     "output_type": "stream",
     "text": [
      "data/ISD/724940-23234-2020.gz missing for San Francisco International Airport\n"
     ]
    },
    {
     "name": "stdout",
     "output_type": "stream",
     "text": [
      "/pub/data/noaa/isd-lite/2020\n"
     ]
    },
    {
     "name": "stderr",
     "output_type": "stream",
     "text": [
      "\r",
      " 75%|███████▍  | 630/844 [18:28<06:57,  1.95s/it]"
     ]
    },
    {
     "name": "stdout",
     "output_type": "stream",
     "text": [
      "data/ISD/724400-13995-2020.gz missing for Springfield Branson National Airport\n",
      "/pub/data/noaa/isd-lite/2020\n"
     ]
    },
    {
     "name": "stderr",
     "output_type": "stream",
     "text": [
      "\r",
      " 75%|███████▍  | 631/844 [18:30<07:07,  2.01s/it]"
     ]
    },
    {
     "name": "stdout",
     "output_type": "stream",
     "text": [
      "data/ISD/724295-63888-2020.gz missing for Springfield-Beckley Municipal Airport\n"
     ]
    },
    {
     "name": "stdout",
     "output_type": "stream",
     "text": [
      "/pub/data/noaa/isd-lite/2020\n"
     ]
    },
    {
     "name": "stderr",
     "output_type": "stream",
     "text": [
      "\r",
      " 75%|███████▍  | 632/844 [18:32<07:01,  1.99s/it]"
     ]
    },
    {
     "name": "stdout",
     "output_type": "stream",
     "text": [
      "data/ISD/722212-92814-2020.gz missing for Northeast Florida Regional Airport\n"
     ]
    },
    {
     "name": "stdout",
     "output_type": "stream",
     "text": [
      "/pub/data/noaa/isd-lite/2020\n"
     ]
    },
    {
     "name": "stderr",
     "output_type": "stream",
     "text": [
      "\r",
      " 75%|███████▌  | 633/844 [18:34<07:03,  2.01s/it]"
     ]
    },
    {
     "name": "stdout",
     "output_type": "stream",
     "text": [
      "data/ISD/722543-12977-2020.gz missing for Sugar Land Regional Airport\n"
     ]
    },
    {
     "name": "stdout",
     "output_type": "stream",
     "text": [
      "/pub/data/noaa/isd-lite/2020\n"
     ]
    },
    {
     "name": "stderr",
     "output_type": "stream",
     "text": [
      "\r",
      " 75%|███████▌  | 634/844 [18:36<06:52,  1.96s/it]"
     ]
    },
    {
     "name": "stdout",
     "output_type": "stream",
     "text": [
      "data/ISD/724754-23186-2020.gz missing for St George Municipal Airport\n",
      "/pub/data/noaa/isd-lite/2020\n"
     ]
    },
    {
     "name": "stderr",
     "output_type": "stream",
     "text": [
      "\r",
      " 75%|███████▌  | 635/844 [18:37<06:48,  1.95s/it]"
     ]
    },
    {
     "name": "stdout",
     "output_type": "stream",
     "text": [
      "data/ISD/726660-24029-2020.gz missing for Sheridan County Airport\n"
     ]
    },
    {
     "name": "stdout",
     "output_type": "stream",
     "text": [
      "/pub/data/noaa/isd-lite/2020\n"
     ]
    },
    {
     "name": "stderr",
     "output_type": "stream",
     "text": [
      "\r",
      " 75%|███████▌  | 636/844 [18:40<06:58,  2.01s/it]"
     ]
    },
    {
     "name": "stdout",
     "output_type": "stream",
     "text": [
      "data/ISD/722480-13957-2020.gz missing for Shreveport Regional Airport\n"
     ]
    },
    {
     "name": "stdout",
     "output_type": "stream",
     "text": [
      "/pub/data/noaa/isd-lite/2020\n"
     ]
    },
    {
     "name": "stderr",
     "output_type": "stream",
     "text": [
      "\r",
      " 75%|███████▌  | 637/844 [18:42<07:05,  2.05s/it]"
     ]
    },
    {
     "name": "stdout",
     "output_type": "stream",
     "text": [
      "data/ISD/724945-23293-2020.gz missing for Norman Y. Mineta San Jose International Airport\n"
     ]
    },
    {
     "name": "stdout",
     "output_type": "stream",
     "text": [
      "/pub/data/noaa/isd-lite/2020\n"
     ]
    },
    {
     "name": "stderr",
     "output_type": "stream",
     "text": [
      "\r",
      " 76%|███████▌  | 638/844 [18:44<06:48,  1.98s/it]"
     ]
    },
    {
     "name": "stdout",
     "output_type": "stream",
     "text": [
      "data/ISD/722630-23034-2020.gz missing for San Angelo Regional Mathis Field\n",
      "/pub/data/noaa/isd-lite/2020\n"
     ]
    },
    {
     "name": "stderr",
     "output_type": "stream",
     "text": [
      "\r",
      " 76%|███████▌  | 639/844 [18:46<06:46,  1.98s/it]"
     ]
    },
    {
     "name": "stdout",
     "output_type": "stream",
     "text": [
      "data/ISD/727855-24114-2020.gz missing for Fairchild Air Force Base\n",
      "/pub/data/noaa/isd-lite/2020\n"
     ]
    },
    {
     "name": "stderr",
     "output_type": "stream",
     "text": [
      "\r",
      " 76%|███████▌  | 640/844 [18:48<06:54,  2.03s/it]"
     ]
    },
    {
     "name": "stdout",
     "output_type": "stream",
     "text": [
      "data/ISD/722535-12909-2020.gz missing for Lackland Air Force Base\n"
     ]
    },
    {
     "name": "stdout",
     "output_type": "stream",
     "text": [
      "/pub/data/noaa/isd-lite/2020\n"
     ]
    },
    {
     "name": "stderr",
     "output_type": "stream",
     "text": [
      "\r",
      " 76%|███████▌  | 641/844 [18:50<07:05,  2.10s/it]"
     ]
    },
    {
     "name": "stdout",
     "output_type": "stream",
     "text": [
      "data/ISD/725720-24127-2020.gz missing for Salt Lake City International Airport\n",
      "/pub/data/noaa/isd-lite/2020\n"
     ]
    },
    {
     "name": "stderr",
     "output_type": "stream",
     "text": [
      "\r",
      " 76%|███████▌  | 642/844 [18:52<06:42,  1.99s/it]"
     ]
    },
    {
     "name": "stdout",
     "output_type": "stream",
     "text": [
      "data/ISD/726940-24232-2020.gz missing for Salem Municipal Airport/McNary Field\n"
     ]
    },
    {
     "name": "stdout",
     "output_type": "stream",
     "text": [
      "/pub/data/noaa/isd-lite/2020\n"
     ]
    },
    {
     "name": "stderr",
     "output_type": "stream",
     "text": [
      "\r",
      " 76%|███████▌  | 643/844 [18:54<06:32,  1.95s/it]"
     ]
    },
    {
     "name": "stdout",
     "output_type": "stream",
     "text": [
      "data/ISD/722975-53141-2020.gz missing for Los Alamitos Army Air Field\n",
      "/pub/data/noaa/isd-lite/2020\n"
     ]
    },
    {
     "name": "stderr",
     "output_type": "stream",
     "text": [
      "\r",
      " 76%|███████▋  | 644/844 [18:55<06:28,  1.94s/it]"
     ]
    },
    {
     "name": "stdout",
     "output_type": "stream",
     "text": [
      "data/ISD/726228-94740-2020.gz missing for Adirondack Regional Airport\n"
     ]
    },
    {
     "name": "stdout",
     "output_type": "stream",
     "text": [
      "/pub/data/noaa/isd-lite/2020\n"
     ]
    },
    {
     "name": "stderr",
     "output_type": "stream",
     "text": [
      "\r",
      " 76%|███████▋  | 645/844 [18:58<06:45,  2.04s/it]"
     ]
    },
    {
     "name": "stdout",
     "output_type": "stream",
     "text": [
      "data/ISD/724586-03919-2020.gz missing for Salina Municipal Airport\n"
     ]
    },
    {
     "name": "stdout",
     "output_type": "stream",
     "text": [
      "/pub/data/noaa/isd-lite/2020\n"
     ]
    },
    {
     "name": "stderr",
     "output_type": "stream",
     "text": [
      "\r",
      " 77%|███████▋  | 646/844 [19:00<06:31,  1.98s/it]"
     ]
    },
    {
     "name": "stdout",
     "output_type": "stream",
     "text": [
      "data/ISD/724354-63815-2020.gz missing for Lake Cumberland Regional Airport\n"
     ]
    },
    {
     "name": "stdout",
     "output_type": "stream",
     "text": [
      "/pub/data/noaa/isd-lite/2020\n"
     ]
    },
    {
     "name": "stderr",
     "output_type": "stream",
     "text": [
      "\r",
      " 77%|███████▋  | 647/844 [19:01<06:00,  1.83s/it]"
     ]
    },
    {
     "name": "stdout",
     "output_type": "stream",
     "text": [
      "data/ISD/724839-93225-2020.gz missing for Sacramento International Airport\n",
      "/pub/data/noaa/isd-lite/2020\n"
     ]
    },
    {
     "name": "stderr",
     "output_type": "stream",
     "text": [
      "\r",
      " 77%|███████▋  | 648/844 [19:03<06:02,  1.85s/it]"
     ]
    },
    {
     "name": "stdout",
     "output_type": "stream",
     "text": [
      "data/ISD/726865-24196-2020.gz missing for Lemhi County Airport\n"
     ]
    },
    {
     "name": "stdout",
     "output_type": "stream",
     "text": [
      "/pub/data/noaa/isd-lite/2020\n"
     ]
    },
    {
     "name": "stderr",
     "output_type": "stream",
     "text": [
      "\r",
      " 77%|███████▋  | 649/844 [19:05<06:02,  1.86s/it]"
     ]
    },
    {
     "name": "stdout",
     "output_type": "stream",
     "text": [
      "data/ISD/723940-23273-2020.gz missing for Santa Maria Pub/Capt G Allan Hancock Field\n",
      "/pub/data/noaa/isd-lite/2020\n"
     ]
    },
    {
     "name": "stderr",
     "output_type": "stream",
     "text": [
      "\r",
      " 77%|███████▋  | 650/844 [19:06<05:47,  1.79s/it]"
     ]
    },
    {
     "name": "stdout",
     "output_type": "stream",
     "text": [
      "data/ISD/722977-93184-2020.gz missing for John Wayne Airport-Orange County Airport\n",
      "/pub/data/noaa/isd-lite/2020\n"
     ]
    },
    {
     "name": "stderr",
     "output_type": "stream",
     "text": [
      "\r",
      " 77%|███████▋  | 651/844 [19:09<06:04,  1.89s/it]"
     ]
    },
    {
     "name": "stdout",
     "output_type": "stream",
     "text": [
      "data/ISD/725930-23233-2020.gz missing for Salinas Municipal Airport\n"
     ]
    },
    {
     "name": "stdout",
     "output_type": "stream",
     "text": [
      "/pub/data/noaa/isd-lite/2020\n"
     ]
    },
    {
     "name": "stderr",
     "output_type": "stream",
     "text": [
      "\r",
      " 77%|███████▋  | 652/844 [19:11<06:17,  1.97s/it]"
     ]
    },
    {
     "name": "stdout",
     "output_type": "stream",
     "text": [
      "data/ISD/725610-24030-2020.gz missing for Sidney Municipal-Lloyd W Carr Field\n"
     ]
    },
    {
     "name": "stdout",
     "output_type": "stream",
     "text": [
      "/pub/data/noaa/isd-lite/2020\n"
     ]
    },
    {
     "name": "stderr",
     "output_type": "stream",
     "text": [
      "\r",
      " 77%|███████▋  | 653/844 [19:13<06:14,  1.96s/it]"
     ]
    },
    {
     "name": "stdout",
     "output_type": "stream",
     "text": [
      "data/ISD/747335-03059-2020.gz missing for Sonora Municipal Airport\n",
      "/pub/data/noaa/isd-lite/2020\n"
     ]
    },
    {
     "name": "stderr",
     "output_type": "stream",
     "text": [
      "\r",
      " 77%|███████▋  | 654/844 [19:14<05:39,  1.79s/it]"
     ]
    },
    {
     "name": "stdout",
     "output_type": "stream",
     "text": [
      "data/ISD/724390-93822-2020.gz missing for Abraham Lincoln Capital Airport\n",
      "/pub/data/noaa/isd-lite/2020\n"
     ]
    },
    {
     "name": "stderr",
     "output_type": "stream",
     "text": [
      "\r",
      " 78%|███████▊  | 655/844 [19:16<05:55,  1.88s/it]"
     ]
    },
    {
     "name": "stdout",
     "output_type": "stream",
     "text": [
      "data/ISD/723510-13966-2020.gz missing for Sheppard Air Force Base-Wichita Falls Municipal Airport\n"
     ]
    },
    {
     "name": "stdout",
     "output_type": "stream",
     "text": [
      "/pub/data/noaa/isd-lite/2020\n"
     ]
    },
    {
     "name": "stderr",
     "output_type": "stream",
     "text": [
      "\r",
      " 78%|███████▊  | 656/844 [19:18<05:57,  1.90s/it]"
     ]
    },
    {
     "name": "stdout",
     "output_type": "stream",
     "text": [
      "data/ISD/722115-12871-2020.gz missing for Sarasota Bradenton International Airport\n"
     ]
    },
    {
     "name": "stdout",
     "output_type": "stream",
     "text": [
      "/pub/data/noaa/isd-lite/2020\n"
     ]
    },
    {
     "name": "stderr",
     "output_type": "stream",
     "text": [
      "\r",
      " 78%|███████▊  | 657/844 [19:20<05:46,  1.85s/it]"
     ]
    },
    {
     "name": "stdout",
     "output_type": "stream",
     "text": [
      "data/ISD/722683-93083-2020.gz missing for Sierra Blanca Regional Airport\n",
      "/pub/data/noaa/isd-lite/2020\n"
     ]
    },
    {
     "name": "stderr",
     "output_type": "stream",
     "text": [
      "\r",
      " 78%|███████▊  | 658/844 [19:22<05:38,  1.82s/it]"
     ]
    },
    {
     "name": "stdout",
     "output_type": "stream",
     "text": [
      "data/ISD/747900-13849-2020.gz missing for Shaw Air Force Base\n"
     ]
    },
    {
     "name": "stdout",
     "output_type": "stream",
     "text": [
      "/pub/data/noaa/isd-lite/2020\n"
     ]
    },
    {
     "name": "stderr",
     "output_type": "stream",
     "text": [
      "\r",
      " 78%|███████▊  | 659/844 [19:24<05:54,  1.92s/it]"
     ]
    },
    {
     "name": "stdout",
     "output_type": "stream",
     "text": [
      "data/ISD/722523-12970-2020.gz missing for Stinson Municipal Airport\n"
     ]
    },
    {
     "name": "stdout",
     "output_type": "stream",
     "text": [
      "/pub/data/noaa/isd-lite/2020\n"
     ]
    },
    {
     "name": "stderr",
     "output_type": "stream",
     "text": [
      "\r",
      " 78%|███████▊  | 660/844 [19:26<05:54,  1.93s/it]"
     ]
    },
    {
     "name": "stdout",
     "output_type": "stream",
     "text": [
      "data/ISD/722137-13878-2020.gz missing for St Simons Island Airport\n",
      "/pub/data/noaa/isd-lite/2020\n"
     ]
    },
    {
     "name": "stderr",
     "output_type": "stream",
     "text": [
      "\r",
      " 78%|███████▊  | 661/844 [19:28<05:59,  1.96s/it]"
     ]
    },
    {
     "name": "stdout",
     "output_type": "stream",
     "text": [
      "data/ISD/726550-14926-2020.gz missing for St Cloud Regional Airport\n"
     ]
    },
    {
     "name": "stdout",
     "output_type": "stream",
     "text": [
      "/pub/data/noaa/isd-lite/2020\n"
     ]
    },
    {
     "name": "stderr",
     "output_type": "stream",
     "text": [
      "\r",
      " 78%|███████▊  | 662/844 [19:30<06:01,  1.99s/it]"
     ]
    },
    {
     "name": "stdout",
     "output_type": "stream",
     "text": [
      "data/ISD/724490-13993-2020.gz missing for Rosecrans Memorial Airport\n"
     ]
    },
    {
     "name": "stdout",
     "output_type": "stream",
     "text": [
      "/pub/data/noaa/isd-lite/2020\n"
     ]
    },
    {
     "name": "stderr",
     "output_type": "stream",
     "text": [
      "\r",
      " 79%|███████▊  | 663/844 [19:32<06:08,  2.04s/it]"
     ]
    },
    {
     "name": "stdout",
     "output_type": "stream",
     "text": [
      "data/ISD/724340-13994-2020.gz missing for St Louis Lambert International Airport\n"
     ]
    },
    {
     "name": "stdout",
     "output_type": "stream",
     "text": [
      "/pub/data/noaa/isd-lite/2020\n"
     ]
    },
    {
     "name": "stderr",
     "output_type": "stream",
     "text": [
      "\r",
      " 79%|███████▊  | 664/844 [19:34<06:07,  2.04s/it]"
     ]
    },
    {
     "name": "stdout",
     "output_type": "stream",
     "text": [
      "data/ISD/726584-14927-2020.gz missing for St Paul Downtown Holman Field\n"
     ]
    },
    {
     "name": "stdout",
     "output_type": "stream",
     "text": [
      "/pub/data/noaa/isd-lite/2020\n"
     ]
    },
    {
     "name": "stderr",
     "output_type": "stream",
     "text": [
      "\r",
      " 79%|███████▉  | 665/844 [19:36<06:00,  2.01s/it]"
     ]
    },
    {
     "name": "stdout",
     "output_type": "stream",
     "text": [
      "data/ISD/724957-23213-2020.gz missing for Charles M. Schulz Sonoma County Airport\n"
     ]
    },
    {
     "name": "stdout",
     "output_type": "stream",
     "text": [
      "/pub/data/noaa/isd-lite/2020\n"
     ]
    },
    {
     "name": "stderr",
     "output_type": "stream",
     "text": [
      "\r",
      " 79%|███████▉  | 666/844 [19:38<05:58,  2.02s/it]"
     ]
    },
    {
     "name": "stdout",
     "output_type": "stream",
     "text": [
      "data/ISD/725865-94161-2020.gz missing for Friedman Memorial Airport\n"
     ]
    },
    {
     "name": "stdout",
     "output_type": "stream",
     "text": [
      "/pub/data/noaa/isd-lite/2020\n"
     ]
    },
    {
     "name": "stderr",
     "output_type": "stream",
     "text": [
      "\r",
      " 79%|███████▉  | 667/844 [19:40<05:32,  1.88s/it]"
     ]
    },
    {
     "name": "stdout",
     "output_type": "stream",
     "text": [
      "data/ISD/724345-03966-2020.gz missing for Spirit of St Louis Airport\n"
     ]
    },
    {
     "name": "stdout",
     "output_type": "stream",
     "text": [
      "/pub/data/noaa/isd-lite/2020\n"
     ]
    },
    {
     "name": "stderr",
     "output_type": "stream",
     "text": [
      "\r",
      " 79%|███████▉  | 668/844 [19:41<05:28,  1.87s/it]"
     ]
    },
    {
     "name": "stdout",
     "output_type": "stream",
     "text": [
      "data/ISD/745160-23202-2020.gz missing for Travis Air Force Base\n"
     ]
    },
    {
     "name": "stdout",
     "output_type": "stream",
     "text": [
      "/pub/data/noaa/isd-lite/2020\n"
     ]
    },
    {
     "name": "stderr",
     "output_type": "stream",
     "text": [
      "\r",
      " 79%|███████▉  | 669/844 [19:43<05:30,  1.89s/it]"
     ]
    },
    {
     "name": "stdout",
     "output_type": "stream",
     "text": [
      "data/ISD/725570-14943-2020.gz missing for Sioux Gateway Airport/Brigadier General Bud Day Field\n"
     ]
    },
    {
     "name": "stdout",
     "output_type": "stream",
     "text": [
      "/pub/data/noaa/isd-lite/2020\n"
     ]
    },
    {
     "name": "stderr",
     "output_type": "stream",
     "text": [
      "\r",
      " 79%|███████▉  | 670/844 [19:45<05:37,  1.94s/it]"
     ]
    },
    {
     "name": "stdout",
     "output_type": "stream",
     "text": [
      "data/ISD/747804-13824-2020.gz missing for Hunter Army Air Field\n"
     ]
    },
    {
     "name": "stdout",
     "output_type": "stream",
     "text": [
      "/pub/data/noaa/isd-lite/2020\n"
     ]
    },
    {
     "name": "stderr",
     "output_type": "stream",
     "text": [
      "\r",
      " 80%|███████▉  | 671/844 [19:47<05:33,  1.93s/it]"
     ]
    },
    {
     "name": "stdout",
     "output_type": "stream",
     "text": [
      "data/ISD/725038-14714-2020.gz missing for New York Stewart International Airport\n",
      "/pub/data/noaa/isd-lite/2020\n"
     ]
    },
    {
     "name": "stderr",
     "output_type": "stream",
     "text": [
      "\r",
      " 80%|███████▉  | 672/844 [19:48<04:52,  1.70s/it]"
     ]
    },
    {
     "name": "stdout",
     "output_type": "stream",
     "text": [
      "data/ISD/723545-03965-2020.gz missing for Stillwater Regional Airport\n"
     ]
    },
    {
     "name": "stdout",
     "output_type": "stream",
     "text": [
      "/pub/data/noaa/isd-lite/2020\n"
     ]
    },
    {
     "name": "stderr",
     "output_type": "stream",
     "text": [
      "\r",
      " 80%|███████▉  | 673/844 [19:50<05:08,  1.80s/it]"
     ]
    },
    {
     "name": "stdout",
     "output_type": "stream",
     "text": [
      "data/ISD/725190-14771-2020.gz missing for Syracuse Hancock International Airport\n",
      "/pub/data/noaa/isd-lite/2020\n"
     ]
    },
    {
     "name": "stderr",
     "output_type": "stream",
     "text": [
      "\r",
      " 80%|███████▉  | 674/844 [19:53<05:29,  1.94s/it]"
     ]
    },
    {
     "name": "stdout",
     "output_type": "stream",
     "text": [
      "data/ISD/724467-13930-2020.gz missing for Whiteman Air Force Base\n"
     ]
    },
    {
     "name": "stdout",
     "output_type": "stream",
     "text": [
      "/pub/data/noaa/isd-lite/2020\n"
     ]
    },
    {
     "name": "stderr",
     "output_type": "stream",
     "text": [
      "\r",
      " 80%|███████▉  | 675/844 [19:55<05:48,  2.06s/it]"
     ]
    },
    {
     "name": "stdout",
     "output_type": "stream",
     "text": [
      "data/ISD/724457-03938-2020.gz missing for Waynesville-St. Robert Regional Forney field\n"
     ]
    },
    {
     "name": "stdout",
     "output_type": "stream",
     "text": [
      "/pub/data/noaa/isd-lite/2020\n"
     ]
    },
    {
     "name": "stderr",
     "output_type": "stream",
     "text": [
      "\r",
      " 80%|████████  | 676/844 [19:57<06:01,  2.15s/it]"
     ]
    },
    {
     "name": "stdout",
     "output_type": "stream",
     "text": [
      "data/ISD/723676-23048-2020.gz missing for Tucumcari Municipal Airport\n"
     ]
    },
    {
     "name": "stdout",
     "output_type": "stream",
     "text": [
      "/pub/data/noaa/isd-lite/2020\n"
     ]
    },
    {
     "name": "stderr",
     "output_type": "stream",
     "text": [
      "\r",
      " 80%|████████  | 677/844 [19:59<05:54,  2.12s/it]"
     ]
    },
    {
     "name": "stdout",
     "output_type": "stream",
     "text": [
      "data/ISD/722286-93806-2020.gz missing for Tuscaloosa Regional Airport\n",
      "/pub/data/noaa/isd-lite/2020\n"
     ]
    },
    {
     "name": "stderr",
     "output_type": "stream",
     "text": [
      "\r",
      " 80%|████████  | 678/844 [20:02<05:48,  2.10s/it]"
     ]
    },
    {
     "name": "stdout",
     "output_type": "stream",
     "text": [
      "data/ISD/742060-24207-2020.gz missing for McChord Air Force Base\n"
     ]
    },
    {
     "name": "stdout",
     "output_type": "stream",
     "text": [
      "/pub/data/noaa/isd-lite/2020\n"
     ]
    },
    {
     "name": "stderr",
     "output_type": "stream",
     "text": [
      "\r",
      " 80%|████████  | 679/844 [20:04<05:48,  2.11s/it]"
     ]
    },
    {
     "name": "stdout",
     "output_type": "stream",
     "text": [
      "data/ISD/722710-93045-2020.gz missing for Truth Or Consequences Municipal Airport\n"
     ]
    },
    {
     "name": "stdout",
     "output_type": "stream",
     "text": [
      "/pub/data/noaa/isd-lite/2020\n"
     ]
    },
    {
     "name": "stderr",
     "output_type": "stream",
     "text": [
      "\r",
      " 81%|████████  | 680/844 [20:06<05:33,  2.03s/it]"
     ]
    },
    {
     "name": "stdout",
     "output_type": "stream",
     "text": [
      "data/ISD/725025-94741-2020.gz missing for Teterboro Airport\n",
      "/pub/data/noaa/isd-lite/2020\n"
     ]
    },
    {
     "name": "stderr",
     "output_type": "stream",
     "text": [
      "\r",
      " 81%|████████  | 681/844 [20:08<05:35,  2.06s/it]"
     ]
    },
    {
     "name": "stdout",
     "output_type": "stream",
     "text": [
      "data/ISD/723540-13919-2020.gz missing for Tinker Air Force Base\n",
      "/pub/data/noaa/isd-lite/2020\n"
     ]
    },
    {
     "name": "stderr",
     "output_type": "stream",
     "text": [
      "\r",
      " 81%|████████  | 682/844 [20:10<05:34,  2.07s/it]"
     ]
    },
    {
     "name": "stdout",
     "output_type": "stream",
     "text": [
      "data/ISD/727938-94274-2020.gz missing for Tacoma Narrows Airport\n",
      "/pub/data/noaa/isd-lite/2020\n"
     ]
    },
    {
     "name": "stderr",
     "output_type": "stream",
     "text": [
      "\r",
      " 81%|████████  | 683/844 [20:12<05:30,  2.05s/it]"
     ]
    },
    {
     "name": "stdout",
     "output_type": "stream",
     "text": [
      "data/ISD/722046-12898-2020.gz missing for Space Coast Regional Airport\n",
      "/pub/data/noaa/isd-lite/2020\n"
     ]
    },
    {
     "name": "stderr",
     "output_type": "stream",
     "text": [
      "\r",
      " 81%|████████  | 684/844 [20:13<04:40,  1.75s/it]"
     ]
    },
    {
     "name": "stdout",
     "output_type": "stream",
     "text": [
      "data/ISD/722140-93805-2020.gz missing for Tallahassee Regional Airport\n"
     ]
    },
    {
     "name": "stdout",
     "output_type": "stream",
     "text": [
      "/pub/data/noaa/isd-lite/2020\n"
     ]
    },
    {
     "name": "stderr",
     "output_type": "stream",
     "text": [
      "\r",
      " 81%|████████  | 685/844 [20:15<04:57,  1.87s/it]"
     ]
    },
    {
     "name": "stdout",
     "output_type": "stream",
     "text": [
      "data/ISD/722029-12888-2020.gz missing for Miami Executive Airport\n"
     ]
    },
    {
     "name": "stdout",
     "output_type": "stream",
     "text": [
      "/pub/data/noaa/isd-lite/2020\n"
     ]
    },
    {
     "name": "stderr",
     "output_type": "stream",
     "text": [
      "\r",
      " 81%|████████▏ | 686/844 [20:17<05:04,  1.92s/it]"
     ]
    },
    {
     "name": "stdout",
     "output_type": "stream",
     "text": [
      "data/ISD/722267-03878-2020.gz missing for Troy Municipal Airport at N Kenneth Campbell Field\n"
     ]
    },
    {
     "name": "stdout",
     "output_type": "stream",
     "text": [
      "/pub/data/noaa/isd-lite/2020\n"
     ]
    },
    {
     "name": "stderr",
     "output_type": "stream",
     "text": [
      "\r",
      " 81%|████████▏ | 687/844 [20:19<05:07,  1.96s/it]"
     ]
    },
    {
     "name": "stdout",
     "output_type": "stream",
     "text": [
      "data/ISD/725360-94830-2020.gz missing for Toledo Express Airport\n",
      "/pub/data/noaa/isd-lite/2020\n"
     ]
    },
    {
     "name": "stderr",
     "output_type": "stream",
     "text": [
      "\r",
      " 82%|████████▏ | 688/844 [20:21<04:55,  1.90s/it]"
     ]
    },
    {
     "name": "stdout",
     "output_type": "stream",
     "text": [
      "data/ISD/724560-13996-2020.gz missing for Philip Billard Municipal Airport\n",
      "/pub/data/noaa/isd-lite/2020\n"
     ]
    },
    {
     "name": "stderr",
     "output_type": "stream",
     "text": [
      "\r",
      " 82%|████████▏ | 689/844 [20:23<04:56,  1.91s/it]"
     ]
    },
    {
     "name": "stdout",
     "output_type": "stream",
     "text": [
      "data/ISD/722110-12842-2020.gz missing for Tampa International Airport\n"
     ]
    },
    {
     "name": "stdout",
     "output_type": "stream",
     "text": [
      "/pub/data/noaa/isd-lite/2020\n"
     ]
    },
    {
     "name": "stderr",
     "output_type": "stream",
     "text": [
      "\r",
      " 82%|████████▏ | 690/844 [20:25<05:00,  1.95s/it]"
     ]
    },
    {
     "name": "stdout",
     "output_type": "stream",
     "text": [
      "data/ISD/724855-23153-2020.gz missing for Tonopah Airport\n"
     ]
    },
    {
     "name": "stdout",
     "output_type": "stream",
     "text": [
      "/pub/data/noaa/isd-lite/2020\n"
     ]
    },
    {
     "name": "stderr",
     "output_type": "stream",
     "text": [
      "\r",
      " 82%|████████▏ | 691/844 [20:27<04:58,  1.95s/it]"
     ]
    },
    {
     "name": "stdout",
     "output_type": "stream",
     "text": [
      "data/ISD/722577-93984-2020.gz missing for Draughon Miller Central Texas Regional Airport\n"
     ]
    },
    {
     "name": "stdout",
     "output_type": "stream",
     "text": [
      "/pub/data/noaa/isd-lite/2020\n"
     ]
    },
    {
     "name": "stderr",
     "output_type": "stream",
     "text": [
      "\r",
      " 82%|████████▏ | 692/844 [20:29<05:05,  2.01s/it]"
     ]
    },
    {
     "name": "stdout",
     "output_type": "stream",
     "text": [
      "data/ISD/723350-13877-2020.gz missing for Tri-Cities Regional TN/VA Airport\n"
     ]
    },
    {
     "name": "stdout",
     "output_type": "stream",
     "text": [
      "/pub/data/noaa/isd-lite/2020\n"
     ]
    },
    {
     "name": "stderr",
     "output_type": "stream",
     "text": [
      "\r",
      " 82%|████████▏ | 693/844 [20:31<05:00,  1.99s/it]"
     ]
    },
    {
     "name": "stdout",
     "output_type": "stream",
     "text": [
      "data/ISD/725846-93201-2020.gz missing for Truckee Tahoe Airport\n"
     ]
    },
    {
     "name": "stdout",
     "output_type": "stream",
     "text": [
      "/pub/data/noaa/isd-lite/2020\n"
     ]
    },
    {
     "name": "stderr",
     "output_type": "stream",
     "text": [
      "\r",
      " 82%|████████▏ | 694/844 [20:32<04:29,  1.80s/it]"
     ]
    },
    {
     "name": "stdout",
     "output_type": "stream",
     "text": [
      "data/ISD/747187-03104-2020.gz missing for Jacqueline Cochran Regional Airport\n",
      "/pub/data/noaa/isd-lite/2020\n"
     ]
    },
    {
     "name": "stderr",
     "output_type": "stream",
     "text": [
      "\r",
      " 82%|████████▏ | 695/844 [20:35<04:52,  1.96s/it]"
     ]
    },
    {
     "name": "stdout",
     "output_type": "stream",
     "text": [
      "data/ISD/726985-24242-2020.gz missing for Portland Troutdale Airport\n"
     ]
    },
    {
     "name": "stdout",
     "output_type": "stream",
     "text": [
      "/pub/data/noaa/isd-lite/2020\n"
     ]
    },
    {
     "name": "stderr",
     "output_type": "stream",
     "text": [
      "\r",
      " 82%|████████▏ | 696/844 [20:36<04:49,  1.96s/it]"
     ]
    },
    {
     "name": "stdout",
     "output_type": "stream",
     "text": [
      "data/ISD/724095-14792-2020.gz missing for Trenton Mercer Airport\n"
     ]
    },
    {
     "name": "stdout",
     "output_type": "stream",
     "text": [
      "/pub/data/noaa/isd-lite/2020\n"
     ]
    },
    {
     "name": "stderr",
     "output_type": "stream",
     "text": [
      "\r",
      " 83%|████████▎ | 697/844 [20:39<04:56,  2.01s/it]"
     ]
    },
    {
     "name": "stdout",
     "output_type": "stream",
     "text": [
      "data/ISD/747946-12886-2020.gz missing for Nasa Shuttle Landing Facility Airport\n"
     ]
    },
    {
     "name": "stdout",
     "output_type": "stream",
     "text": [
      "/pub/data/noaa/isd-lite/2020\n"
     ]
    },
    {
     "name": "stderr",
     "output_type": "stream",
     "text": [
      "\r",
      " 83%|████████▎ | 698/844 [20:41<04:55,  2.02s/it]"
     ]
    },
    {
     "name": "stdout",
     "output_type": "stream",
     "text": [
      "data/ISD/723560-13968-2020.gz missing for Tulsa International Airport\n"
     ]
    },
    {
     "name": "stdout",
     "output_type": "stream",
     "text": [
      "/pub/data/noaa/isd-lite/2020\n"
     ]
    },
    {
     "name": "stderr",
     "output_type": "stream",
     "text": [
      "\r",
      " 83%|████████▎ | 699/844 [20:43<05:25,  2.25s/it]"
     ]
    },
    {
     "name": "stdout",
     "output_type": "stream",
     "text": [
      "data/ISD/723320-93862-2020.gz missing for Tupelo Regional Airport\n"
     ]
    },
    {
     "name": "stdout",
     "output_type": "stream",
     "text": [
      "/pub/data/noaa/isd-lite/2020\n"
     ]
    },
    {
     "name": "stderr",
     "output_type": "stream",
     "text": [
      "\r",
      " 83%|████████▎ | 700/844 [20:45<05:15,  2.19s/it]"
     ]
    },
    {
     "name": "stdout",
     "output_type": "stream",
     "text": [
      "data/ISD/722740-23160-2020.gz missing for Tucson International Airport / Morris Air National Guard Base\n",
      "/pub/data/noaa/isd-lite/2020\n"
     ]
    },
    {
     "name": "stderr",
     "output_type": "stream",
     "text": [
      "\r",
      " 83%|████████▎ | 701/844 [20:48<05:06,  2.14s/it]"
     ]
    },
    {
     "name": "stdout",
     "output_type": "stream",
     "text": [
      "data/ISD/726387-14850-2020.gz missing for Cherry Capital Airport\n"
     ]
    },
    {
     "name": "stdout",
     "output_type": "stream",
     "text": [
      "/pub/data/noaa/isd-lite/2020\n"
     ]
    },
    {
     "name": "stderr",
     "output_type": "stream",
     "text": [
      "\r",
      " 83%|████████▎ | 702/844 [20:49<04:56,  2.08s/it]"
     ]
    },
    {
     "name": "stdout",
     "output_type": "stream",
     "text": [
      "data/ISD/725847-93230-2020.gz missing for Lake Tahoe Airport\n"
     ]
    },
    {
     "name": "stdout",
     "output_type": "stream",
     "text": [
      "/pub/data/noaa/isd-lite/2020\n"
     ]
    },
    {
     "name": "stderr",
     "output_type": "stream",
     "text": [
      "\r",
      " 83%|████████▎ | 703/844 [20:51<04:48,  2.04s/it]"
     ]
    },
    {
     "name": "stdout",
     "output_type": "stream",
     "text": [
      "data/ISD/725866-94178-2020.gz missing for Joslin Field Magic Valley Regional Airport\n"
     ]
    },
    {
     "name": "stdout",
     "output_type": "stream",
     "text": [
      "/pub/data/noaa/isd-lite/2020\n"
     ]
    },
    {
     "name": "stderr",
     "output_type": "stream",
     "text": [
      "\r",
      " 83%|████████▎ | 704/844 [20:54<05:07,  2.20s/it]"
     ]
    },
    {
     "name": "stdout",
     "output_type": "stream",
     "text": [
      "data/ISD/723418-13977-2020.gz missing for Texarkana Regional Webb Field\n",
      "/pub/data/noaa/isd-lite/2020\n"
     ]
    },
    {
     "name": "stderr",
     "output_type": "stream",
     "text": [
      "\r",
      " 84%|████████▎ | 705/844 [20:56<04:55,  2.12s/it]"
     ]
    },
    {
     "name": "stdout",
     "output_type": "stream",
     "text": [
      "data/ISD/722448-13972-2020.gz missing for Tyler Pounds Regional Airport\n"
     ]
    },
    {
     "name": "stdout",
     "output_type": "stream",
     "text": [
      "/pub/data/noaa/isd-lite/2020\n"
     ]
    },
    {
     "name": "stderr",
     "output_type": "stream",
     "text": [
      "\r",
      " 84%|████████▎ | 706/844 [20:58<04:49,  2.10s/it]"
     ]
    },
    {
     "name": "stdout",
     "output_type": "stream",
     "text": [
      "data/ISD/723260-13891-2020.gz missing for McGhee Tyson Airport\n"
     ]
    },
    {
     "name": "stdout",
     "output_type": "stream",
     "text": [
      "/pub/data/noaa/isd-lite/2020\n"
     ]
    },
    {
     "name": "stderr",
     "output_type": "stream",
     "text": [
      "\r",
      " 84%|████████▍ | 707/844 [21:00<04:45,  2.08s/it]"
     ]
    },
    {
     "name": "stdout",
     "output_type": "stream",
     "text": [
      "data/ISD/726959-94281-2020.gz missing for Aurora State Airport\n",
      "/pub/data/noaa/isd-lite/2020\n"
     ]
    },
    {
     "name": "stderr",
     "output_type": "stream",
     "text": [
      "\r",
      " 84%|████████▍ | 708/844 [21:02<04:30,  1.99s/it]"
     ]
    },
    {
     "name": "stdout",
     "output_type": "stream",
     "text": [
      "data/ISD/724430-93989-2020.gz missing for Quincy Regional Baldwin Field\n",
      "/pub/data/noaa/isd-lite/2020\n"
     ]
    },
    {
     "name": "stderr",
     "output_type": "stream",
     "text": [
      "\r",
      " 84%|████████▍ | 709/844 [21:04<04:29,  2.00s/it]"
     ]
    },
    {
     "name": "stdout",
     "output_type": "stream",
     "text": [
      "data/ISD/725905-23275-2020.gz missing for Ukiah Municipal Airport\n"
     ]
    },
    {
     "name": "stdout",
     "output_type": "stream",
     "text": [
      "/pub/data/noaa/isd-lite/2020\n"
     ]
    },
    {
     "name": "stderr",
     "output_type": "stream",
     "text": [
      "\r",
      " 84%|████████▍ | 710/844 [21:06<04:29,  2.01s/it]"
     ]
    },
    {
     "name": "stdout",
     "output_type": "stream",
     "text": [
      "data/ISD/725128-54739-2020.gz missing for University Park Airport\n"
     ]
    },
    {
     "name": "stdout",
     "output_type": "stream",
     "text": [
      "/pub/data/noaa/isd-lite/2020\n"
     ]
    },
    {
     "name": "stderr",
     "output_type": "stream",
     "text": [
      "\r",
      " 84%|████████▍ | 711/844 [21:08<04:25,  1.99s/it]"
     ]
    },
    {
     "name": "stdout",
     "output_type": "stream",
     "text": [
      "data/ISD/720541-53806-2020.gz missing for University Oxford Airport\n"
     ]
    },
    {
     "name": "stdout",
     "output_type": "stream",
     "text": [
      "/pub/data/noaa/isd-lite/2020\n"
     ]
    },
    {
     "name": "stderr",
     "output_type": "stream",
     "text": [
      "\r",
      " 84%|████████▍ | 712/844 [21:10<04:13,  1.92s/it]"
     ]
    },
    {
     "name": "stdout",
     "output_type": "stream",
     "text": [
      "data/ISD/722447-53903-2020.gz missing for Huntsville Regional Airport\n",
      "/pub/data/noaa/isd-lite/2020\n"
     ]
    },
    {
     "name": "stderr",
     "output_type": "stream",
     "text": [
      "\r",
      " 84%|████████▍ | 713/844 [21:12<04:16,  1.96s/it]"
     ]
    },
    {
     "name": "stdout",
     "output_type": "stream",
     "text": [
      "data/ISD/747810-13857-2020.gz missing for Moody Air Force Base\n"
     ]
    },
    {
     "name": "stdout",
     "output_type": "stream",
     "text": [
      "/pub/data/noaa/isd-lite/2020\n"
     ]
    },
    {
     "name": "stderr",
     "output_type": "stream",
     "text": [
      "\r",
      " 85%|████████▍ | 714/844 [21:14<04:15,  1.96s/it]"
     ]
    },
    {
     "name": "stdout",
     "output_type": "stream",
     "text": [
      "data/ISD/723930-93214-2020.gz missing for Vandenberg Air Force Base\n",
      "/pub/data/noaa/isd-lite/2020\n"
     ]
    },
    {
     "name": "stderr",
     "output_type": "stream",
     "text": [
      "\r",
      " 85%|████████▍ | 715/844 [21:15<04:07,  1.92s/it]"
     ]
    },
    {
     "name": "stdout",
     "output_type": "stream",
     "text": [
      "data/ISD/722550-12912-2020.gz missing for Victoria Regional Airport\n",
      "/pub/data/noaa/isd-lite/2020\n"
     ]
    },
    {
     "name": "stderr",
     "output_type": "stream",
     "text": [
      "\r",
      " 85%|████████▍ | 716/844 [21:17<04:02,  1.89s/it]"
     ]
    },
    {
     "name": "stdout",
     "output_type": "stream",
     "text": [
      "data/ISD/725705-94030-2020.gz missing for Vernal Regional Airport\n"
     ]
    },
    {
     "name": "stdout",
     "output_type": "stream",
     "text": [
      "/pub/data/noaa/isd-lite/2020\n"
     ]
    },
    {
     "name": "stderr",
     "output_type": "stream",
     "text": [
      "\r",
      " 85%|████████▍ | 717/844 [21:19<04:06,  1.94s/it]"
     ]
    },
    {
     "name": "stdout",
     "output_type": "stream",
     "text": [
      "data/ISD/724846-53123-2020.gz missing for North Las Vegas Airport\n"
     ]
    },
    {
     "name": "stdout",
     "output_type": "stream",
     "text": [
      "/pub/data/noaa/isd-lite/2020\n"
     ]
    },
    {
     "name": "stderr",
     "output_type": "stream",
     "text": [
      "\r",
      " 85%|████████▌ | 718/844 [21:21<04:08,  1.97s/it]"
     ]
    },
    {
     "name": "stdout",
     "output_type": "stream",
     "text": [
      "data/ISD/722166-93845-2020.gz missing for Valdosta Regional Airport\n",
      "/pub/data/noaa/isd-lite/2020\n"
     ]
    },
    {
     "name": "stderr",
     "output_type": "stream",
     "text": [
      "\r",
      " 85%|████████▌ | 719/844 [21:23<03:57,  1.90s/it]"
     ]
    },
    {
     "name": "stdout",
     "output_type": "stream",
     "text": [
      "data/ISD/722886-23130-2020.gz missing for Van Nuys Airport\n"
     ]
    },
    {
     "name": "stdout",
     "output_type": "stream",
     "text": [
      "/pub/data/noaa/isd-lite/2020\n"
     ]
    },
    {
     "name": "stderr",
     "output_type": "stream",
     "text": [
      "\r",
      " 85%|████████▌ | 720/844 [21:25<04:01,  1.95s/it]"
     ]
    },
    {
     "name": "stdout",
     "output_type": "stream",
     "text": [
      "data/ISD/726436-94930-2020.gz missing for Volk Field\n",
      "/pub/data/noaa/isd-lite/2020\n"
     ]
    },
    {
     "name": "stderr",
     "output_type": "stream",
     "text": [
      "\r",
      " 85%|████████▌ | 721/844 [21:27<04:03,  1.98s/it]"
     ]
    },
    {
     "name": "stdout",
     "output_type": "stream",
     "text": [
      "data/ISD/722210-13858-2020.gz missing for Destin-Ft Walton Beach Airport\n"
     ]
    },
    {
     "name": "stdout",
     "output_type": "stream",
     "text": [
      "/pub/data/noaa/isd-lite/2020\n"
     ]
    },
    {
     "name": "stderr",
     "output_type": "stream",
     "text": [
      "\r",
      " 86%|████████▌ | 722/844 [21:29<04:11,  2.06s/it]"
     ]
    },
    {
     "name": "stdout",
     "output_type": "stream",
     "text": [
      "data/ISD/725327-04846-2020.gz missing for Porter County Municipal Airport\n"
     ]
    },
    {
     "name": "stdout",
     "output_type": "stream",
     "text": [
      "/pub/data/noaa/isd-lite/2020\n"
     ]
    },
    {
     "name": "stderr",
     "output_type": "stream",
     "text": [
      "\r",
      " 86%|████████▌ | 723/844 [21:31<04:09,  2.06s/it]"
     ]
    },
    {
     "name": "stdout",
     "output_type": "stream",
     "text": [
      "data/ISD/747930-12843-2020.gz missing for Vero Beach Regional Airport\n",
      "/pub/data/noaa/isd-lite/2020\n"
     ]
    },
    {
     "name": "stderr",
     "output_type": "stream",
     "text": [
      "\r",
      " 86%|████████▌ | 724/844 [21:34<04:06,  2.06s/it]"
     ]
    },
    {
     "name": "stdout",
     "output_type": "stream",
     "text": [
      "data/ISD/725670-24032-2020.gz missing for Miller Field\n",
      "/pub/data/noaa/isd-lite/2020\n"
     ]
    },
    {
     "name": "stderr",
     "output_type": "stream",
     "text": [
      "\r",
      " 86%|████████▌ | 725/844 [21:36<04:14,  2.14s/it]"
     ]
    },
    {
     "name": "stdout",
     "output_type": "stream",
     "text": [
      "data/ISD/723816-03159-2020.gz missing for General WM J Fox Airfield\n"
     ]
    },
    {
     "name": "stdout",
     "output_type": "stream",
     "text": [
      "/pub/data/noaa/isd-lite/2020\n"
     ]
    },
    {
     "name": "stderr",
     "output_type": "stream",
     "text": [
      "\r",
      " 86%|████████▌ | 726/844 [21:38<04:13,  2.14s/it]"
     ]
    },
    {
     "name": "stdout",
     "output_type": "stream",
     "text": [
      "data/ISD/725830-24128-2020.gz missing for Winnemucca Municipal Airport\n"
     ]
    },
    {
     "name": "stdout",
     "output_type": "stream",
     "text": [
      "/pub/data/noaa/isd-lite/2020\n"
     ]
    },
    {
     "name": "stderr",
     "output_type": "stream",
     "text": [
      "\r",
      " 86%|████████▌ | 727/844 [21:40<04:11,  2.15s/it]"
     ]
    },
    {
     "name": "stdout",
     "output_type": "stream",
     "text": [
      "data/ISD/722175-13860-2020.gz missing for Robins Air Force Base\n"
     ]
    },
    {
     "name": "stdout",
     "output_type": "stream",
     "text": [
      "/pub/data/noaa/isd-lite/2020\n"
     ]
    },
    {
     "name": "stderr",
     "output_type": "stream",
     "text": [
      "\r",
      " 86%|████████▋ | 728/844 [21:42<04:05,  2.12s/it]"
     ]
    },
    {
     "name": "stdout",
     "output_type": "stream",
     "text": [
      "data/ISD/724096-14706-2020.gz missing for Mc Guire Air Force Base\n"
     ]
    },
    {
     "name": "stdout",
     "output_type": "stream",
     "text": [
      "/pub/data/noaa/isd-lite/2020\n"
     ]
    },
    {
     "name": "stderr",
     "output_type": "stream",
     "text": [
      "\r",
      " 86%|████████▋ | 729/844 [21:45<04:15,  2.22s/it]"
     ]
    },
    {
     "name": "stdout",
     "output_type": "stream",
     "text": [
      "data/ISD/726665-24062-2020.gz missing for Worland Municipal Airport\n"
     ]
    },
    {
     "name": "stdout",
     "output_type": "stream",
     "text": [
      "/pub/data/noaa/isd-lite/2020\n"
     ]
    },
    {
     "name": "stderr",
     "output_type": "stream",
     "text": [
      "\r",
      " 86%|████████▋ | 730/844 [21:47<04:03,  2.14s/it]"
     ]
    },
    {
     "name": "stdout",
     "output_type": "stream",
     "text": [
      "data/ISD/745966-03726-2020.gz missing for Cape May County Airport\n"
     ]
    },
    {
     "name": "stdout",
     "output_type": "stream",
     "text": [
      "/pub/data/noaa/isd-lite/2020\n"
     ]
    },
    {
     "name": "stderr",
     "output_type": "stream",
     "text": [
      "\r",
      " 87%|████████▋ | 731/844 [21:49<03:58,  2.11s/it]"
     ]
    },
    {
     "name": "stdout",
     "output_type": "stream",
     "text": [
      "data/ISD/722152-53957-2020.gz missing for West Woodward Airport\n",
      "/pub/data/noaa/isd-lite/2020\n"
     ]
    },
    {
     "name": "stderr",
     "output_type": "stream",
     "text": [
      "\r",
      " 87%|████████▋ | 732/844 [21:50<03:43,  2.00s/it]"
     ]
    },
    {
     "name": "stdout",
     "output_type": "stream",
     "text": [
      "data/ISD/726764-94163-2020.gz missing for Yellowstone Airport\n"
     ]
    },
    {
     "name": "stdout",
     "output_type": "stream",
     "text": [
      "/pub/data/noaa/isd-lite/2020\n"
     ]
    },
    {
     "name": "stderr",
     "output_type": "stream",
     "text": [
      "\r",
      " 87%|████████▋ | 733/844 [21:52<03:25,  1.85s/it]"
     ]
    },
    {
     "name": "stdout",
     "output_type": "stream",
     "text": [
      "data/ISD/747940-12868-2020.gz missing for Cape Canaveral AFS Skid Strip\n"
     ]
    },
    {
     "name": "stdout",
     "output_type": "stream",
     "text": [
      "/pub/data/noaa/isd-lite/2020\n"
     ]
    },
    {
     "name": "stderr",
     "output_type": "stream",
     "text": [
      "\r",
      " 87%|████████▋ | 734/844 [21:54<03:20,  1.83s/it]"
     ]
    },
    {
     "name": "stdout",
     "output_type": "stream",
     "text": [
      "data/ISD/723436-53922-2020.gz missing for Northwest Arkansas Regional Airport\n"
     ]
    },
    {
     "name": "stdout",
     "output_type": "stream",
     "text": [
      "/pub/data/noaa/isd-lite/2020\n"
     ]
    },
    {
     "name": "stderr",
     "output_type": "stream",
     "text": [
      "\r",
      " 87%|████████▋ | 735/844 [21:56<03:29,  1.92s/it]"
     ]
    },
    {
     "name": "stdout",
     "output_type": "stream",
     "text": [
      "data/ISD/725376-14853-2020.gz missing for Willow Run Airport\n"
     ]
    },
    {
     "name": "stdout",
     "output_type": "stream",
     "text": [
      "/pub/data/noaa/isd-lite/2020\n"
     ]
    },
    {
     "name": "stderr",
     "output_type": "stream",
     "text": [
      "\r",
      " 87%|████████▋ | 736/844 [21:58<03:35,  1.99s/it]"
     ]
    },
    {
     "name": "stdout",
     "output_type": "stream",
     "text": [
      "data/ISD/727810-24243-2020.gz missing for Yakima Air Terminal McAllister Field\n",
      "/pub/data/noaa/isd-lite/2020\n"
     ]
    },
    {
     "name": "stderr",
     "output_type": "stream",
     "text": [
      "\r",
      " 87%|████████▋ | 737/844 [22:00<03:34,  2.01s/it]"
     ]
    },
    {
     "name": "stdout",
     "output_type": "stream",
     "text": [
      "data/ISD/726525-94911-2020.gz missing for Chan Gurney Municipal Airport\n"
     ]
    },
    {
     "name": "stdout",
     "output_type": "stream",
     "text": [
      "/pub/data/noaa/isd-lite/2020\n"
     ]
    },
    {
     "name": "stderr",
     "output_type": "stream",
     "text": [
      "\r",
      " 87%|████████▋ | 738/844 [22:02<03:34,  2.02s/it]"
     ]
    },
    {
     "name": "stdout",
     "output_type": "stream",
     "text": [
      "data/ISD/725250-14852-2020.gz missing for Youngstown Warren Regional Airport\n",
      "/pub/data/noaa/isd-lite/2020\n"
     ]
    },
    {
     "name": "stderr",
     "output_type": "stream",
     "text": [
      "\r",
      " 88%|████████▊ | 739/844 [22:04<03:27,  1.98s/it]"
     ]
    },
    {
     "name": "stdout",
     "output_type": "stream",
     "text": [
      "data/ISD/724286-93824-2020.gz missing for Zanesville Municipal Airport\n",
      "/pub/data/noaa/isd-lite/2020\n"
     ]
    },
    {
     "name": "stderr",
     "output_type": "stream",
     "text": [
      "\r",
      " 88%|████████▊ | 740/844 [22:06<03:23,  1.96s/it]"
     ]
    },
    {
     "name": "stdout",
     "output_type": "stream",
     "text": [
      "data/ISD/702740-25331-2020.gz missing for Warren \"Bud\" Woods Palmer Municipal Airport\n"
     ]
    },
    {
     "name": "stdout",
     "output_type": "stream",
     "text": [
      "/pub/data/noaa/isd-lite/2020\n"
     ]
    },
    {
     "name": "stderr",
     "output_type": "stream",
     "text": [
      "\r",
      " 88%|████████▊ | 741/844 [22:08<03:30,  2.05s/it]"
     ]
    },
    {
     "name": "stdout",
     "output_type": "stream",
     "text": [
      "data/ISD/700860-27401-2020.gz missing for Barter Island LRRS Airport\n"
     ]
    },
    {
     "name": "stdout",
     "output_type": "stream",
     "text": [
      "/pub/data/noaa/isd-lite/2020\n"
     ]
    },
    {
     "name": "stderr",
     "output_type": "stream",
     "text": [
      "\r",
      " 88%|████████▊ | 742/844 [22:10<03:25,  2.02s/it]"
     ]
    },
    {
     "name": "stdout",
     "output_type": "stream",
     "text": [
      "data/ISD/702190-26615-2020.gz missing for Bethel Airport\n"
     ]
    },
    {
     "name": "stdout",
     "output_type": "stream",
     "text": [
      "/pub/data/noaa/isd-lite/2020\n"
     ]
    },
    {
     "name": "stderr",
     "output_type": "stream",
     "text": [
      "\r",
      " 88%|████████▊ | 743/844 [22:12<03:24,  2.03s/it]"
     ]
    },
    {
     "name": "stdout",
     "output_type": "stream",
     "text": [
      "data/ISD/702670-26415-2020.gz missing for Allen Army Airfield\n",
      "/pub/data/noaa/isd-lite/2020\n"
     ]
    },
    {
     "name": "stderr",
     "output_type": "stream",
     "text": [
      "\r",
      " 88%|████████▊ | 744/844 [22:14<03:13,  1.94s/it]"
     ]
    },
    {
     "name": "stdout",
     "output_type": "stream",
     "text": [
      "data/ISD/700632-26645-2020.gz missing for Buckland Airport\n"
     ]
    },
    {
     "name": "stdout",
     "output_type": "stream",
     "text": [
      "/pub/data/noaa/isd-lite/2020\n"
     ]
    },
    {
     "name": "stderr",
     "output_type": "stream",
     "text": [
      "\r",
      " 88%|████████▊ | 745/844 [22:16<03:09,  1.91s/it]"
     ]
    },
    {
     "name": "stdout",
     "output_type": "stream",
     "text": [
      "data/ISD/700260-27502-2020.gz missing for Wiley Post Will Rogers Memorial Airport\n"
     ]
    },
    {
     "name": "stdout",
     "output_type": "stream",
     "text": [
      "/pub/data/noaa/isd-lite/2020\n"
     ]
    },
    {
     "name": "stderr",
     "output_type": "stream",
     "text": [
      "\r",
      " 88%|████████▊ | 746/844 [22:18<03:08,  1.92s/it]"
     ]
    },
    {
     "name": "stdout",
     "output_type": "stream",
     "text": [
      "data/ISD/701740-26533-2020.gz missing for Bettles Airport\n"
     ]
    },
    {
     "name": "stdout",
     "output_type": "stream",
     "text": [
      "/pub/data/noaa/isd-lite/2020\n"
     ]
    },
    {
     "name": "stderr",
     "output_type": "stream",
     "text": [
      "\r",
      " 89%|████████▊ | 747/844 [22:20<03:10,  1.96s/it]"
     ]
    },
    {
     "name": "stdout",
     "output_type": "stream",
     "text": [
      "data/ISD/702746-26497-2020.gz missing for Birchwood Airport\n"
     ]
    },
    {
     "name": "stdout",
     "output_type": "stream",
     "text": [
      "/pub/data/noaa/isd-lite/2020\n"
     ]
    },
    {
     "name": "stderr",
     "output_type": "stream",
     "text": [
      "\r",
      " 89%|████████▊ | 748/844 [22:22<03:08,  1.97s/it]"
     ]
    },
    {
     "name": "stdout",
     "output_type": "stream",
     "text": [
      "data/ISD/703160-25624-2020.gz missing for Cold Bay Airport\n",
      "/pub/data/noaa/isd-lite/2020\n"
     ]
    },
    {
     "name": "stderr",
     "output_type": "stream",
     "text": [
      "\r",
      " 89%|████████▊ | 749/844 [22:23<03:02,  1.92s/it]"
     ]
    },
    {
     "name": "stdout",
     "output_type": "stream",
     "text": [
      "data/ISD/703054-00108-2020.gz missing for Scammon Bay Airport\n"
     ]
    },
    {
     "name": "stdout",
     "output_type": "stream",
     "text": [
      "/pub/data/noaa/isd-lite/2020\n"
     ]
    },
    {
     "name": "stderr",
     "output_type": "stream",
     "text": [
      "\r",
      " 89%|████████▉ | 750/844 [22:25<02:52,  1.83s/it]"
     ]
    },
    {
     "name": "stdout",
     "output_type": "stream",
     "text": [
      "data/ISD/702960-26410-2020.gz missing for Merle K (Mudhole) Smith Airport\n"
     ]
    },
    {
     "name": "stdout",
     "output_type": "stream",
     "text": [
      "/pub/data/noaa/isd-lite/2020\n"
     ]
    },
    {
     "name": "stderr",
     "output_type": "stream",
     "text": [
      "\r",
      " 89%|████████▉ | 751/844 [22:27<02:56,  1.90s/it]"
     ]
    },
    {
     "name": "stdout",
     "output_type": "stream",
     "text": [
      "data/ISD/702120-26646-2020.gz missing for Cape Romanzof LRRS Airport\n"
     ]
    },
    {
     "name": "stdout",
     "output_type": "stream",
     "text": [
      "/pub/data/noaa/isd-lite/2020\n"
     ]
    },
    {
     "name": "stderr",
     "output_type": "stream",
     "text": [
      "\r",
      " 89%|████████▉ | 752/844 [22:29<03:04,  2.00s/it]"
     ]
    },
    {
     "name": "stdout",
     "output_type": "stream",
     "text": [
      "data/ISD/701333-26643-2020.gz missing for Deering Airport\n"
     ]
    },
    {
     "name": "stdout",
     "output_type": "stream",
     "text": [
      "/pub/data/noaa/isd-lite/2020\n"
     ]
    },
    {
     "name": "stderr",
     "output_type": "stream",
     "text": [
      "\r",
      " 89%|████████▉ | 753/844 [22:31<03:00,  1.99s/it]"
     ]
    },
    {
     "name": "stdout",
     "output_type": "stream",
     "text": [
      "data/ISD/704540-25704-2020.gz missing for Adak Airport\n"
     ]
    },
    {
     "name": "stdout",
     "output_type": "stream",
     "text": [
      "/pub/data/noaa/isd-lite/2020\n"
     ]
    },
    {
     "name": "stderr",
     "output_type": "stream",
     "text": [
      "\r",
      " 89%|████████▉ | 754/844 [22:34<03:03,  2.04s/it]"
     ]
    },
    {
     "name": "stdout",
     "output_type": "stream",
     "text": [
      "data/ISD/703210-25513-2020.gz missing for Dillingham Airport\n"
     ]
    },
    {
     "name": "stdout",
     "output_type": "stream",
     "text": [
      "/pub/data/noaa/isd-lite/2020\n"
     ]
    },
    {
     "name": "stderr",
     "output_type": "stream",
     "text": [
      "\r",
      " 89%|████████▉ | 755/844 [22:36<03:06,  2.10s/it]"
     ]
    },
    {
     "name": "stdout",
     "output_type": "stream",
     "text": [
      "data/ISD/702628-00105-2020.gz missing for Marshall Don Hunter Sr Airport\n"
     ]
    },
    {
     "name": "stdout",
     "output_type": "stream",
     "text": [
      "/pub/data/noaa/isd-lite/2020\n"
     ]
    },
    {
     "name": "stderr",
     "output_type": "stream",
     "text": [
      "\r",
      " 90%|████████▉ | 756/844 [22:37<02:39,  1.81s/it]"
     ]
    },
    {
     "name": "stdout",
     "output_type": "stream",
     "text": [
      "data/ISD/703500-25501-2020.gz missing for Kodiak Airport\n",
      "/pub/data/noaa/isd-lite/2020\n"
     ]
    },
    {
     "name": "stderr",
     "output_type": "stream",
     "text": [
      "\r",
      " 90%|████████▉ | 757/844 [22:39<02:46,  1.91s/it]"
     ]
    },
    {
     "name": "stdout",
     "output_type": "stream",
     "text": [
      "data/ISD/704890-25616-2020.gz missing for Unalaska Airport\n"
     ]
    },
    {
     "name": "stdout",
     "output_type": "stream",
     "text": [
      "/pub/data/noaa/isd-lite/2020\n"
     ]
    },
    {
     "name": "stderr",
     "output_type": "stream",
     "text": [
      "\r",
      " 90%|████████▉ | 758/844 [22:41<02:47,  1.95s/it]"
     ]
    },
    {
     "name": "stdout",
     "output_type": "stream",
     "text": [
      "data/ISD/702720-26401-2020.gz missing for Elmendorf Air Force Base\n"
     ]
    },
    {
     "name": "stdout",
     "output_type": "stream",
     "text": [
      "/pub/data/noaa/isd-lite/2020\n"
     ]
    },
    {
     "name": "stderr",
     "output_type": "stream",
     "text": [
      "\r",
      " 90%|████████▉ | 759/844 [22:43<02:48,  1.98s/it]"
     ]
    },
    {
     "name": "stdout",
     "output_type": "stream",
     "text": [
      "data/ISD/703050-25623-2020.gz missing for Cape Newenham LRRS Airport\n"
     ]
    },
    {
     "name": "stdout",
     "output_type": "stream",
     "text": [
      "/pub/data/noaa/isd-lite/2020\n"
     ]
    },
    {
     "name": "stderr",
     "output_type": "stream",
     "text": [
      "\r",
      " 90%|█████████ | 760/844 [22:45<02:55,  2.09s/it]"
     ]
    },
    {
     "name": "stdout",
     "output_type": "stream",
     "text": [
      "data/ISD/702650-26407-2020.gz missing for Eielson Air Force Base\n",
      "/pub/data/noaa/isd-lite/2020\n"
     ]
    },
    {
     "name": "stderr",
     "output_type": "stream",
     "text": [
      "\r",
      " 90%|█████████ | 761/844 [22:47<02:43,  1.97s/it]"
     ]
    },
    {
     "name": "stdout",
     "output_type": "stream",
     "text": [
      "data/ISD/702084-26650-2020.gz missing for Emmonak Airport\n",
      "/pub/data/noaa/isd-lite/2020\n"
     ]
    },
    {
     "name": "stderr",
     "output_type": "stream",
     "text": [
      "\r",
      " 90%|█████████ | 762/844 [22:48<02:19,  1.70s/it]"
     ]
    },
    {
     "name": "stdout",
     "output_type": "stream",
     "text": [
      "data/ISD/702590-26523-2020.gz missing for Kenai Municipal Airport\n"
     ]
    },
    {
     "name": "stdout",
     "output_type": "stream",
     "text": [
      "/pub/data/noaa/isd-lite/2020\n"
     ]
    },
    {
     "name": "stderr",
     "output_type": "stream",
     "text": [
      "\r",
      " 90%|█████████ | 763/844 [22:50<02:28,  1.84s/it]"
     ]
    },
    {
     "name": "stdout",
     "output_type": "stream",
     "text": [
      "data/ISD/702610-26411-2020.gz missing for Fairbanks International Airport\n"
     ]
    },
    {
     "name": "stdout",
     "output_type": "stream",
     "text": [
      "/pub/data/noaa/isd-lite/2020\n"
     ]
    },
    {
     "name": "stderr",
     "output_type": "stream",
     "text": [
      "\r",
      " 91%|█████████ | 764/844 [22:52<02:29,  1.86s/it]"
     ]
    },
    {
     "name": "stdout",
     "output_type": "stream",
     "text": [
      "data/ISD/702615-26498-2020.gz missing for Ladd AAF Airfield\n",
      "/pub/data/noaa/isd-lite/2020\n"
     ]
    },
    {
     "name": "stderr",
     "output_type": "stream",
     "text": [
      "\r",
      " 91%|█████████ | 765/844 [22:54<02:32,  1.93s/it]"
     ]
    },
    {
     "name": "stdout",
     "output_type": "stream",
     "text": [
      "data/ISD/703855-25369-2020.gz missing for Kake Airport\n"
     ]
    },
    {
     "name": "stdout",
     "output_type": "stream",
     "text": [
      "/pub/data/noaa/isd-lite/2020\n"
     ]
    },
    {
     "name": "stderr",
     "output_type": "stream",
     "text": [
      "\r",
      " 91%|█████████ | 766/844 [22:56<02:30,  1.93s/it]"
     ]
    },
    {
     "name": "stdout",
     "output_type": "stream",
     "text": [
      "data/ISD/701718-26551-2020.gz missing for Ambler Airport\n"
     ]
    },
    {
     "name": "stdout",
     "output_type": "stream",
     "text": [
      "/pub/data/noaa/isd-lite/2020\n"
     ]
    },
    {
     "name": "stderr",
     "output_type": "stream",
     "text": [
      "\r",
      " 91%|█████████ | 767/844 [22:58<02:31,  1.97s/it]"
     ]
    },
    {
     "name": "stdout",
     "output_type": "stream",
     "text": [
      "data/ISD/702220-26501-2020.gz missing for Edward G. Pitka Sr Airport\n"
     ]
    },
    {
     "name": "stdout",
     "output_type": "stream",
     "text": [
      "/pub/data/noaa/isd-lite/2020\n"
     ]
    },
    {
     "name": "stderr",
     "output_type": "stream",
     "text": [
      "\r",
      " 91%|█████████ | 768/844 [23:00<02:31,  1.99s/it]"
     ]
    },
    {
     "name": "stdout",
     "output_type": "stream",
     "text": [
      "data/ISD/702710-26425-2020.gz missing for Gulkana Airport\n",
      "/pub/data/noaa/isd-lite/2020\n"
     ]
    },
    {
     "name": "stderr",
     "output_type": "stream",
     "text": [
      "\r",
      " 91%|█████████ | 769/844 [23:02<02:28,  1.98s/it]"
     ]
    },
    {
     "name": "stdout",
     "output_type": "stream",
     "text": [
      "data/ISD/702040-26703-2020.gz missing for Gambell Airport\n",
      "/pub/data/noaa/isd-lite/2020\n"
     ]
    },
    {
     "name": "stderr",
     "output_type": "stream",
     "text": [
      "\r",
      " 91%|█████████ | 770/844 [23:04<02:23,  1.94s/it]"
     ]
    },
    {
     "name": "stdout",
     "output_type": "stream",
     "text": [
      "data/ISD/703670-25322-2020.gz missing for Gustavus Airport\n"
     ]
    },
    {
     "name": "stdout",
     "output_type": "stream",
     "text": [
      "/pub/data/noaa/isd-lite/2020\n"
     ]
    },
    {
     "name": "stderr",
     "output_type": "stream",
     "text": [
      "\r",
      " 91%|█████████▏| 771/844 [23:06<02:14,  1.85s/it]"
     ]
    },
    {
     "name": "stdout",
     "output_type": "stream",
     "text": [
      "data/ISD/703051-26521-2020.gz missing for Holy Cross Airport\n"
     ]
    },
    {
     "name": "stdout",
     "output_type": "stream",
     "text": [
      "/pub/data/noaa/isd-lite/2020\n"
     ]
    },
    {
     "name": "stderr",
     "output_type": "stream",
     "text": [
      "\r",
      " 91%|█████████▏| 772/844 [23:08<02:10,  1.82s/it]"
     ]
    },
    {
     "name": "stdout",
     "output_type": "stream",
     "text": [
      "data/ISD/703655-26552-2020.gz missing for Huslia Airport\n",
      "/pub/data/noaa/isd-lite/2020\n"
     ]
    },
    {
     "name": "stderr",
     "output_type": "stream",
     "text": [
      "\r",
      " 92%|█████████▏| 773/844 [23:10<02:13,  1.89s/it]"
     ]
    },
    {
     "name": "stdout",
     "output_type": "stream",
     "text": [
      "data/ISD/703626-25323-2020.gz missing for Haines Airport\n"
     ]
    },
    {
     "name": "stdout",
     "output_type": "stream",
     "text": [
      "/pub/data/noaa/isd-lite/2020\n"
     ]
    },
    {
     "name": "stderr",
     "output_type": "stream",
     "text": [
      "\r",
      " 92%|█████████▏| 774/844 [23:12<02:13,  1.90s/it]"
     ]
    },
    {
     "name": "stdout",
     "output_type": "stream",
     "text": [
      "data/ISD/703410-25507-2020.gz missing for Homer Airport\n"
     ]
    },
    {
     "name": "stdout",
     "output_type": "stream",
     "text": [
      "/pub/data/noaa/isd-lite/2020\n"
     ]
    },
    {
     "name": "stderr",
     "output_type": "stream",
     "text": [
      "\r",
      " 92%|█████████▏| 775/844 [23:14<02:12,  1.92s/it]"
     ]
    },
    {
     "name": "stdout",
     "output_type": "stream",
     "text": [
      "data/ISD/702186-26651-2020.gz missing for Hooper Bay Airport\n",
      "/pub/data/noaa/isd-lite/2020\n"
     ]
    },
    {
     "name": "stderr",
     "output_type": "stream",
     "text": [
      "\r",
      " 92%|█████████▏| 776/844 [23:15<02:08,  1.89s/it]"
     ]
    },
    {
     "name": "stdout",
     "output_type": "stream",
     "text": [
      "data/ISD/703334-25519-2020.gz missing for Egegik Airport\n",
      "/pub/data/noaa/isd-lite/2020\n"
     ]
    },
    {
     "name": "stderr",
     "output_type": "stream",
     "text": [
      "\r",
      " 92%|█████████▏| 777/844 [23:17<02:07,  1.91s/it]"
     ]
    },
    {
     "name": "stdout",
     "output_type": "stream",
     "text": [
      "data/ISD/701196-00102-2020.gz missing for Bob Baker Memorial Airport\n",
      "/pub/data/noaa/isd-lite/2020\n"
     ]
    },
    {
     "name": "stderr",
     "output_type": "stream",
     "text": [
      "\r",
      " 92%|█████████▏| 778/844 [23:19<02:06,  1.92s/it]"
     ]
    },
    {
     "name": "stdout",
     "output_type": "stream",
     "text": [
      "data/ISD/703400-25506-2020.gz missing for Iliamna Airport\n"
     ]
    },
    {
     "name": "stdout",
     "output_type": "stream",
     "text": [
      "/pub/data/noaa/isd-lite/2020\n"
     ]
    },
    {
     "name": "stderr",
     "output_type": "stream",
     "text": [
      "\r",
      " 92%|█████████▏| 779/844 [23:21<02:09,  1.99s/it]"
     ]
    },
    {
     "name": "stdout",
     "output_type": "stream",
     "text": [
      "data/ISD/701730-26535-2020.gz missing for Indian Mountain LRRS Airport\n"
     ]
    },
    {
     "name": "stdout",
     "output_type": "stream",
     "text": [
      "/pub/data/noaa/isd-lite/2020\n"
     ]
    },
    {
     "name": "stderr",
     "output_type": "stream",
     "text": [
      "\r",
      " 92%|█████████▏| 780/844 [23:23<02:08,  2.01s/it]"
     ]
    },
    {
     "name": "stdout",
     "output_type": "stream",
     "text": [
      "data/ISD/703810-25309-2020.gz missing for Juneau International Airport\n"
     ]
    },
    {
     "name": "stdout",
     "output_type": "stream",
     "text": [
      "/pub/data/noaa/isd-lite/2020\n"
     ]
    },
    {
     "name": "stderr",
     "output_type": "stream",
     "text": [
      "\r",
      " 93%|█████████▎| 781/844 [23:26<02:07,  2.02s/it]"
     ]
    },
    {
     "name": "stdout",
     "output_type": "stream",
     "text": [
      "data/ISD/703260-25503-2020.gz missing for King Salmon Airport\n"
     ]
    },
    {
     "name": "stdout",
     "output_type": "stream",
     "text": [
      "/pub/data/noaa/isd-lite/2020\n"
     ]
    },
    {
     "name": "stderr",
     "output_type": "stream",
     "text": [
      "\r",
      " 93%|█████████▎| 782/844 [23:28<02:05,  2.03s/it]"
     ]
    },
    {
     "name": "stdout",
     "output_type": "stream",
     "text": [
      "data/ISD/701625-26542-2020.gz missing for Anaktuvuk Pass Airport\n"
     ]
    },
    {
     "name": "stdout",
     "output_type": "stream",
     "text": [
      "/pub/data/noaa/isd-lite/2020\n"
     ]
    },
    {
     "name": "stderr",
     "output_type": "stream",
     "text": [
      "\r",
      " 93%|█████████▎| 783/844 [23:29<02:00,  1.97s/it]"
     ]
    },
    {
     "name": "stdout",
     "output_type": "stream",
     "text": [
      "data/ISD/703950-25325-2020.gz missing for Ketchikan International Airport\n"
     ]
    },
    {
     "name": "stdout",
     "output_type": "stream",
     "text": [
      "/pub/data/noaa/isd-lite/2020\n"
     ]
    },
    {
     "name": "stderr",
     "output_type": "stream",
     "text": [
      "\r",
      " 93%|█████████▎| 784/844 [23:31<01:57,  1.96s/it]"
     ]
    },
    {
     "name": "stdout",
     "output_type": "stream",
     "text": [
      "data/ISD/703894-25367-2020.gz missing for Klawock Airport\n"
     ]
    },
    {
     "name": "stdout",
     "output_type": "stream",
     "text": [
      "/pub/data/noaa/isd-lite/2020\n"
     ]
    },
    {
     "name": "stderr",
     "output_type": "stream",
     "text": [
      "\r",
      " 93%|█████████▎| 785/844 [23:33<01:57,  1.99s/it]"
     ]
    },
    {
     "name": "stdout",
     "output_type": "stream",
     "text": [
      "data/ISD/701040-26631-2020.gz missing for Cape Lisburne LRRS Airport\n"
     ]
    },
    {
     "name": "stdout",
     "output_type": "stream",
     "text": [
      "/pub/data/noaa/isd-lite/2020\n"
     ]
    },
    {
     "name": "stderr",
     "output_type": "stream",
     "text": [
      "\r",
      " 93%|█████████▎| 786/844 [23:36<01:58,  2.04s/it]"
     ]
    },
    {
     "name": "stdout",
     "output_type": "stream",
     "text": [
      "data/ISD/702310-26510-2020.gz missing for McGrath Airport\n"
     ]
    },
    {
     "name": "stdout",
     "output_type": "stream",
     "text": [
      "/pub/data/noaa/isd-lite/2020\n"
     ]
    },
    {
     "name": "stderr",
     "output_type": "stream",
     "text": [
      "\r",
      " 93%|█████████▎| 787/844 [23:38<01:58,  2.07s/it]"
     ]
    },
    {
     "name": "stdout",
     "output_type": "stream",
     "text": [
      "data/ISD/702735-26409-2020.gz missing for Merrill Field\n"
     ]
    },
    {
     "name": "stdout",
     "output_type": "stream",
     "text": [
      "/pub/data/noaa/isd-lite/2020\n"
     ]
    },
    {
     "name": "stderr",
     "output_type": "stream",
     "text": [
      "\r",
      " 93%|█████████▎| 788/844 [23:40<01:57,  2.10s/it]"
     ]
    },
    {
     "name": "stdout",
     "output_type": "stream",
     "text": [
      "data/ISD/702185-26622-2020.gz missing for Mekoryuk Airport\n"
     ]
    },
    {
     "name": "stdout",
     "output_type": "stream",
     "text": [
      "/pub/data/noaa/isd-lite/2020\n"
     ]
    },
    {
     "name": "stderr",
     "output_type": "stream",
     "text": [
      "\r",
      " 93%|█████████▎| 789/844 [23:41<01:44,  1.90s/it]"
     ]
    },
    {
     "name": "stdout",
     "output_type": "stream",
     "text": [
      "data/ISD/702730-26451-2020.gz missing for Ted Stevens Anchorage International Airport\n"
     ]
    },
    {
     "name": "stdout",
     "output_type": "stream",
     "text": [
      "/pub/data/noaa/isd-lite/2020\n"
     ]
    },
    {
     "name": "stderr",
     "output_type": "stream",
     "text": [
      "\r",
      " 94%|█████████▎| 790/844 [23:43<01:44,  1.94s/it]"
     ]
    },
    {
     "name": "stdout",
     "output_type": "stream",
     "text": [
      "data/ISD/702320-26516-2020.gz missing for Aniak Airport\n",
      "/pub/data/noaa/isd-lite/2020\n"
     ]
    },
    {
     "name": "stderr",
     "output_type": "stream",
     "text": [
      "\r",
      " 94%|█████████▎| 791/844 [23:45<01:42,  1.94s/it]"
     ]
    },
    {
     "name": "stdout",
     "output_type": "stream",
     "text": [
      "data/ISD/702600-26435-2020.gz missing for Nenana Municipal Airport\n"
     ]
    },
    {
     "name": "stdout",
     "output_type": "stream",
     "text": [
      "/pub/data/noaa/isd-lite/2020\n"
     ]
    },
    {
     "name": "stderr",
     "output_type": "stream",
     "text": [
      "\r",
      " 94%|█████████▍| 792/844 [23:47<01:44,  2.01s/it]"
     ]
    },
    {
     "name": "stdout",
     "output_type": "stream",
     "text": [
      "data/ISD/703980-25308-2020.gz missing for Annette Island Airport\n"
     ]
    },
    {
     "name": "stdout",
     "output_type": "stream",
     "text": [
      "/pub/data/noaa/isd-lite/2020\n"
     ]
    },
    {
     "name": "stderr",
     "output_type": "stream",
     "text": [
      "\r",
      " 94%|█████████▍| 793/844 [23:48<01:25,  1.68s/it]"
     ]
    },
    {
     "name": "stdout",
     "output_type": "stream",
     "text": [
      "Couldn't find info for Annette Annette Island Airport 703980-25308-2020.gz\n",
      "data/ISD/702075-26644-2020.gz missing for Anvik Airport\n"
     ]
    },
    {
     "name": "stdout",
     "output_type": "stream",
     "text": [
      "/pub/data/noaa/isd-lite/2020\n"
     ]
    },
    {
     "name": "stderr",
     "output_type": "stream",
     "text": [
      "\r",
      " 94%|█████████▍| 794/844 [23:50<01:23,  1.67s/it]"
     ]
    },
    {
     "name": "stdout",
     "output_type": "stream",
     "text": [
      "data/ISD/702000-26617-2020.gz missing for Nome Airport\n"
     ]
    },
    {
     "name": "stdout",
     "output_type": "stream",
     "text": [
      "/pub/data/noaa/isd-lite/2020\n"
     ]
    },
    {
     "name": "stderr",
     "output_type": "stream",
     "text": [
      "\r",
      " 94%|█████████▍| 795/844 [23:52<01:27,  1.78s/it]"
     ]
    },
    {
     "name": "stdout",
     "output_type": "stream",
     "text": [
      "data/ISD/702910-26412-2020.gz missing for Northway Airport\n"
     ]
    },
    {
     "name": "stdout",
     "output_type": "stream",
     "text": [
      "/pub/data/noaa/isd-lite/2020\n"
     ]
    },
    {
     "name": "stderr",
     "output_type": "stream",
     "text": [
      "\r",
      " 94%|█████████▍| 796/844 [23:54<01:27,  1.83s/it]"
     ]
    },
    {
     "name": "stdout",
     "output_type": "stream",
     "text": [
      "data/ISD/701330-26616-2020.gz missing for Ralph Wien Memorial Airport\n"
     ]
    },
    {
     "name": "stdout",
     "output_type": "stream",
     "text": [
      "/pub/data/noaa/isd-lite/2020\n"
     ]
    },
    {
     "name": "stderr",
     "output_type": "stream",
     "text": [
      "\r",
      " 94%|█████████▍| 797/844 [23:56<01:30,  1.93s/it]"
     ]
    },
    {
     "name": "stdout",
     "output_type": "stream",
     "text": [
      "data/ISD/703835-25628-2020.gz missing for St George Airport\n",
      "/pub/data/noaa/isd-lite/2020\n"
     ]
    },
    {
     "name": "stderr",
     "output_type": "stream",
     "text": [
      "\r",
      " 95%|█████████▍| 798/844 [23:58<01:23,  1.83s/it]"
     ]
    },
    {
     "name": "stdout",
     "output_type": "stream",
     "text": [
      "data/ISD/701190-99999-2020.gz missing for Port Clarence Coast Guard Station\n",
      "/pub/data/noaa/isd-lite/2020\n"
     ]
    },
    {
     "name": "stderr",
     "output_type": "stream",
     "text": [
      "\r",
      " 95%|█████████▍| 799/844 [23:59<01:10,  1.57s/it]"
     ]
    },
    {
     "name": "stdout",
     "output_type": "stream",
     "text": [
      "data/ISD/703860-25329-2020.gz missing for Petersburg James A Johnson Airport\n",
      "/pub/data/noaa/isd-lite/2020\n"
     ]
    },
    {
     "name": "stderr",
     "output_type": "stream",
     "text": [
      "\r",
      " 95%|█████████▍| 800/844 [24:01<01:12,  1.65s/it]"
     ]
    },
    {
     "name": "stdout",
     "output_type": "stream",
     "text": [
      "data/ISD/703330-25508-2020.gz missing for Port Heiden Airport\n"
     ]
    },
    {
     "name": "stdout",
     "output_type": "stream",
     "text": [
      "/pub/data/noaa/isd-lite/2020\n"
     ]
    },
    {
     "name": "stderr",
     "output_type": "stream",
     "text": [
      "\r",
      " 95%|█████████▍| 801/844 [24:03<01:18,  1.83s/it]"
     ]
    },
    {
     "name": "stdout",
     "output_type": "stream",
     "text": [
      "data/ISD/703605-25604-2020.gz missing for Platinum Airport\n"
     ]
    },
    {
     "name": "stdout",
     "output_type": "stream",
     "text": [
      "/pub/data/noaa/isd-lite/2020\n"
     ]
    },
    {
     "name": "stderr",
     "output_type": "stream",
     "text": [
      "\r",
      " 95%|█████████▌| 802/844 [24:04<01:14,  1.77s/it]"
     ]
    },
    {
     "name": "stdout",
     "output_type": "stream",
     "text": [
      "data/ISD/703644-27515-2020.gz missing for Nuiqsut Airport\n"
     ]
    },
    {
     "name": "stdout",
     "output_type": "stream",
     "text": [
      "/pub/data/noaa/isd-lite/2020\n"
     ]
    },
    {
     "name": "stderr",
     "output_type": "stream",
     "text": [
      "\r",
      " 95%|█████████▌| 803/844 [24:06<01:13,  1.80s/it]"
     ]
    },
    {
     "name": "stdout",
     "output_type": "stream",
     "text": [
      "data/ISD/701945-46405-2020.gz missing for Arctic Village Airport\n",
      "/pub/data/noaa/isd-lite/2020\n"
     ]
    },
    {
     "name": "stderr",
     "output_type": "stream",
     "text": [
      "\r",
      " 95%|█████████▌| 804/844 [24:08<01:08,  1.72s/it]"
     ]
    },
    {
     "name": "stdout",
     "output_type": "stream",
     "text": [
      "data/ISD/702627-26561-2020.gz missing for Ruby Airport\n",
      "/pub/data/noaa/isd-lite/2020\n"
     ]
    },
    {
     "name": "stderr",
     "output_type": "stream",
     "text": [
      "\r",
      " 95%|█████████▌| 805/844 [24:09<01:02,  1.60s/it]"
     ]
    },
    {
     "name": "stdout",
     "output_type": "stream",
     "text": [
      "data/ISD/702035-26704-2020.gz missing for Savoonga Airport\n"
     ]
    },
    {
     "name": "stdout",
     "output_type": "stream",
     "text": [
      "/pub/data/noaa/isd-lite/2020\n"
     ]
    },
    {
     "name": "stderr",
     "output_type": "stream",
     "text": [
      "\r",
      " 95%|█████████▌| 806/844 [24:11<01:07,  1.77s/it]"
     ]
    },
    {
     "name": "stdout",
     "output_type": "stream",
     "text": [
      "data/ISD/700637-27406-2020.gz missing for Deadhorse Airport\n",
      "/pub/data/noaa/isd-lite/2020\n"
     ]
    },
    {
     "name": "stderr",
     "output_type": "stream",
     "text": [
      "\r",
      " 96%|█████████▌| 807/844 [24:13<01:09,  1.88s/it]"
     ]
    },
    {
     "name": "stdout",
     "output_type": "stream",
     "text": [
      "data/ISD/703165-25617-2020.gz missing for Sand Point Airport\n",
      "/pub/data/noaa/isd-lite/2020\n"
     ]
    },
    {
     "name": "stderr",
     "output_type": "stream",
     "text": [
      "\r",
      " 96%|█████████▌| 808/844 [24:15<01:01,  1.72s/it]"
     ]
    },
    {
     "name": "stdout",
     "output_type": "stream",
     "text": [
      "data/ISD/701195-26625-2020.gz missing for Shishmaref Airport\n"
     ]
    },
    {
     "name": "stdout",
     "output_type": "stream",
     "text": [
      "/pub/data/noaa/isd-lite/2020\n"
     ]
    },
    {
     "name": "stderr",
     "output_type": "stream",
     "text": [
      "\r",
      " 96%|█████████▌| 809/844 [24:16<00:53,  1.54s/it]"
     ]
    },
    {
     "name": "stdout",
     "output_type": "stream",
     "text": [
      "data/ISD/703710-25333-2020.gz missing for Sitka Rocky Gutierrez Airport\n",
      "/pub/data/noaa/isd-lite/2020\n"
     ]
    },
    {
     "name": "stderr",
     "output_type": "stream",
     "text": [
      "\r",
      " 96%|█████████▌| 810/844 [24:18<00:56,  1.66s/it]"
     ]
    },
    {
     "name": "stdout",
     "output_type": "stream",
     "text": [
      "data/ISD/700197-26558-2020.gz missing for Selawik Airport\n"
     ]
    },
    {
     "name": "stdout",
     "output_type": "stream",
     "text": [
      "/pub/data/noaa/isd-lite/2020\n"
     ]
    },
    {
     "name": "stderr",
     "output_type": "stream",
     "text": [
      "\r",
      " 96%|█████████▌| 811/844 [24:20<00:58,  1.78s/it]"
     ]
    },
    {
     "name": "stdout",
     "output_type": "stream",
     "text": [
      "data/ISD/702005-26647-2020.gz missing for St Mary's Airport\n",
      "/pub/data/noaa/isd-lite/2020\n"
     ]
    },
    {
     "name": "stderr",
     "output_type": "stream",
     "text": [
      "\r",
      " 96%|█████████▌| 812/844 [24:22<00:56,  1.77s/it]"
     ]
    },
    {
     "name": "stdout",
     "output_type": "stream",
     "text": [
      "data/ISD/703080-25713-2020.gz missing for St Paul Island Airport\n"
     ]
    },
    {
     "name": "stdout",
     "output_type": "stream",
     "text": [
      "/pub/data/noaa/isd-lite/2020\n"
     ]
    },
    {
     "name": "stderr",
     "output_type": "stream",
     "text": [
      "\r",
      " 96%|█████████▋| 813/844 [24:23<00:51,  1.67s/it]"
     ]
    },
    {
     "name": "stdout",
     "output_type": "stream",
     "text": [
      "data/ISD/702350-26534-2020.gz missing for Sparrevohn LRRS Airport\n"
     ]
    },
    {
     "name": "stdout",
     "output_type": "stream",
     "text": [
      "/pub/data/noaa/isd-lite/2020\n"
     ]
    },
    {
     "name": "stderr",
     "output_type": "stream",
     "text": [
      "\r",
      " 96%|█████████▋| 814/844 [24:25<00:52,  1.75s/it]"
     ]
    },
    {
     "name": "stdout",
     "output_type": "stream",
     "text": [
      "data/ISD/702595-26559-2020.gz missing for Soldotna Airport\n",
      "/pub/data/noaa/isd-lite/2020\n"
     ]
    },
    {
     "name": "stderr",
     "output_type": "stream",
     "text": [
      "\r",
      " 97%|█████████▋| 815/844 [24:27<00:52,  1.81s/it]"
     ]
    },
    {
     "name": "stdout",
     "output_type": "stream",
     "text": [
      "data/ISD/704140-45715-2020.gz missing for Eareckson Air Station\n"
     ]
    },
    {
     "name": "stdout",
     "output_type": "stream",
     "text": [
      "/pub/data/noaa/isd-lite/2020\n"
     ]
    },
    {
     "name": "stderr",
     "output_type": "stream",
     "text": [
      "\r",
      " 97%|█████████▋| 816/844 [24:29<00:50,  1.82s/it]"
     ]
    },
    {
     "name": "stdout",
     "output_type": "stream",
     "text": [
      "data/ISD/703606-25629-2020.gz missing for Togiak Airport\n"
     ]
    },
    {
     "name": "stdout",
     "output_type": "stream",
     "text": [
      "/pub/data/noaa/isd-lite/2020\n"
     ]
    },
    {
     "name": "stderr",
     "output_type": "stream",
     "text": [
      "\r",
      " 97%|█████████▋| 817/844 [24:31<00:50,  1.86s/it]"
     ]
    },
    {
     "name": "stdout",
     "output_type": "stream",
     "text": [
      "data/ISD/702510-26528-2020.gz missing for Talkeetna Airport\n",
      "/pub/data/noaa/isd-lite/2020\n"
     ]
    },
    {
     "name": "stderr",
     "output_type": "stream",
     "text": [
      "\r",
      " 97%|█████████▋| 818/844 [24:33<00:49,  1.89s/it]"
     ]
    },
    {
     "name": "stdout",
     "output_type": "stream",
     "text": [
      "data/ISD/702315-26536-2020.gz missing for Tatalina LRRS Airport\n",
      "/pub/data/noaa/isd-lite/2020\n"
     ]
    },
    {
     "name": "stderr",
     "output_type": "stream",
     "text": [
      "\r",
      " 97%|█████████▋| 819/844 [24:35<00:49,  1.96s/it]"
     ]
    },
    {
     "name": "stdout",
     "output_type": "stream",
     "text": [
      "data/ISD/702685-27518-2020.gz missing for Atqasuk Edward Burnell Sr Memorial Airport\n"
     ]
    },
    {
     "name": "stdout",
     "output_type": "stream",
     "text": [
      "/pub/data/noaa/isd-lite/2020\n"
     ]
    },
    {
     "name": "stderr",
     "output_type": "stream",
     "text": [
      "\r",
      " 97%|█████████▋| 820/844 [24:37<00:46,  1.94s/it]"
     ]
    },
    {
     "name": "stdout",
     "output_type": "stream",
     "text": [
      "data/ISD/702756-26479-2020.gz missing for Valdez Pioneer Field\n",
      "/pub/data/noaa/isd-lite/2020\n"
     ]
    },
    {
     "name": "stderr",
     "output_type": "stream",
     "text": [
      "\r",
      " 97%|█████████▋| 821/844 [24:39<00:43,  1.91s/it]"
     ]
    },
    {
     "name": "stdout",
     "output_type": "stream",
     "text": [
      "data/ISD/701486-26642-2020.gz missing for Kivalina Airport\n",
      "/pub/data/noaa/isd-lite/2020\n"
     ]
    },
    {
     "name": "stderr",
     "output_type": "stream",
     "text": [
      "\r",
      " 97%|█████████▋| 822/844 [24:41<00:43,  1.97s/it]"
     ]
    },
    {
     "name": "stdout",
     "output_type": "stream",
     "text": [
      "data/ISD/702770-26438-2020.gz missing for Seward Airport\n"
     ]
    },
    {
     "name": "stdout",
     "output_type": "stream",
     "text": [
      "/pub/data/noaa/isd-lite/2020\n"
     ]
    },
    {
     "name": "stderr",
     "output_type": "stream",
     "text": [
      "\r",
      " 98%|█████████▊| 823/844 [24:43<00:42,  2.02s/it]"
     ]
    },
    {
     "name": "stdout",
     "output_type": "stream",
     "text": [
      "data/ISD/703870-25338-2020.gz missing for Wrangell Airport\n"
     ]
    },
    {
     "name": "stdout",
     "output_type": "stream",
     "text": [
      "/pub/data/noaa/isd-lite/2020\n"
     ]
    },
    {
     "name": "stderr",
     "output_type": "stream",
     "text": [
      "\r",
      " 98%|█████████▊| 824/844 [24:45<00:38,  1.94s/it]"
     ]
    },
    {
     "name": "stdout",
     "output_type": "stream",
     "text": [
      "data/ISD/700300-27503-2020.gz missing for Wainwright Airport\n"
     ]
    },
    {
     "name": "stdout",
     "output_type": "stream",
     "text": [
      "/pub/data/noaa/isd-lite/2020\n"
     ]
    },
    {
     "name": "stderr",
     "output_type": "stream",
     "text": [
      "\r",
      " 98%|█████████▊| 825/844 [24:46<00:35,  1.88s/it]"
     ]
    },
    {
     "name": "stdout",
     "output_type": "stream",
     "text": [
      "data/ISD/701335-26648-2020.gz missing for Noatak Airport\n"
     ]
    },
    {
     "name": "stdout",
     "output_type": "stream",
     "text": [
      "/pub/data/noaa/isd-lite/2020\n"
     ]
    },
    {
     "name": "stderr",
     "output_type": "stream",
     "text": [
      "\r",
      " 98%|█████████▊| 826/844 [24:48<00:34,  1.91s/it]"
     ]
    },
    {
     "name": "stdout",
     "output_type": "stream",
     "text": [
      "data/ISD/702325-26443-2020.gz missing for Wasilla Airport\n",
      "/pub/data/noaa/isd-lite/2020\n"
     ]
    },
    {
     "name": "stderr",
     "output_type": "stream",
     "text": [
      "\r",
      " 98%|█████████▊| 827/844 [24:50<00:32,  1.91s/it]"
     ]
    },
    {
     "name": "stdout",
     "output_type": "stream",
     "text": [
      "data/ISD/703610-25339-2020.gz missing for Yakutat Airport\n"
     ]
    },
    {
     "name": "stdout",
     "output_type": "stream",
     "text": [
      "/pub/data/noaa/isd-lite/2020\n"
     ]
    },
    {
     "name": "stderr",
     "output_type": "stream",
     "text": [
      "\r",
      " 98%|█████████▊| 828/844 [24:52<00:31,  1.95s/it]"
     ]
    },
    {
     "name": "stdout",
     "output_type": "stream",
     "text": [
      "data/ISD/701940-26413-2020.gz missing for Fort Yukon Airport\n"
     ]
    },
    {
     "name": "stdout",
     "output_type": "stream",
     "text": [
      "/pub/data/noaa/isd-lite/2020\n"
     ]
    },
    {
     "name": "stderr",
     "output_type": "stream",
     "text": [
      "\r",
      " 98%|█████████▊| 829/844 [24:54<00:29,  1.99s/it]"
     ]
    },
    {
     "name": "stdout",
     "output_type": "stream",
     "text": [
      "data/ISD/911620-22501-2020.gz missing for Barking Sands Airport\n",
      "/pub/data/noaa/isd-lite/2020\n"
     ]
    },
    {
     "name": "stderr",
     "output_type": "stream",
     "text": [
      "\r",
      " 98%|█████████▊| 830/844 [24:56<00:27,  1.98s/it]"
     ]
    },
    {
     "name": "stdout",
     "output_type": "stream",
     "text": [
      "data/ISD/911700-22508-2020.gz missing for Wheeler Army Airfield\n",
      "/pub/data/noaa/isd-lite/2020\n"
     ]
    },
    {
     "name": "stderr",
     "output_type": "stream",
     "text": [
      "\r",
      " 98%|█████████▊| 831/844 [24:58<00:25,  1.99s/it]"
     ]
    },
    {
     "name": "stdout",
     "output_type": "stream",
     "text": [
      "data/ISD/911907-99999-2020.gz missing for Hana Airport\n",
      "/pub/data/noaa/isd-lite/2020\n"
     ]
    },
    {
     "name": "stderr",
     "output_type": "stream",
     "text": [
      "\r",
      " 99%|█████████▊| 832/844 [24:59<00:20,  1.69s/it]"
     ]
    },
    {
     "name": "stdout",
     "output_type": "stream",
     "text": [
      "data/ISD/911904-22552-2020.gz missing for Kapalua Airport\n",
      "/pub/data/noaa/isd-lite/2020\n"
     ]
    },
    {
     "name": "stderr",
     "output_type": "stream",
     "text": [
      "\r",
      " 99%|█████████▊| 833/844 [25:00<00:16,  1.50s/it]"
     ]
    },
    {
     "name": "stdout",
     "output_type": "stream",
     "text": [
      "data/ISD/911780-22551-2020.gz missing for Kalaeloa Airport\n"
     ]
    },
    {
     "name": "stdout",
     "output_type": "stream",
     "text": [
      "/pub/data/noaa/isd-lite/2020\n"
     ]
    },
    {
     "name": "stderr",
     "output_type": "stream",
     "text": [
      "\r",
      " 99%|█████████▉| 834/844 [25:02<00:16,  1.63s/it]"
     ]
    },
    {
     "name": "stdout",
     "output_type": "stream",
     "text": [
      "data/ISD/911975-21510-2020.gz missing for Ellison Onizuka Kona International Airport at Keahole\n"
     ]
    },
    {
     "name": "stdout",
     "output_type": "stream",
     "text": [
      "/pub/data/noaa/isd-lite/2020\n"
     ]
    },
    {
     "name": "stderr",
     "output_type": "stream",
     "text": [
      "\r",
      " 99%|█████████▉| 835/844 [25:04<00:15,  1.76s/it]"
     ]
    },
    {
     "name": "stdout",
     "output_type": "stream",
     "text": [
      "data/ISD/911650-22536-2020.gz missing for Lihue Airport\n"
     ]
    },
    {
     "name": "stdout",
     "output_type": "stream",
     "text": [
      "/pub/data/noaa/isd-lite/2020\n"
     ]
    },
    {
     "name": "stderr",
     "output_type": "stream",
     "text": [
      "\r",
      " 99%|█████████▉| 836/844 [25:06<00:15,  1.88s/it]"
     ]
    },
    {
     "name": "stdout",
     "output_type": "stream",
     "text": [
      "data/ISD/911860-22534-2020.gz missing for Molokai Airport\n",
      "/pub/data/noaa/isd-lite/2020\n"
     ]
    },
    {
     "name": "stderr",
     "output_type": "stream",
     "text": [
      "\r",
      " 99%|█████████▉| 837/844 [25:09<00:13,  1.96s/it]"
     ]
    },
    {
     "name": "stdout",
     "output_type": "stream",
     "text": [
      "data/ISD/911760-22519-2020.gz missing for Kaneohe Bay MCAS (Marion E. Carl Field) Airport\n"
     ]
    },
    {
     "name": "stdout",
     "output_type": "stream",
     "text": [
      "/pub/data/noaa/isd-lite/2020\n"
     ]
    },
    {
     "name": "stderr",
     "output_type": "stream",
     "text": [
      "\r",
      " 99%|█████████▉| 838/844 [25:11<00:12,  2.02s/it]"
     ]
    },
    {
     "name": "stdout",
     "output_type": "stream",
     "text": [
      "data/ISD/911820-22521-2020.gz missing for Daniel K Inouye International Airport\n"
     ]
    },
    {
     "name": "stdout",
     "output_type": "stream",
     "text": [
      "/pub/data/noaa/isd-lite/2020\n"
     ]
    },
    {
     "name": "stderr",
     "output_type": "stream",
     "text": [
      "\r",
      " 99%|█████████▉| 839/844 [25:13<00:09,  1.99s/it]"
     ]
    },
    {
     "name": "stdout",
     "output_type": "stream",
     "text": [
      "data/ISD/911905-22524-2020.gz missing for Lanai Airport\n"
     ]
    },
    {
     "name": "stdout",
     "output_type": "stream",
     "text": [
      "/pub/data/noaa/isd-lite/2020\n"
     ]
    },
    {
     "name": "stderr",
     "output_type": "stream",
     "text": [
      "\r",
      "100%|█████████▉| 840/844 [25:15<00:07,  1.98s/it]"
     ]
    },
    {
     "name": "stdout",
     "output_type": "stream",
     "text": [
      "data/ISD/911900-22516-2020.gz missing for Kahului Airport\n"
     ]
    },
    {
     "name": "stdout",
     "output_type": "stream",
     "text": [
      "/pub/data/noaa/isd-lite/2020\n"
     ]
    },
    {
     "name": "stderr",
     "output_type": "stream",
     "text": [
      "\r",
      "100%|█████████▉| 841/844 [25:17<00:06,  2.00s/it]"
     ]
    },
    {
     "name": "stdout",
     "output_type": "stream",
     "text": [
      "data/ISD/911977-21508-2020.gz missing for Bradshaw Army Airfield\n"
     ]
    },
    {
     "name": "stdout",
     "output_type": "stream",
     "text": [
      "/pub/data/noaa/isd-lite/2020\n"
     ]
    },
    {
     "name": "stderr",
     "output_type": "stream",
     "text": [
      "\r",
      "100%|█████████▉| 842/844 [25:19<00:04,  2.01s/it]"
     ]
    },
    {
     "name": "stdout",
     "output_type": "stream",
     "text": [
      "data/ISD/912850-21504-2020.gz missing for Hilo International Airport\n",
      "/pub/data/noaa/isd-lite/2020\n"
     ]
    },
    {
     "name": "stderr",
     "output_type": "stream",
     "text": [
      "\r",
      "100%|█████████▉| 843/844 [25:21<00:02,  2.02s/it]"
     ]
    },
    {
     "name": "stdout",
     "output_type": "stream",
     "text": [
      "data/ISD/701210-26624-2020.gz missing for Point Lay LRRS Airport\n"
     ]
    },
    {
     "name": "stdout",
     "output_type": "stream",
     "text": [
      "/pub/data/noaa/isd-lite/2020\n"
     ]
    },
    {
     "name": "stderr",
     "output_type": "stream",
     "text": [
      "\r",
      "100%|██████████| 844/844 [25:23<00:00,  2.00s/it]"
     ]
    },
    {
     "name": "stderr",
     "output_type": "stream",
     "text": [
      "\r",
      "100%|██████████| 844/844 [25:23<00:00,  1.80s/it]"
     ]
    },
    {
     "name": "stderr",
     "output_type": "stream",
     "text": [
      "\n"
     ]
    },
    {
     "name": "stdout",
     "output_type": "stream",
     "text": [
      "4245\n"
     ]
    }
   ],
   "source": [
    "get_missing_data(merge_df, start_year=2015, end_year=2021)"
   ]
  }
 ],
 "metadata": {
  "kernelspec": {
   "argv": [
    "python",
    "-m",
    "ipykernel_launcher",
    "-f",
    "{connection_file}"
   ],
   "display_name": "Python 3",
   "env": null,
   "interrupt_mode": "signal",
   "language": "python",
   "metadata": null,
   "name": "python3"
  },
  "name": "airport_play.ipynb"
 },
 "nbformat": 4,
 "nbformat_minor": 2
}
