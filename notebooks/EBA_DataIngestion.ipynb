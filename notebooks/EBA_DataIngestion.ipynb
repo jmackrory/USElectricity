{
 "cells": [
  {
   "cell_type": "markdown",
   "id": "1f7bdc2d-0945-4955-aaf9-aef8f553cae7",
   "metadata": {},
   "source": [
    "# EBA Data Ingestion\n",
    "\n",
    "We need to collect data from two main sources for this project:\n",
    " - First is loading the EBA data into the SQL DB\n",
    " - Second is getting the real weather data from NOAA based off Weather stations.   \n",
    "   This is done via FTP using `code/utils/get_weather_data.py` for the relevant time periods.\n",
    " - (Third would be accessing NOAA's forecast DB.)\n",
    "\n",
    " In all cases we will be loading the data into a Postgres Database for easier querying later.  \n"
   ]
  },
  {
   "cell_type": "markdown",
   "id": "858272bf-12f1-4178-bf49-601b5a0cddbc",
   "metadata": {},
   "source": [
    "# Library Sketch and Table Sketch \n",
    "\n",
    "- 560 MB of weather station data\n",
    "- 2.8GB of Energy data\n",
    "- 5.0GB of forecast data  (could try to only extract station data)\n",
    "\n",
    "Energy data x 100 ISOs\n",
    "- Demand\n",
    "- Demand Forecast\n",
    "- Net Generation\n",
    "    (by source)\n",
    "- Transfers\n",
    "\n",
    "Weather x 600 stations\n",
    "- Temp\n",
    "- Cloud cover\n",
    "- Precipitation\n",
    "\n",
    "Forecast\n",
    "- Temp (gridded 24 hour forecast) of CONUS.  Probably don't want in DB.\n",
    "- include file ref.\n",
    "- Try to find nearest forecast pixel for all airports.\n",
    "\n",
    "Given we want to think about a whole system forecast, we can live with having a few big tables separated by variable.\n",
    "Use UTC time variables to allow a common index and forecast.\n",
    "\n",
    "EBA Table\n",
    "    - datetime\n",
    "    - source\n",
    "    - measure\n",
    "    - value\n",
    "\n",
    "EBA-Interchange\n",
    "   - datetime\n",
    "   - source\n",
    "   - dest\n",
    "   - value\n",
    "\n",
    "Here source/dest are ISO abbreviations.\n",
    "Measures are abbreviations for demand / demand forecast / interchange / net generation\n",
    "\n",
    "AirMeta\n",
    "   id\n",
    "   station_name\n",
    "   callsign\n",
    "   lat\n",
    "   long\n",
    "   region\n",
    "   city\n",
    "   state\n",
    "\n",
    "ISD\n",
    "   - datetime\n",
    "   - callsign\n",
    "   - measure\n",
    "   - value\n",
    "   \n",
    "ISD measures are atmospheric variables like temperature.\n",
    "\n",
    "It's a simple table structure with a lot of repetition.  The alternative of a lot of columns (e.g. one table per variable, one column per ISO/weather station) is possible.  It just takes more setup, and would be awkward for adding more stations and variables.\n",
    "The data here isn't too big. \n",
    "\n",
    "Could compress the data some and instead of having the strings, just have an id to another table.  Querying will just take more joins.  Lets see how big this ends up on disk."
   ]
  },
  {
   "cell_type": "markdown",
   "id": "145ccbaa",
   "metadata": {},
   "source": [
    "## Proposed SQL Table Structure - EBA\n",
    "\n",
    "- Our initial project is focused on the demand forecasting piece.  Let's just focus on the bulk attributes for now, and return later if need be for\n",
    " breakdowns by generation type\n",
    "\n",
    "Some considerations at: https://www.timescale.com/blog/best-practices-for-time-series-data-modeling-narrow-medium-or-wide-table-layout-2/\n",
    "\n",
    "### Options:\n",
    "1) 1 table per series (hard to look up) - Reject.\n",
    "\n",
    "2) 1 table per type (100 ISOs as columns).\n",
    "    - Demand (Time, PDX, BPA, CAISO, ...)\n",
    "    - Forecast (Time, PDX, BPA, CAISO, ...)\n",
    "    - Net Generation (Time, PDX, BPA, CAISO,...)\n",
    "    - Interchange(Time, P1, P2, Amount)\n",
    "\n",
    "2a) 1 Table per type with \n",
    "    weather\n",
    "    - (Time, Station, Measure, Value)\n",
    "    eba\n",
    "    - (Time, ISO, Measure, value)\n",
    "\n",
    "    - Way easier to add extra stations/ISOs.  May have heavier queries.\n",
    "    - Way easier to insert data\n",
    "\n",
    "3) 1 major table per ISO (around 30 sub-series)\n",
    "   -  PGE (Time, Demand, Forecast, Net Generation, COL, HYD, ..., PGE-BPA, PGE-PACW)\n",
    "   -  BPA (Time, Demand, Forecast, Net Generation, COL, HYD, ..., BPA-PGE, PGE-PACW)\n",
    "\n",
    "\n",
    "\n",
    "Leaning toward approach 3.  Better encapsulates system process.  Allows local time and UTC time\n",
    "Also leaning towards only including UTC time variations.\n",
    "\n",
    "\n",
    "\n",
    "- Need all series names (types of data)\n",
    "- Need all ISOs and transferes."
   ]
  },
  {
   "cell_type": "code",
   "execution_count": 1,
   "id": "9c3de7db-55fc-44c8-b6ce-983c066fde34",
   "metadata": {},
   "outputs": [],
   "source": [
    "import pandas as pd\n",
    "\n",
    "from us_elec.SQL.sqldriver import EBAMeta, ISDMeta, SQLDriver\n",
    "ebm = EBAMeta()\n",
    "isdm = ISDMeta()\n",
    "sqldr = SQLDriver()\n"
   ]
  },
  {
   "cell_type": "code",
   "execution_count": 2,
   "id": "91a2619f",
   "metadata": {},
   "outputs": [
    {
     "name": "stdout",
     "output_type": "stream",
     "text": [
      "/tf\n",
      "a9334cf55332\n"
     ]
    }
   ],
   "source": [
    "!pwd && hostname"
   ]
  },
  {
   "cell_type": "markdown",
   "id": "64ecac1b-0f49-4474-acb3-c6ceb8af2737",
   "metadata": {},
   "source": []
  },
  {
   "cell_type": "markdown",
   "id": "c009c926-2aaf-453c-a529-56aa28c51a36",
   "metadata": {},
   "source": [
    "# Bulk EBA data import\n",
    "\n",
    "The EBA data can be downloaded from `https://www.eia.gov/opendata/bulk/EBA.zip`.\n",
    "As of Mar 6, 2023 it's around 2.8 GB, with around 2800 child series, stored in one JSONLines files.\n",
    "\n",
    "That's downloaded to data/EBA/20230302.  \n",
    "For initial quick exploration we you can grep out 'California' and 'Portland' series to \n"
   ]
  },
  {
   "cell_type": "markdown",
   "id": "3c67dd54-162f-40e0-a5bd-f656e5733c09",
   "metadata": {},
   "source": [
    "- grepped out all Portland files and California files for a smaller subset of data to play with while cleaning\n",
    "up the ETL work\n",
    "  `grep -r \"Portland\" EBA.txt > EBA_PDX.txt`\n",
    "  `grep -r \"California\" EBA.txt > EBA_CA.txt`\n",
    "  "
   ]
  },
  {
   "cell_type": "markdown",
   "id": "4b9a21b1-049b-42e9-b38b-32d161f05a01",
   "metadata": {},
   "source": [
    "- This eats a LOT of ram on it's own for all files.  \n",
    "- Probably best to ETL one at a time.  Even in dict form it's eating around 20GB of RAM."
   ]
  },
  {
   "cell_type": "code",
   "execution_count": 4,
   "id": "dd1c5eab",
   "metadata": {},
   "outputs": [],
   "source": [
    "from us_elec.util.EBA_util import read_eba_txt\n",
    "#!cd /tf/data/EBA/EBA20230302 && grep Portland EBA.txt > EBA_PDX.txt\n",
    "#eba_path = '/tf/data/EBA/EBA20230302'\n",
    "#fname = f'{eba_path}/EBA_PDX.txt'\n",
    "#all_data = read_eba_txt(fname)\n",
    "\n",
    "#for dat in all_data:\n",
    "    # if 'series_id' in dat.keys():\n",
    "    #     print(dat['series_id'], dat['name'])\n",
    "    #     print(len(dat['data']), dat['data'][0:2], dat['data'][-1])\n",
    "    #     print()\n",
    "    # else:\n",
    "    #     print(dat['category_id'], dat['name'], dat['childseries'])"
   ]
  },
  {
   "cell_type": "markdown",
   "id": "3ae26756-6b24-4d60-be5e-07c01169ba6a",
   "metadata": {},
   "source": [
    "- note that the transfers are not fully aligned for the most recent data?  I suspect some sort of reconciliation procedure\n",
    "clears that up?  Would need to look into that.  Useful for considering trades."
   ]
  },
  {
   "cell_type": "markdown",
   "id": "e6ec53f2-8716-44fb-8b63-553250652690",
   "metadata": {},
   "source": [
    "So we have 4 big categories of data in this thing.  All series are provided with local time and global time variations.\n",
    "\n",
    "- Demand\n",
    "- Demand Forecast\n",
    "- Net Generation\n",
    "- Net Generation (by source) - Much less data\n",
    "- Total Interchange\n",
    "- Interchange with other ISOs\n",
    "\n",
    "- Around 8 years of data for demand/net generation.\n",
    "- Around 5 years for generation by source data.\n",
    "- Hourly resolution \n",
    "- Around 100 ISOs  (2850 series, 30 series per ISO, but variable interchanges).\n",
    "- 60k data points per series at hourly resolution."
   ]
  },
  {
   "attachments": {},
   "cell_type": "markdown",
   "id": "e8aee0a7-1911-4837-b447-8338dd060e42",
   "metadata": {},
   "source": [
    "### Getting Metadata\n",
    "\n",
    "### Airports\n",
    "\n",
    "I think the `merge_air_df` is probably already close to what we want: mapping from id to name/region.\n"
   ]
  },
  {
   "attachments": {},
   "cell_type": "markdown",
   "id": "b9467b96",
   "metadata": {},
   "source": [
    "## EBA MetaData\n"
   ]
  },
  {
   "cell_type": "code",
   "execution_count": null,
   "id": "a8083b26",
   "metadata": {},
   "outputs": [],
   "source": [
    "# extract all the meta series \n",
    "#!cd /tf/data/EBA/EBA20230302 && grep childseries EBA.txt > metaseries.txt"
   ]
  },
  {
   "cell_type": "code",
   "execution_count": null,
   "id": "ca09c546",
   "metadata": {},
   "outputs": [],
   "source": [
    "# grep -r category_id EBA.txt > metaseries.txt\n",
    "#fn = '/tf/data/EBA/EBA20230302/metaseries.txt'\n",
    "#meta_df = pd.read_json(fn, lines=True)\n",
    "\n",
    "#ebm.extract_meta_data()\n",
    "#ebm.save_iso_dict_json()\n",
    "#ebm.load_iso_dict_json()"
   ]
  },
  {
   "cell_type": "code",
   "execution_count": 4,
   "id": "7527aa88",
   "metadata": {},
   "outputs": [
    {
     "name": "stderr",
     "output_type": "stream",
     "text": [
      "2847it [02:06, 22.45it/s]\n"
     ]
    }
   ],
   "source": [
    "# parse the json directly grab names / series_id\n",
    "eba_meta = ebm.read_metadata()"
   ]
  },
  {
   "cell_type": "code",
   "execution_count": 6,
   "id": "1bfa22f7",
   "metadata": {},
   "outputs": [],
   "source": [
    "# get the sources and tag abbreviations\n",
    "series_bits = [ebm.parse_eba_series_id(x[1]) for x in eba_meta]\n",
    "\n",
    "sources = set(x[0] for x in series_bits)\n",
    "tags = set(tuple(x[2]) for x in series_bits)"
   ]
  },
  {
   "cell_type": "code",
   "execution_count": 7,
   "id": "b0476253",
   "metadata": {},
   "outputs": [
    {
     "data": {
      "text/plain": [
       "82"
      ]
     },
     "execution_count": 7,
     "metadata": {},
     "output_type": "execute_result"
    }
   ],
   "source": [
    "len(sources)"
   ]
  },
  {
   "cell_type": "code",
   "execution_count": 8,
   "id": "42580575",
   "metadata": {},
   "outputs": [],
   "source": [
    "# verify that all dicts acquired another way are present in the full parse.\n",
    "iso_map = ebm.load_iso_dict_json()\n",
    "sources == set(iso_map.keys())"
   ]
  },
  {
   "attachments": {},
   "cell_type": "markdown",
   "id": "dff0f090",
   "metadata": {},
   "source": [
    "eba_meta - check all isos and types present."
   ]
  },
  {
   "cell_type": "code",
   "execution_count": 11,
   "id": "7e01a936",
   "metadata": {},
   "outputs": [
    {
     "data": {
      "text/plain": [
       "{('D',),\n",
       " ('DF',),\n",
       " ('ID',),\n",
       " ('NG',),\n",
       " ('NG', 'COL'),\n",
       " ('NG', 'NG'),\n",
       " ('NG', 'NUC'),\n",
       " ('NG', 'OIL'),\n",
       " ('NG', 'OTH'),\n",
       " ('NG', 'SUN'),\n",
       " ('NG', 'WAT'),\n",
       " ('NG', 'WND'),\n",
       " ('TI',)}"
      ]
     },
     "execution_count": 11,
     "metadata": {},
     "output_type": "execute_result"
    }
   ],
   "source": [
    "tags"
   ]
  },
  {
   "cell_type": "markdown",
   "id": "824c8ed2",
   "metadata": {},
   "source": []
  },
  {
   "cell_type": "markdown",
   "id": "1f40e79c-ea78-453f-bb2b-4ef4feaa0f1f",
   "metadata": {},
   "source": [
    "### Saving Airport Metadata\n",
    "\n",
    "From `airport_play.ipynb` which downloaded all that data we have the merge_df which merged city and location information\n",
    "with callsign info.\n"
   ]
  },
  {
   "cell_type": "code",
   "execution_count": 95,
   "id": "36a6613e-b59d-40af-8a05-2ac9a7fd1b37",
   "metadata": {},
   "outputs": [],
   "source": [
    "#df = isdm.get_air_meta_df()\n",
    "#isdm.save_callsigns()\n",
    "#isdm.load_callsigns()"
   ]
  },
  {
   "cell_type": "markdown",
   "id": "e18c3c3f-43c4-4f1d-8f58-5145ca04543b",
   "metadata": {},
   "source": [
    "## Creating Tables\n",
    "\n",
    "Now to create the actual tables.  "
   ]
  },
  {
   "cell_type": "code",
   "execution_count": 12,
   "id": "0e88360c",
   "metadata": {},
   "outputs": [
    {
     "name": "stdout",
     "output_type": "stream",
     "text": [
      "DROP TABLE IF EXISTS eba;\n",
      "DROP TABLE IF EXISTS eba;\n",
      "DROP TABLE IF EXISTS eba_interchange;\n",
      "DROP TABLE IF EXISTS eba_interchange;\n"
     ]
    }
   ],
   "source": [
    "#ebm.drop_tables(execute=True)\n",
    "#isdm.drop_tables(execute=True)"
   ]
  },
  {
   "cell_type": "code",
   "execution_count": 16,
   "id": "e4cc4d12",
   "metadata": {},
   "outputs": [
    {
     "name": "stdout",
     "output_type": "stream",
     "text": [
      "CREATE TABLE IF NOT EXISTS eba\n",
      "            (ts timestamp with time zone,\n",
      "            source_id smallint,\n",
      "            measure_id smallint,\n",
      "            val float\n",
      "            );\n",
      "CREATE TABLE IF NOT EXISTS eba_interchange\n",
      "            (ts timestamp with time zone,\n",
      "            source_id smallint,\n",
      "            dest_id smallint,\n",
      "            val float\n",
      "            );\n",
      "CREATE TABLE IF NOT EXISTS eba_iso_meta\n",
      "            (id SMALLSERIAL,\n",
      "            full_name varchar(100),\n",
      "            abbr varchar(4) UNIQUE\n",
      "            );\n",
      "CREATE TABLE IF NOT EXISTS eba_measure\n",
      "            (id SMALLSERIAL,\n",
      "            full_name varchar(100),\n",
      "            abbr varchar(4) UNIQUE\n",
      "            );\n"
     ]
    }
   ],
   "source": [
    "ebm.create_tables()"
   ]
  },
  {
   "cell_type": "code",
   "execution_count": 17,
   "id": "de5b9c17",
   "metadata": {},
   "outputs": [
    {
     "name": "stdout",
     "output_type": "stream",
     "text": [
      "\n",
      "        CREATE TABLE IF NOT EXISTS ISD\n",
      "            (ts timestamp with time zone,\n",
      "            callsign char(4),\n",
      "            measure varchar(20),\n",
      "            val float\n",
      "            );\n",
      "        \n"
     ]
    }
   ],
   "source": [
    "isdm.create_tables()"
   ]
  },
  {
   "cell_type": "code",
   "execution_count": 3,
   "id": "6d4be6b2",
   "metadata": {},
   "outputs": [
    {
     "name": "stdout",
     "output_type": "stream",
     "text": [
      "\n",
      "        CREATE TABLE IF NOT EXISTS air_meta\n",
      "        (id integer,\n",
      "        name varchar(100),\n",
      "        city varchar(100),\n",
      "        state char(2),\n",
      "        callsign char(4) UNIQUE,\n",
      "        usaf integer,\n",
      "        wban integer,\n",
      "        lat float,\n",
      "        lng float);\n",
      "        \n",
      "\n",
      "        CREATE TABLE IF NOT EXISTS isd_measure\n",
      "        (id SMALLSERIAL,\n",
      "        measure varchar(20) UNIQUE\n",
      "        );\n",
      "        \n"
     ]
    }
   ],
   "source": [
    "isdm.create_isd_meta()"
   ]
  },
  {
   "cell_type": "code",
   "execution_count": null,
   "id": "78d12ac0",
   "metadata": {},
   "outputs": [],
   "source": [
    "#r0 = sqldr.get_data(\"SELECT * from air_meta WHERE air_meta.state = 'CA' LIMIT 500;\")"
   ]
  },
  {
   "cell_type": "code",
   "execution_count": 30,
   "id": "ee332483",
   "metadata": {},
   "outputs": [],
   "source": [
    "# Need to handle quotes for single/double quotes in strings.  \n",
    "sqldr.rollback()"
   ]
  },
  {
   "cell_type": "code",
   "execution_count": 21,
   "id": "58dbc27f",
   "metadata": {},
   "outputs": [],
   "source": [
    "# populate SQL table with metadata on ISD airports.\n",
    "#isdm.populate_isd_meta()\n"
   ]
  },
  {
   "cell_type": "code",
   "execution_count": 19,
   "id": "fa7c9402",
   "metadata": {},
   "outputs": [
    {
     "name": "stdout",
     "output_type": "stream",
     "text": [
      "[\"(0, 'time')\", \"(1, 'temp')\", \"(2, 'dew_temp')\", \"(3, 'pressure')\", \"(4, 'wind_dir')\", \"(5, 'wind_spd')\", \"(6, 'cloud_cov')\", \"(7, 'precip_1hr')\", \"(8, 'precip_6hr')\"]\n"
     ]
    }
   ],
   "source": [
    "#isdm.populate_measures()"
   ]
  },
  {
   "cell_type": "code",
   "execution_count": 7,
   "id": "820bb105",
   "metadata": {},
   "outputs": [],
   "source": [
    "# get info about tables\n",
    "#r0 = sqldr.get_data(\"SELECT * FROM information_schema.tables;\")"
   ]
  },
  {
   "cell_type": "code",
   "execution_count": 20,
   "id": "e6655dd8",
   "metadata": {},
   "outputs": [
    {
     "data": {
      "text/plain": [
       "[(0, 'time'),\n",
       " (1, 'temp'),\n",
       " (2, 'dew_temp'),\n",
       " (3, 'pressure'),\n",
       " (4, 'wind_dir'),\n",
       " (5, 'wind_spd'),\n",
       " (6, 'cloud_cov'),\n",
       " (7, 'precip_1hr'),\n",
       " (8, 'precip_6hr')]"
      ]
     },
     "execution_count": 20,
     "metadata": {},
     "output_type": "execute_result"
    }
   ],
   "source": [
    "sqldr.get_data(\"SELECT * FROM isd_measure\")"
   ]
  },
  {
   "cell_type": "code",
   "execution_count": 13,
   "id": "c52e7734",
   "metadata": {},
   "outputs": [
    {
     "data": {
      "text/plain": [
       "[('id', 1, 'smallint'), ('measure', 2, 'character varying')]"
      ]
     },
     "execution_count": 13,
     "metadata": {},
     "output_type": "execute_result"
    }
   ],
   "source": [
    "# Get columns for a given table\n",
    "sqldr.get_columns('isd_measure')"
   ]
  },
  {
   "cell_type": "code",
   "execution_count": null,
   "id": "b7123422",
   "metadata": {},
   "outputs": [],
   "source": []
  },
  {
   "attachments": {},
   "cell_type": "markdown",
   "id": "07033e1f",
   "metadata": {},
   "source": [
    "### Check Loading data"
   ]
  },
  {
   "cell_type": "code",
   "execution_count": 48,
   "id": "bdbfd214",
   "metadata": {},
   "outputs": [
    {
     "data": {
      "text/plain": [
       "[(31, '', None, 'autovacuum launcher'),\n",
       " (32, '', None, 'logical replication launcher'),\n",
       " (71, '', 'idle', 'client backend'),\n",
       " (72, 'COMMIT', 'idle', 'client backend'),\n",
       " (73, 'SELECT * FROM pg_stat_activity', 'active', 'client backend'),\n",
       " (117, 'DROP TABLE IF EXISTS ISD;', 'active', 'client backend'),\n",
       " (28, '', None, 'background writer'),\n",
       " (27, '', None, 'checkpointer'),\n",
       " (30, '', None, 'walwriter')]"
      ]
     },
     "execution_count": 48,
     "metadata": {},
     "output_type": "execute_result"
    }
   ],
   "source": [
    "sqldr.get_data(\"SELECT pid, query, state, backend_type FROM pg_stat_activity\")"
   ]
  },
  {
   "cell_type": "code",
   "execution_count": 53,
   "id": "7456ff5f",
   "metadata": {},
   "outputs": [
    {
     "data": {
      "text/plain": [
       "[('5/23', True, 73, 'isd'), ('6/146', False, 117, 'isd')]"
      ]
     },
     "execution_count": 53,
     "metadata": {},
     "output_type": "execute_result"
    }
   ],
   "source": [
    "sqldr.get_data(\"\"\"\n",
    "SELECT virtualtransaction, granted, pid, relname\n",
    "  FROM pg_locks l\n",
    "  JOIN pg_class t ON l.relation = t.oid AND t.relkind = 'r'\n",
    " WHERE t.relname = 'isd';\n",
    "\"\"\"\n",
    ")"
   ]
  },
  {
   "cell_type": "code",
   "execution_count": 43,
   "id": "e6faecd5",
   "metadata": {},
   "outputs": [
    {
     "data": {
      "text/plain": [
       "394"
      ]
     },
     "execution_count": 43,
     "metadata": {},
     "output_type": "execute_result"
    }
   ],
   "source": [
    "len(r0)"
   ]
  },
  {
   "cell_type": "code",
   "execution_count": 22,
   "id": "a3157d1c",
   "metadata": {},
   "outputs": [],
   "source": [
    "#sqldr.rollback()\n",
    "d0 = sqldr.get_data(\"SELECT * FROM ISD WHERE callsign='K79J'\")"
   ]
  },
  {
   "cell_type": "code",
   "execution_count": 23,
   "id": "6987bbd3",
   "metadata": {},
   "outputs": [],
   "source": [
    "df = pd.DataFrame(d0, columns=['time', 'callsign', 'measure', 'val'])"
   ]
  },
  {
   "cell_type": "code",
   "execution_count": 24,
   "metadata": {},
   "outputs": [
    {
     "data": {
      "text/html": [
       "<div>\n",
       "<style scoped>\n",
       "    .dataframe tbody tr th:only-of-type {\n",
       "        vertical-align: middle;\n",
       "    }\n",
       "\n",
       "    .dataframe tbody tr th {\n",
       "        vertical-align: top;\n",
       "    }\n",
       "\n",
       "    .dataframe thead th {\n",
       "        text-align: right;\n",
       "    }\n",
       "</style>\n",
       "<table border=\"1\" class=\"dataframe\">\n",
       "  <thead>\n",
       "    <tr style=\"text-align: right;\">\n",
       "      <th></th>\n",
       "      <th>time</th>\n",
       "      <th>callsign</th>\n",
       "      <th>measure</th>\n",
       "      <th>val</th>\n",
       "    </tr>\n",
       "  </thead>\n",
       "  <tbody>\n",
       "  </tbody>\n",
       "</table>\n",
       "</div>"
      ],
      "text/plain": [
       "Empty DataFrame\n",
       "Columns: [time, callsign, measure, val]\n",
       "Index: []"
      ]
     },
     "execution_count": 24,
     "metadata": {},
     "output_type": "execute_result"
    }
   ],
   "source": [
    "df.head()"
   ]
  },
  {
   "cell_type": "code",
   "execution_count": 10,
   "id": "99416dcd",
   "metadata": {},
   "outputs": [],
   "source": [
    "# Load data directly for a particular station to compare\n",
    "filename='/tf/data/ISD/722275-53843-2015.gz'\n",
    "tzstr = 'America/Chicago'\n",
    "\n",
    "from us_elec.util.get_weather_data import load_isd_df\n",
    "\n",
    "df2 = load_isd_df(filename)"
   ]
  },
  {
   "cell_type": "code",
   "execution_count": 11,
   "id": "5db52451",
   "metadata": {},
   "outputs": [
    {
     "data": {
      "text/plain": [
       "<Axes: >"
      ]
     },
     "execution_count": 11,
     "metadata": {},
     "output_type": "execute_result"
    },
    {
     "data": {
      "image/png": "[encoded data removed]",
      "text/plain": [
       "<Figure size 640x480 with 1 Axes>"
      ]
     },
     "metadata": {},
     "output_type": "display_data"
    }
   ],
   "source": [
    "df2['Temp']['2015-08-01': '2015-08-07'].tz_localize('America/Chicago').plot()"
   ]
  },
  {
   "attachments": {},
   "cell_type": "markdown",
   "id": "0985686a",
   "metadata": {},
   "source": [
    "### Checking ISD Meta Data is populated"
   ]
  },
  {
   "cell_type": "code",
   "execution_count": null,
   "id": "5d472947",
   "metadata": {},
   "outputs": [],
   "source": [
    "import os\n",
    "from us_elec.SQL.sqldriver import ISDName\n",
    "\n",
    "all_files = os.listdir('/tf/data/ISD')\n",
    "\n",
    "wban_usaf_list = sqldr.get_data(\n",
    "    f\"SELECT USAF, WBAN, CALLSIGN FROM {ISDName.META}\"\n",
    ")\n"
   ]
  },
  {
   "cell_type": "code",
   "execution_count": null,
   "id": "c38626fd",
   "metadata": {},
   "outputs": [],
   "source": [
    "expect_fn = isdm.get_isd_filenames()\n",
    "get_fn = lambda x: x[0].split('/')[-1]\n",
    "found_fn = [get_fn(x) for x in expect_fn]"
   ]
  },
  {
   "cell_type": "code",
   "execution_count": null,
   "id": "b042e26a",
   "metadata": {},
   "outputs": [
    {
     "data": {
      "text/plain": [
       "7570"
      ]
     },
     "execution_count": 43,
     "metadata": {},
     "output_type": "execute_result"
    }
   ],
   "source": [
    "len(expect_fn)\n",
    "len(all_files)"
   ]
  },
  {
   "attachments": {},
   "cell_type": "markdown",
   "metadata": {},
   "source": [
    "# Profile Inserts\n",
    "\n",
    "Naively start at around 1.2 bases uploaded per second.  Around 8 hours for full load in.\n",
    "Sped up considerable using line_profiler to find hotspots.\n",
    "- Eliminated using pandas to load in data.\n",
    "- Restructured tables to use int rather than strings\n",
    "- made string processing in python more efficient.\n"
   ]
  },
  {
   "cell_type": "code",
   "execution_count": 24,
   "metadata": {},
   "outputs": [],
   "source": [
    "%load_ext line_profiler"
   ]
  },
  {
   "cell_type": "code",
   "execution_count": 25,
   "id": "2da88c34",
   "metadata": {},
   "outputs": [],
   "source": [
    "from us_elec.SQL.sqldriver import format_insert_str"
   ]
  },
  {
   "attachments": {},
   "cell_type": "markdown",
   "id": "4ca1e99e",
   "metadata": {},
   "source": [
    "Originally:\n",
    "53 sec\n",
    "- had unique constraint.  \n",
    "- around 80% time spent in insert.  50% of that in string formatting.\n",
    "- Doing upsert (insert or update if time/station/value already present)\n",
    "- Slow data load and filter using pandas"
   ]
  },
  {
   "cell_type": "code",
   "execution_count": 44,
   "id": "82a3f09c",
   "metadata": {},
   "outputs": [
    {
     "name": "stderr",
     "output_type": "stream",
     "text": [
      "100%|██████████| 50/50 [00:16<00:00,  3.02it/s]\n"
     ]
    },
    {
     "data": {
      "text/plain": [
       "<line_profiler.line_profiler.LineProfiler at 0x7f024f151930>"
      ]
     },
     "execution_count": 44,
     "metadata": {},
     "output_type": "execute_result"
    },
    {
     "name": "stdout",
     "output_type": "stream",
     "text": [
      "Timer unit: 0.01 s\n",
      "\n",
      "Total time: 4.75408 s\n",
      "File: /home/uselec_module/src/us_elec/SQL/sqldriver.py\n",
      "Function: load_fwf_isd_file at line 108\n",
      "\n",
      "Line #      Hits         Time  Per Hit   % Time  Line Contents\n",
      "==============================================================\n",
      "   108                                               @classmethod\n",
      "   109                                               def load_fwf_isd_file(cls, filename: str) -> List[List]:\n",
      "   110                                                   \"\"\"Load ISD FWF datafile in directly.\n",
      "   111                                                   Currently relying on space between entries.\n",
      "   112                                                   \"\"\"\n",
      "   113        50          1.2      0.0      0.3          with gzip.open(filename, 'r') as gz:\n",
      "   114        50         52.3      1.0     11.0              lines = gz.readlines()\n",
      "   115        50        305.3      6.1     64.2              vals = [[cls.parse_val(x) for x in L.split()] for L in lines]\n",
      "   116        50        116.6      2.3     24.5              out_list = [cls.parse_times(V) for V in vals]\n",
      "   117        50          0.0      0.0      0.0          return out_list\n",
      "\n",
      "Total time: 2.02245 s\n",
      "File: /home/uselec_module/src/us_elec/SQL/sqldriver.py\n",
      "Function: get_cols at line 130\n",
      "\n",
      "Line #      Hits         Time  Per Hit   % Time  Line Contents\n",
      "==============================================================\n",
      "   130                                               @classmethod\n",
      "   131                                               def get_cols(cls, cols: List[str], data_list: List[List]) -> List:\n",
      "   132       150          0.1      0.0      0.0          col_ind = [cls.name_ind_lookup[x] for x in cols]\n",
      "   133       150        202.1      1.3     99.9          out_data = [[x[i] for i in col_ind] for x in data_list]\n",
      "   134       150          0.0      0.0      0.0          return out_data\n",
      "\n",
      "Total time: 16.87 s\n",
      "File: /home/uselec_module/src/us_elec/SQL/sqldriver.py\n",
      "Function: load_data at line 462\n",
      "\n",
      "Line #      Hits         Time  Per Hit   % Time  Line Contents\n",
      "==============================================================\n",
      "   462                                               def load_data(self, Nstation=-1, Ntime=-1, bulk=True, update=False, Ncommit=50):\n",
      "   463                                                   \"\"\"Load data for each station by year and insert desired data into columns of relevant tables.\n",
      "   464                                                   Tables / Columns governed by ISD_TABLES.  Converts all data timestamps appropriately to UTC.\n",
      "   465                                                   Each table has columns for each callsign.\n",
      "   466                                                   \"\"\"\n",
      "   467         1         29.2     29.2      1.7          files = self.get_isd_filenames()[:Nstation]\n",
      "   468                                           \n",
      "   469                                                   # out_sql = []\n",
      "   470        50          4.9      0.1      0.3          for file_count, (file, callsign) in enumerate(tqdm(files)):\n",
      "   471                                                       #df = load_isd_df(file)\n",
      "   472        50        482.3      9.6     28.6              data_list = ISDDF.load_fwf_isd_file(file)\n",
      "   473       150          0.0      0.0      0.0              for measure in self.ISD_MEASURES:\n",
      "   474       150          0.0      0.0      0.0                  cols = [ISDDF.TIME, measure]\n",
      "   475       150        209.4      1.4     12.4                  sub_data = ISDDF.get_cols(cols, data_list)[:Ntime]\n",
      "   476       150         87.2      0.6      5.2                  data = [self.get_data_insert_str(x, callsign, measure) for x in sub_data]\n",
      "   477       150          0.0      0.0      0.0                  cols = [ColName.TS, ColName.CALL, ColName.MEASURE, ColName.VAL]\n",
      "   478       150          0.0      0.0      0.0                  unique_list = [ColName.TS, ColName.CALL, ColName.MEASURE]\n",
      "   479                                           \n",
      "   480       150        873.8      5.8     51.8                  self.sqldr.insert_data_column(\n",
      "   481       150          0.0      0.0      0.0                      table_name=ISDName.ISD,\n",
      "   482       150          0.0      0.0      0.0                      col_list=cols,\n",
      "   483       150          0.0      0.0      0.0                      data=data,\n",
      "   484       150          0.0      0.0      0.0                      unique_list=unique_list,\n",
      "   485       150          0.0      0.0      0.0                      val_col=ColName.VAL,\n",
      "   486       150          0.0      0.0      0.0                      bulk=bulk,\n",
      "   487       150          0.0      0.0      0.0                      update=update,\n",
      "   488                                                           )\n",
      "   489                                                           # out_sql.append(s_c)\n",
      "   490         1          0.0      0.0      0.0          if file_count % Ncommit == 0 and bulk:\n",
      "   491                                                       self.sqldr.commit()"
     ]
    }
   ],
   "source": [
    "%lprun -u 0.01 -r \\\n",
    "       -f isdm.load_data \\\n",
    "       -f ISDDF.load_fwf_isd_file \\\n",
    "       -f ISDDF.get_cols \\\n",
    "        isdm.load_data(Nstation=50, bulk=True, update=False)"
   ]
  },
  {
   "attachments": {},
   "cell_type": "markdown",
   "id": "8ff94d0f",
   "metadata": {},
   "source": [
    "- around 40% spent in string processing for insert!\n",
    "- should probably drop indexes, make them later. \n",
    "- dropped unique constraint\n",
    "- around 3x faster to just parse in data directly rather than using pandas.\n",
    "- Also faster to do bulk and only commit periodically.  "
   ]
  },
  {
   "cell_type": "code",
   "execution_count": 7,
   "id": "4afd3b73",
   "metadata": {},
   "outputs": [],
   "source": [
    "from us_elec.SQL.sqldriver import ISDDF"
   ]
  },
  {
   "cell_type": "markdown",
   "id": "e1d40735",
   "metadata": {},
   "source": []
  },
  {
   "cell_type": "code",
   "execution_count": 62,
   "id": "c202047c",
   "metadata": {},
   "outputs": [],
   "source": [
    "filename='/tf/data/ISD/722275-53843-2015.gz'"
   ]
  },
  {
   "cell_type": "code",
   "execution_count": null,
   "id": "df0096b4",
   "metadata": {},
   "outputs": [],
   "source": []
  },
  {
   "attachments": {},
   "cell_type": "markdown",
   "id": "fee92a3a",
   "metadata": {},
   "source": [
    "# Getting NDFD Data\n",
    "\n",
    "## Historical Forecasts\n",
    "\n",
    "The National Forecast Database saves day ahead forecasts (also at hourly resolution)\n",
    "- https://www.ncei.noaa.gov/products/weather-climate-models/national-digital-forecast-database\n",
    "\n",
    "- http access for recent data. 2018/06 - 2023 (present) \n",
    "    - 2018/2019 data in historical folder. \n",
    "    - There is a filelist.\n",
    "- AIRS system - this gets every file that suits.  No parsing.\n",
    "- S3 access 2020/06 to present.\n",
    "\n",
    "YEUZ97 has coarser grid that YEUZ98.  Given goals, can use older, smaller data.\n",
    "\n",
    "## Data after 2020/4\n",
    "\n",
    "Recent data (2020/4 onwards) is available for all of NOAA from data stored on AWS:\n",
    "https://registry.opendata.aws/noaa-ndfd/\n",
    "\n",
    "An example of this data is here:\n",
    "https://noaa-ndfd-pds.s3.amazonaws.com/wmo/temp/2020/04/16/YETZ98_KWBN_202004161748\n",
    "What does the name mean?  Five digit code gives type of series, KWBN is location/grid?\n",
    "Then date of forecast, with half-hourly updates.\n",
    "\n",
    "From `data/NDFD/NDFDelem_fullres_202206.xls` example, CONUS hourly forecast data has \n",
    "- YEUZ87 for legacy 1-3 day forecast, YEUZ97 for current 1-3 day forecasts.  (That xls file is downloaded from the root of that bucket)\n",
    "\n",
    "https://vlab.noaa.gov/web/mdl/ndfd\n",
    "\n",
    "For an example on how to load that data into python, you can use Xarray.(Following https://docs.xarray.dev/en/stable/examples/ERA5-GRIB-example.html)\n",
    "- Can load it in python using `xarray`.\n",
    "\n",
    "In keeping with the scale of the project, we can use the CONUS forecast data (pass it through a CNN to condense down, then dense layers)\n",
    "\n",
    "# Data from 2018/6 - 2020\n"
   ]
  },
  {
   "cell_type": "code",
   "execution_count": 3,
   "id": "0a3c6162",
   "metadata": {},
   "outputs": [],
   "source": [
    "import os"
   ]
  },
  {
   "cell_type": "code",
   "execution_count": 4,
   "id": "c31ab8c5",
   "metadata": {},
   "outputs": [],
   "source": [
    "os.chdir('/tf/data/NDFD')"
   ]
  },
  {
   "cell_type": "code",
   "execution_count": 8,
   "id": "1071e9fe",
   "metadata": {},
   "outputs": [
    {
     "name": "stdout",
     "output_type": "stream",
     "text": [
      "./201006/20100618/YEUZ97_KWBN_201006181136\n",
      "./201006/20100601/YEUZ98_KWBN_201006010851\n",
      "./201006/20100601/YEUZ98_KWBN_201006011148\n",
      "./201006/20100601/YEUZ98_KWBN_201006010449\n",
      "./201006/20100601/YEUZ98_KWBN_201006012051\n",
      "./201006/20100601/YEUZ97_KWBN_201006012140\n",
      "./201006/20100601/YEUZ98_KWBN_201006011248\n",
      "./201006/20100601/YEUZ98_KWBN_201006010747\n",
      "./201006/20100601/YEUZ98_KWBN_201006010250\n",
      "./201006/20100601/YEUZ98_KWBN_201006012349\n",
      "./201006/20100601/YEUZ97_KWBN_201006011134\n",
      "./201006/20100601/YEUZ98_KWBN_201006010349\n",
      "./201006/20100601/YEUZ98_KWBN_201006011549\n",
      "./201006/20100601/YEUZ97_KWBN_201006011735\n",
      "./201006/20100601/YEUZ97_KWBN_201006010533\n",
      "./201006/20100601/YEUZ98_KWBN_201006012248\n",
      "./201006/20100601/YEUZ98_KWBN_201006011049\n",
      "./201006/20100601/YEUZ98_KWBN_201006010948\n",
      "./201006/20100601/YEUZ98_KWBN_201006010149\n",
      "./201006/20100601/YEUZ98_KWBN_201006011948\n",
      "./201006/20100601/YEUZ98_KWBN_201006011853\n",
      "./201006/20100601/YEUZ98_KWBN_201006010548\n",
      "./201006/20100601/YEUZ98_KWBN_201006011750\n",
      "./201006/20100601/YEUZ98_KWBN_201006011648\n",
      "./201006/20100601/YEUZ98_KWBN_201006011448\n",
      "./201006/20100601/YEUZ98_KWBN_201006010653\n",
      "./201006/20100601/YEUZ97_KWBN_201006012331\n",
      "./201006/20100601/YEUZ98_KWBN_201006012154\n",
      "./201006/20100601/YEUZ98_KWBN_201006010049\n",
      "./201006/20100601/YEUZ98_KWBN_201006011347\n"
     ]
    }
   ],
   "source": [
    "!tail -n10000 filelist.txt | grep YEUZ"
   ]
  },
  {
   "cell_type": "code",
   "execution_count": 3,
   "id": "b040563d",
   "metadata": {},
   "outputs": [
    {
     "name": "stdout",
     "output_type": "stream",
     "text": [
      "Collecting boto3\n",
      "  Downloading boto3-1.26.156-py3-none-any.whl (135 kB)\n",
      "\u001b[2K     \u001b[90m━━━━━━━━━━━━━━━━━━━━━━━━━━━━━━━━━━━━━━━\u001b[0m \u001b[32m135.6/135.6 kB\u001b[0m \u001b[31m2.5 MB/s\u001b[0m eta \u001b[36m0:00:00\u001b[0ma \u001b[36m0:00:01\u001b[0m\n",
      "\u001b[?25hCollecting botocore<1.30.0,>=1.29.156\n",
      "  Downloading botocore-1.29.156-py3-none-any.whl (10.9 MB)\n",
      "\u001b[2K     \u001b[90m━━━━━━━━━━━━━━━━━━━━━━━━━━━━━━━━━━━━━━━━\u001b[0m \u001b[32m10.9/10.9 MB\u001b[0m \u001b[31m36.5 MB/s\u001b[0m eta \u001b[36m0:00:00\u001b[0m00:01\u001b[0m0:01\u001b[0m\n",
      "\u001b[?25hCollecting jmespath<2.0.0,>=0.7.1\n",
      "  Downloading jmespath-1.0.1-py3-none-any.whl (20 kB)\n",
      "Collecting s3transfer<0.7.0,>=0.6.0\n",
      "  Downloading s3transfer-0.6.1-py3-none-any.whl (79 kB)\n",
      "\u001b[2K     \u001b[90m━━━━━━━━━━━━━━━━━━━━━━━━━━━━━━━━━━━━━━━━\u001b[0m \u001b[32m79.8/79.8 kB\u001b[0m \u001b[31m21.2 MB/s\u001b[0m eta \u001b[36m0:00:00\u001b[0m\n",
      "\u001b[?25hRequirement already satisfied: python-dateutil<3.0.0,>=2.1 in /usr/local/lib/python3.8/dist-packages (from botocore<1.30.0,>=1.29.156->boto3) (2.8.2)\n",
      "Requirement already satisfied: urllib3<1.27,>=1.25.4 in /usr/lib/python3/dist-packages (from botocore<1.30.0,>=1.29.156->boto3) (1.25.8)\n",
      "Requirement already satisfied: six>=1.5 in /usr/lib/python3/dist-packages (from python-dateutil<3.0.0,>=2.1->botocore<1.30.0,>=1.29.156->boto3) (1.14.0)\n",
      "Installing collected packages: jmespath, botocore, s3transfer, boto3\n",
      "Successfully installed boto3-1.26.156 botocore-1.29.156 jmespath-1.0.1 s3transfer-0.6.1\n",
      "\u001b[33mWARNING: Running pip as the 'root' user can result in broken permissions and conflicting behaviour with the system package manager. It is recommended to use a virtual environment instead: https://pip.pypa.io/warnings/venv\u001b[0m\u001b[33m\n",
      "\u001b[0m\n",
      "\u001b[1m[\u001b[0m\u001b[34;49mnotice\u001b[0m\u001b[1;39;49m]\u001b[0m\u001b[39;49m A new release of pip is available: \u001b[0m\u001b[31;49m23.0.1\u001b[0m\u001b[39;49m -> \u001b[0m\u001b[32;49m23.1.2\u001b[0m\n",
      "\u001b[1m[\u001b[0m\u001b[34;49mnotice\u001b[0m\u001b[1;39;49m]\u001b[0m\u001b[39;49m To update, run: \u001b[0m\u001b[32;49mpython3 -m pip install --upgrade pip\u001b[0m\n"
     ]
    }
   ],
   "source": [
    "!pip install boto3"
   ]
  },
  {
   "cell_type": "code",
   "execution_count": null,
   "id": "5d5daa5a",
   "metadata": {},
   "outputs": [],
   "source": [
    "# get bucket file list"
   ]
  },
  {
   "cell_type": "code",
   "execution_count": 5,
   "id": "c4e10b18",
   "metadata": {},
   "outputs": [
    {
     "ename": "NoCredentialsError",
     "evalue": "Unable to locate credentials",
     "output_type": "error",
     "traceback": [
      "\u001b[0;31m---------------------------------------------------------------------------\u001b[0m",
      "\u001b[0;31mNoCredentialsError\u001b[0m                        Traceback (most recent call last)",
      "Cell \u001b[0;32mIn[5], line 9\u001b[0m\n\u001b[1;32m      6\u001b[0m \u001b[39m# start 2020/4/16\u001b[39;00m\n\u001b[1;32m      8\u001b[0m client \u001b[39m=\u001b[39m boto3\u001b[39m.\u001b[39mclient(\u001b[39m'\u001b[39m\u001b[39ms3\u001b[39m\u001b[39m'\u001b[39m)\n\u001b[0;32m----> 9\u001b[0m result \u001b[39m=\u001b[39m client\u001b[39m.\u001b[39;49mlist_objects(Bucket\u001b[39m=\u001b[39;49mbucket, Prefix\u001b[39m=\u001b[39;49mprefix, Delimiter\u001b[39m=\u001b[39;49m\u001b[39m'\u001b[39;49m\u001b[39m/\u001b[39;49m\u001b[39m'\u001b[39;49m)\n\u001b[1;32m     10\u001b[0m \u001b[39mfor\u001b[39;00m o \u001b[39min\u001b[39;00m result\u001b[39m.\u001b[39mget(\u001b[39m'\u001b[39m\u001b[39mCommonPrefixes\u001b[39m\u001b[39m'\u001b[39m):\n\u001b[1;32m     11\u001b[0m     \u001b[39mprint\u001b[39m(\u001b[39m'\u001b[39m\u001b[39msub folder : \u001b[39m\u001b[39m'\u001b[39m, o\u001b[39m.\u001b[39mget(\u001b[39m'\u001b[39m\u001b[39mPrefix\u001b[39m\u001b[39m'\u001b[39m))\n",
      "File \u001b[0;32m/usr/local/lib/python3.8/dist-packages/botocore/client.py:530\u001b[0m, in \u001b[0;36mClientCreator._create_api_method.<locals>._api_call\u001b[0;34m(self, *args, **kwargs)\u001b[0m\n\u001b[1;32m    526\u001b[0m     \u001b[39mraise\u001b[39;00m \u001b[39mTypeError\u001b[39;00m(\n\u001b[1;32m    527\u001b[0m         \u001b[39mf\u001b[39m\u001b[39m\"\u001b[39m\u001b[39m{\u001b[39;00mpy_operation_name\u001b[39m}\u001b[39;00m\u001b[39m() only accepts keyword arguments.\u001b[39m\u001b[39m\"\u001b[39m\n\u001b[1;32m    528\u001b[0m     )\n\u001b[1;32m    529\u001b[0m \u001b[39m# The \"self\" in this scope is referring to the BaseClient.\u001b[39;00m\n\u001b[0;32m--> 530\u001b[0m \u001b[39mreturn\u001b[39;00m \u001b[39mself\u001b[39;49m\u001b[39m.\u001b[39;49m_make_api_call(operation_name, kwargs)\n",
      "File \u001b[0;32m/usr/local/lib/python3.8/dist-packages/botocore/client.py:947\u001b[0m, in \u001b[0;36mBaseClient._make_api_call\u001b[0;34m(self, operation_name, api_params)\u001b[0m\n\u001b[1;32m    945\u001b[0m \u001b[39melse\u001b[39;00m:\n\u001b[1;32m    946\u001b[0m     apply_request_checksum(request_dict)\n\u001b[0;32m--> 947\u001b[0m     http, parsed_response \u001b[39m=\u001b[39m \u001b[39mself\u001b[39;49m\u001b[39m.\u001b[39;49m_make_request(\n\u001b[1;32m    948\u001b[0m         operation_model, request_dict, request_context\n\u001b[1;32m    949\u001b[0m     )\n\u001b[1;32m    951\u001b[0m \u001b[39mself\u001b[39m\u001b[39m.\u001b[39mmeta\u001b[39m.\u001b[39mevents\u001b[39m.\u001b[39memit(\n\u001b[1;32m    952\u001b[0m     \u001b[39m'\u001b[39m\u001b[39mafter-call.\u001b[39m\u001b[39m{service_id}\u001b[39;00m\u001b[39m.\u001b[39m\u001b[39m{operation_name}\u001b[39;00m\u001b[39m'\u001b[39m\u001b[39m.\u001b[39mformat(\n\u001b[1;32m    953\u001b[0m         service_id\u001b[39m=\u001b[39mservice_id, operation_name\u001b[39m=\u001b[39moperation_name\n\u001b[0;32m   (...)\u001b[0m\n\u001b[1;32m    958\u001b[0m     context\u001b[39m=\u001b[39mrequest_context,\n\u001b[1;32m    959\u001b[0m )\n\u001b[1;32m    961\u001b[0m \u001b[39mif\u001b[39;00m http\u001b[39m.\u001b[39mstatus_code \u001b[39m>\u001b[39m\u001b[39m=\u001b[39m \u001b[39m300\u001b[39m:\n",
      "File \u001b[0;32m/usr/local/lib/python3.8/dist-packages/botocore/client.py:970\u001b[0m, in \u001b[0;36mBaseClient._make_request\u001b[0;34m(self, operation_model, request_dict, request_context)\u001b[0m\n\u001b[1;32m    968\u001b[0m \u001b[39mdef\u001b[39;00m \u001b[39m_make_request\u001b[39m(\u001b[39mself\u001b[39m, operation_model, request_dict, request_context):\n\u001b[1;32m    969\u001b[0m     \u001b[39mtry\u001b[39;00m:\n\u001b[0;32m--> 970\u001b[0m         \u001b[39mreturn\u001b[39;00m \u001b[39mself\u001b[39;49m\u001b[39m.\u001b[39;49m_endpoint\u001b[39m.\u001b[39;49mmake_request(operation_model, request_dict)\n\u001b[1;32m    971\u001b[0m     \u001b[39mexcept\u001b[39;00m \u001b[39mException\u001b[39;00m \u001b[39mas\u001b[39;00m e:\n\u001b[1;32m    972\u001b[0m         \u001b[39mself\u001b[39m\u001b[39m.\u001b[39mmeta\u001b[39m.\u001b[39mevents\u001b[39m.\u001b[39memit(\n\u001b[1;32m    973\u001b[0m             \u001b[39m'\u001b[39m\u001b[39mafter-call-error.\u001b[39m\u001b[39m{service_id}\u001b[39;00m\u001b[39m.\u001b[39m\u001b[39m{operation_name}\u001b[39;00m\u001b[39m'\u001b[39m\u001b[39m.\u001b[39mformat(\n\u001b[1;32m    974\u001b[0m                 service_id\u001b[39m=\u001b[39m\u001b[39mself\u001b[39m\u001b[39m.\u001b[39m_service_model\u001b[39m.\u001b[39mservice_id\u001b[39m.\u001b[39mhyphenize(),\n\u001b[0;32m   (...)\u001b[0m\n\u001b[1;32m    978\u001b[0m             context\u001b[39m=\u001b[39mrequest_context,\n\u001b[1;32m    979\u001b[0m         )\n",
      "File \u001b[0;32m/usr/local/lib/python3.8/dist-packages/botocore/endpoint.py:119\u001b[0m, in \u001b[0;36mEndpoint.make_request\u001b[0;34m(self, operation_model, request_dict)\u001b[0m\n\u001b[1;32m    113\u001b[0m \u001b[39mdef\u001b[39;00m \u001b[39mmake_request\u001b[39m(\u001b[39mself\u001b[39m, operation_model, request_dict):\n\u001b[1;32m    114\u001b[0m     logger\u001b[39m.\u001b[39mdebug(\n\u001b[1;32m    115\u001b[0m         \u001b[39m\"\u001b[39m\u001b[39mMaking request for \u001b[39m\u001b[39m%s\u001b[39;00m\u001b[39m with params: \u001b[39m\u001b[39m%s\u001b[39;00m\u001b[39m\"\u001b[39m,\n\u001b[1;32m    116\u001b[0m         operation_model,\n\u001b[1;32m    117\u001b[0m         request_dict,\n\u001b[1;32m    118\u001b[0m     )\n\u001b[0;32m--> 119\u001b[0m     \u001b[39mreturn\u001b[39;00m \u001b[39mself\u001b[39;49m\u001b[39m.\u001b[39;49m_send_request(request_dict, operation_model)\n",
      "File \u001b[0;32m/usr/local/lib/python3.8/dist-packages/botocore/endpoint.py:198\u001b[0m, in \u001b[0;36mEndpoint._send_request\u001b[0;34m(self, request_dict, operation_model)\u001b[0m\n\u001b[1;32m    196\u001b[0m context \u001b[39m=\u001b[39m request_dict[\u001b[39m'\u001b[39m\u001b[39mcontext\u001b[39m\u001b[39m'\u001b[39m]\n\u001b[1;32m    197\u001b[0m \u001b[39mself\u001b[39m\u001b[39m.\u001b[39m_update_retries_context(context, attempts)\n\u001b[0;32m--> 198\u001b[0m request \u001b[39m=\u001b[39m \u001b[39mself\u001b[39;49m\u001b[39m.\u001b[39;49mcreate_request(request_dict, operation_model)\n\u001b[1;32m    199\u001b[0m success_response, exception \u001b[39m=\u001b[39m \u001b[39mself\u001b[39m\u001b[39m.\u001b[39m_get_response(\n\u001b[1;32m    200\u001b[0m     request, operation_model, context\n\u001b[1;32m    201\u001b[0m )\n\u001b[1;32m    202\u001b[0m \u001b[39mwhile\u001b[39;00m \u001b[39mself\u001b[39m\u001b[39m.\u001b[39m_needs_retry(\n\u001b[1;32m    203\u001b[0m     attempts,\n\u001b[1;32m    204\u001b[0m     operation_model,\n\u001b[0;32m   (...)\u001b[0m\n\u001b[1;32m    207\u001b[0m     exception,\n\u001b[1;32m    208\u001b[0m ):\n",
      "File \u001b[0;32m/usr/local/lib/python3.8/dist-packages/botocore/endpoint.py:134\u001b[0m, in \u001b[0;36mEndpoint.create_request\u001b[0;34m(self, params, operation_model)\u001b[0m\n\u001b[1;32m    130\u001b[0m     service_id \u001b[39m=\u001b[39m operation_model\u001b[39m.\u001b[39mservice_model\u001b[39m.\u001b[39mservice_id\u001b[39m.\u001b[39mhyphenize()\n\u001b[1;32m    131\u001b[0m     event_name \u001b[39m=\u001b[39m \u001b[39m'\u001b[39m\u001b[39mrequest-created.\u001b[39m\u001b[39m{service_id}\u001b[39;00m\u001b[39m.\u001b[39m\u001b[39m{op_name}\u001b[39;00m\u001b[39m'\u001b[39m\u001b[39m.\u001b[39mformat(\n\u001b[1;32m    132\u001b[0m         service_id\u001b[39m=\u001b[39mservice_id, op_name\u001b[39m=\u001b[39moperation_model\u001b[39m.\u001b[39mname\n\u001b[1;32m    133\u001b[0m     )\n\u001b[0;32m--> 134\u001b[0m     \u001b[39mself\u001b[39;49m\u001b[39m.\u001b[39;49m_event_emitter\u001b[39m.\u001b[39;49memit(\n\u001b[1;32m    135\u001b[0m         event_name,\n\u001b[1;32m    136\u001b[0m         request\u001b[39m=\u001b[39;49mrequest,\n\u001b[1;32m    137\u001b[0m         operation_name\u001b[39m=\u001b[39;49moperation_model\u001b[39m.\u001b[39;49mname,\n\u001b[1;32m    138\u001b[0m     )\n\u001b[1;32m    139\u001b[0m prepared_request \u001b[39m=\u001b[39m \u001b[39mself\u001b[39m\u001b[39m.\u001b[39mprepare_request(request)\n\u001b[1;32m    140\u001b[0m \u001b[39mreturn\u001b[39;00m prepared_request\n",
      "File \u001b[0;32m/usr/local/lib/python3.8/dist-packages/botocore/hooks.py:412\u001b[0m, in \u001b[0;36mEventAliaser.emit\u001b[0;34m(self, event_name, **kwargs)\u001b[0m\n\u001b[1;32m    410\u001b[0m \u001b[39mdef\u001b[39;00m \u001b[39memit\u001b[39m(\u001b[39mself\u001b[39m, event_name, \u001b[39m*\u001b[39m\u001b[39m*\u001b[39mkwargs):\n\u001b[1;32m    411\u001b[0m     aliased_event_name \u001b[39m=\u001b[39m \u001b[39mself\u001b[39m\u001b[39m.\u001b[39m_alias_event_name(event_name)\n\u001b[0;32m--> 412\u001b[0m     \u001b[39mreturn\u001b[39;00m \u001b[39mself\u001b[39;49m\u001b[39m.\u001b[39;49m_emitter\u001b[39m.\u001b[39;49memit(aliased_event_name, \u001b[39m*\u001b[39;49m\u001b[39m*\u001b[39;49mkwargs)\n",
      "File \u001b[0;32m/usr/local/lib/python3.8/dist-packages/botocore/hooks.py:256\u001b[0m, in \u001b[0;36mHierarchicalEmitter.emit\u001b[0;34m(self, event_name, **kwargs)\u001b[0m\n\u001b[1;32m    245\u001b[0m \u001b[39mdef\u001b[39;00m \u001b[39memit\u001b[39m(\u001b[39mself\u001b[39m, event_name, \u001b[39m*\u001b[39m\u001b[39m*\u001b[39mkwargs):\n\u001b[1;32m    246\u001b[0m \u001b[39m    \u001b[39m\u001b[39m\"\"\"\u001b[39;00m\n\u001b[1;32m    247\u001b[0m \u001b[39m    Emit an event by name with arguments passed as keyword args.\u001b[39;00m\n\u001b[1;32m    248\u001b[0m \n\u001b[0;32m   (...)\u001b[0m\n\u001b[1;32m    254\u001b[0m \u001b[39m             handlers.\u001b[39;00m\n\u001b[1;32m    255\u001b[0m \u001b[39m    \"\"\"\u001b[39;00m\n\u001b[0;32m--> 256\u001b[0m     \u001b[39mreturn\u001b[39;00m \u001b[39mself\u001b[39;49m\u001b[39m.\u001b[39;49m_emit(event_name, kwargs)\n",
      "File \u001b[0;32m/usr/local/lib/python3.8/dist-packages/botocore/hooks.py:239\u001b[0m, in \u001b[0;36mHierarchicalEmitter._emit\u001b[0;34m(self, event_name, kwargs, stop_on_response)\u001b[0m\n\u001b[1;32m    237\u001b[0m \u001b[39mfor\u001b[39;00m handler \u001b[39min\u001b[39;00m handlers_to_call:\n\u001b[1;32m    238\u001b[0m     logger\u001b[39m.\u001b[39mdebug(\u001b[39m'\u001b[39m\u001b[39mEvent \u001b[39m\u001b[39m%s\u001b[39;00m\u001b[39m: calling handler \u001b[39m\u001b[39m%s\u001b[39;00m\u001b[39m'\u001b[39m, event_name, handler)\n\u001b[0;32m--> 239\u001b[0m     response \u001b[39m=\u001b[39m handler(\u001b[39m*\u001b[39;49m\u001b[39m*\u001b[39;49mkwargs)\n\u001b[1;32m    240\u001b[0m     responses\u001b[39m.\u001b[39mappend((handler, response))\n\u001b[1;32m    241\u001b[0m     \u001b[39mif\u001b[39;00m stop_on_response \u001b[39mand\u001b[39;00m response \u001b[39mis\u001b[39;00m \u001b[39mnot\u001b[39;00m \u001b[39mNone\u001b[39;00m:\n",
      "File \u001b[0;32m/usr/local/lib/python3.8/dist-packages/botocore/signers.py:105\u001b[0m, in \u001b[0;36mRequestSigner.handler\u001b[0;34m(self, operation_name, request, **kwargs)\u001b[0m\n\u001b[1;32m    100\u001b[0m \u001b[39mdef\u001b[39;00m \u001b[39mhandler\u001b[39m(\u001b[39mself\u001b[39m, operation_name\u001b[39m=\u001b[39m\u001b[39mNone\u001b[39;00m, request\u001b[39m=\u001b[39m\u001b[39mNone\u001b[39;00m, \u001b[39m*\u001b[39m\u001b[39m*\u001b[39mkwargs):\n\u001b[1;32m    101\u001b[0m     \u001b[39m# This is typically hooked up to the \"request-created\" event\u001b[39;00m\n\u001b[1;32m    102\u001b[0m     \u001b[39m# from a client's event emitter.  When a new request is created\u001b[39;00m\n\u001b[1;32m    103\u001b[0m     \u001b[39m# this method is invoked to sign the request.\u001b[39;00m\n\u001b[1;32m    104\u001b[0m     \u001b[39m# Don't call this method directly.\u001b[39;00m\n\u001b[0;32m--> 105\u001b[0m     \u001b[39mreturn\u001b[39;00m \u001b[39mself\u001b[39;49m\u001b[39m.\u001b[39;49msign(operation_name, request)\n",
      "File \u001b[0;32m/usr/local/lib/python3.8/dist-packages/botocore/signers.py:189\u001b[0m, in \u001b[0;36mRequestSigner.sign\u001b[0;34m(self, operation_name, request, region_name, signing_type, expires_in, signing_name)\u001b[0m\n\u001b[1;32m    186\u001b[0m     \u001b[39melse\u001b[39;00m:\n\u001b[1;32m    187\u001b[0m         \u001b[39mraise\u001b[39;00m e\n\u001b[0;32m--> 189\u001b[0m auth\u001b[39m.\u001b[39;49madd_auth(request)\n",
      "File \u001b[0;32m/usr/local/lib/python3.8/dist-packages/botocore/auth.py:418\u001b[0m, in \u001b[0;36mSigV4Auth.add_auth\u001b[0;34m(self, request)\u001b[0m\n\u001b[1;32m    416\u001b[0m \u001b[39mdef\u001b[39;00m \u001b[39madd_auth\u001b[39m(\u001b[39mself\u001b[39m, request):\n\u001b[1;32m    417\u001b[0m     \u001b[39mif\u001b[39;00m \u001b[39mself\u001b[39m\u001b[39m.\u001b[39mcredentials \u001b[39mis\u001b[39;00m \u001b[39mNone\u001b[39;00m:\n\u001b[0;32m--> 418\u001b[0m         \u001b[39mraise\u001b[39;00m NoCredentialsError()\n\u001b[1;32m    419\u001b[0m     datetime_now \u001b[39m=\u001b[39m datetime\u001b[39m.\u001b[39mdatetime\u001b[39m.\u001b[39mutcnow()\n\u001b[1;32m    420\u001b[0m     request\u001b[39m.\u001b[39mcontext[\u001b[39m'\u001b[39m\u001b[39mtimestamp\u001b[39m\u001b[39m'\u001b[39m] \u001b[39m=\u001b[39m datetime_now\u001b[39m.\u001b[39mstrftime(SIGV4_TIMESTAMP)\n",
      "\u001b[0;31mNoCredentialsError\u001b[0m: Unable to locate credentials"
     ]
    }
   ],
   "source": [
    "import boto3\n",
    "bucket = 'noaa-ndfd-pds'\n",
    "#Make sure you provide / in the end\n",
    "prefix = 'wmo/temp/2020/04/16/'  \n",
    "\n",
    "# start 2020/4/16\n",
    "\n",
    "client = boto3.client('s3')\n",
    "result = client.list_objects(Bucket=bucket, Prefix=prefix, Delimiter='/')\n",
    "for o in result.get('CommonPrefixes'):\n",
    "    print('sub folder : ', o.get('Prefix'))"
   ]
  },
  {
   "cell_type": "code",
   "execution_count": null,
   "id": "5c896da3",
   "metadata": {},
   "outputs": [],
   "source": []
  }
 ],
 "metadata": {
  "kernelspec": {
   "display_name": "Python 3 (ipykernel)",
   "language": "python",
   "name": "python3"
  },
  "language_info": {
   "codemirror_mode": {
    "name": "ipython",
    "version": 3
   },
   "file_extension": ".py",
   "mimetype": "text/x-python",
   "name": "python",
   "nbconvert_exporter": "python",
   "pygments_lexer": "ipython3",
   "version": "3.8.10"
  },
  "name": "EBA_DataIngestion.ipynb"
 },
 "nbformat": 4,
 "nbformat_minor": 5
}
