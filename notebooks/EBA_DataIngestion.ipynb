{
 "cells": [
  {
   "cell_type": "markdown",
   "id": "1f7bdc2d-0945-4955-aaf9-aef8f553cae7",
   "metadata": {
    "collapsed": false
   },
   "source": [
    "# EBA Data Ingestion\n",
    "\n",
    "We need to collect data from two main sources for this project:\n",
    " - First is loading the EBA data into the SQL DB\n",
    " - Second is getting the real weather data from NOAA based off Weather stations.   \n",
    "   This is done via FTP using `code/utils/get_weather_data.py` for the relevant time periods.\n",
    " - (Third would be accessing NOAA's forecast DB.)\n",
    "\n",
    " In all cases we will be loading the data into a Postgres Database for easier querying later.  \n"
   ]
  },
  {
   "cell_type": "code",
   "execution_count": null,
   "id": "642871af-e81c-4404-9cfd-24715913d5e7",
   "metadata": {
    "collapsed": false
   },
   "outputs": [],
   "source": []
  },
  {
   "cell_type": "markdown",
   "id": "858272bf-12f1-4178-bf49-601b5a0cddbc",
   "metadata": {
    "collapsed": false
   },
   "source": [
    "# Library Sketch and Table Sketch \n",
    "\n",
    "- 560 MB of weather station data\n",
    "- 2.8GB of Energy data\n",
    "- 5.0GB of forecast data  (could try to only extract station data)\n",
    "\n",
    "Energy data x 100 ISOs\n",
    "- Demand\n",
    "- Demand Forecast\n",
    "- Net Generation\n",
    "    (by source)\n",
    "- Transfers\n",
    "\n",
    "Weather x 600 stations\n",
    "- Temp\n",
    "- Cloud cover\n",
    "- Precipitation\n",
    "\n",
    "Forecast\n",
    "- Temp (gridded 24 hour forecast) of CONUS.  Probably don't want in DB.\n",
    "- include file ref.\n",
    "- Try to find nearest forecast pixel for all airports.\n",
    "\n",
    "Given we want to think about a whole system forecast, we can live with having a few big tables separated by variable.\n",
    "Use UTC time variables to allow a common index and forecast.\n",
    "\n",
    "Demand Table\n",
    "    id, \n",
    "    datetime\n",
    "    iso1,\n",
    "    iso2,\n",
    "    ...\n",
    "    index on datetime\n",
    "\n",
    "Forecast Table\n",
    "    \"\"\n",
    "\n",
    "Net Generation (*)\n",
    "    \" \" \n",
    "(same for sub-sources)\n",
    "\n",
    "Transfers  (*)\n",
    "   id, \n",
    "   datetime\n",
    "   iso1,\n",
    "   iso2,\n",
    "   amount\n",
    "   index on datetime, \n",
    "\n",
    "AirMeta\n",
    "   id\n",
    "   station_name\n",
    "   lat\n",
    "   long\n",
    "   region\n",
    "   city\n",
    "   state\n",
    "   \n",
    "Temperature\n",
    "   id, \n",
    "   datetime\n",
    "   st1,\n",
    "   st2,\n",
    "   ...\n",
    "   \n",
    "   "
   ]
  },
  {
   "cell_type": "code",
   "execution_count": 1,
   "id": "9c3de7db-55fc-44c8-b6ce-983c066fde34",
   "metadata": {
    "collapsed": false
   },
   "outputs": [],
   "source": [
    "import os\n",
    "import sys"
   ]
  },
  {
   "cell_type": "code",
   "execution_count": 1,
   "id": "d0c3a17c-6975-4fe3-bda5-c6b1daf4c41b",
   "metadata": {
    "collapsed": false
   },
   "outputs": [],
   "source": []
  },
  {
   "cell_type": "code",
   "execution_count": 2,
   "id": "871d5349-dfdb-40fd-a9f0-d214ac15f9ef",
   "metadata": {
    "collapsed": false
   },
   "outputs": [],
   "source": [
    "sqld = SQLDriver()"
   ]
  },
  {
   "cell_type": "code",
   "execution_count": 6,
   "id": "63bf3b68-811d-4e42-94c9-d7b13b2041c6",
   "metadata": {
    "collapsed": false
   },
   "outputs": [],
   "source": [
    "#sqld.get_data('SELECT * FROM information_schema.tables;')"
   ]
  },
  {
   "cell_type": "markdown",
   "id": "64ecac1b-0f49-4474-acb3-c6ceb8af2737",
   "metadata": {
    "collapsed": false
   },
   "source": []
  },
  {
   "cell_type": "markdown",
   "id": "c009c926-2aaf-453c-a529-56aa28c51a36",
   "metadata": {
    "collapsed": false
   },
   "source": [
    "# Bulk EBA data import\n",
    "\n",
    "The EBA data can be downloaded from `https://www.eia.gov/opendata/bulk/EBA.zip`.\n",
    "As of Mar 6, 2023 it's around 2.8 GB, with around 2800 child series, stored in one JSONLines files.\n",
    "\n",
    "That's downloaded to data/EBA/20230302.  \n",
    "For initial quick exploration we you can grep out 'California' and 'Portland' series to \n"
   ]
  },
  {
   "cell_type": "markdown",
   "id": "3c67dd54-162f-40e0-a5bd-f656e5733c09",
   "metadata": {
    "collapsed": false
   },
   "source": [
    "- grepped out all Portland files and California files for a smaller subset of data to play with while cleaning\n",
    "up the ETL work\n",
    "  `grep -r \"Portland\" EBA.txt > EBA_PDX.txt`\n",
    "  `grep -r \"California\" EBA.txt > EBA_CA.txt`\n",
    "  "
   ]
  },
  {
   "cell_type": "code",
   "execution_count": 15,
   "id": "f0513cec-dfe2-446b-b057-5fbb38f34213",
   "metadata": {
    "collapsed": false
   },
   "outputs": [],
   "source": [
    "import json\n",
    "import jsonlines\n",
    "import re\n",
    "from tqdm import tqdm\n",
    "\n",
    "def read_eba_txt(fn:str, N:int=None, name_lookup:str=None):\n",
    "    \"\"\"Read in all JSON from Lines file.\n",
    "\n",
    "    Args:\n",
    "    N - maximum number of lines to read in\n",
    "    name_lookup - optional string to search for.  \n",
    "    Return:\n",
    "    List of dicts\n",
    "    \"\"\"\n",
    "    count = 0\n",
    "    data = []\n",
    "\n",
    "    #name_reg = re.compile(f'{name_lookup}') if name_lookup else None\n",
    "    with jsonlines.open(fn, 'r') as fh:\n",
    "        for obj in tqdm(fh):\n",
    "            #print(obj.get('series_id'), obj.get('name'))\n",
    "\n",
    "            if name_lookup:\n",
    "                if name_lookup.lower() in obj.get('name').lower():\n",
    "                    print(f\"HIT! {obj['name']}\")\n",
    "                    data.append(obj)\n",
    "                    \n",
    "            else:\n",
    "                data.append(obj)\n",
    "            if N and len(data) >= N:\n",
    "                break\n",
    "    return data\n"
   ]
  },
  {
   "cell_type": "markdown",
   "id": "4b9a21b1-049b-42e9-b38b-32d161f05a01",
   "metadata": {
    "collapsed": false
   },
   "source": [
    "- This eats a LOT of ram on it's own for all files.  \n",
    "- Probably best to ETL one at a time.  Even in dict form it's eating around 20GB of RAM."
   ]
  },
  {
   "cell_type": "code",
   "execution_count": 17,
   "id": "74edf2c5-37a1-464d-93c3-9a971ea77b8d",
   "metadata": {
    "collapsed": false
   },
   "outputs": [],
   "source": [
    "eba_path = '/tf/data/EBA/EBA20230302'\n",
    "fname = f'{eba_path}/EBA_PDX.txt'"
   ]
  },
  {
   "cell_type": "code",
   "execution_count": 18,
   "id": "bdf0aa0c-49bc-48dc-9a29-569804c9ad89",
   "metadata": {
    "collapsed": false
   },
   "outputs": [
    {
     "name": "stderr",
     "output_type": "stream",
     "text": [
      "\r",
      "0it [00:00, ?it/s]"
     ]
    },
    {
     "name": "stderr",
     "output_type": "stream",
     "text": [
      "\r",
      "2it [00:00, 14.24it/s]"
     ]
    },
    {
     "name": "stderr",
     "output_type": "stream",
     "text": [
      "\r",
      "4it [00:00, 16.70it/s]"
     ]
    },
    {
     "name": "stderr",
     "output_type": "stream",
     "text": [
      "\r",
      "6it [00:00, 13.36it/s]"
     ]
    },
    {
     "name": "stderr",
     "output_type": "stream",
     "text": [
      "\r",
      "8it [00:00, 13.97it/s]"
     ]
    },
    {
     "name": "stderr",
     "output_type": "stream",
     "text": [
      "\r",
      "11it [00:00, 15.24it/s]"
     ]
    },
    {
     "name": "stderr",
     "output_type": "stream",
     "text": [
      "\r",
      "16it [00:00, 19.11it/s]"
     ]
    },
    {
     "name": "stderr",
     "output_type": "stream",
     "text": [
      "\r",
      "22it [00:01, 20.55it/s]"
     ]
    },
    {
     "name": "stderr",
     "output_type": "stream",
     "text": [
      "\r",
      "32it [00:01, 24.78it/s]"
     ]
    },
    {
     "name": "stderr",
     "output_type": "stream",
     "text": [
      "\n"
     ]
    }
   ],
   "source": [
    "all_data = read_eba_txt(fname)"
   ]
  },
  {
   "cell_type": "code",
   "execution_count": 19,
   "id": "c68a524a-15e0-41e3-b721-a47d701f8b1a",
   "metadata": {
    "collapsed": false
   },
   "outputs": [
    {
     "data": {
      "text/plain": [
       "32"
      ]
     },
     "execution_count": 19,
     "metadata": {},
     "output_type": "execute_result"
    }
   ],
   "source": [
    "len(all_data)"
   ]
  },
  {
   "cell_type": "code",
   "execution_count": 20,
   "id": "eafa65c5-90df-4d0f-94d1-1fbe16ade96f",
   "metadata": {
    "collapsed": false
   },
   "outputs": [
    {
     "name": "stdout",
     "output_type": "stream",
     "text": [
      "EBA.PGE-ALL.D.H Demand for Portland General Electric Company (PGE), hourly - UTC time\n",
      "66520 [['20230302T22Z', 2957], ['20230302T21Z', 3050]] ['20150722T08Z', 1936]\n",
      "\n",
      "EBA.PGE-ALL.D.HL Demand for Portland General Electric Company (PGE), hourly - local time\n",
      "66520 [['20230302T14-08', 2957], ['20230302T13-08', 3050]] ['20150722T01-07', 1936]\n",
      "\n",
      "EBA.PGE-PACW.ID.H Actual Net Interchange for Portland General Electric Company (PGE) to PacifiCorp West (PACW), hourly - UTC time\n",
      "66250 [['20230301T08Z', 84], ['20230301T07Z', 102]] ['20150721T08Z', -92]\n",
      "\n",
      "EBA.PACW-PGE.ID.H Actual Net Interchange for PacifiCorp West (PACW) to Portland General Electric Company (PGE), hourly - UTC time\n",
      "66959 [['20230301T08Z', -84], ['20230301T07Z', -102]] ['20150701T08Z', 101]\n",
      "\n",
      "EBA.PGE-BPAT.ID.H Actual Net Interchange for Portland General Electric Company (PGE) to Bonneville Power Administration (BPAT), hourly - UTC time\n",
      "66265 [['20230301T08Z', -1638], ['20230301T07Z', -1738]] ['20150721T08Z', -1268]\n",
      "\n",
      "EBA.PGE-BPAT.ID.HL Actual Net Interchange for Portland General Electric Company (PGE) to Bonneville Power Administration (BPAT), hourly - local time\n",
      "66265 [['20230301T00-08', -1638], ['20230228T23-08', -1738]] ['20150721T01-07', -1268]\n",
      "\n",
      "EBA.PACW-PGE.ID.HL Actual Net Interchange for PacifiCorp West (PACW) to Portland General Electric Company (PGE), hourly - local time\n",
      "66959 [['20230301T00-08', -84], ['20230228T23-08', -102]] ['20150701T01-07', 101]\n",
      "\n",
      "EBA.PGE-PACW.ID.HL Actual Net Interchange for Portland General Electric Company (PGE) to PacifiCorp West (PACW), hourly - local time\n",
      "66250 [['20230301T00-08', 84], ['20230228T23-08', 102]] ['20150721T01-07', -92]\n",
      "\n",
      "EBA.BPAT-PGE.ID.HL Actual Net Interchange for Bonneville Power Administration (BPAT) to Portland General Electric Company (PGE), hourly - local time\n",
      "67176 [['20230301T00-08', 1611], ['20230228T23-08', 1713]] ['20150701T01-07', 994]\n",
      "\n",
      "EBA.BPAT-PGE.ID.H Actual Net Interchange for Bonneville Power Administration (BPAT) to Portland General Electric Company (PGE), hourly - UTC time\n",
      "67176 [['20230301T08Z', 1611], ['20230301T07Z', 1713]] ['20150701T08Z', 994]\n",
      "\n",
      "EBA.PGE-ALL.NG.COL.H Net generation from coal for Portland General Electric Company (PGE), hourly - UTC time\n",
      "34656 [['20230302T08Z', 0], ['20230302T07Z', 0]] ['20190319T08Z', 0]\n",
      "\n",
      "EBA.PGE-ALL.NG.WAT.HL Net generation from hydro for Portland General Electric Company (PGE), hourly - local time\n",
      "40705 [['20230302T00-08', 146], ['20230301T23-08', 245]] ['20180701T01-07', 209]\n",
      "\n",
      "EBA.PGE-ALL.NG.NG.HL Net generation from natural gas for Portland General Electric Company (PGE), hourly - local time\n",
      "40704 [['20230302T00-08', 587], ['20230301T23-08', 620]] ['20180701T01-07', 3]\n",
      "\n",
      "EBA.PGE-ALL.NG.WND.H Net generation from wind for Portland General Electric Company (PGE), hourly - UTC time\n",
      "34426 [['20230302T08Z', 0], ['20230302T07Z', 0]] ['20190319T08Z', 0]\n",
      "\n",
      "EBA.PGE-ALL.NG.NG.H Net generation from natural gas for Portland General Electric Company (PGE), hourly - UTC time\n",
      "40704 [['20230302T08Z', 587], ['20230302T07Z', 620]] ['20180701T08Z', 3]\n",
      "\n",
      "EBA.PGE-ALL.NG.WAT.H Net generation from hydro for Portland General Electric Company (PGE), hourly - UTC time\n",
      "40705 [['20230302T08Z', 146], ['20230302T07Z', 245]] ['20180701T08Z', 209]\n",
      "\n",
      "EBA.PGE-ALL.NG.OTH.H Net generation from other for Portland General Electric Company (PGE), hourly - UTC time\n",
      "39426 [['20230302T08Z', 8], ['20230302T07Z', 8]] ['20180701T08Z', 11]\n",
      "\n",
      "EBA.PGE-ALL.NG.COL.HL Net generation from coal for Portland General Electric Company (PGE), hourly - local time\n",
      "34656 [['20230302T00-08', 0], ['20230301T23-08', 0]] ['20190319T01-07', 0]\n",
      "\n",
      "EBA.PGE-ALL.NG.OTH.HL Net generation from other for Portland General Electric Company (PGE), hourly - local time\n",
      "39426 [['20230302T00-08', 8], ['20230301T23-08', 8]] ['20180701T01-07', 11]\n",
      "\n",
      "EBA.PGE-ALL.NG.WND.HL Net generation from wind for Portland General Electric Company (PGE), hourly - local time\n",
      "34426 [['20230302T00-08', 0], ['20230301T23-08', 0]] ['20190319T01-07', 0]\n",
      "\n",
      "EBA.PGE-ALL.TI.H Total interchange for Portland General Electric Company (PGE), hourly - UTC time\n",
      "66286 [['20230302T08Z', -1811], ['20230302T07Z', -1860]] ['20150722T08Z', -861]\n",
      "\n",
      "EBA.PGE-ALL.DF.H Day-ahead demand forecast for Portland General Electric Company (PGE), hourly - UTC time\n",
      "65138 [['20230303T08Z', 2555], ['20230303T07Z', 2704]] ['20150910T08Z', 1918]\n",
      "\n",
      "EBA.PGE-ALL.NG.H Net generation for Portland General Electric Company (PGE), hourly - UTC time\n",
      "66457 [['20230302T08Z', 741], ['20230302T07Z', 873]] ['20150722T08Z', 1075]\n",
      "\n",
      "EBA.PGE-ALL.DF.HL Day-ahead demand forecast for Portland General Electric Company (PGE), hourly - local time\n",
      "65138 [['20230303T00-08', 2555], ['20230302T23-08', 2704]] ['20150910T01-07', 1918]\n",
      "\n",
      "EBA.PGE-ALL.NG.HL Net generation for Portland General Electric Company (PGE), hourly - local time\n",
      "66457 [['20230302T00-08', 741], ['20230301T23-08', 873]] ['20150722T01-07', 1075]\n",
      "\n",
      "EBA.PGE-ALL.TI.HL Total interchange for Portland General Electric Company (PGE), hourly - local time\n",
      "66286 [['20230302T00-08', -1811], ['20230301T23-08', -1860]] ['20150722T01-07', -861]\n",
      "\n",
      "3389908 Portland General Electric Company (PGE) ['EBA.PGE-ALL.DF.H', 'EBA.PGE-ALL.DF.HL']\n",
      "3389992 Portland General Electric Company (PGE) ['EBA.PGE-ALL.D.H', 'EBA.PGE-ALL.D.HL']\n",
      "3390077 Portland General Electric Company (PGE) ['EBA.PGE-ALL.NG.H', 'EBA.PGE-ALL.NG.HL']\n",
      "3390246 Portland General Electric Company (PGE) ['EBA.PGE-ALL.TI.H', 'EBA.PGE-ALL.TI.HL']\n",
      "2122599 Portland General Electric Company (PGE) ['EBA.PGE-BPAT.ID.H', 'EBA.PGE-BPAT.ID.HL', 'EBA.PGE-PACW.ID.H', 'EBA.PGE-PACW.ID.HL']\n",
      "3390162 Portland General Electric Company (PGE) ['EBA.PGE-ALL.NG.COL.H', 'EBA.PGE-ALL.NG.COL.HL', 'EBA.PGE-ALL.NG.NG.H', 'EBA.PGE-ALL.NG.NG.HL', 'EBA.PGE-ALL.NG.OTH.H', 'EBA.PGE-ALL.NG.OTH.HL', 'EBA.PGE-ALL.NG.WAT.H', 'EBA.PGE-ALL.NG.WAT.HL', 'EBA.PGE-ALL.NG.WND.H', 'EBA.PGE-ALL.NG.WND.HL']\n"
     ]
    }
   ],
   "source": [
    "for dat in all_data:\n",
    "    if 'series_id' in dat.keys():\n",
    "        print(dat['series_id'], dat['name'])\n",
    "        print(len(dat['data']), dat['data'][0:2], dat['data'][-1])\n",
    "        print()\n",
    "    else:\n",
    "        print(dat['category_id'], dat['name'], dat['childseries'])"
   ]
  },
  {
   "cell_type": "code",
   "execution_count": null,
   "id": "3ae26756-6b24-4d60-be5e-07c01169ba6a",
   "metadata": {
    "collapsed": false
   },
   "outputs": [],
   "source": [
    "- note that the transfers are not fully aligned for the most recent data?  I suspect some sort of reconciliation procedure\n",
    "clears that up?  Would need to look into that.  Useful for considering trades."
   ]
  },
  {
   "cell_type": "markdown",
   "id": "e6ec53f2-8716-44fb-8b63-553250652690",
   "metadata": {
    "collapsed": false
   },
   "source": [
    "So we have 4 big categories of data in this thing.  All series are provided with local time and global time variations.\n",
    "\n",
    "- Demand\n",
    "- Demand Forecast\n",
    "- Net Generation\n",
    "- Net Generation (by source) - Much less data\n",
    "- Total Interchange\n",
    "- Interchange with other ISOs\n",
    "\n",
    "- Around 8 years of data for demand/net generation.\n",
    "- Around 5 years for generation by source data.\n",
    "- Hourly resolution \n",
    "- Around 100 ISOs  (2850 series, 30 series per ISO, but variable interchanges).\n",
    "- 60k data points per series at hourly resolution."
   ]
  },
  {
   "cell_type": "markdown",
   "id": "74df09c9-270d-4b8f-ba68-fb5bb8431d74",
   "metadata": {
    "collapsed": false
   },
   "source": [
    "## Proposed SQL Table Structure - EBA\n",
    "\n",
    "- Our initial project is focused on the demand forecasting piece.  Let's just focus on the bulk attributes for now, and return later if need be for\n",
    " breakdowns by generation type\n",
    "\n",
    "### Options:\n",
    "1) 1 table per series (hard to look up) - Reject.\n",
    "\n",
    "2) 1 table per type (100 ISOs as columns).\n",
    "    - Demand (Time, PDX, BPA, CAISO, ...)\n",
    "    - Forecast (Time, PDX, BPA, CAISO, ...)\n",
    "    - Net Generation (Time, PDX, BPA, CAISO,...)\n",
    "    - Interchange(Time, P1, P2, Amount)\n",
    "\n",
    "3) 1 major table per ISO (around 30 sub-series)\n",
    "   -  PGE (Time, Demand, Forecast, Net Generation, COL, HYD, ..., PGE-BPA, PGE-PACW)\n",
    "   -  BPA (Time, Demand, Forecast, Net Generation, COL, HYD, ..., BPA-PGE, PGE-PACW)\n",
    "\n",
    "Leaning toward approach 3.  Better encapsulates system process.  Allows local time and UTC time\n",
    "Also leaning towards only including UTC time variations.\n",
    "\n",
    "- Need all series names (types of data)\n",
    "- Need all ISOs and transferes."
   ]
  },
  {
   "cell_type": "markdown",
   "id": "e8aee0a7-1911-4837-b447-8338dd060e42",
   "metadata": {
    "collapsed": false
   },
   "source": [
    "## Getting Metadata\n",
    "\n",
    "(Increasingly getting feeling that Mongo is the way to really handle this data)\n",
    "\n",
    "## EBA\n",
    "\n",
    "Want:\n",
    "- list of ISOs, names\n",
    "\n",
    "## Airports\n",
    "\n",
    "I think the `merge_air_df` is probably already close to what we want: mapping from id to name/region.\n"
   ]
  },
  {
   "cell_type": "code",
   "execution_count": 22,
   "id": "d8c31d97-6d30-4d34-8fcc-097553ed504a",
   "metadata": {
    "collapsed": false
   },
   "outputs": [
    {
     "name": "stdout",
     "output_type": "stream",
     "text": [
      "{\"category_id\":\"2122627\",\"parent_category_id\":\"2123635\",\"name\":\"Day-ahead demand forecast\",\"notes\":\"\",\"childseries\":[]}\r",
      "\r\n",
      "{\"category_id\":\"3389848\",\"parent_category_id\":\"2122627\",\"name\":\"U.S.\",\"notes\":\"\",\"childseries\":[]}\r",
      "\r\n",
      "{\"category_id\":\"3389851\",\"parent_category_id\":\"3389848\",\"name\":\"United States Lower 48 (US48)\",\"notes\":\"\",\"childseries\":[\"EBA.US48-ALL.DF.H\",\"EBA.US48-ALL.DF.HL\"]}\r",
      "\r\n",
      "{\"category_id\":\"3389849\",\"parent_category_id\":\"2122627\",\"name\":\"Regions\",\"notes\":\"\",\"childseries\":[]}\r",
      "\r\n",
      "{\"category_id\":\"3389852\",\"parent_category_id\":\"3389849\",\"name\":\"California (CAL)\",\"notes\":\"\",\"childseries\":[\"EBA.CAL-ALL.DF.H\",\"EBA.CAL-ALL.DF.HL\"]}\r",
      "\r\n",
      "{\"category_id\":\"3389853\",\"parent_category_id\":\"3389849\",\"name\":\"Carolinas (CAR)\",\"notes\":\"\",\"childseries\":[\"EBA.CAR-ALL.DF.H\",\"EBA.CAR-ALL.DF.HL\"]}\r",
      "\r\n",
      "{\"category_id\":\"3389854\",\"parent_category_id\":\"3389849\",\"name\":\"Central (CENT)\",\"notes\":\"\",\"childseries\":[\"EBA.CENT-ALL.DF.H\",\"EBA.CENT-ALL.DF.HL\"]}\r",
      "\r\n",
      "{\"category_id\":\"3389855\",\"parent_category_id\":\"3389849\",\"name\":\"Florida (FLA)\",\"notes\":\"\",\"childseries\":[\"EBA.FLA-ALL.DF.H\",\"EBA.FLA-ALL.DF.HL\"]}\r",
      "\r\n",
      "{\"category_id\":\"3389856\",\"parent_category_id\":\"3389849\",\"name\":\"Mid-Atlantic (MIDA)\",\"notes\":\"\",\"childseries\":[\"EBA.MIDA-ALL.DF.H\",\"EBA.MIDA-ALL.DF.HL\"]}\r",
      "\r\n",
      "{\"category_id\":\"3389857\",\"parent_category_id\":\"3389849\",\"name\":\"Midwest (MIDW)\",\"notes\":\"\",\"childseries\":[\"EBA.MIDW-ALL.DF.H\",\"EBA.MIDW-ALL.DF.HL\"]}\r",
      "\r\n"
     ]
    }
   ],
   "source": [
    "! head /tf/data/EBA/EBA20230302/metaseries.txt"
   ]
  },
  {
   "cell_type": "code",
   "execution_count": 4,
   "id": "e7186d85-1556-47a1-b548-f3f83aa6f4a5",
   "metadata": {
    "collapsed": false
   },
   "outputs": [],
   "source": [
    "import pandas as pd\n",
    "\n",
    "# grep -r category_id EBA.txt > metaseries.txt\n",
    "fn = '/tf/data/EBA/EBA20230302/metaseries.txt'\n",
    "meta_df = pd.read_json(fn, lines=True)"
   ]
  },
  {
   "cell_type": "code",
   "execution_count": 10,
   "id": "89e665d9-b033-4739-be30-d5b2a0f9ea6d",
   "metadata": {
    "collapsed": false
   },
   "outputs": [
    {
     "data": {
      "text/plain": [
       "category_id                                         4670478\n",
       "parent_category_id                                  3389849\n",
       "name                                        Tennessee (TEN)\n",
       "notes                                                      \n",
       "childseries           [EBA.TEN-ALL.DF.H, EBA.TEN-ALL.DF.HL]\n",
       "Name: 19, dtype: object"
      ]
     },
     "execution_count": 10,
     "metadata": {},
     "output_type": "execute_result"
    }
   ],
   "source": [
    "meta_df.loc[19]"
   ]
  },
  {
   "cell_type": "code",
   "execution_count": 6,
   "id": "8d911e94-e75f-46f0-bf54-9bf0eda8be8d",
   "metadata": {
    "collapsed": false
   },
   "outputs": [],
   "source": [
    "import re"
   ]
  },
  {
   "cell_type": "code",
   "execution_count": 7,
   "id": "bf946317-ed49-4b03-a3cc-27b904b33881",
   "metadata": {
    "collapsed": false
   },
   "outputs": [],
   "source": [
    "\n",
    "def parse_metadata(df):\n",
    "    \"\"\"Grab names, abbreviations and category ids\"\"\"\n",
    "    parent_map = {}\n",
    "    iso_map = {}\n",
    "    for _, row in df.iterrows():\n",
    "        if '(' in row['name']:\n",
    "            tokens = re.findall('(\\w+)', row['name'])\n",
    "            name = ' '.join(tokens[:-1])\n",
    "            abbrv = tokens[-1]\n",
    "            if abbrv == abbrv.upper():\n",
    "                iso_map[abbrv] = name\n",
    "            \n",
    "        #for ch in row.childseries\n",
    "    return iso_map"
   ]
  },
  {
   "cell_type": "code",
   "execution_count": 8,
   "id": "97d53a56-4a17-44a9-b20b-e8b5946229ee",
   "metadata": {
    "collapsed": false
   },
   "outputs": [
    {
     "name": "stdout",
     "output_type": "stream",
     "text": [
      "Automatic pdb calling has been turned OFF\n"
     ]
    }
   ],
   "source": [
    "%pdb off\n",
    "iso_map = parse_metadata(meta_df)"
   ]
  },
  {
   "cell_type": "code",
   "execution_count": 9,
   "id": "4295cc86-2891-4b54-bfd3-1af50444aec0",
   "metadata": {
    "collapsed": false
   },
   "outputs": [
    {
     "data": {
      "text/plain": [
       "82"
      ]
     },
     "execution_count": 9,
     "metadata": {},
     "output_type": "execute_result"
    }
   ],
   "source": [
    "len(iso_map)"
   ]
  },
  {
   "cell_type": "code",
   "execution_count": 28,
   "id": "627b965f-201c-44f3-a418-a691d3bdf906",
   "metadata": {
    "collapsed": false
   },
   "outputs": [
    {
     "data": {
      "text/plain": [
       "'/tf/data/EBA/EBA20230302_iso_map.json'"
      ]
     },
     "execution_count": 28,
     "metadata": {},
     "output_type": "execute_result"
    }
   ],
   "source": [
    "save_iso_names(iso_map)"
   ]
  },
  {
   "cell_type": "code",
   "execution_count": 29,
   "id": "c40a8f30-ea9c-4937-9dca-f435fdfe6688",
   "metadata": {
    "collapsed": false
   },
   "outputs": [],
   "source": [
    "i2 = load_iso_names()"
   ]
  },
  {
   "cell_type": "code",
   "execution_count": 14,
   "id": "cdd29a97-ac00-4ac3-bc6d-7f37829c6040",
   "metadata": {
    "collapsed": false
   },
   "outputs": [],
   "source": [
    "from us_elec.SQL.sqldriver import EBAMeta"
   ]
  },
  {
   "cell_type": "code",
   "execution_count": 15,
   "id": "a985245b-84d5-4830-96f5-afe97a3e485e",
   "metadata": {
    "collapsed": false
   },
   "outputs": [],
   "source": [
    "ebm = EBAMeta()"
   ]
  },
  {
   "cell_type": "code",
   "execution_count": 38,
   "id": "e6b48e8e-6b99-42db-9714-7f980cdc7cac",
   "metadata": {
    "collapsed": false
   },
   "outputs": [],
   "source": [
    "ebm.extract_meta_data()"
   ]
  },
  {
   "cell_type": "code",
   "execution_count": 48,
   "id": "b04803b3-46f2-4aa5-9648-386d7399af68",
   "metadata": {
    "collapsed": false
   },
   "outputs": [
    {
     "data": {
      "text/plain": [
       "'/tf/data/EBA/EBA20230302/iso_name_file.json'"
      ]
     },
     "execution_count": 48,
     "metadata": {},
     "output_type": "execute_result"
    }
   ],
   "source": [
    "ebm.save_iso_dict_json()\n"
   ]
  },
  {
   "cell_type": "code",
   "execution_count": 50,
   "id": "a4fbf546-5719-438b-b772-1ce8cf8b2134",
   "metadata": {
    "collapsed": false
   },
   "outputs": [
    {
     "data": {
      "text/plain": [
       "{'US48': 'United States Lower 48',\n",
       " 'CAL': 'California',\n",
       " 'CAR': 'Carolinas',\n",
       " 'CENT': 'Central',\n",
       " 'FLA': 'Florida',\n",
       " 'MIDA': 'Mid Atlantic',\n",
       " 'MIDW': 'Midwest',\n",
       " 'NW': 'Northwest',\n",
       " 'SE': 'Southeast',\n",
       " 'SW': 'Southwest',\n",
       " 'ERCO': 'Electric Reliability Council of Texas Inc',\n",
       " 'ISNE': 'ISO New England',\n",
       " 'NYIS': 'New York Independent System Operator',\n",
       " 'TVA': 'Tennessee Valley Authority',\n",
       " 'NE': 'New England',\n",
       " 'NY': 'New York',\n",
       " 'TEN': 'Tennessee',\n",
       " 'TEX': 'Texas',\n",
       " 'AZPS': 'Arizona Public Service Company',\n",
       " 'AECI': 'Associated Electric Cooperative Inc',\n",
       " 'AVA': 'Avista Corporation',\n",
       " 'BANC': 'Balancing Authority of Northern California',\n",
       " 'BPAT': 'Bonneville Power Administration',\n",
       " 'CISO': 'California Independent System Operator',\n",
       " 'HST': 'City of Homestead',\n",
       " 'TPWR': 'City of Tacoma Department of Public Utilities Light Division',\n",
       " 'TAL': 'City of Tallahassee',\n",
       " 'DUK': 'Duke Energy Carolinas',\n",
       " 'FPC': 'Duke Energy Florida Inc',\n",
       " 'CPLE': 'Duke Energy Progress East',\n",
       " 'CPLW': 'Duke Energy Progress West',\n",
       " 'EPE': 'El Paso Electric Company',\n",
       " 'FMPP': 'Florida Municipal Power Pool',\n",
       " 'FPL': 'Florida Power Light Co',\n",
       " 'GVL': 'Gainesville Regional Utilities',\n",
       " 'IPCO': 'Idaho Power Company',\n",
       " 'IID': 'Imperial Irrigation District',\n",
       " 'JEA': 'JEA',\n",
       " 'LDWP': 'Los Angeles Department of Water and Power',\n",
       " 'LGEE': 'Louisville Gas and Electric Company and Kentucky Utilities Company',\n",
       " 'MISO': 'Midcontinent Independent System Operator Inc',\n",
       " 'NEVP': 'Nevada Power Company',\n",
       " 'NWMT': 'NorthWestern Corporation',\n",
       " 'OVEC': 'Ohio Valley Electric Corporation',\n",
       " 'PJM': 'PJM Interconnection LLC',\n",
       " 'DOPD': 'PUD No 1 of Douglas County',\n",
       " 'PACE': 'PacifiCorp East',\n",
       " 'PACW': 'PacifiCorp West',\n",
       " 'PGE': 'Portland General Electric Company',\n",
       " 'AEC': 'PowerSouth Energy Cooperative',\n",
       " 'PSCO': 'Public Service Company of Colorado',\n",
       " 'PNM': 'Public Service Company of New Mexico',\n",
       " 'CHPD': 'Public Utility District No 1 of Chelan County',\n",
       " 'GCPD': 'Public Utility District No 2 of Grant County Washington',\n",
       " 'PSEI': 'Puget Sound Energy Inc',\n",
       " 'SRP': 'Salt River Project Agricultural Improvement and Power District',\n",
       " 'SCL': 'Seattle City Light',\n",
       " 'SEC': 'Seminole Electric Cooperative',\n",
       " 'SCEG': 'Dominion Energy South Carolina Inc',\n",
       " 'SC': 'South Carolina Public Service Authority',\n",
       " 'SOCO': 'Southern Company Services Inc Trans',\n",
       " 'SWPP': 'Southwest Power Pool',\n",
       " 'SPA': 'Southwestern Power Administration',\n",
       " 'TEC': 'Tampa Electric Company',\n",
       " 'TEPC': 'Tucson Electric Power',\n",
       " 'TIDC': 'Turlock Irrigation District',\n",
       " 'NSB': 'Utilities Commission of New Smyrna Beach',\n",
       " 'WALC': 'Western Area Power Administration Desert Southwest Region',\n",
       " 'WACM': 'Western Area Power Administration Rocky Mountain Region',\n",
       " 'WAUW': 'Western Area Power Administration Upper Great Plains West',\n",
       " 'YAD': 'Alcoa Power Generating Inc Yadkin Division',\n",
       " 'DEAA': 'Arlington Valley LLC',\n",
       " 'AVRN': 'Avangrid Renewables LLC',\n",
       " 'EEI': 'Electric Energy Inc',\n",
       " 'GRMA': 'Gila River Power LLC',\n",
       " 'GRID': 'Gridforce Energy Management LLC',\n",
       " 'GRIF': 'Griffith Energy LLC',\n",
       " 'GWA': 'NaturEner Power Watch LLC',\n",
       " 'WWA': 'NaturEner Wind Watch LLC',\n",
       " 'HGMA': 'New Harquahala Generating Company LLC',\n",
       " 'SEPA': 'Southeastern Power Administration',\n",
       " 'GLHB': 'GridLiance'}"
      ]
     },
     "execution_count": 50,
     "metadata": {},
     "output_type": "execute_result"
    }
   ],
   "source": [
    "ebm.load_iso_dict_json()"
   ]
  },
  {
   "cell_type": "code",
   "execution_count": null,
   "id": "6036af1e-ac73-4695-b399-b30adb97c366",
   "metadata": {
    "collapsed": false
   },
   "outputs": [],
   "source": [
    "# TODO:\n",
    "1. get metadata\n",
    "2. create weather tables\n",
    "3. populate tables"
   ]
  },
  {
   "cell_type": "markdown",
   "id": "1f40e79c-ea78-453f-bb2b-4ef4feaa0f1f",
   "metadata": {
    "collapsed": false
   },
   "source": [
    "### Saving Airport Metadata\n",
    "\n",
    "From `airport_play.ipynb` which downloaded all that data we have the merge_df which merged city and location information\n",
    "with callsign info.\n"
   ]
  },
  {
   "cell_type": "code",
   "execution_count": 51,
   "id": "a11bca5d-c4aa-4dec-a8a4-b4c645f580dd",
   "metadata": {
    "collapsed": false
   },
   "outputs": [],
   "source": [
    "from us_elec.SQL.sqldriver import AirMeta"
   ]
  },
  {
   "cell_type": "code",
   "execution_count": 54,
   "id": "2fe1f1a0-e607-4a54-ab22-a2002e4cccf9",
   "metadata": {
    "collapsed": false
   },
   "outputs": [],
   "source": [
    "am = AirMeta()"
   ]
  },
  {
   "cell_type": "code",
   "execution_count": 64,
   "id": "36a6613e-b59d-40af-8a05-2ac9a7fd1b37",
   "metadata": {
    "collapsed": false
   },
   "outputs": [],
   "source": [
    "df = am.get_air_meta_df()"
   ]
  },
  {
   "cell_type": "code",
   "execution_count": 65,
   "id": "14b5a26e-0011-42d9-a1f0-85ae2d92f852",
   "metadata": {
    "collapsed": false
   },
   "outputs": [
    {
     "data": {
      "text/html": [
       "<div>\n",
       "<style scoped>\n",
       "    .dataframe tbody tr th:only-of-type {\n",
       "        vertical-align: middle;\n",
       "    }\n",
       "\n",
       "    .dataframe tbody tr th {\n",
       "        vertical-align: top;\n",
       "    }\n",
       "\n",
       "    .dataframe thead th {\n",
       "        text-align: right;\n",
       "    }\n",
       "</style>\n",
       "<table border=\"1\" class=\"dataframe\">\n",
       "  <thead>\n",
       "    <tr style=\"text-align: right;\">\n",
       "      <th></th>\n",
       "      <th>name</th>\n",
       "      <th>City</th>\n",
       "      <th>CALL</th>\n",
       "      <th>USAF</th>\n",
       "      <th>WBAN</th>\n",
       "      <th>LAT</th>\n",
       "      <th>LON</th>\n",
       "      <th>ST</th>\n",
       "    </tr>\n",
       "  </thead>\n",
       "  <tbody>\n",
       "    <tr>\n",
       "      <th>749</th>\n",
       "      <td>Warren \"Bud\" Woods Palmer Municipal Airport</td>\n",
       "      <td>Palmer</td>\n",
       "      <td>PAAQ</td>\n",
       "      <td>702740</td>\n",
       "      <td>25331</td>\n",
       "      <td>61.596</td>\n",
       "      <td>-149.092</td>\n",
       "      <td>AK</td>\n",
       "    </tr>\n",
       "    <tr>\n",
       "      <th>750</th>\n",
       "      <td>Barter Island LRRS Airport</td>\n",
       "      <td>Barter Island Lrrs</td>\n",
       "      <td>PABA</td>\n",
       "      <td>700860</td>\n",
       "      <td>27401</td>\n",
       "      <td>70.134</td>\n",
       "      <td>-143.577</td>\n",
       "      <td>AK</td>\n",
       "    </tr>\n",
       "    <tr>\n",
       "      <th>751</th>\n",
       "      <td>Bethel Airport</td>\n",
       "      <td>Bethel</td>\n",
       "      <td>PABE</td>\n",
       "      <td>702190</td>\n",
       "      <td>26615</td>\n",
       "      <td>60.785</td>\n",
       "      <td>-161.829</td>\n",
       "      <td>AK</td>\n",
       "    </tr>\n",
       "    <tr>\n",
       "      <th>752</th>\n",
       "      <td>Allen Army Airfield</td>\n",
       "      <td>Delta Junction Ft Greely</td>\n",
       "      <td>PABI</td>\n",
       "      <td>702670</td>\n",
       "      <td>26415</td>\n",
       "      <td>63.994</td>\n",
       "      <td>-145.721</td>\n",
       "      <td>AK</td>\n",
       "    </tr>\n",
       "    <tr>\n",
       "      <th>753</th>\n",
       "      <td>Buckland Airport</td>\n",
       "      <td>Buckland</td>\n",
       "      <td>PABL</td>\n",
       "      <td>700632</td>\n",
       "      <td>26645</td>\n",
       "      <td>65.983</td>\n",
       "      <td>-161.133</td>\n",
       "      <td>AK</td>\n",
       "    </tr>\n",
       "    <tr>\n",
       "      <th>...</th>\n",
       "      <td>...</td>\n",
       "      <td>...</td>\n",
       "      <td>...</td>\n",
       "      <td>...</td>\n",
       "      <td>...</td>\n",
       "      <td>...</td>\n",
       "      <td>...</td>\n",
       "      <td>...</td>\n",
       "    </tr>\n",
       "    <tr>\n",
       "      <th>597</th>\n",
       "      <td>Riverton Regional Airport</td>\n",
       "      <td>Riverton</td>\n",
       "      <td>KRIW</td>\n",
       "      <td>726720</td>\n",
       "      <td>24061</td>\n",
       "      <td>43.064</td>\n",
       "      <td>-108.459</td>\n",
       "      <td>WY</td>\n",
       "    </tr>\n",
       "    <tr>\n",
       "      <th>598</th>\n",
       "      <td>Southwest Wyoming Regional Airport</td>\n",
       "      <td>Rock Springs</td>\n",
       "      <td>KRKS</td>\n",
       "      <td>725744</td>\n",
       "      <td>24027</td>\n",
       "      <td>41.595</td>\n",
       "      <td>-109.053</td>\n",
       "      <td>WY</td>\n",
       "    </tr>\n",
       "    <tr>\n",
       "      <th>614</th>\n",
       "      <td>Rawlins Municipal Airport/Harvey Field</td>\n",
       "      <td>Rawlins</td>\n",
       "      <td>KRWL</td>\n",
       "      <td>726690</td>\n",
       "      <td>24057</td>\n",
       "      <td>41.800</td>\n",
       "      <td>-107.200</td>\n",
       "      <td>WY</td>\n",
       "    </tr>\n",
       "    <tr>\n",
       "      <th>642</th>\n",
       "      <td>Sheridan County Airport</td>\n",
       "      <td>Sheridan</td>\n",
       "      <td>KSHR</td>\n",
       "      <td>726660</td>\n",
       "      <td>24029</td>\n",
       "      <td>44.769</td>\n",
       "      <td>-106.969</td>\n",
       "      <td>WY</td>\n",
       "    </tr>\n",
       "    <tr>\n",
       "      <th>737</th>\n",
       "      <td>Worland Municipal Airport</td>\n",
       "      <td>Worland</td>\n",
       "      <td>KWRL</td>\n",
       "      <td>726665</td>\n",
       "      <td>24062</td>\n",
       "      <td>43.966</td>\n",
       "      <td>-107.951</td>\n",
       "      <td>WY</td>\n",
       "    </tr>\n",
       "  </tbody>\n",
       "</table>\n",
       "<p>844 rows × 8 columns</p>\n",
       "</div>"
      ],
      "text/plain": [
       "                                            name                      City  \\\n",
       "749  Warren \"Bud\" Woods Palmer Municipal Airport                    Palmer   \n",
       "750                   Barter Island LRRS Airport        Barter Island Lrrs   \n",
       "751                               Bethel Airport                    Bethel   \n",
       "752                          Allen Army Airfield  Delta Junction Ft Greely   \n",
       "753                             Buckland Airport                  Buckland   \n",
       "..                                           ...                       ...   \n",
       "597                    Riverton Regional Airport                  Riverton   \n",
       "598           Southwest Wyoming Regional Airport              Rock Springs   \n",
       "614       Rawlins Municipal Airport/Harvey Field                   Rawlins   \n",
       "642                      Sheridan County Airport                  Sheridan   \n",
       "737                    Worland Municipal Airport                   Worland   \n",
       "\n",
       "     CALL    USAF   WBAN     LAT      LON  ST  \n",
       "749  PAAQ  702740  25331  61.596 -149.092  AK  \n",
       "750  PABA  700860  27401  70.134 -143.577  AK  \n",
       "751  PABE  702190  26615  60.785 -161.829  AK  \n",
       "752  PABI  702670  26415  63.994 -145.721  AK  \n",
       "753  PABL  700632  26645  65.983 -161.133  AK  \n",
       "..    ...     ...    ...     ...      ...  ..  \n",
       "597  KRIW  726720  24061  43.064 -108.459  WY  \n",
       "598  KRKS  725744  24027  41.595 -109.053  WY  \n",
       "614  KRWL  726690  24057  41.800 -107.200  WY  \n",
       "642  KSHR  726660  24029  44.769 -106.969  WY  \n",
       "737  KWRL  726665  24062  43.966 -107.951  WY  \n",
       "\n",
       "[844 rows x 8 columns]"
      ]
     },
     "execution_count": 65,
     "metadata": {},
     "output_type": "execute_result"
    }
   ],
   "source": [
    "df.sort_values(['ST', 'CALL'])"
   ]
  },
  {
   "cell_type": "code",
   "execution_count": 66,
   "id": "c1f641db-8e1b-4ffe-b9fa-1461870f7b8d",
   "metadata": {
    "collapsed": false
   },
   "outputs": [],
   "source": [
    "am.save_callsigns()"
   ]
  },
  {
   "cell_type": "code",
   "execution_count": 68,
   "id": "f1ebaff3-1137-4731-aa09-3b08c079cd77",
   "metadata": {
    "collapsed": false
   },
   "outputs": [],
   "source": [
    "am.load_callsigns()"
   ]
  },
  {
   "cell_type": "code",
   "execution_count": null,
   "id": "e18c3c3f-43c4-4f1d-8f58-5145ca04543b",
   "metadata": {
    "collapsed": false
   },
   "outputs": [],
   "source": []
  },
  {
   "cell_type": "code",
   "execution_count": 4,
   "id": "7d384201-cd17-47e8-ba4f-865c7c956ab8",
   "metadata": {
    "collapsed": false
   },
   "outputs": [],
   "source": [
    "from us_elec.SQL.sqldriver import SQLDriver"
   ]
  },
  {
   "cell_type": "code",
   "execution_count": 5,
   "id": "21e8e4aa-bad0-4e9f-8596-74f015e841f0",
   "metadata": {
    "collapsed": false
   },
   "outputs": [],
   "source": [
    "sqldriver = SQLDriver()"
   ]
  },
  {
   "cell_type": "code",
   "execution_count": null,
   "id": "1df42884-10a9-4e61-8f99-0ae4a0b118bd",
   "metadata": {
    "collapsed": false
   },
   "outputs": [],
   "source": [
    "st = sqldriver._get_"
   ]
  }
 ],
 "metadata": {
  "kernelspec": {
   "argv": [
    "/usr/bin/python3",
    "-m",
    "ipykernel_launcher",
    "-f",
    "{connection_file}"
   ],
   "display_name": "Python 3",
   "env": null,
   "interrupt_mode": "signal",
   "language": "python",
   "metadata": null,
   "name": "python3"
  },
  "language_info": {
   "codemirror_mode": {
    "name": "ipython",
    "version": 3
   },
   "file_extension": ".py",
   "mimetype": "text/x-python",
   "name": "python",
   "nbconvert_exporter": "python",
   "pygments_lexer": "ipython3",
   "version": "3.8.10"
  },
  "name": "EBA_DataIngestion.ipynb"
 },
 "nbformat": 4,
 "nbformat_minor": 5
}
