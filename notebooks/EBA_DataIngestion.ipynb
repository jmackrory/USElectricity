{
 "cells": [
  {
   "cell_type": "markdown",
   "id": "1f7bdc2d-0945-4955-aaf9-aef8f553cae7",
   "metadata": {
    "collapsed": false
   },
   "source": [
    "# EBA Data Ingestion\n",
    "\n",
    "We need to collect data from two main sources for this project:\n",
    " - First is loading the EBA data into the SQL DB\n",
    " - Second is getting the real weather data from NOAA based off Weather stations.   \n",
    "   This is done via FTP using `code/utils/get_weather_data.py` for the relevant time periods.\n",
    " - (Third would be accessing NOAA's forecast DB.)\n",
    "\n",
    " In all cases we will be loading the data into a Postgres Database for easier querying later.  \n"
   ]
  },
  {
   "cell_type": "code",
   "execution_count": null,
   "id": "642871af-e81c-4404-9cfd-24715913d5e7",
   "metadata": {
    "collapsed": false
   },
   "outputs": [],
   "source": []
  },
  {
   "cell_type": "markdown",
   "id": "858272bf-12f1-4178-bf49-601b5a0cddbc",
   "metadata": {
    "collapsed": false
   },
   "source": [
    "# Library Sketch and Table Sketch \n",
    "\n",
    "- 560 MB of weather station data\n",
    "- 2.8GB of Energy data\n",
    "- 5GB of forecast data  (could try to only extract station data)\n",
    "\n",
    "Energy data x 100 ISOs\n",
    "- Demand\n",
    "- Demand Forecast\n",
    "- Net Generation\n",
    "    (by source)\n",
    "- Transfers\n",
    "\n",
    "Weather x 600 stations\n",
    "- Temp\n",
    "- Cloud cover\n",
    "- Precipitation\n",
    "\n",
    "Forecast\n",
    "- Temp (gridded 24 hour forecast) of CONUS.  Probably don't want in DB.\n",
    "- include file ref.\n",
    "- Try to find nearest forecast pixel for all airports.\n",
    "\n",
    "Given we want to think about a whole system forecast, we can live with having a few big tables separated by variable.\n",
    "Use UTC time variables to allow a common index and forecast.\n",
    "\n",
    "Demand Table\n",
    "    id, \n",
    "    datetime\n",
    "    iso1,\n",
    "    iso2,\n",
    "    ...\n",
    "    index on datetime\n",
    "\n",
    "Forecast Table\n",
    "    \"\"\n",
    "\n",
    "Net Generation (*)\n",
    "    \" \" \n",
    "(same for sub-sources)\n",
    "\n",
    "Transfers  (*)\n",
    "   id, \n",
    "   datetime\n",
    "   iso1,\n",
    "   iso2,\n",
    "   amount\n",
    "   index on datetime, \n",
    "\n",
    "AirMeta\n",
    "   id\n",
    "   station_name\n",
    "   lat\n",
    "   long\n",
    "   region\n",
    "   city\n",
    "   state\n",
    "   \n",
    "Temperature\n",
    "   id, \n",
    "   datetime\n",
    "   st1,\n",
    "   st2,\n",
    "   ...\n",
    "   \n",
    "   "
   ]
  },
  {
   "cell_type": "code",
   "execution_count": 2,
   "id": "9c3de7db-55fc-44c8-b6ce-983c066fde34",
   "metadata": {
    "collapsed": false
   },
   "outputs": [],
   "source": [
    "import os\n",
    "import sys"
   ]
  },
  {
   "cell_type": "code",
   "execution_count": 6,
   "id": "db8c7886-f25a-45cd-acd6-04d5f1a9f69c",
   "metadata": {
    "collapsed": false
   },
   "outputs": [
    {
     "ename": "AttributeError",
     "evalue": "module 'sys' has no attribute 'run'",
     "output_type": "error",
     "traceback": [
      "\u001b[0;31m---------------------------------------------------------------------------\u001b[0m",
      "\u001b[0;31mAttributeError\u001b[0m                            Traceback (most recent call last)",
      "Cell \u001b[0;32mIn [6], line 1\u001b[0m\n\u001b[0;32m----> 1\u001b[0m \u001b[43msys\u001b[49m\u001b[38;5;241;43m.\u001b[39;49m\u001b[43mrun\u001b[49m\n",
      "\u001b[0;31mAttributeError\u001b[0m: module 'sys' has no attribute 'run'"
     ]
    }
   ],
   "source": [
    "sys.run"
   ]
  },
  {
   "cell_type": "code",
   "execution_count": 9,
   "id": "c3842681-9405-4fda-a4e8-93e90992ded8",
   "metadata": {
    "collapsed": false
   },
   "outputs": [
    {
     "name": "stdout",
     "output_type": "stream",
     "text": [
      "The autoreload extension is already loaded. To reload it, use:\n",
      "  %reload_ext autoreload\n"
     ]
    }
   ],
   "source": [
    "if '/tf' not in sys.path:\n",
    "    sys.path.append('/tf/')\n",
    "\n",
    "%load_ext autoreload\n",
    "%autoreload 2"
   ]
  },
  {
   "cell_type": "code",
   "execution_count": 11,
   "id": "d0c3a17c-6975-4fe3-bda5-c6b1daf4c41b",
   "metadata": {
    "collapsed": false
   },
   "outputs": [],
   "source": [
    "from us_elec.SQL.sqldriver import SQLDriver"
   ]
  },
  {
   "cell_type": "code",
   "execution_count": 12,
   "id": "871d5349-dfdb-40fd-a9f0-d214ac15f9ef",
   "metadata": {
    "collapsed": false
   },
   "outputs": [],
   "source": [
    "sqld = SQLDriver()"
   ]
  },
  {
   "cell_type": "code",
   "execution_count": 6,
   "id": "63bf3b68-811d-4e42-94c9-d7b13b2041c6",
   "metadata": {
    "collapsed": false
   },
   "outputs": [],
   "source": [
    "#sqld.get_data('SELECT * FROM information_schema.tables;')"
   ]
  },
  {
   "cell_type": "markdown",
   "id": "64ecac1b-0f49-4474-acb3-c6ceb8af2737",
   "metadata": {
    "collapsed": false
   },
   "source": []
  },
  {
   "cell_type": "markdown",
   "id": "c009c926-2aaf-453c-a529-56aa28c51a36",
   "metadata": {
    "collapsed": false
   },
   "source": [
    "# Bulk EBA data import\n",
    "\n",
    "The EBA data can be downloaded from `https://www.eia.gov/opendata/bulk/EBA.zip`.\n",
    "As of Mar 6, 2023 it's around 2.8 GB, with around 2800 child series, stored in one JSONLines files.\n",
    "\n",
    "That's downloaded to data/EBA/20230302.  \n",
    "For initial quick exploration we you can grep out 'California' and 'Portland' series to \n"
   ]
  },
  {
   "cell_type": "markdown",
   "id": "3c67dd54-162f-40e0-a5bd-f656e5733c09",
   "metadata": {
    "collapsed": false
   },
   "source": [
    "- grepped out all Portland files and California files for a smaller subset of data to play with while cleaning\n",
    "up the ETL work\n",
    "  `grep -r \"Portland\" EBA.txt > EBA_PDX.txt`\n",
    "  `grep -r \"California\" EBA.txt > EBA_CA.txt`\n",
    "  "
   ]
  },
  {
   "cell_type": "code",
   "execution_count": 15,
   "id": "f0513cec-dfe2-446b-b057-5fbb38f34213",
   "metadata": {
    "collapsed": false
   },
   "outputs": [],
   "source": [
    "import json\n",
    "import jsonlines\n",
    "import re\n",
    "from tqdm import tqdm\n",
    "\n",
    "def read_eba_txt(fn:str, N:int=None, name_lookup:str=None):\n",
    "    \"\"\"Read in all JSON from Lines file.\n",
    "\n",
    "    Args:\n",
    "    N - maximum number of lines to read in\n",
    "    name_lookup - optional string to search for.  \n",
    "    Return:\n",
    "    List of dicts\n",
    "    \"\"\"\n",
    "    count = 0\n",
    "    data = []\n",
    "\n",
    "    #name_reg = re.compile(f'{name_lookup}') if name_lookup else None\n",
    "    with jsonlines.open(fn, 'r') as fh:\n",
    "        for obj in tqdm(fh):\n",
    "            #print(obj.get('series_id'), obj.get('name'))\n",
    "\n",
    "            if name_lookup:\n",
    "                if name_lookup.lower() in obj.get('name').lower():\n",
    "                    print(f\"HIT! {obj['name']}\")\n",
    "                    data.append(obj)\n",
    "                    \n",
    "            else:\n",
    "                data.append(obj)\n",
    "            if N and len(data) >= N:\n",
    "                break\n",
    "    return data\n"
   ]
  },
  {
   "cell_type": "markdown",
   "id": "4b9a21b1-049b-42e9-b38b-32d161f05a01",
   "metadata": {
    "collapsed": false
   },
   "source": [
    "- This eats a LOT of ram on it's own for all files.  \n",
    "- Probably best to ETL one at a time.  Even in dict form it's eating around 20GB of RAM."
   ]
  },
  {
   "cell_type": "code",
   "execution_count": 17,
   "id": "74edf2c5-37a1-464d-93c3-9a971ea77b8d",
   "metadata": {
    "collapsed": false
   },
   "outputs": [],
   "source": [
    "eba_path = '/tf/data/EBA/EBA20230302'\n",
    "fname = f'{eba_path}/EBA_PDX.txt'"
   ]
  },
  {
   "cell_type": "code",
   "execution_count": 18,
   "id": "bdf0aa0c-49bc-48dc-9a29-569804c9ad89",
   "metadata": {
    "collapsed": false
   },
   "outputs": [
    {
     "name": "stderr",
     "output_type": "stream",
     "text": [
      "\r",
      "0it [00:00, ?it/s]"
     ]
    },
    {
     "name": "stderr",
     "output_type": "stream",
     "text": [
      "\r",
      "2it [00:00, 14.24it/s]"
     ]
    },
    {
     "name": "stderr",
     "output_type": "stream",
     "text": [
      "\r",
      "4it [00:00, 16.70it/s]"
     ]
    },
    {
     "name": "stderr",
     "output_type": "stream",
     "text": [
      "\r",
      "6it [00:00, 13.36it/s]"
     ]
    },
    {
     "name": "stderr",
     "output_type": "stream",
     "text": [
      "\r",
      "8it [00:00, 13.97it/s]"
     ]
    },
    {
     "name": "stderr",
     "output_type": "stream",
     "text": [
      "\r",
      "11it [00:00, 15.24it/s]"
     ]
    },
    {
     "name": "stderr",
     "output_type": "stream",
     "text": [
      "\r",
      "16it [00:00, 19.11it/s]"
     ]
    },
    {
     "name": "stderr",
     "output_type": "stream",
     "text": [
      "\r",
      "22it [00:01, 20.55it/s]"
     ]
    },
    {
     "name": "stderr",
     "output_type": "stream",
     "text": [
      "\r",
      "32it [00:01, 24.78it/s]"
     ]
    },
    {
     "name": "stderr",
     "output_type": "stream",
     "text": [
      "\n"
     ]
    }
   ],
   "source": [
    "all_data = read_eba_txt(fname)"
   ]
  },
  {
   "cell_type": "code",
   "execution_count": 19,
   "id": "c68a524a-15e0-41e3-b721-a47d701f8b1a",
   "metadata": {
    "collapsed": false
   },
   "outputs": [
    {
     "data": {
      "text/plain": [
       "32"
      ]
     },
     "execution_count": 19,
     "metadata": {},
     "output_type": "execute_result"
    }
   ],
   "source": [
    "len(all_data)"
   ]
  },
  {
   "cell_type": "code",
   "execution_count": 20,
   "id": "eafa65c5-90df-4d0f-94d1-1fbe16ade96f",
   "metadata": {
    "collapsed": false
   },
   "outputs": [
    {
     "name": "stdout",
     "output_type": "stream",
     "text": [
      "EBA.PGE-ALL.D.H Demand for Portland General Electric Company (PGE), hourly - UTC time\n",
      "66520 [['20230302T22Z', 2957], ['20230302T21Z', 3050]] ['20150722T08Z', 1936]\n",
      "\n",
      "EBA.PGE-ALL.D.HL Demand for Portland General Electric Company (PGE), hourly - local time\n",
      "66520 [['20230302T14-08', 2957], ['20230302T13-08', 3050]] ['20150722T01-07', 1936]\n",
      "\n",
      "EBA.PGE-PACW.ID.H Actual Net Interchange for Portland General Electric Company (PGE) to PacifiCorp West (PACW), hourly - UTC time\n",
      "66250 [['20230301T08Z', 84], ['20230301T07Z', 102]] ['20150721T08Z', -92]\n",
      "\n",
      "EBA.PACW-PGE.ID.H Actual Net Interchange for PacifiCorp West (PACW) to Portland General Electric Company (PGE), hourly - UTC time\n",
      "66959 [['20230301T08Z', -84], ['20230301T07Z', -102]] ['20150701T08Z', 101]\n",
      "\n",
      "EBA.PGE-BPAT.ID.H Actual Net Interchange for Portland General Electric Company (PGE) to Bonneville Power Administration (BPAT), hourly - UTC time\n",
      "66265 [['20230301T08Z', -1638], ['20230301T07Z', -1738]] ['20150721T08Z', -1268]\n",
      "\n",
      "EBA.PGE-BPAT.ID.HL Actual Net Interchange for Portland General Electric Company (PGE) to Bonneville Power Administration (BPAT), hourly - local time\n",
      "66265 [['20230301T00-08', -1638], ['20230228T23-08', -1738]] ['20150721T01-07', -1268]\n",
      "\n",
      "EBA.PACW-PGE.ID.HL Actual Net Interchange for PacifiCorp West (PACW) to Portland General Electric Company (PGE), hourly - local time\n",
      "66959 [['20230301T00-08', -84], ['20230228T23-08', -102]] ['20150701T01-07', 101]\n",
      "\n",
      "EBA.PGE-PACW.ID.HL Actual Net Interchange for Portland General Electric Company (PGE) to PacifiCorp West (PACW), hourly - local time\n",
      "66250 [['20230301T00-08', 84], ['20230228T23-08', 102]] ['20150721T01-07', -92]\n",
      "\n",
      "EBA.BPAT-PGE.ID.HL Actual Net Interchange for Bonneville Power Administration (BPAT) to Portland General Electric Company (PGE), hourly - local time\n",
      "67176 [['20230301T00-08', 1611], ['20230228T23-08', 1713]] ['20150701T01-07', 994]\n",
      "\n",
      "EBA.BPAT-PGE.ID.H Actual Net Interchange for Bonneville Power Administration (BPAT) to Portland General Electric Company (PGE), hourly - UTC time\n",
      "67176 [['20230301T08Z', 1611], ['20230301T07Z', 1713]] ['20150701T08Z', 994]\n",
      "\n",
      "EBA.PGE-ALL.NG.COL.H Net generation from coal for Portland General Electric Company (PGE), hourly - UTC time\n",
      "34656 [['20230302T08Z', 0], ['20230302T07Z', 0]] ['20190319T08Z', 0]\n",
      "\n",
      "EBA.PGE-ALL.NG.WAT.HL Net generation from hydro for Portland General Electric Company (PGE), hourly - local time\n",
      "40705 [['20230302T00-08', 146], ['20230301T23-08', 245]] ['20180701T01-07', 209]\n",
      "\n",
      "EBA.PGE-ALL.NG.NG.HL Net generation from natural gas for Portland General Electric Company (PGE), hourly - local time\n",
      "40704 [['20230302T00-08', 587], ['20230301T23-08', 620]] ['20180701T01-07', 3]\n",
      "\n",
      "EBA.PGE-ALL.NG.WND.H Net generation from wind for Portland General Electric Company (PGE), hourly - UTC time\n",
      "34426 [['20230302T08Z', 0], ['20230302T07Z', 0]] ['20190319T08Z', 0]\n",
      "\n",
      "EBA.PGE-ALL.NG.NG.H Net generation from natural gas for Portland General Electric Company (PGE), hourly - UTC time\n",
      "40704 [['20230302T08Z', 587], ['20230302T07Z', 620]] ['20180701T08Z', 3]\n",
      "\n",
      "EBA.PGE-ALL.NG.WAT.H Net generation from hydro for Portland General Electric Company (PGE), hourly - UTC time\n",
      "40705 [['20230302T08Z', 146], ['20230302T07Z', 245]] ['20180701T08Z', 209]\n",
      "\n",
      "EBA.PGE-ALL.NG.OTH.H Net generation from other for Portland General Electric Company (PGE), hourly - UTC time\n",
      "39426 [['20230302T08Z', 8], ['20230302T07Z', 8]] ['20180701T08Z', 11]\n",
      "\n",
      "EBA.PGE-ALL.NG.COL.HL Net generation from coal for Portland General Electric Company (PGE), hourly - local time\n",
      "34656 [['20230302T00-08', 0], ['20230301T23-08', 0]] ['20190319T01-07', 0]\n",
      "\n",
      "EBA.PGE-ALL.NG.OTH.HL Net generation from other for Portland General Electric Company (PGE), hourly - local time\n",
      "39426 [['20230302T00-08', 8], ['20230301T23-08', 8]] ['20180701T01-07', 11]\n",
      "\n",
      "EBA.PGE-ALL.NG.WND.HL Net generation from wind for Portland General Electric Company (PGE), hourly - local time\n",
      "34426 [['20230302T00-08', 0], ['20230301T23-08', 0]] ['20190319T01-07', 0]\n",
      "\n",
      "EBA.PGE-ALL.TI.H Total interchange for Portland General Electric Company (PGE), hourly - UTC time\n",
      "66286 [['20230302T08Z', -1811], ['20230302T07Z', -1860]] ['20150722T08Z', -861]\n",
      "\n",
      "EBA.PGE-ALL.DF.H Day-ahead demand forecast for Portland General Electric Company (PGE), hourly - UTC time\n",
      "65138 [['20230303T08Z', 2555], ['20230303T07Z', 2704]] ['20150910T08Z', 1918]\n",
      "\n",
      "EBA.PGE-ALL.NG.H Net generation for Portland General Electric Company (PGE), hourly - UTC time\n",
      "66457 [['20230302T08Z', 741], ['20230302T07Z', 873]] ['20150722T08Z', 1075]\n",
      "\n",
      "EBA.PGE-ALL.DF.HL Day-ahead demand forecast for Portland General Electric Company (PGE), hourly - local time\n",
      "65138 [['20230303T00-08', 2555], ['20230302T23-08', 2704]] ['20150910T01-07', 1918]\n",
      "\n",
      "EBA.PGE-ALL.NG.HL Net generation for Portland General Electric Company (PGE), hourly - local time\n",
      "66457 [['20230302T00-08', 741], ['20230301T23-08', 873]] ['20150722T01-07', 1075]\n",
      "\n",
      "EBA.PGE-ALL.TI.HL Total interchange for Portland General Electric Company (PGE), hourly - local time\n",
      "66286 [['20230302T00-08', -1811], ['20230301T23-08', -1860]] ['20150722T01-07', -861]\n",
      "\n",
      "3389908 Portland General Electric Company (PGE) ['EBA.PGE-ALL.DF.H', 'EBA.PGE-ALL.DF.HL']\n",
      "3389992 Portland General Electric Company (PGE) ['EBA.PGE-ALL.D.H', 'EBA.PGE-ALL.D.HL']\n",
      "3390077 Portland General Electric Company (PGE) ['EBA.PGE-ALL.NG.H', 'EBA.PGE-ALL.NG.HL']\n",
      "3390246 Portland General Electric Company (PGE) ['EBA.PGE-ALL.TI.H', 'EBA.PGE-ALL.TI.HL']\n",
      "2122599 Portland General Electric Company (PGE) ['EBA.PGE-BPAT.ID.H', 'EBA.PGE-BPAT.ID.HL', 'EBA.PGE-PACW.ID.H', 'EBA.PGE-PACW.ID.HL']\n",
      "3390162 Portland General Electric Company (PGE) ['EBA.PGE-ALL.NG.COL.H', 'EBA.PGE-ALL.NG.COL.HL', 'EBA.PGE-ALL.NG.NG.H', 'EBA.PGE-ALL.NG.NG.HL', 'EBA.PGE-ALL.NG.OTH.H', 'EBA.PGE-ALL.NG.OTH.HL', 'EBA.PGE-ALL.NG.WAT.H', 'EBA.PGE-ALL.NG.WAT.HL', 'EBA.PGE-ALL.NG.WND.H', 'EBA.PGE-ALL.NG.WND.HL']\n"
     ]
    }
   ],
   "source": [
    "for dat in all_data:\n",
    "    if 'series_id' in dat.keys():\n",
    "        print(dat['series_id'], dat['name'])\n",
    "        print(len(dat['data']), dat['data'][0:2], dat['data'][-1])\n",
    "        print()\n",
    "    else:\n",
    "        print(dat['category_id'], dat['name'], dat['childseries'])"
   ]
  },
  {
   "cell_type": "code",
   "execution_count": null,
   "id": "3ae26756-6b24-4d60-be5e-07c01169ba6a",
   "metadata": {
    "collapsed": false
   },
   "outputs": [],
   "source": [
    "- note that the transfers are not fully aligned for the most recent data?  I suspect some sort of reconciliation procedure\n",
    "clears that up?  Would need to look into that.  Useful for considering trades."
   ]
  },
  {
   "cell_type": "markdown",
   "id": "e6ec53f2-8716-44fb-8b63-553250652690",
   "metadata": {
    "collapsed": false
   },
   "source": [
    "So we have 4 big categories of data in this thing.  All series are provided with local time and global time variations.\n",
    "\n",
    "- Demand\n",
    "- Demand Forecast\n",
    "- Net Generation\n",
    "- Net Generation (by source) - Much less data\n",
    "- Total Interchange\n",
    "- Interchange with other ISOs\n",
    "\n",
    "- Around 8 years of data for demand/net generation.\n",
    "- Around 5 years for generation by source data.\n",
    "- Hourly resolution \n",
    "- Around 100 ISOs  (2850 series, 30 series per ISO, but variable interchanges).\n",
    "- 60k data points per series at hourly resolution."
   ]
  },
  {
   "cell_type": "markdown",
   "id": "74df09c9-270d-4b8f-ba68-fb5bb8431d74",
   "metadata": {
    "collapsed": false
   },
   "source": [
    "## Proposed SQL Table Structure - EBA\n",
    "\n",
    "- Our initial project is focused on the demand forecasting piece.  Let's just focus on the bulk attributes for now, and return later if need be for\n",
    " breakdowns by generation type\n",
    "\n",
    "### Options:\n",
    "1) 1 table per series (hard to look up) - Reject.\n",
    "\n",
    "2) 1 table per type (100 ISOs as columns).\n",
    "    - Demand (Time, PDX, BPA, CAISO, ...)\n",
    "    - Forecast (Time, PDX, BPA, CAISO, ...)\n",
    "    - Net Generation (Time, PDX, BPA, CAISO,...)\n",
    "    - Interchange(Time, P1, P2, Amount)\n",
    "\n",
    "3) 1 major table per ISO (around 30 sub-series)\n",
    "   -  PGE (Time, Demand, Forecast, Net Generation, COL, HYD, ..., PGE-BPA, PGE-PACW)\n",
    "   -  BPA (Time, Demand, Forecast, Net Generation, COL, HYD, ..., BPA-PGE, PGE-PACW)\n",
    "\n",
    "Leaning toward approach 3.  Better encapsulates system process.  Allows local time and UTC time\n",
    "Also leaning towards only including UTC time variations.\n",
    "\n",
    "- Need all series names (types of data)\n",
    "- Need all ISOs and transferes."
   ]
  },
  {
   "cell_type": "markdown",
   "id": "e8aee0a7-1911-4837-b447-8338dd060e42",
   "metadata": {
    "collapsed": false
   },
   "source": [
    "## Getting Metadata\n",
    "\n",
    "(Increasingly getting feeling that Mongo is the way to really handle this data)\n",
    "\n",
    "## EBA\n",
    "\n",
    "Want:\n",
    "- list of ISOs, names\n",
    "\n",
    "## Airports\n",
    "\n",
    "I think the `merge_air_df` is probably already close to what we want: mapping from id to name/region.\n"
   ]
  },
  {
   "cell_type": "code",
   "execution_count": 22,
   "id": "d8c31d97-6d30-4d34-8fcc-097553ed504a",
   "metadata": {
    "collapsed": false
   },
   "outputs": [
    {
     "name": "stdout",
     "output_type": "stream",
     "text": [
      "{\"category_id\":\"2122627\",\"parent_category_id\":\"2123635\",\"name\":\"Day-ahead demand forecast\",\"notes\":\"\",\"childseries\":[]}\r",
      "\r\n",
      "{\"category_id\":\"3389848\",\"parent_category_id\":\"2122627\",\"name\":\"U.S.\",\"notes\":\"\",\"childseries\":[]}\r",
      "\r\n",
      "{\"category_id\":\"3389851\",\"parent_category_id\":\"3389848\",\"name\":\"United States Lower 48 (US48)\",\"notes\":\"\",\"childseries\":[\"EBA.US48-ALL.DF.H\",\"EBA.US48-ALL.DF.HL\"]}\r",
      "\r\n",
      "{\"category_id\":\"3389849\",\"parent_category_id\":\"2122627\",\"name\":\"Regions\",\"notes\":\"\",\"childseries\":[]}\r",
      "\r\n",
      "{\"category_id\":\"3389852\",\"parent_category_id\":\"3389849\",\"name\":\"California (CAL)\",\"notes\":\"\",\"childseries\":[\"EBA.CAL-ALL.DF.H\",\"EBA.CAL-ALL.DF.HL\"]}\r",
      "\r\n",
      "{\"category_id\":\"3389853\",\"parent_category_id\":\"3389849\",\"name\":\"Carolinas (CAR)\",\"notes\":\"\",\"childseries\":[\"EBA.CAR-ALL.DF.H\",\"EBA.CAR-ALL.DF.HL\"]}\r",
      "\r\n",
      "{\"category_id\":\"3389854\",\"parent_category_id\":\"3389849\",\"name\":\"Central (CENT)\",\"notes\":\"\",\"childseries\":[\"EBA.CENT-ALL.DF.H\",\"EBA.CENT-ALL.DF.HL\"]}\r",
      "\r\n",
      "{\"category_id\":\"3389855\",\"parent_category_id\":\"3389849\",\"name\":\"Florida (FLA)\",\"notes\":\"\",\"childseries\":[\"EBA.FLA-ALL.DF.H\",\"EBA.FLA-ALL.DF.HL\"]}\r",
      "\r\n",
      "{\"category_id\":\"3389856\",\"parent_category_id\":\"3389849\",\"name\":\"Mid-Atlantic (MIDA)\",\"notes\":\"\",\"childseries\":[\"EBA.MIDA-ALL.DF.H\",\"EBA.MIDA-ALL.DF.HL\"]}\r",
      "\r\n",
      "{\"category_id\":\"3389857\",\"parent_category_id\":\"3389849\",\"name\":\"Midwest (MIDW)\",\"notes\":\"\",\"childseries\":[\"EBA.MIDW-ALL.DF.H\",\"EBA.MIDW-ALL.DF.HL\"]}\r",
      "\r\n"
     ]
    }
   ],
   "source": [
    "! head /tf/data/EBA/EBA20230302/metaseries.txt"
   ]
  },
  {
   "cell_type": "code",
   "execution_count": 23,
   "id": "e7186d85-1556-47a1-b548-f3f83aa6f4a5",
   "metadata": {
    "collapsed": false
   },
   "outputs": [],
   "source": [
    "import pandas as pd\n",
    "\n",
    "# grep -r category_id EBA.txt > metaseries.txt\n",
    "fn = '/tf/data/EBA/EBA20230302/metaseries.txt'\n",
    "meta_df = pd.read_json(fn, lines=True)"
   ]
  },
  {
   "cell_type": "code",
   "execution_count": 24,
   "id": "89e665d9-b033-4739-be30-d5b2a0f9ea6d",
   "metadata": {
    "collapsed": false
   },
   "outputs": [
    {
     "data": {
      "text/plain": [
       "category_id                                         4670478\n",
       "parent_category_id                                  3389849\n",
       "name                                        Tennessee (TEN)\n",
       "notes                                                      \n",
       "childseries           [EBA.TEN-ALL.DF.H, EBA.TEN-ALL.DF.HL]\n",
       "Name: 19, dtype: object"
      ]
     },
     "execution_count": 24,
     "metadata": {},
     "output_type": "execute_result"
    }
   ],
   "source": [
    "meta_df.loc[19]"
   ]
  },
  {
   "cell_type": "code",
   "execution_count": 9,
   "id": "8d911e94-e75f-46f0-bf54-9bf0eda8be8d",
   "metadata": {
    "collapsed": false
   },
   "outputs": [],
   "source": [
    "import re"
   ]
  },
  {
   "cell_type": "code",
   "execution_count": 16,
   "id": "bf946317-ed49-4b03-a3cc-27b904b33881",
   "metadata": {
    "collapsed": false
   },
   "outputs": [],
   "source": [
    "\n",
    "def parse_metadata(df):\n",
    "    \"\"\"Grab names, abbreviations and category ids\"\"\"\n",
    "    parent_map = {}\n",
    "    iso_map = {}\n",
    "    for _, row in df.iterrows():\n",
    "        if '(' in row['name']:\n",
    "            tokens = re.findall('(\\w+)', row['name'])\n",
    "            name = ' '.join(tokens[:-1])\n",
    "            abbrv = tokens[-1]\n",
    "            if abbrv == abbrv.upper():\n",
    "                iso_map[abbrv] = name\n",
    "            \n",
    "        #for ch in row.childseries\n",
    "    return iso_map"
   ]
  },
  {
   "cell_type": "code",
   "execution_count": 18,
   "id": "97d53a56-4a17-44a9-b20b-e8b5946229ee",
   "metadata": {
    "collapsed": false
   },
   "outputs": [
    {
     "name": "stdout",
     "output_type": "stream",
     "text": [
      "Automatic pdb calling has been turned OFF\n"
     ]
    }
   ],
   "source": [
    "%pdb off\n",
    "iso_map = parse_metadata(meta_df)"
   ]
  },
  {
   "cell_type": "code",
   "execution_count": 14,
   "id": "4295cc86-2891-4b54-bfd3-1af50444aec0",
   "metadata": {
    "collapsed": false
   },
   "outputs": [
    {
     "data": {
      "text/plain": [
       "83"
      ]
     },
     "execution_count": 14,
     "metadata": {},
     "output_type": "execute_result"
    }
   ],
   "source": [
    "len(iso_map)"
   ]
  },
  {
   "cell_type": "code",
   "execution_count": 27,
   "id": "5260dbb7-040f-4f2b-a4f0-89956a46e734",
   "metadata": {
    "collapsed": false
   },
   "outputs": [],
   "source": []
  },
  {
   "cell_type": "code",
   "execution_count": 28,
   "id": "627b965f-201c-44f3-a418-a691d3bdf906",
   "metadata": {
    "collapsed": false
   },
   "outputs": [
    {
     "data": {
      "text/plain": [
       "'/tf/data/EBA/EBA20230302_iso_map.json'"
      ]
     },
     "execution_count": 28,
     "metadata": {},
     "output_type": "execute_result"
    }
   ],
   "source": [
    "save_iso_names(iso_map)"
   ]
  },
  {
   "cell_type": "code",
   "execution_count": 29,
   "id": "c40a8f30-ea9c-4937-9dca-f435fdfe6688",
   "metadata": {
    "collapsed": false
   },
   "outputs": [],
   "source": [
    "i2 = load_iso_names()"
   ]
  },
  {
   "cell_type": "code",
   "execution_count": 61,
   "id": "1ff28e7c-0ebc-4221-ab04-c3bdec41faa7",
   "metadata": {
    "collapsed": false
   },
   "outputs": [
    {
     "name": "stdout",
     "output_type": "stream",
     "text": [
      "US48\n",
      "CAL\n",
      "CAR\n",
      "CENT\n",
      "FLA\n",
      "MIDA\n",
      "MIDW\n",
      "NW\n",
      "SE\n",
      "SW\n",
      "ERCO\n",
      "ISNE\n",
      "NYIS\n",
      "TVA\n",
      "NE\n",
      "NY\n",
      "TEN\n",
      "TEX\n",
      "AZPS\n",
      "AECI\n",
      "AVA\n",
      "BANC\n",
      "BPAT\n",
      "CISO\n",
      "HST\n",
      "TPWR\n",
      "TAL\n",
      "DUK\n",
      "FPC\n",
      "CPLE\n",
      "CPLW\n",
      "EPE\n",
      "FMPP\n",
      "FPL\n",
      "GVL\n",
      "IPCO\n",
      "IID\n",
      "JEA\n",
      "LDWP\n",
      "LGEE\n",
      "MISO\n",
      "NEVP\n",
      "NWMT\n",
      "OVEC\n",
      "PJM\n",
      "DOPD\n",
      "PACE\n",
      "PACW\n",
      "PGE\n",
      "AEC\n",
      "PSCO\n",
      "PNM\n",
      "CHPD\n",
      "GCPD\n",
      "PSEI\n",
      "SRP\n",
      "SCL\n",
      "SEC\n",
      "SCEG\n",
      "SC\n",
      "SOCO\n",
      "SWPP\n",
      "SPA\n",
      "TEC\n",
      "TEPC\n",
      "TIDC\n",
      "NSB\n",
      "WALC\n",
      "WACM\n",
      "WAUW\n",
      "YAD\n",
      "DEAA\n",
      "AVRN\n",
      "EEI\n",
      "GRMA\n",
      "GRID\n",
      "GRIF\n",
      "GWA\n",
      "WWA\n",
      "HGMA\n",
      "SEPA\n",
      "GLHB\n"
     ]
    }
   ],
   "source": [
    "def save_iso_map(names, fn='/tf/us_elec/SQL/iso_names.csv')\n",
    "\n",
    "for k in iso_map.keys():\n",
    "    print(k)"
   ]
  },
  {
   "cell_type": "code",
   "execution_count": 67,
   "id": "0d6e72ef-4465-46d2-a61d-33a9508e7834",
   "metadata": {
    "collapsed": false
   },
   "outputs": [
    {
     "data": {
      "text/plain": [
       "537"
      ]
     },
     "execution_count": 67,
     "metadata": {},
     "output_type": "execute_result"
    }
   ],
   "source": [
    "len(meta_df)"
   ]
  },
  {
   "cell_type": "code",
   "execution_count": 68,
   "id": "ead9ade2-46f5-4831-aadb-aa19497a0751",
   "metadata": {
    "collapsed": false
   },
   "outputs": [
    {
     "data": {
      "text/html": [
       "<div>\n",
       "<style scoped>\n",
       "    .dataframe tbody tr th:only-of-type {\n",
       "        vertical-align: middle;\n",
       "    }\n",
       "\n",
       "    .dataframe tbody tr th {\n",
       "        vertical-align: top;\n",
       "    }\n",
       "\n",
       "    .dataframe thead th {\n",
       "        text-align: right;\n",
       "    }\n",
       "</style>\n",
       "<table border=\"1\" class=\"dataframe\">\n",
       "  <thead>\n",
       "    <tr style=\"text-align: right;\">\n",
       "      <th></th>\n",
       "      <th>category_id</th>\n",
       "      <th>parent_category_id</th>\n",
       "      <th>name</th>\n",
       "      <th>notes</th>\n",
       "      <th>childseries</th>\n",
       "    </tr>\n",
       "  </thead>\n",
       "  <tbody>\n",
       "    <tr>\n",
       "      <th>400</th>\n",
       "      <td>2122583</td>\n",
       "      <td>3390272</td>\n",
       "      <td>NaturEner Wind Watch, LLC (WWA)</td>\n",
       "      <td></td>\n",
       "      <td>[EBA.WWA-NWMT.ID.H, EBA.WWA-NWMT.ID.HL]</td>\n",
       "    </tr>\n",
       "    <tr>\n",
       "      <th>401</th>\n",
       "      <td>2122584</td>\n",
       "      <td>3390272</td>\n",
       "      <td>Nevada Power Company (NEVP)</td>\n",
       "      <td></td>\n",
       "      <td>[EBA.NEVP-BPAT.ID.H, EBA.NEVP-BPAT.ID.HL, EBA....</td>\n",
       "    </tr>\n",
       "    <tr>\n",
       "      <th>402</th>\n",
       "      <td>2122586</td>\n",
       "      <td>3390272</td>\n",
       "      <td>ISO New England (ISNE)</td>\n",
       "      <td></td>\n",
       "      <td>[EBA.ISNE-HQT.ID.H, EBA.ISNE-HQT.ID.HL, EBA.IS...</td>\n",
       "    </tr>\n",
       "    <tr>\n",
       "      <th>403</th>\n",
       "      <td>2122587</td>\n",
       "      <td>3390272</td>\n",
       "      <td>New Harquahala Generating Company, LLC (HGMA)</td>\n",
       "      <td></td>\n",
       "      <td>[EBA.HGMA-SRP.ID.H, EBA.HGMA-SRP.ID.HL]</td>\n",
       "    </tr>\n",
       "    <tr>\n",
       "      <th>404</th>\n",
       "      <td>2122588</td>\n",
       "      <td>3390272</td>\n",
       "      <td>Utilities Commission of New Smyrna Beach (NSB)</td>\n",
       "      <td></td>\n",
       "      <td>[EBA.NSB-FPC.ID.H, EBA.NSB-FPC.ID.HL, EBA.NSB-...</td>\n",
       "    </tr>\n",
       "    <tr>\n",
       "      <th>405</th>\n",
       "      <td>2122589</td>\n",
       "      <td>3390272</td>\n",
       "      <td>New York Independent System Operator (NYIS)</td>\n",
       "      <td></td>\n",
       "      <td>[EBA.NYIS-HQT.ID.H, EBA.NYIS-HQT.ID.HL, EBA.NY...</td>\n",
       "    </tr>\n",
       "    <tr>\n",
       "      <th>406</th>\n",
       "      <td>2122590</td>\n",
       "      <td>3390272</td>\n",
       "      <td>NorthWestern Corporation (NWMT)</td>\n",
       "      <td></td>\n",
       "      <td>[EBA.NWMT-AESO.ID.H, EBA.NWMT-AESO.ID.HL, EBA....</td>\n",
       "    </tr>\n",
       "    <tr>\n",
       "      <th>407</th>\n",
       "      <td>2122592</td>\n",
       "      <td>3390272</td>\n",
       "      <td>Ohio Valley Electric Corporation (OVEC)</td>\n",
       "      <td></td>\n",
       "      <td>[EBA.OVEC-LGEE.ID.H, EBA.OVEC-LGEE.ID.HL, EBA....</td>\n",
       "    </tr>\n",
       "    <tr>\n",
       "      <th>408</th>\n",
       "      <td>2122595</td>\n",
       "      <td>3390272</td>\n",
       "      <td>PJM Interconnection, LLC (PJM)</td>\n",
       "      <td></td>\n",
       "      <td>[EBA.PJM-CPLE.ID.H, EBA.PJM-CPLE.ID.HL, EBA.PJ...</td>\n",
       "    </tr>\n",
       "    <tr>\n",
       "      <th>409</th>\n",
       "      <td>2122596</td>\n",
       "      <td>3390272</td>\n",
       "      <td>PUD No. 1 of Douglas County (DOPD)</td>\n",
       "      <td></td>\n",
       "      <td>[EBA.DOPD-BPAT.ID.H, EBA.DOPD-BPAT.ID.HL, EBA....</td>\n",
       "    </tr>\n",
       "    <tr>\n",
       "      <th>410</th>\n",
       "      <td>2122597</td>\n",
       "      <td>3390272</td>\n",
       "      <td>PacifiCorp East (PACE)</td>\n",
       "      <td></td>\n",
       "      <td>[EBA.PACE-AZPS.ID.H, EBA.PACE-AZPS.ID.HL, EBA....</td>\n",
       "    </tr>\n",
       "    <tr>\n",
       "      <th>411</th>\n",
       "      <td>2122598</td>\n",
       "      <td>3390272</td>\n",
       "      <td>PacifiCorp West (PACW)</td>\n",
       "      <td></td>\n",
       "      <td>[EBA.PACW-AVA.ID.H, EBA.PACW-AVA.ID.HL, EBA.PA...</td>\n",
       "    </tr>\n",
       "    <tr>\n",
       "      <th>412</th>\n",
       "      <td>2122599</td>\n",
       "      <td>3390272</td>\n",
       "      <td>Portland General Electric Company (PGE)</td>\n",
       "      <td></td>\n",
       "      <td>[EBA.PGE-BPAT.ID.H, EBA.PGE-BPAT.ID.HL, EBA.PG...</td>\n",
       "    </tr>\n",
       "    <tr>\n",
       "      <th>413</th>\n",
       "      <td>2122600</td>\n",
       "      <td>3390272</td>\n",
       "      <td>PowerSouth Energy Cooperative (AEC)</td>\n",
       "      <td></td>\n",
       "      <td>[EBA.AEC-MISO.ID.H, EBA.AEC-MISO.ID.HL, EBA.AE...</td>\n",
       "    </tr>\n",
       "    <tr>\n",
       "      <th>414</th>\n",
       "      <td>2122601</td>\n",
       "      <td>3390272</td>\n",
       "      <td>Public Service Company of Colorado (PSCO)</td>\n",
       "      <td></td>\n",
       "      <td>[EBA.PSCO-PNM.ID.H, EBA.PSCO-PNM.ID.HL, EBA.PS...</td>\n",
       "    </tr>\n",
       "    <tr>\n",
       "      <th>415</th>\n",
       "      <td>2122602</td>\n",
       "      <td>3390272</td>\n",
       "      <td>Public Service Company of New Mexico (PNM)</td>\n",
       "      <td></td>\n",
       "      <td>[EBA.PNM-AZPS.ID.H, EBA.PNM-AZPS.ID.HL, EBA.PN...</td>\n",
       "    </tr>\n",
       "    <tr>\n",
       "      <th>416</th>\n",
       "      <td>2122603</td>\n",
       "      <td>3390272</td>\n",
       "      <td>Public Utility District No. 1 of Chelan County...</td>\n",
       "      <td></td>\n",
       "      <td>[EBA.CHPD-AVA.ID.H, EBA.CHPD-AVA.ID.HL, EBA.CH...</td>\n",
       "    </tr>\n",
       "    <tr>\n",
       "      <th>417</th>\n",
       "      <td>2122604</td>\n",
       "      <td>3390272</td>\n",
       "      <td>Public Utility District No. 2 of Grant County,...</td>\n",
       "      <td></td>\n",
       "      <td>[EBA.GCPD-AVA.ID.H, EBA.GCPD-AVA.ID.HL, EBA.GC...</td>\n",
       "    </tr>\n",
       "    <tr>\n",
       "      <th>418</th>\n",
       "      <td>2122605</td>\n",
       "      <td>3390272</td>\n",
       "      <td>Puget Sound Energy, Inc. (PSEI)</td>\n",
       "      <td></td>\n",
       "      <td>[EBA.PSEI-BPAT.ID.H, EBA.PSEI-BPAT.ID.HL, EBA....</td>\n",
       "    </tr>\n",
       "    <tr>\n",
       "      <th>419</th>\n",
       "      <td>2122606</td>\n",
       "      <td>3390272</td>\n",
       "      <td>Salt River Project Agricultural Improvement an...</td>\n",
       "      <td></td>\n",
       "      <td>[EBA.SRP-AZPS.ID.H, EBA.SRP-AZPS.ID.HL, EBA.SR...</td>\n",
       "    </tr>\n",
       "    <tr>\n",
       "      <th>420</th>\n",
       "      <td>2122608</td>\n",
       "      <td>3390272</td>\n",
       "      <td>Seattle City Light (SCL)</td>\n",
       "      <td></td>\n",
       "      <td>[EBA.SCL-BPAT.ID.H, EBA.SCL-BPAT.ID.HL, EBA.SC...</td>\n",
       "    </tr>\n",
       "  </tbody>\n",
       "</table>\n",
       "</div>"
      ],
      "text/plain": [
       "     category_id  parent_category_id  \\\n",
       "400      2122583             3390272   \n",
       "401      2122584             3390272   \n",
       "402      2122586             3390272   \n",
       "403      2122587             3390272   \n",
       "404      2122588             3390272   \n",
       "405      2122589             3390272   \n",
       "406      2122590             3390272   \n",
       "407      2122592             3390272   \n",
       "408      2122595             3390272   \n",
       "409      2122596             3390272   \n",
       "410      2122597             3390272   \n",
       "411      2122598             3390272   \n",
       "412      2122599             3390272   \n",
       "413      2122600             3390272   \n",
       "414      2122601             3390272   \n",
       "415      2122602             3390272   \n",
       "416      2122603             3390272   \n",
       "417      2122604             3390272   \n",
       "418      2122605             3390272   \n",
       "419      2122606             3390272   \n",
       "420      2122608             3390272   \n",
       "\n",
       "                                                  name notes  \\\n",
       "400                    NaturEner Wind Watch, LLC (WWA)         \n",
       "401                        Nevada Power Company (NEVP)         \n",
       "402                             ISO New England (ISNE)         \n",
       "403      New Harquahala Generating Company, LLC (HGMA)         \n",
       "404     Utilities Commission of New Smyrna Beach (NSB)         \n",
       "405        New York Independent System Operator (NYIS)         \n",
       "406                    NorthWestern Corporation (NWMT)         \n",
       "407            Ohio Valley Electric Corporation (OVEC)         \n",
       "408                     PJM Interconnection, LLC (PJM)         \n",
       "409                 PUD No. 1 of Douglas County (DOPD)         \n",
       "410                             PacifiCorp East (PACE)         \n",
       "411                             PacifiCorp West (PACW)         \n",
       "412            Portland General Electric Company (PGE)         \n",
       "413                PowerSouth Energy Cooperative (AEC)         \n",
       "414          Public Service Company of Colorado (PSCO)         \n",
       "415         Public Service Company of New Mexico (PNM)         \n",
       "416  Public Utility District No. 1 of Chelan County...         \n",
       "417  Public Utility District No. 2 of Grant County,...         \n",
       "418                    Puget Sound Energy, Inc. (PSEI)         \n",
       "419  Salt River Project Agricultural Improvement an...         \n",
       "420                           Seattle City Light (SCL)         \n",
       "\n",
       "                                           childseries  \n",
       "400            [EBA.WWA-NWMT.ID.H, EBA.WWA-NWMT.ID.HL]  \n",
       "401  [EBA.NEVP-BPAT.ID.H, EBA.NEVP-BPAT.ID.HL, EBA....  \n",
       "402  [EBA.ISNE-HQT.ID.H, EBA.ISNE-HQT.ID.HL, EBA.IS...  \n",
       "403            [EBA.HGMA-SRP.ID.H, EBA.HGMA-SRP.ID.HL]  \n",
       "404  [EBA.NSB-FPC.ID.H, EBA.NSB-FPC.ID.HL, EBA.NSB-...  \n",
       "405  [EBA.NYIS-HQT.ID.H, EBA.NYIS-HQT.ID.HL, EBA.NY...  \n",
       "406  [EBA.NWMT-AESO.ID.H, EBA.NWMT-AESO.ID.HL, EBA....  \n",
       "407  [EBA.OVEC-LGEE.ID.H, EBA.OVEC-LGEE.ID.HL, EBA....  \n",
       "408  [EBA.PJM-CPLE.ID.H, EBA.PJM-CPLE.ID.HL, EBA.PJ...  \n",
       "409  [EBA.DOPD-BPAT.ID.H, EBA.DOPD-BPAT.ID.HL, EBA....  \n",
       "410  [EBA.PACE-AZPS.ID.H, EBA.PACE-AZPS.ID.HL, EBA....  \n",
       "411  [EBA.PACW-AVA.ID.H, EBA.PACW-AVA.ID.HL, EBA.PA...  \n",
       "412  [EBA.PGE-BPAT.ID.H, EBA.PGE-BPAT.ID.HL, EBA.PG...  \n",
       "413  [EBA.AEC-MISO.ID.H, EBA.AEC-MISO.ID.HL, EBA.AE...  \n",
       "414  [EBA.PSCO-PNM.ID.H, EBA.PSCO-PNM.ID.HL, EBA.PS...  \n",
       "415  [EBA.PNM-AZPS.ID.H, EBA.PNM-AZPS.ID.HL, EBA.PN...  \n",
       "416  [EBA.CHPD-AVA.ID.H, EBA.CHPD-AVA.ID.HL, EBA.CH...  \n",
       "417  [EBA.GCPD-AVA.ID.H, EBA.GCPD-AVA.ID.HL, EBA.GC...  \n",
       "418  [EBA.PSEI-BPAT.ID.H, EBA.PSEI-BPAT.ID.HL, EBA....  \n",
       "419  [EBA.SRP-AZPS.ID.H, EBA.SRP-AZPS.ID.HL, EBA.SR...  \n",
       "420  [EBA.SCL-BPAT.ID.H, EBA.SCL-BPAT.ID.HL, EBA.SC...  "
      ]
     },
     "execution_count": 68,
     "metadata": {},
     "output_type": "execute_result"
    }
   ],
   "source": [
    "meta_df.loc[400:420]"
   ]
  },
  {
   "cell_type": "markdown",
   "id": "1f40e79c-ea78-453f-bb2b-4ef4feaa0f1f",
   "metadata": {
    "collapsed": false
   },
   "source": [
    "### Saving Airport Metadata\n",
    "\n",
    "From `airport_play.ipynb` which downloaded all that data we have the merge_df which merged city and location information\n",
    "with callsign info.\n"
   ]
  },
  {
   "cell_type": "code",
   "execution_count": 31,
   "id": "7491fdd5-7102-410a-8e55-00a30e1472c5",
   "metadata": {
    "collapsed": false
   },
   "outputs": [],
   "source": [
    "air_df = pd.read_csv('/tf/data/air_merge_df.csv.gz', index_col=0)"
   ]
  },
  {
   "cell_type": "code",
   "execution_count": 60,
   "id": "b0adeba8-a79f-4fdb-a9e7-3f1db9f7b083",
   "metadata": {
    "collapsed": false
   },
   "outputs": [],
   "source": [
    "# save the callsigns sorted by state.\n",
    "#air_df.sort_values('ST').CALL.to_csv('/tf/us_elec/SQL/air_signs.csv', header=False, index=False)"
   ]
  },
  {
   "cell_type": "code",
   "execution_count": 57,
   "id": "169ea7a9-6d3d-4ef5-b427-10d9ba83887a",
   "metadata": {
    "collapsed": false
   },
   "outputs": [
    {
     "name": "stdout",
     "output_type": "stream",
     "text": [
      "__init__.py\t  create_elec_customers  setup_tables.sql  test.sql\r\n",
      "__pycache__\t  create_elec_gen.sql\t sql_query.py\t   test2.sql\r\n",
      "air_signs.csv\t  create_elec_price.sql  sqldriver.py\r\n",
      "constants.py\t  create_elec_rev.sql\t sqllib.py\r\n",
      "convert_elec.sql  play_analysis.sql\t test\r\n"
     ]
    }
   ],
   "source": [
    "!ls /tf/us_elec/SQL"
   ]
  },
  {
   "cell_type": "code",
   "execution_count": 56,
   "id": "192e7b01-cb6d-4a95-80a0-1b251f05fdc3",
   "metadata": {
    "collapsed": false
   },
   "outputs": [],
   "source": [
    "?pd.DataFrame.to_csv"
   ]
  },
  {
   "cell_type": "code",
   "execution_count": 59,
   "id": "576f567c-e9ac-4212-8815-a3a8d92a11f9",
   "metadata": {
    "collapsed": false
   },
   "outputs": [
    {
     "name": "stdout",
     "output_type": "stream",
     "text": [
      "CALL\r\n",
      "PPIZ\r\n",
      "PAFA\r\n",
      "PAFB\r\n",
      "PAFE\r\n",
      "PAFM\r\n",
      "PAGA\r\n",
      "PAGK\r\n",
      "PAGM\r\n",
      "PAGS\r\n"
     ]
    }
   ],
   "source": [
    "!head  /tf/us_elec/SQL/air_signs.csv"
   ]
  },
  {
   "cell_type": "code",
   "execution_count": 46,
   "id": "eb8eb9de-26e5-453b-a614-9d27944d3986",
   "metadata": {
    "collapsed": false
   },
   "outputs": [
    {
     "data": {
      "text/plain": [
       "0      AL\n",
       "1      PA\n",
       "2      TX\n",
       "3      NM\n",
       "4      SD\n",
       "       ..\n",
       "849    HI\n",
       "850    HI\n",
       "851    HI\n",
       "852    HI\n",
       "853    AK\n",
       "Name: ST, Length: 844, dtype: object"
      ]
     },
     "execution_count": 46,
     "metadata": {},
     "output_type": "execute_result"
    }
   ],
   "source": [
    "air_df.ST"
   ]
  }
 ],
 "metadata": {
  "kernelspec": {
   "argv": [
    "/usr/bin/python3",
    "-m",
    "ipykernel_launcher",
    "-f",
    "{connection_file}"
   ],
   "display_name": "Python 3",
   "env": null,
   "interrupt_mode": "signal",
   "language": "python",
   "metadata": null,
   "name": "python3"
  },
  "language_info": {
   "codemirror_mode": {
    "name": "ipython",
    "version": 3
   },
   "file_extension": ".py",
   "mimetype": "text/x-python",
   "name": "python",
   "nbconvert_exporter": "python",
   "pygments_lexer": "ipython3",
   "version": "3.8.10"
  },
  "name": "EBA_DataIngestion.ipynb"
 },
 "nbformat": 4,
 "nbformat_minor": 5
}
