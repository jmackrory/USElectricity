{
 "cells": [
  {
   "cell_type": "markdown",
   "id": "f3215991-c22e-4b12-b189-2b52474b8e70",
   "metadata": {
    "collapsed": false,
    "ein.tags": "worksheet-0",
    "slideshow": {
     "slide_type": "-"
    }
   },
   "source": [
    "# Converting Txt to SQL\n",
    "\n",
    "This notebook is primarily used for creating and loading the EBA data into SQL tables.\n",
    "\n",
    "We need to load the data into an easier to query format than just a huge json dump.\n",
    "\n",
    "In particular we need ways to extract particular series by type, location and time-window.\n",
    "\n",
    "This can then inform the simple models that try predicting energy usage.\n",
    "\n",
    "Need to:\n",
    "- load in newer data.\n",
    "- write function to collate weather and prediction data.\n",
    "- functions to find ISO regions / locations \n"
   ]
  },
  {
   "cell_type": "code",
   "execution_count": 3,
   "id": "2e73cd08-c1b5-4fcc-b99d-9906e6770122",
   "metadata": {
    "collapsed": false
   },
   "outputs": [],
   "source": [
    "import sys\n"
   ]
  },
  {
   "cell_type": "code",
   "execution_count": 11,
   "id": "6d53c69a-fef8-42b8-bb2a-dc00a8ac86d5",
   "metadata": {
    "autoscroll": false,
    "collapsed": false,
    "ein.hycell": false,
    "ein.tags": "worksheet-0",
    "slideshow": {
     "slide_type": "-"
    },
    "tags": null
   },
   "outputs": [],
   "source": [
    "import sys\n",
    "\n",
    "CODE_PATHS = ['/tf/us_elec', '/tf']\n",
    "\n",
    "for cp in CODE_PATHS:\n",
    "    if cp not in sys.path:\n",
    "        sys.path.append(cp)\n"
   ]
  },
  {
   "cell_type": "code",
   "execution_count": 8,
   "id": "7f81fec0-3e4d-41cf-b51e-63f8b7596211",
   "metadata": {
    "autoscroll": false,
    "collapsed": false,
    "ein.hycell": false,
    "ein.tags": "worksheet-0",
    "slideshow": {
     "slide_type": "-"
    }
   },
   "outputs": [],
   "source": [
    "%load_ext autoreload\n",
    "%autoreload 2"
   ]
  },
  {
   "cell_type": "code",
   "execution_count": 12,
   "id": "06ef406b-e596-4cb7-b3b7-4659ec2aa578",
   "metadata": {
    "collapsed": false
   },
   "outputs": [
    {
     "data": {
      "text/plain": [
       "['/tf/notebooks',\n",
       " '/usr/lib/python38.zip',\n",
       " '/usr/lib/python3.8',\n",
       " '/usr/lib/python3.8/lib-dynload',\n",
       " '',\n",
       " '/usr/local/lib/python3.8/dist-packages',\n",
       " '/usr/lib/python3/dist-packages',\n",
       " '/tf/us_elec',\n",
       " '/tf']"
      ]
     },
     "execution_count": 12,
     "metadata": {},
     "output_type": "execute_result"
    }
   ],
   "source": [
    "sys.path"
   ]
  },
  {
   "cell_type": "code",
   "execution_count": 13,
   "id": "f2ba3c83-4d38-4e64-8b47-680a4ea2375a",
   "metadata": {
    "autoscroll": false,
    "collapsed": false,
    "ein.hycell": false,
    "ein.tags": "worksheet-0",
    "slideshow": {
     "slide_type": "-"
    }
   },
   "outputs": [],
   "source": [
    "import pandas as pd\n",
    "import numpy as np\n",
    "import matplotlib as mpl\n",
    "import matplotlib.pyplot as plt\n",
    "\n",
    "#stuff for ARIMA modelling\n",
    "from statsmodels.tsa.stattools import adfuller, acf, pacf, arma_order_select_ic\n",
    "from statsmodels.tsa.arima_model import ARIMA\n",
    "\n",
    "from us_elec.util.get_weather_data import convert_isd_to_df, convert_state_isd\n",
    "from us_elec.util.EBA_util import avg_extremes, remove_na\n"
   ]
  },
  {
   "cell_type": "code",
   "execution_count": 14,
   "id": "ab67d8d9-7f69-48f3-8c50-0e4ccc638e79",
   "metadata": {
    "autoscroll": false,
    "collapsed": false,
    "ein.hycell": false,
    "ein.tags": "worksheet-0",
    "jupyter": {
     "outputs_hidden": false
    },
    "slideshow": {
     "slide_type": "-"
    },
    "tags": null
   },
   "outputs": [],
   "source": [
    "\n",
    "%matplotlib inline\n",
    "\n",
    "pi = np.pi\n",
    "#save higher-res figures.\n",
    "# dpi=120\n",
    "# mpl.rc(\"savefig\",dpi=dpi)\n",
    "# mpl.rcParams['figure.dpi']=dpi\n",
    "COLOR = 'white'\n",
    "mpl.rcParams['text.color'] = COLOR\n",
    "mpl.rcParams['axes.labelcolor'] = COLOR\n",
    "mpl.rcParams['xtick.color'] = COLOR\n",
    "mpl.rcParams['ytick.color'] = COLOR\n"
   ]
  },
  {
   "cell_type": "code",
   "execution_count": 15,
   "id": "45eb404d-59c3-4487-862d-c5f4b6bf2279",
   "metadata": {
    "autoscroll": false,
    "collapsed": false,
    "ein.hycell": false,
    "ein.tags": "worksheet-0",
    "jupyter": {
     "outputs_hidden": false
    },
    "slideshow": {
     "slide_type": "-"
    },
    "tags": null
   },
   "outputs": [],
   "source": [
    "air_df = pd.read_csv('/tf/data/air_merge_df.csv.gz', index_col=0)"
   ]
  },
  {
   "cell_type": "code",
   "execution_count": 16,
   "id": "82848e1e-cded-4eab-ab82-2515fa9ef276",
   "metadata": {
    "autoscroll": false,
    "collapsed": false,
    "ein.hycell": false,
    "ein.tags": "worksheet-0",
    "jupyter": {
     "outputs_hidden": false
    },
    "slideshow": {
     "slide_type": "-"
    }
   },
   "outputs": [
    {
     "data": {
      "text/html": [
       "<div>\n",
       "<style scoped>\n",
       "    .dataframe tbody tr th:only-of-type {\n",
       "        vertical-align: middle;\n",
       "    }\n",
       "\n",
       "    .dataframe tbody tr th {\n",
       "        vertical-align: top;\n",
       "    }\n",
       "\n",
       "    .dataframe thead th {\n",
       "        text-align: right;\n",
       "    }\n",
       "</style>\n",
       "<table border=\"1\" class=\"dataframe\">\n",
       "  <thead>\n",
       "    <tr style=\"text-align: right;\">\n",
       "      <th></th>\n",
       "      <th>name</th>\n",
       "      <th>City</th>\n",
       "      <th>CALL</th>\n",
       "      <th>USAF</th>\n",
       "      <th>WBAN</th>\n",
       "      <th>LAT</th>\n",
       "      <th>LON</th>\n",
       "      <th>ST</th>\n",
       "    </tr>\n",
       "  </thead>\n",
       "  <tbody>\n",
       "    <tr>\n",
       "      <th>0</th>\n",
       "      <td>South Alabama Regional At Bill Benton Field Ai...</td>\n",
       "      <td>Andalusia/Opp</td>\n",
       "      <td>K79J</td>\n",
       "      <td>722275</td>\n",
       "      <td>53843</td>\n",
       "      <td>31.309</td>\n",
       "      <td>-86.394</td>\n",
       "      <td>AL</td>\n",
       "    </tr>\n",
       "    <tr>\n",
       "      <th>1</th>\n",
       "      <td>Lehigh Valley International Airport</td>\n",
       "      <td>Allentown</td>\n",
       "      <td>KABE</td>\n",
       "      <td>725170</td>\n",
       "      <td>14737</td>\n",
       "      <td>40.650</td>\n",
       "      <td>-75.448</td>\n",
       "      <td>PA</td>\n",
       "    </tr>\n",
       "    <tr>\n",
       "      <th>2</th>\n",
       "      <td>Abilene Regional Airport</td>\n",
       "      <td>Abilene</td>\n",
       "      <td>KABI</td>\n",
       "      <td>722660</td>\n",
       "      <td>13962</td>\n",
       "      <td>32.411</td>\n",
       "      <td>-99.682</td>\n",
       "      <td>TX</td>\n",
       "    </tr>\n",
       "    <tr>\n",
       "      <th>3</th>\n",
       "      <td>Albuquerque International Sunport</td>\n",
       "      <td>Albuquerque</td>\n",
       "      <td>KABQ</td>\n",
       "      <td>723650</td>\n",
       "      <td>23050</td>\n",
       "      <td>35.042</td>\n",
       "      <td>-106.616</td>\n",
       "      <td>NM</td>\n",
       "    </tr>\n",
       "    <tr>\n",
       "      <th>4</th>\n",
       "      <td>Aberdeen Regional Airport</td>\n",
       "      <td>Aberdeen</td>\n",
       "      <td>KABR</td>\n",
       "      <td>726590</td>\n",
       "      <td>14929</td>\n",
       "      <td>45.443</td>\n",
       "      <td>-98.413</td>\n",
       "      <td>SD</td>\n",
       "    </tr>\n",
       "  </tbody>\n",
       "</table>\n",
       "</div>"
      ],
      "text/plain": [
       "                                                name           City  CALL  \\\n",
       "0  South Alabama Regional At Bill Benton Field Ai...  Andalusia/Opp  K79J   \n",
       "1                Lehigh Valley International Airport      Allentown  KABE   \n",
       "2                           Abilene Regional Airport        Abilene  KABI   \n",
       "3                  Albuquerque International Sunport    Albuquerque  KABQ   \n",
       "4                          Aberdeen Regional Airport       Aberdeen  KABR   \n",
       "\n",
       "     USAF   WBAN     LAT      LON  ST  \n",
       "0  722275  53843  31.309  -86.394  AL  \n",
       "1  725170  14737  40.650  -75.448  PA  \n",
       "2  722660  13962  32.411  -99.682  TX  \n",
       "3  723650  23050  35.042 -106.616  NM  \n",
       "4  726590  14929  45.443  -98.413  SD  "
      ]
     },
     "execution_count": 16,
     "metadata": {},
     "output_type": "execute_result"
    }
   ],
   "source": [
    "air_df.head()"
   ]
  },
  {
   "cell_type": "code",
   "execution_count": 15,
   "id": "ced8bfa7-dbb4-46ce-a481-eb14fd6890a9",
   "metadata": {
    "autoscroll": false,
    "collapsed": false,
    "ein.hycell": false,
    "ein.tags": "worksheet-0",
    "jupyter": {
     "outputs_hidden": false
    },
    "slideshow": {
     "slide_type": "-"
    }
   },
   "outputs": [
    {
     "name": "stdout",
     "output_type": "stream",
     "text": [
      "Automatic pdb calling has been turned OFF\n"
     ]
    },
    {
     "name": "stdout",
     "output_type": "stream",
     "text": [
      "done with Astoria Regional Airport\n"
     ]
    },
    {
     "name": "stdout",
     "output_type": "stream",
     "text": [
      "done with Baker City Municipal Airport\n"
     ]
    },
    {
     "name": "stdout",
     "output_type": "stream",
     "text": [
      "done with Burns Municipal Airport\n"
     ]
    },
    {
     "name": "stdout",
     "output_type": "stream",
     "text": [
      "done with Corvallis Municipal Airport\n"
     ]
    },
    {
     "name": "stdout",
     "output_type": "stream",
     "text": [
      "done with Mahlon Sweet Field\n"
     ]
    },
    {
     "name": "stdout",
     "output_type": "stream",
     "text": [
      "done with Portland Hillsboro Airport\n"
     ]
    },
    {
     "name": "stdout",
     "output_type": "stream",
     "text": [
      "done with Crater Lake-Klamath Regional Airport\n"
     ]
    },
    {
     "name": "stdout",
     "output_type": "stream",
     "text": [
      "done with Rogue Valley International Medford Airport\n"
     ]
    },
    {
     "name": "stdout",
     "output_type": "stream",
     "text": [
      "done with Mc Minnville Municipal Airport\n"
     ]
    },
    {
     "name": "stdout",
     "output_type": "stream",
     "text": [
      "done with Newport Municipal Airport\n"
     ]
    },
    {
     "name": "stdout",
     "output_type": "stream",
     "text": [
      "done with Southwest Oregon Regional Airport\n"
     ]
    },
    {
     "name": "stdout",
     "output_type": "stream",
     "text": [
      "done with Eastern Oregon Regional At Pendleton Airport\n"
     ]
    },
    {
     "name": "stdout",
     "output_type": "stream",
     "text": [
      "done with Portland International Airport\n"
     ]
    },
    {
     "name": "stdout",
     "output_type": "stream",
     "text": [
      "done with Roberts Field\n"
     ]
    },
    {
     "name": "stdout",
     "output_type": "stream",
     "text": [
      "done with Salem Municipal Airport/McNary Field\n"
     ]
    },
    {
     "name": "stdout",
     "output_type": "stream",
     "text": [
      "done with Portland Troutdale Airport\n"
     ]
    },
    {
     "name": "stdout",
     "output_type": "stream",
     "text": [
      "done with Aurora State Airport\n"
     ]
    }
   ],
   "source": [
    "%pdb off\n",
    "#reads in list of airport codes.\n",
    "\n",
    "#Just get the weather station data for cities in Oregon.\n",
    "df_weather = convert_state_isd(air_df, 'OR')\n",
    "\n",
    "#Read all of the weather data in.\n",
    "#df_weather=pd.read_csv('data/airport_weather.gz',index_col=0,parse_dates=True)"
   ]
  },
  {
   "cell_type": "code",
   "execution_count": 16,
   "id": "36081eb5-1878-455d-ad59-0919fff1c3a3",
   "metadata": {
    "collapsed": false
   },
   "outputs": [
    {
     "data": {
      "text/html": [
       "<div>\n",
       "<style scoped>\n",
       "    .dataframe tbody tr th:only-of-type {\n",
       "        vertical-align: middle;\n",
       "    }\n",
       "\n",
       "    .dataframe tbody tr th {\n",
       "        vertical-align: top;\n",
       "    }\n",
       "\n",
       "    .dataframe thead th {\n",
       "        text-align: right;\n",
       "    }\n",
       "</style>\n",
       "<table border=\"1\" class=\"dataframe\">\n",
       "  <thead>\n",
       "    <tr style=\"text-align: right;\">\n",
       "      <th></th>\n",
       "      <th>Temp</th>\n",
       "      <th>DewTemp</th>\n",
       "      <th>Pressure</th>\n",
       "      <th>WindDir</th>\n",
       "      <th>WindSpeed</th>\n",
       "      <th>CloudCover</th>\n",
       "      <th>Precip-1hr</th>\n",
       "      <th>Precip-6hr</th>\n",
       "      <th>city</th>\n",
       "      <th>state</th>\n",
       "      <th>city, state</th>\n",
       "      <th>region</th>\n",
       "    </tr>\n",
       "  </thead>\n",
       "  <tbody>\n",
       "    <tr>\n",
       "      <th>2015-07-01 00:00:00</th>\n",
       "      <td>NaN</td>\n",
       "      <td>NaN</td>\n",
       "      <td>NaN</td>\n",
       "      <td>NaN</td>\n",
       "      <td>NaN</td>\n",
       "      <td>NaN</td>\n",
       "      <td>NaN</td>\n",
       "      <td>NaN</td>\n",
       "      <td>NaN</td>\n",
       "      <td>NaN</td>\n",
       "      <td>NaN</td>\n",
       "      <td>NaN</td>\n",
       "    </tr>\n",
       "    <tr>\n",
       "      <th>2015-07-01 01:00:00</th>\n",
       "      <td>NaN</td>\n",
       "      <td>NaN</td>\n",
       "      <td>NaN</td>\n",
       "      <td>NaN</td>\n",
       "      <td>NaN</td>\n",
       "      <td>NaN</td>\n",
       "      <td>NaN</td>\n",
       "      <td>NaN</td>\n",
       "      <td>NaN</td>\n",
       "      <td>NaN</td>\n",
       "      <td>NaN</td>\n",
       "      <td>NaN</td>\n",
       "    </tr>\n",
       "    <tr>\n",
       "      <th>2015-07-01 02:00:00</th>\n",
       "      <td>NaN</td>\n",
       "      <td>NaN</td>\n",
       "      <td>NaN</td>\n",
       "      <td>NaN</td>\n",
       "      <td>NaN</td>\n",
       "      <td>NaN</td>\n",
       "      <td>NaN</td>\n",
       "      <td>NaN</td>\n",
       "      <td>NaN</td>\n",
       "      <td>NaN</td>\n",
       "      <td>NaN</td>\n",
       "      <td>NaN</td>\n",
       "    </tr>\n",
       "    <tr>\n",
       "      <th>2015-07-01 03:00:00</th>\n",
       "      <td>NaN</td>\n",
       "      <td>NaN</td>\n",
       "      <td>NaN</td>\n",
       "      <td>NaN</td>\n",
       "      <td>NaN</td>\n",
       "      <td>NaN</td>\n",
       "      <td>NaN</td>\n",
       "      <td>NaN</td>\n",
       "      <td>NaN</td>\n",
       "      <td>NaN</td>\n",
       "      <td>NaN</td>\n",
       "      <td>NaN</td>\n",
       "    </tr>\n",
       "    <tr>\n",
       "      <th>2015-07-01 04:00:00</th>\n",
       "      <td>NaN</td>\n",
       "      <td>NaN</td>\n",
       "      <td>NaN</td>\n",
       "      <td>NaN</td>\n",
       "      <td>NaN</td>\n",
       "      <td>NaN</td>\n",
       "      <td>NaN</td>\n",
       "      <td>NaN</td>\n",
       "      <td>NaN</td>\n",
       "      <td>NaN</td>\n",
       "      <td>NaN</td>\n",
       "      <td>NaN</td>\n",
       "    </tr>\n",
       "    <tr>\n",
       "      <th>...</th>\n",
       "      <td>...</td>\n",
       "      <td>...</td>\n",
       "      <td>...</td>\n",
       "      <td>...</td>\n",
       "      <td>...</td>\n",
       "      <td>...</td>\n",
       "      <td>...</td>\n",
       "      <td>...</td>\n",
       "      <td>...</td>\n",
       "      <td>...</td>\n",
       "      <td>...</td>\n",
       "      <td>...</td>\n",
       "    </tr>\n",
       "    <tr>\n",
       "      <th>2017-12-31 19:00:00</th>\n",
       "      <td>44.0</td>\n",
       "      <td>17.0</td>\n",
       "      <td>10212.0</td>\n",
       "      <td>160.0</td>\n",
       "      <td>15.0</td>\n",
       "      <td>0.0</td>\n",
       "      <td>0.0</td>\n",
       "      <td>NaN</td>\n",
       "      <td>Aurora</td>\n",
       "      <td>OR</td>\n",
       "      <td>Aurora, OR</td>\n",
       "      <td>Northwest</td>\n",
       "    </tr>\n",
       "    <tr>\n",
       "      <th>2017-12-31 20:00:00</th>\n",
       "      <td>67.0</td>\n",
       "      <td>28.0</td>\n",
       "      <td>10208.0</td>\n",
       "      <td>160.0</td>\n",
       "      <td>21.0</td>\n",
       "      <td>0.0</td>\n",
       "      <td>0.0</td>\n",
       "      <td>NaN</td>\n",
       "      <td>Aurora</td>\n",
       "      <td>OR</td>\n",
       "      <td>Aurora, OR</td>\n",
       "      <td>Northwest</td>\n",
       "    </tr>\n",
       "    <tr>\n",
       "      <th>2017-12-31 21:00:00</th>\n",
       "      <td>72.0</td>\n",
       "      <td>28.0</td>\n",
       "      <td>10203.0</td>\n",
       "      <td>120.0</td>\n",
       "      <td>15.0</td>\n",
       "      <td>4.0</td>\n",
       "      <td>0.0</td>\n",
       "      <td>NaN</td>\n",
       "      <td>Aurora</td>\n",
       "      <td>OR</td>\n",
       "      <td>Aurora, OR</td>\n",
       "      <td>Northwest</td>\n",
       "    </tr>\n",
       "    <tr>\n",
       "      <th>2017-12-31 22:00:00</th>\n",
       "      <td>83.0</td>\n",
       "      <td>33.0</td>\n",
       "      <td>10199.0</td>\n",
       "      <td>0.0</td>\n",
       "      <td>0.0</td>\n",
       "      <td>NaN</td>\n",
       "      <td>0.0</td>\n",
       "      <td>NaN</td>\n",
       "      <td>Aurora</td>\n",
       "      <td>OR</td>\n",
       "      <td>Aurora, OR</td>\n",
       "      <td>Northwest</td>\n",
       "    </tr>\n",
       "    <tr>\n",
       "      <th>2017-12-31 23:00:00</th>\n",
       "      <td>89.0</td>\n",
       "      <td>11.0</td>\n",
       "      <td>10199.0</td>\n",
       "      <td>340.0</td>\n",
       "      <td>26.0</td>\n",
       "      <td>0.0</td>\n",
       "      <td>0.0</td>\n",
       "      <td>NaN</td>\n",
       "      <td>Aurora</td>\n",
       "      <td>OR</td>\n",
       "      <td>Aurora, OR</td>\n",
       "      <td>Northwest</td>\n",
       "    </tr>\n",
       "  </tbody>\n",
       "</table>\n",
       "<p>466244 rows × 12 columns</p>\n",
       "</div>"
      ],
      "text/plain": [
       "                     Temp  DewTemp  Pressure  WindDir  WindSpeed  CloudCover  \\\n",
       "2015-07-01 00:00:00   NaN      NaN       NaN      NaN        NaN         NaN   \n",
       "2015-07-01 01:00:00   NaN      NaN       NaN      NaN        NaN         NaN   \n",
       "2015-07-01 02:00:00   NaN      NaN       NaN      NaN        NaN         NaN   \n",
       "2015-07-01 03:00:00   NaN      NaN       NaN      NaN        NaN         NaN   \n",
       "2015-07-01 04:00:00   NaN      NaN       NaN      NaN        NaN         NaN   \n",
       "...                   ...      ...       ...      ...        ...         ...   \n",
       "2017-12-31 19:00:00  44.0     17.0   10212.0    160.0       15.0         0.0   \n",
       "2017-12-31 20:00:00  67.0     28.0   10208.0    160.0       21.0         0.0   \n",
       "2017-12-31 21:00:00  72.0     28.0   10203.0    120.0       15.0         4.0   \n",
       "2017-12-31 22:00:00  83.0     33.0   10199.0      0.0        0.0         NaN   \n",
       "2017-12-31 23:00:00  89.0     11.0   10199.0    340.0       26.0         0.0   \n",
       "\n",
       "                     Precip-1hr  Precip-6hr    city state city, state  \\\n",
       "2015-07-01 00:00:00         NaN         NaN     NaN   NaN         NaN   \n",
       "2015-07-01 01:00:00         NaN         NaN     NaN   NaN         NaN   \n",
       "2015-07-01 02:00:00         NaN         NaN     NaN   NaN         NaN   \n",
       "2015-07-01 03:00:00         NaN         NaN     NaN   NaN         NaN   \n",
       "2015-07-01 04:00:00         NaN         NaN     NaN   NaN         NaN   \n",
       "...                         ...         ...     ...   ...         ...   \n",
       "2017-12-31 19:00:00         0.0         NaN  Aurora    OR  Aurora, OR   \n",
       "2017-12-31 20:00:00         0.0         NaN  Aurora    OR  Aurora, OR   \n",
       "2017-12-31 21:00:00         0.0         NaN  Aurora    OR  Aurora, OR   \n",
       "2017-12-31 22:00:00         0.0         NaN  Aurora    OR  Aurora, OR   \n",
       "2017-12-31 23:00:00         0.0         NaN  Aurora    OR  Aurora, OR   \n",
       "\n",
       "                        region  \n",
       "2015-07-01 00:00:00        NaN  \n",
       "2015-07-01 01:00:00        NaN  \n",
       "2015-07-01 02:00:00        NaN  \n",
       "2015-07-01 03:00:00        NaN  \n",
       "2015-07-01 04:00:00        NaN  \n",
       "...                        ...  \n",
       "2017-12-31 19:00:00  Northwest  \n",
       "2017-12-31 20:00:00  Northwest  \n",
       "2017-12-31 21:00:00  Northwest  \n",
       "2017-12-31 22:00:00  Northwest  \n",
       "2017-12-31 23:00:00  Northwest  \n",
       "\n",
       "[466244 rows x 12 columns]"
      ]
     },
     "execution_count": 16,
     "metadata": {},
     "output_type": "execute_result"
    }
   ],
   "source": [
    "df_weather"
   ]
  },
  {
   "cell_type": "code",
   "execution_count": 17,
   "id": "b6ce793e-fe4a-41a1-b765-415499c3e934",
   "metadata": {
    "autoscroll": false,
    "collapsed": false,
    "ein.hycell": false,
    "ein.tags": "worksheet-0",
    "jupyter": {
     "outputs_hidden": false
    },
    "slideshow": {
     "slide_type": "-"
    }
   },
   "outputs": [],
   "source": [
    "import json\n",
    "from tqdm import tqdm"
   ]
  },
  {
   "cell_type": "markdown",
   "id": "0a7e2308-849c-4c78-bf68-cbf02d5fa710",
   "metadata": {
    "collapsed": false,
    "ein.tags": "worksheet-0",
    "slideshow": {
     "slide_type": "-"
    }
   },
   "source": [
    "# Loading Data into a MongoDB database\n",
    "\n",
    "The data is in json, so let's just exploit that and load it into an easy to query Mongo database.\n",
    "Will be a lot easier to sub-select some data.\n",
    "\n",
    "Note: need to have the mongo client running.\n",
    "Can start it (assuming local operation and installation) using \"sudo systemctl start mongod\".\n",
    "Can stop it with \"sudo systemctl stop mongod\""
   ]
  },
  {
   "cell_type": "code",
   "execution_count": 7,
   "id": "85384d9e-6954-423f-8dc5-93831d8bf3a4",
   "metadata": {
    "autoscroll": false,
    "collapsed": false,
    "ein.hycell": false,
    "ein.tags": "worksheet-0",
    "jupyter": {
     "outputs_hidden": false
    },
    "slideshow": {
     "slide_type": "-"
    }
   },
   "outputs": [],
   "source": [
    "from pymongo import MongoClient"
   ]
  },
  {
   "cell_type": "code",
   "execution_count": 9,
   "id": "c716febd-f407-4fb4-b80e-a81cbd485778",
   "metadata": {
    "autoscroll": false,
    "collapsed": false,
    "ein.hycell": false,
    "ein.tags": "worksheet-0",
    "jupyter": {
     "outputs_hidden": false
    },
    "slideshow": {
     "slide_type": "-"
    }
   },
   "outputs": [],
   "source": [
    "local_mongo = 'localhost:27017'\n",
    "client = MongoClient(local_mongo)\n",
    "db = client.admin\n",
    "eba_db = client.eba"
   ]
  },
  {
   "cell_type": "code",
   "execution_count": 20,
   "id": "5d178a48-835b-4230-8429-03d485161300",
   "metadata": {
    "autoscroll": false,
    "collapsed": false,
    "ein.hycell": false,
    "ein.tags": "worksheet-0",
    "jupyter": {
     "outputs_hidden": false
    },
    "slideshow": {
     "slide_type": "-"
    }
   },
   "outputs": [],
   "source": [
    "# Make the eba database\n"
   ]
  },
  {
   "cell_type": "code",
   "execution_count": 28,
   "id": "3bdb8dc9-edf9-41c9-975c-ddb42e3d867e",
   "metadata": {
    "autoscroll": false,
    "collapsed": false,
    "ein.hycell": false,
    "ein.tags": "worksheet-0",
    "jupyter": {
     "outputs_hidden": false
    },
    "slideshow": {
     "slide_type": "-"
    }
   },
   "outputs": [],
   "source": [
    "def load_data_into_mongo():\n",
    "    with open('/tf/data/EBA/EBA.txt', 'r') as fp:\n",
    "        rv_lines = fp.readlines()\n",
    "    out_list = []\n",
    "    for i, r in enumerate(tqdm(rv_lines)):\n",
    "        out_list.append(json.loads(r))\n",
    "    for O in tqdm(out_list):\n",
    "        res = eba_db.datasets.insert_one(O)"
   ]
  },
  {
   "cell_type": "markdown",
   "id": "a2ac0bb9-4f59-4377-9a3e-27286ab63ceb",
   "metadata": {
    "collapsed": false,
    "ein.tags": "worksheet-0",
    "slideshow": {
     "slide_type": "-"
    }
   },
   "source": [
    "## Querying the DB\n"
   ]
  },
  {
   "cell_type": "code",
   "execution_count": 10,
   "id": "c7f8a261-2a0a-4b73-94f9-006aa3e02cb7",
   "metadata": {
    "autoscroll": false,
    "collapsed": false,
    "ein.hycell": false,
    "ein.tags": "worksheet-0",
    "jupyter": {
     "outputs_hidden": false
    },
    "slideshow": {
     "slide_type": "-"
    }
   },
   "outputs": [
    {
     "data": {
      "text/plain": [
       "2789"
      ]
     },
     "execution_count": 10,
     "metadata": {},
     "output_type": "execute_result"
    }
   ],
   "source": [
    "# get counts of documents\n",
    "eba_db.datasets.count_documents({})"
   ]
  },
  {
   "cell_type": "code",
   "execution_count": 22,
   "id": "ba66c539-f68b-4518-8775-058aa4a888f4",
   "metadata": {
    "autoscroll": false,
    "collapsed": false,
    "ein.hycell": false,
    "ein.tags": "worksheet-0",
    "jupyter": {
     "outputs_hidden": false
    },
    "slideshow": {
     "slide_type": "-"
    }
   },
   "outputs": [],
   "source": [
    "# get a series\n",
    "rv0 = eba_db.datasets.find_one({}, {\"series_id\": 1, \"description\": 1, \"start\":1, \"end\":1, \"_id\": 0, 'data':1})"
   ]
  },
  {
   "cell_type": "code",
   "execution_count": null,
   "id": "2e102ea9-594d-430e-9cef-e3953c51425d",
   "metadata": {
    "autoscroll": false,
    "collapsed": false,
    "ein.hycell": false,
    "ein.tags": "worksheet-0",
    "jupyter": {
     "outputs_hidden": false
    },
    "slideshow": {
     "slide_type": "-"
    }
   },
   "outputs": [],
   "source": [
    "- need some functions to select relevant data.  combination regexes"
   ]
  },
  {
   "cell_type": "code",
   "execution_count": 24,
   "id": "8a211c7b-118e-4568-b735-5a2c233b1c80",
   "metadata": {
    "autoscroll": false,
    "collapsed": false,
    "ein.hycell": false,
    "ein.tags": "worksheet-0",
    "jupyter": {
     "outputs_hidden": false
    },
    "slideshow": {
     "slide_type": "-"
    }
   },
   "outputs": [
    {
     "data": {
      "text/plain": [
       "'EBA.FPL-ALL.D.H'"
      ]
     },
     "execution_count": 24,
     "metadata": {},
     "output_type": "execute_result"
    }
   ],
   "source": [
    "rv0['series_id']"
   ]
  },
  {
   "cell_type": "code",
   "execution_count": 41,
   "id": "bfd41c0d-d639-4001-90ad-8275a5fee7e0",
   "metadata": {
    "autoscroll": false,
    "collapsed": false,
    "ein.hycell": false,
    "ein.tags": "worksheet-0",
    "jupyter": {
     "outputs_hidden": false
    },
    "slideshow": {
     "slide_type": "-"
    }
   },
   "outputs": [],
   "source": [
    "# build up query against DB to find relevant series\n",
    "rv = eba_db.datasets.find_one(filter={\"series_id\": {\"$regex\": \"FPL\"}}, projection={'series_id', 'name', 'description', 'start', 'end'})\n",
    "                              "
   ]
  },
  {
   "cell_type": "code",
   "execution_count": 42,
   "id": "f76a0d3c-75ba-4b36-8352-7fb9d3669b8f",
   "metadata": {
    "autoscroll": false,
    "collapsed": false,
    "ein.hycell": false,
    "ein.tags": "worksheet-0",
    "jupyter": {
     "outputs_hidden": false
    },
    "slideshow": {
     "slide_type": "-"
    }
   },
   "outputs": [
    {
     "data": {
      "text/plain": [
       "{'_id': ObjectId('609b7109392e2e93643d3976'),\n",
       " 'series_id': 'EBA.FPL-ALL.D.H',\n",
       " 'name': 'Demand for Florida Power & Light Co. (FPL), hourly - UTC time',\n",
       " 'description': 'Timestamps follow the ISO8601 standard (https://en.wikipedia.org/wiki/ISO_8601). Hourly representations are provided in Universal Time.',\n",
       " 'start': '20150701T05Z',\n",
       " 'end': '20200219T03Z'}"
      ]
     },
     "execution_count": 42,
     "metadata": {},
     "output_type": "execute_result"
    }
   ],
   "source": [
    "rv"
   ]
  },
  {
   "cell_type": "code",
   "execution_count": 47,
   "id": "bd2a1898-fcd8-4ab6-aca4-e8f68ca081d3",
   "metadata": {
    "autoscroll": false,
    "collapsed": false,
    "ein.hycell": false,
    "ein.tags": "worksheet-0",
    "jupyter": {
     "outputs_hidden": false
    },
    "slideshow": {
     "slide_type": "-"
    }
   },
   "outputs": [],
   "source": [
    "def get_descriptions(name_contains):\n",
    "    qs_filter = {\"series_id\": {\"$regex\": str(name_contains)}}\n",
    "    count = eba_db.datasets.count_documents(qs_filter)\n",
    "    print(f'{count} documents with {name_contains}')\n",
    "    qr = eba_db.datasets.find(qs_filter, projection={'series_id', 'name', 'description', 'start', 'end'})\n",
    "    rv = list(qr)\n",
    "    return rv    "
   ]
  },
  {
   "cell_type": "code",
   "execution_count": 48,
   "id": "1e9d08cd-2af9-4d19-b8de-71bc381e3167",
   "metadata": {
    "autoscroll": false,
    "collapsed": false,
    "ein.hycell": false,
    "ein.tags": "worksheet-0",
    "jupyter": {
     "outputs_hidden": false
    },
    "slideshow": {
     "slide_type": "-"
    }
   },
   "outputs": [
    {
     "name": "stdout",
     "output_type": "stream",
     "text": [
      "26 documents with PGE\n"
     ]
    },
    {
     "data": {
      "text/plain": [
       "[{'_id': ObjectId('609b710d392e2e93643d39aa'),\n",
       "  'series_id': 'EBA.PGE-ALL.D.H',\n",
       "  'name': 'Demand for Portland General Electric Company (PGE), hourly - UTC time',\n",
       "  'description': 'Timestamps follow the ISO8601 standard (https://en.wikipedia.org/wiki/ISO_8601). Hourly representations are provided in Universal Time.',\n",
       "  'start': '20150722T08Z',\n",
       "  'end': '20200219T03Z'},\n",
       " {'_id': ObjectId('609b710f392e2e93643d39d5'),\n",
       "  'series_id': 'EBA.PGE-ALL.D.HL',\n",
       "  'name': 'Demand for Portland General Electric Company (PGE), hourly - local time',\n",
       "  'description': 'Timestamps follow the ISO8601 standard (https://en.wikipedia.org/wiki/ISO_8601). Hourly representations are provided in local time for the balancing authority or region.',\n",
       "  'start': '20150722T01-07',\n",
       "  'end': '20200218T19-08'},\n",
       " {'_id': ObjectId('609b711c392e2e93643d3a9f'),\n",
       "  'series_id': 'EBA.PGE-BPAT.ID.H',\n",
       "  'name': 'Actual Net Interchange for Portland General Electric Company (PGE) to Bonneville Power Administration (BPAT), hourly - UTC time',\n",
       "  'description': 'Timestamps follow the ISO8601 standard (https://en.wikipedia.org/wiki/ISO_8601). Hourly representations are provided in Universal Time.',\n",
       "  'start': '20150721T08Z',\n",
       "  'end': '20200217T08Z'},\n",
       " {'_id': ObjectId('609b711c392e2e93643d3aa0'),\n",
       "  'series_id': 'EBA.PGE-PACW.ID.H',\n",
       "  'name': 'Actual Net Interchange for Portland General Electric Company (PGE) to PacifiCorp West (PACW), hourly - UTC time',\n",
       "  'description': 'Timestamps follow the ISO8601 standard (https://en.wikipedia.org/wiki/ISO_8601). Hourly representations are provided in Universal Time.',\n",
       "  'start': '20150721T08Z',\n",
       "  'end': '20200217T08Z'},\n",
       " {'_id': ObjectId('609b711e392e2e93643d3ac2'),\n",
       "  'series_id': 'EBA.PACW-PGE.ID.H',\n",
       "  'name': 'Actual Net Interchange for PacifiCorp West (PACW) to Portland General Electric Company (PGE), hourly - UTC time',\n",
       "  'description': 'Timestamps follow the ISO8601 standard (https://en.wikipedia.org/wiki/ISO_8601). Hourly representations are provided in Universal Time.',\n",
       "  'start': '20150701T08Z',\n",
       "  'end': '20200217T08Z'},\n",
       " {'_id': ObjectId('609b712a392e2e93643d3b75'),\n",
       "  'series_id': 'EBA.BPAT-PGE.ID.H',\n",
       "  'name': 'Actual Net Interchange for Bonneville Power Administration (BPAT) to Portland General Electric Company (PGE), hourly - UTC time',\n",
       "  'description': 'Timestamps follow the ISO8601 standard (https://en.wikipedia.org/wiki/ISO_8601). Hourly representations are provided in Universal Time.',\n",
       "  'start': '20150701T08Z',\n",
       "  'end': '20200217T08Z'},\n",
       " {'_id': ObjectId('609b7132392e2e93643d3bf2'),\n",
       "  'series_id': 'EBA.PACW-PGE.ID.HL',\n",
       "  'name': 'Actual Net Interchange for PacifiCorp West (PACW) to Portland General Electric Company (PGE), hourly - local time',\n",
       "  'description': 'Timestamps follow the ISO8601 standard (https://en.wikipedia.org/wiki/ISO_8601). Hourly representations are provided in local time for the balancing authority or region.',\n",
       "  'start': '20150701T01-07',\n",
       "  'end': '20200217T00-08'},\n",
       " {'_id': ObjectId('609b7133392e2e93643d3c06'),\n",
       "  'series_id': 'EBA.BPAT-PGE.ID.HL',\n",
       "  'name': 'Actual Net Interchange for Bonneville Power Administration (BPAT) to Portland General Electric Company (PGE), hourly - local time',\n",
       "  'description': 'Timestamps follow the ISO8601 standard (https://en.wikipedia.org/wiki/ISO_8601). Hourly representations are provided in local time for the balancing authority or region.',\n",
       "  'start': '20150701T01-07',\n",
       "  'end': '20200217T00-08'},\n",
       " {'_id': ObjectId('609b7137392e2e93643d3c48'),\n",
       "  'series_id': 'EBA.PGE-BPAT.ID.HL',\n",
       "  'name': 'Actual Net Interchange for Portland General Electric Company (PGE) to Bonneville Power Administration (BPAT), hourly - local time',\n",
       "  'description': 'Timestamps follow the ISO8601 standard (https://en.wikipedia.org/wiki/ISO_8601). Hourly representations are provided in local time for the balancing authority or region.',\n",
       "  'start': '20150721T01-07',\n",
       "  'end': '20200217T00-08'},\n",
       " {'_id': ObjectId('609b7137392e2e93643d3c49'),\n",
       "  'series_id': 'EBA.PGE-PACW.ID.HL',\n",
       "  'name': 'Actual Net Interchange for Portland General Electric Company (PGE) to PacifiCorp West (PACW), hourly - local time',\n",
       "  'description': 'Timestamps follow the ISO8601 standard (https://en.wikipedia.org/wiki/ISO_8601). Hourly representations are provided in local time for the balancing authority or region.',\n",
       "  'start': '20150721T01-07',\n",
       "  'end': '20200217T00-08'},\n",
       " {'_id': ObjectId('609b7144392e2e93643d3dcf'),\n",
       "  'series_id': 'EBA.PGE-ALL.NG.NG.HL',\n",
       "  'name': 'Net generation from natural gas for Portland General Electric Company (PGE), hourly - local time',\n",
       "  'description': 'Timestamps follow the ISO8601 standard (https://en.wikipedia.org/wiki/ISO_8601). Hourly representations are provided in local time for the balancing authority or region.',\n",
       "  'start': '20180701T01-07',\n",
       "  'end': '20200218T00-08'},\n",
       " {'_id': ObjectId('609b7144392e2e93643d3dd0'),\n",
       "  'series_id': 'EBA.PGE-ALL.NG.COL.HL',\n",
       "  'name': 'Net generation from coal for Portland General Electric Company (PGE), hourly - local time',\n",
       "  'description': 'Timestamps follow the ISO8601 standard (https://en.wikipedia.org/wiki/ISO_8601). Hourly representations are provided in local time for the balancing authority or region.',\n",
       "  'start': '20190319T01-07',\n",
       "  'end': '20200218T00-08'},\n",
       " {'_id': ObjectId('609b7144392e2e93643d3dd1'),\n",
       "  'series_id': 'EBA.PGE-ALL.NG.OTH.HL',\n",
       "  'name': 'Net generation from other for Portland General Electric Company (PGE), hourly - local time',\n",
       "  'description': 'Timestamps follow the ISO8601 standard (https://en.wikipedia.org/wiki/ISO_8601). Hourly representations are provided in local time for the balancing authority or region.',\n",
       "  'start': '20180701T01-07',\n",
       "  'end': '20200218T00-08'},\n",
       " {'_id': ObjectId('609b7144392e2e93643d3dd2'),\n",
       "  'series_id': 'EBA.PGE-ALL.NG.WAT.HL',\n",
       "  'name': 'Net generation from hydro for Portland General Electric Company (PGE), hourly - local time',\n",
       "  'description': 'Timestamps follow the ISO8601 standard (https://en.wikipedia.org/wiki/ISO_8601). Hourly representations are provided in local time for the balancing authority or region.',\n",
       "  'start': '20180701T01-07',\n",
       "  'end': '20200218T00-08'},\n",
       " {'_id': ObjectId('609b7144392e2e93643d3dd3'),\n",
       "  'series_id': 'EBA.PGE-ALL.NG.WND.HL',\n",
       "  'name': 'Net generation from wind for Portland General Electric Company (PGE), hourly - local time',\n",
       "  'description': 'Timestamps follow the ISO8601 standard (https://en.wikipedia.org/wiki/ISO_8601). Hourly representations are provided in local time for the balancing authority or region.',\n",
       "  'start': '20190319T01-07',\n",
       "  'end': '20200218T00-08'},\n",
       " {'_id': ObjectId('609b714a392e2e93643d3ec5'),\n",
       "  'series_id': 'EBA.PGE-ALL.NG.NG.H',\n",
       "  'name': 'Net generation from natural gas for Portland General Electric Company (PGE), hourly - UTC time',\n",
       "  'description': 'Timestamps follow the ISO8601 standard (https://en.wikipedia.org/wiki/ISO_8601). Hourly representations are provided in Universal Time.',\n",
       "  'start': '20180701T08Z',\n",
       "  'end': '20200218T08Z'},\n",
       " {'_id': ObjectId('609b714a392e2e93643d3ec6'),\n",
       "  'series_id': 'EBA.PGE-ALL.NG.COL.H',\n",
       "  'name': 'Net generation from coal for Portland General Electric Company (PGE), hourly - UTC time',\n",
       "  'description': 'Timestamps follow the ISO8601 standard (https://en.wikipedia.org/wiki/ISO_8601). Hourly representations are provided in Universal Time.',\n",
       "  'start': '20190319T08Z',\n",
       "  'end': '20200218T08Z'},\n",
       " {'_id': ObjectId('609b714a392e2e93643d3ec7'),\n",
       "  'series_id': 'EBA.PGE-ALL.NG.OTH.H',\n",
       "  'name': 'Net generation from other for Portland General Electric Company (PGE), hourly - UTC time',\n",
       "  'description': 'Timestamps follow the ISO8601 standard (https://en.wikipedia.org/wiki/ISO_8601). Hourly representations are provided in Universal Time.',\n",
       "  'start': '20180701T08Z',\n",
       "  'end': '20200218T08Z'},\n",
       " {'_id': ObjectId('609b714a392e2e93643d3ec8'),\n",
       "  'series_id': 'EBA.PGE-ALL.NG.WAT.H',\n",
       "  'name': 'Net generation from hydro for Portland General Electric Company (PGE), hourly - UTC time',\n",
       "  'description': 'Timestamps follow the ISO8601 standard (https://en.wikipedia.org/wiki/ISO_8601). Hourly representations are provided in Universal Time.',\n",
       "  'start': '20180701T08Z',\n",
       "  'end': '20200218T08Z'},\n",
       " {'_id': ObjectId('609b714a392e2e93643d3ec9'),\n",
       "  'series_id': 'EBA.PGE-ALL.NG.WND.H',\n",
       "  'name': 'Net generation from wind for Portland General Electric Company (PGE), hourly - UTC time',\n",
       "  'description': 'Timestamps follow the ISO8601 standard (https://en.wikipedia.org/wiki/ISO_8601). Hourly representations are provided in Universal Time.',\n",
       "  'start': '20190319T08Z',\n",
       "  'end': '20200218T08Z'},\n",
       " {'_id': ObjectId('609b715d392e2e93643d40f3'),\n",
       "  'series_id': 'EBA.PGE-ALL.DF.HL',\n",
       "  'name': 'Day-ahead demand forecast for Portland General Electric Company (PGE), hourly - local time',\n",
       "  'description': 'Timestamps follow the ISO8601 standard (https://en.wikipedia.org/wiki/ISO_8601). Hourly representations are provided in local time for the balancing authority or region.',\n",
       "  'start': '20150910T01-07',\n",
       "  'end': '20200219T00-08'},\n",
       " {'_id': ObjectId('609b715d392e2e93643d40f4'),\n",
       "  'series_id': 'EBA.PGE-ALL.NG.HL',\n",
       "  'name': 'Net generation for Portland General Electric Company (PGE), hourly - local time',\n",
       "  'description': 'Timestamps follow the ISO8601 standard (https://en.wikipedia.org/wiki/ISO_8601). Hourly representations are provided in local time for the balancing authority or region.',\n",
       "  'start': '20150722T01-07',\n",
       "  'end': '20200218T00-08'},\n",
       " {'_id': ObjectId('609b715e392e2e93643d40f5'),\n",
       "  'series_id': 'EBA.PGE-ALL.TI.HL',\n",
       "  'name': 'Total interchange for Portland General Electric Company (PGE), hourly - local time',\n",
       "  'description': 'Timestamps follow the ISO8601 standard (https://en.wikipedia.org/wiki/ISO_8601). Hourly representations are provided in local time for the balancing authority or region.',\n",
       "  'start': '20150722T01-07',\n",
       "  'end': '20200218T00-08'},\n",
       " {'_id': ObjectId('609b7169392e2e93643d41a8'),\n",
       "  'series_id': 'EBA.PGE-ALL.DF.H',\n",
       "  'name': 'Day-ahead demand forecast for Portland General Electric Company (PGE), hourly - UTC time',\n",
       "  'description': 'Timestamps follow the ISO8601 standard (https://en.wikipedia.org/wiki/ISO_8601). Hourly representations are provided in Universal Time.',\n",
       "  'start': '20150910T08Z',\n",
       "  'end': '20200219T08Z'},\n",
       " {'_id': ObjectId('609b7169392e2e93643d41a9'),\n",
       "  'series_id': 'EBA.PGE-ALL.NG.H',\n",
       "  'name': 'Net generation for Portland General Electric Company (PGE), hourly - UTC time',\n",
       "  'description': 'Timestamps follow the ISO8601 standard (https://en.wikipedia.org/wiki/ISO_8601). Hourly representations are provided in Universal Time.',\n",
       "  'start': '20150722T08Z',\n",
       "  'end': '20200218T08Z'},\n",
       " {'_id': ObjectId('609b7169392e2e93643d41aa'),\n",
       "  'series_id': 'EBA.PGE-ALL.TI.H',\n",
       "  'name': 'Total interchange for Portland General Electric Company (PGE), hourly - UTC time',\n",
       "  'description': 'Timestamps follow the ISO8601 standard (https://en.wikipedia.org/wiki/ISO_8601). Hourly representations are provided in Universal Time.',\n",
       "  'start': '20150722T08Z',\n",
       "  'end': '20200218T08Z'}]"
      ]
     },
     "execution_count": 48,
     "metadata": {},
     "output_type": "execute_result"
    }
   ],
   "source": [
    "get_descriptions('PGE')"
   ]
  },
  {
   "cell_type": "code",
   "execution_count": 45,
   "id": "9fe8d089-ae96-4a47-8afc-17739b2d22ff",
   "metadata": {
    "autoscroll": false,
    "collapsed": false,
    "ein.hycell": false,
    "ein.tags": "worksheet-0",
    "jupyter": {
     "outputs_hidden": false
    },
    "slideshow": {
     "slide_type": "-"
    }
   },
   "outputs": [],
   "source": [
    "#sub_list = [o for o in out_list if o.get('data')]\n",
    "#df = pd.DataFrame([o['data'] for o in sub_list], columns=[o['name'] for o in sub_list])"
   ]
  }
 ],
 "metadata": {
  "kernelspec": {
   "argv": [
    "/usr/bin/python3",
    "-m",
    "ipykernel_launcher",
    "-f",
    "{connection_file}"
   ],
   "display_name": "Python 3",
   "env": null,
   "interrupt_mode": "signal",
   "language": "python",
   "metadata": null,
   "name": "python3"
  },
  "language_info": {
   "codemirror_mode": {
    "name": "ipython",
    "version": 3
   },
   "file_extension": ".py",
   "mimetype": "text/x-python",
   "name": "python",
   "nbconvert_exporter": "python",
   "pygments_lexer": "ipython3",
   "version": "3.8.10"
  },
  "name": "EBA_Mongo.ipynb",
  "vscode": {
   "interpreter": {
    "hash": "31f2aee4e71d21fbe5cf8b01ff0e069b9275f58929596ceb00d14d90e3e16cd6"
   }
  }
 },
 "nbformat": 4,
 "nbformat_minor": 5
}
