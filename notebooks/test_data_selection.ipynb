{
 "cells": [
  {
   "cell_type": "markdown",
   "id": "82c45314-2e8f-4091-844e-12b72eeaa3f7",
   "metadata": {
    "collapsed": false
   },
   "source": [
    "# Scratch Data Selection Notebook\n",
    "\n",
    "- After data has been loaded in, lets do the actual data querying in SQL.\n",
    "\n",
    "Builds of us_elec/SQL/datasets.py to build up dataset for forecasting"
   ]
  },
  {
   "cell_type": "code",
   "execution_count": 1,
   "id": "b02469b0-5926-4063-b964-5a5305866215",
   "metadata": {
    "autoscroll": false,
    "collapsed": false,
    "ein.hycell": false,
    "ein.tags": "worksheet-0",
    "slideshow": {
     "slide_type": "-"
    }
   },
   "outputs": [],
   "source": [
    "import pandas as pd\n",
    "import sklearn"
   ]
  },
  {
   "cell_type": "code",
   "execution_count": 3,
   "id": "c22f0071-20d8-44cd-acc0-15b46ce56128",
   "metadata": {
    "collapsed": false
   },
   "outputs": [],
   "source": [
    "from us_elec.SQL.sqldriver import SQLDriver"
   ]
  },
  {
   "cell_type": "code",
   "execution_count": 4,
   "id": "6f9ef394-35d6-49cd-af0a-eee742c9b861",
   "metadata": {
    "collapsed": false
   },
   "outputs": [],
   "source": [
    "from datetime import datetime"
   ]
  },
  {
   "cell_type": "code",
   "execution_count": 5,
   "id": "2f8ed688-b878-4a40-9490-161d61ea3cfc",
   "metadata": {
    "collapsed": false
   },
   "outputs": [],
   "source": [
    "sqldr = SQLDriver()"
   ]
  },
  {
   "cell_type": "code",
   "execution_count": 6,
   "id": "d6b674e0-0307-476b-a073-39dfe193f2ac",
   "metadata": {
    "collapsed": false
   },
   "outputs": [
    {
     "data": {
      "text/plain": [
       "[(datetime.datetime(2023, 3, 2, 22, 0, tzinfo=datetime.timezone.utc),\n",
       "  23,\n",
       "  4,\n",
       "  7953.0),\n",
       " (datetime.datetime(2023, 3, 2, 21, 0, tzinfo=datetime.timezone.utc),\n",
       "  23,\n",
       "  4,\n",
       "  7882.0),\n",
       " (datetime.datetime(2023, 3, 2, 20, 0, tzinfo=datetime.timezone.utc),\n",
       "  23,\n",
       "  4,\n",
       "  8055.0),\n",
       " (datetime.datetime(2023, 3, 2, 19, 0, tzinfo=datetime.timezone.utc),\n",
       "  23,\n",
       "  4,\n",
       "  8269.0),\n",
       " (datetime.datetime(2023, 3, 2, 18, 0, tzinfo=datetime.timezone.utc),\n",
       "  23,\n",
       "  4,\n",
       "  8495.0),\n",
       " (datetime.datetime(2023, 3, 2, 17, 0, tzinfo=datetime.timezone.utc),\n",
       "  23,\n",
       "  4,\n",
       "  8644.0),\n",
       " (datetime.datetime(2023, 3, 2, 16, 0, tzinfo=datetime.timezone.utc),\n",
       "  23,\n",
       "  4,\n",
       "  8736.0),\n",
       " (datetime.datetime(2023, 3, 2, 15, 0, tzinfo=datetime.timezone.utc),\n",
       "  23,\n",
       "  4,\n",
       "  8457.0),\n",
       " (datetime.datetime(2023, 3, 2, 14, 0, tzinfo=datetime.timezone.utc),\n",
       "  23,\n",
       "  4,\n",
       "  7732.0),\n",
       " (datetime.datetime(2023, 3, 2, 13, 0, tzinfo=datetime.timezone.utc),\n",
       "  23,\n",
       "  4,\n",
       "  7158.0)]"
      ]
     },
     "execution_count": 6,
     "metadata": {},
     "output_type": "execute_result"
    }
   ],
   "source": [
    "sqldr.get_data(\"SELECT * FROM EBA LIMIT 10;\")"
   ]
  },
  {
   "cell_type": "code",
   "execution_count": 7,
   "id": "6235506b-dad7-4ae0-9679-d366f57617cb",
   "metadata": {
    "collapsed": false
   },
   "outputs": [],
   "source": [
    "from us_elec.SQL.datasets import SimpleDataSet\n",
    "from us_elec.SQL.sqldriver import ISDDF, EBAName, EBAAbbr\n",
    "from datetime import datetime"
   ]
  },
  {
   "cell_type": "code",
   "execution_count": 8,
   "id": "5dd72a65-12b1-44f2-a00d-56f4f780b55d",
   "metadata": {
    "collapsed": false
   },
   "outputs": [],
   "source": [
    "sd = SimpleDataSet()"
   ]
  },
  {
   "cell_type": "code",
   "execution_count": 9,
   "id": "5949e9b9-425f-46a7-9197-a1df916867ab",
   "metadata": {
    "collapsed": false
   },
   "outputs": [],
   "source": [
    "t1 = datetime(2019,5,1)\n",
    "t2 = datetime(2019,5,2)\n",
    "r0 = sd.get_eba_record(EBAAbbr.D, t1, t2)\n",
    "r1 = sd.get_isd_record(ISDDF.TEMPERATURE, t1, t2)"
   ]
  },
  {
   "cell_type": "code",
   "execution_count": 10,
   "id": "8d27f18b-5a7e-42e4-96f5-30cd50ae91c1",
   "metadata": {
    "collapsed": false
   },
   "outputs": [
    {
     "data": {
      "text/plain": [
       "array([[ 639., 2358., 1384., ..., 3163., 1017.,   68.],\n",
       "       [ 623., 2360., 1405., ..., 3167., 1070.,   69.],\n",
       "       [ 560., 2210., 1412., ..., 3246., 1068.,   68.],\n",
       "       ...,\n",
       "       [ 680., 2133., 1404., ..., 2340.,  956.,   72.],\n",
       "       [ 676., 2190., 1393., ..., 2369., 1006.,   73.],\n",
       "       [ 655., 2257., 1390., ..., 2382., 1050.,   72.]])"
      ]
     },
     "execution_count": 10,
     "metadata": {},
     "output_type": "execute_result"
    }
   ],
   "source": [
    "r0.values"
   ]
  },
  {
   "cell_type": "code",
   "execution_count": 11,
   "metadata": {},
   "outputs": [
    {
     "data": {
      "text/plain": [
       "Index(['AEC', 'AECI', 'AVA', 'AZPS', 'BANC', 'BPAT', 'CAL', 'CAR', 'CENT',\n",
       "       'CHPD', 'CISO', 'CPLE', 'CPLW', 'DOPD', 'DUK', 'EPE', 'ERCO', 'FLA',\n",
       "       'FMPP', 'FPC', 'FPL', 'GCPD', 'GVL', 'HST', 'IID', 'IPCO', 'ISNE',\n",
       "       'JEA', 'LDWP', 'LGEE', 'MIDA', 'MIDW', 'MISO', 'NE', 'NEVP', 'NSB',\n",
       "       'NW', 'NWMT', 'NY', 'NYIS', 'PACE', 'PACW', 'PGE', 'PJM', 'PNM', 'PSCO',\n",
       "       'PSEI', 'SC', 'SCEG', 'SCL', 'SE', 'SEC', 'SOCO', 'SPA', 'SRP', 'SW',\n",
       "       'SWPP', 'TAL', 'TEC', 'TEN', 'TEPC', 'TEX', 'TIDC', 'TPWR', 'TVA',\n",
       "       'US48', 'WACM', 'WALC', 'WAUW'],\n",
       "      dtype='object', name='abbr')"
      ]
     },
     "execution_count": 11,
     "metadata": {},
     "output_type": "execute_result"
    }
   ],
   "source": [
    "r0.columns"
   ]
  },
  {
   "cell_type": "markdown",
   "id": "62d347f3-c973-406b-abea-d267e6730369",
   "metadata": {
    "collapsed": false
   },
   "source": []
  },
  {
   "cell_type": "code",
   "execution_count": 12,
   "id": "01b6a6fd-be32-4f34-8d45-89a3c3feef29",
   "metadata": {
    "collapsed": false
   },
   "outputs": [
    {
     "data": {
      "text/html": [
       "<div>\n",
       "<style scoped>\n",
       "    .dataframe tbody tr th:only-of-type {\n",
       "        vertical-align: middle;\n",
       "    }\n",
       "\n",
       "    .dataframe tbody tr th {\n",
       "        vertical-align: top;\n",
       "    }\n",
       "\n",
       "    .dataframe thead th {\n",
       "        text-align: right;\n",
       "    }\n",
       "</style>\n",
       "<table border=\"1\" class=\"dataframe\">\n",
       "  <thead>\n",
       "    <tr style=\"text-align: right;\">\n",
       "      <th>abbr</th>\n",
       "      <th>AEC</th>\n",
       "      <th>AECI</th>\n",
       "      <th>AVA</th>\n",
       "      <th>AZPS</th>\n",
       "      <th>BANC</th>\n",
       "      <th>BPAT</th>\n",
       "      <th>CAL</th>\n",
       "      <th>CAR</th>\n",
       "      <th>CENT</th>\n",
       "      <th>CHPD</th>\n",
       "      <th>...</th>\n",
       "      <th>TEN</th>\n",
       "      <th>TEPC</th>\n",
       "      <th>TEX</th>\n",
       "      <th>TIDC</th>\n",
       "      <th>TPWR</th>\n",
       "      <th>TVA</th>\n",
       "      <th>US48</th>\n",
       "      <th>WACM</th>\n",
       "      <th>WALC</th>\n",
       "      <th>WAUW</th>\n",
       "    </tr>\n",
       "    <tr>\n",
       "      <th>ts</th>\n",
       "      <th></th>\n",
       "      <th></th>\n",
       "      <th></th>\n",
       "      <th></th>\n",
       "      <th></th>\n",
       "      <th></th>\n",
       "      <th></th>\n",
       "      <th></th>\n",
       "      <th></th>\n",
       "      <th></th>\n",
       "      <th></th>\n",
       "      <th></th>\n",
       "      <th></th>\n",
       "      <th></th>\n",
       "      <th></th>\n",
       "      <th></th>\n",
       "      <th></th>\n",
       "      <th></th>\n",
       "      <th></th>\n",
       "      <th></th>\n",
       "      <th></th>\n",
       "    </tr>\n",
       "  </thead>\n",
       "  <tbody>\n",
       "    <tr>\n",
       "      <th>2019-05-01 01:00:00+00:00</th>\n",
       "      <td>639.0</td>\n",
       "      <td>2358.0</td>\n",
       "      <td>1384.0</td>\n",
       "      <td>3368.0</td>\n",
       "      <td>-540844.0</td>\n",
       "      <td>5873.0</td>\n",
       "      <td>29459.0</td>\n",
       "      <td>29024.0</td>\n",
       "      <td>29103.0</td>\n",
       "      <td>153.0</td>\n",
       "      <td>...</td>\n",
       "      <td>20181.0</td>\n",
       "      <td>1374.0</td>\n",
       "      <td>46715.0</td>\n",
       "      <td>315.0</td>\n",
       "      <td>519.0</td>\n",
       "      <td>20181.0</td>\n",
       "      <td>473211.0</td>\n",
       "      <td>3163.0</td>\n",
       "      <td>1017.0</td>\n",
       "      <td>68.0</td>\n",
       "    </tr>\n",
       "    <tr>\n",
       "      <th>2019-05-01 02:00:00+00:00</th>\n",
       "      <td>623.0</td>\n",
       "      <td>2360.0</td>\n",
       "      <td>1405.0</td>\n",
       "      <td>3442.0</td>\n",
       "      <td>-1056086.0</td>\n",
       "      <td>5975.0</td>\n",
       "      <td>30394.0</td>\n",
       "      <td>27380.0</td>\n",
       "      <td>28949.0</td>\n",
       "      <td>151.0</td>\n",
       "      <td>...</td>\n",
       "      <td>19815.0</td>\n",
       "      <td>1364.0</td>\n",
       "      <td>47016.0</td>\n",
       "      <td>310.0</td>\n",
       "      <td>521.0</td>\n",
       "      <td>19815.0</td>\n",
       "      <td>465679.0</td>\n",
       "      <td>3167.0</td>\n",
       "      <td>1070.0</td>\n",
       "      <td>69.0</td>\n",
       "    </tr>\n",
       "    <tr>\n",
       "      <th>2019-05-01 03:00:00+00:00</th>\n",
       "      <td>560.0</td>\n",
       "      <td>2210.0</td>\n",
       "      <td>1412.0</td>\n",
       "      <td>3497.0</td>\n",
       "      <td>1846.0</td>\n",
       "      <td>6054.0</td>\n",
       "      <td>31802.0</td>\n",
       "      <td>24653.0</td>\n",
       "      <td>28044.0</td>\n",
       "      <td>156.0</td>\n",
       "      <td>...</td>\n",
       "      <td>18394.0</td>\n",
       "      <td>1342.0</td>\n",
       "      <td>45822.0</td>\n",
       "      <td>311.0</td>\n",
       "      <td>522.0</td>\n",
       "      <td>18394.0</td>\n",
       "      <td>443920.0</td>\n",
       "      <td>3246.0</td>\n",
       "      <td>1068.0</td>\n",
       "      <td>68.0</td>\n",
       "    </tr>\n",
       "    <tr>\n",
       "      <th>2019-05-01 04:00:00+00:00</th>\n",
       "      <td>488.0</td>\n",
       "      <td>1962.0</td>\n",
       "      <td>1439.0</td>\n",
       "      <td>3512.0</td>\n",
       "      <td>1919.0</td>\n",
       "      <td>6176.0</td>\n",
       "      <td>32619.0</td>\n",
       "      <td>22215.0</td>\n",
       "      <td>26536.0</td>\n",
       "      <td>157.0</td>\n",
       "      <td>...</td>\n",
       "      <td>16722.0</td>\n",
       "      <td>1272.0</td>\n",
       "      <td>43099.0</td>\n",
       "      <td>320.0</td>\n",
       "      <td>533.0</td>\n",
       "      <td>16722.0</td>\n",
       "      <td>418379.0</td>\n",
       "      <td>3132.0</td>\n",
       "      <td>1044.0</td>\n",
       "      <td>74.0</td>\n",
       "    </tr>\n",
       "    <tr>\n",
       "      <th>2019-05-01 05:00:00+00:00</th>\n",
       "      <td>429.0</td>\n",
       "      <td>1847.0</td>\n",
       "      <td>1378.0</td>\n",
       "      <td>3314.0</td>\n",
       "      <td>1846.0</td>\n",
       "      <td>5972.0</td>\n",
       "      <td>31179.0</td>\n",
       "      <td>20274.0</td>\n",
       "      <td>25041.0</td>\n",
       "      <td>154.0</td>\n",
       "      <td>...</td>\n",
       "      <td>15205.0</td>\n",
       "      <td>1088.0</td>\n",
       "      <td>40019.0</td>\n",
       "      <td>312.0</td>\n",
       "      <td>522.0</td>\n",
       "      <td>15205.0</td>\n",
       "      <td>391291.0</td>\n",
       "      <td>2975.0</td>\n",
       "      <td>997.0</td>\n",
       "      <td>69.0</td>\n",
       "    </tr>\n",
       "  </tbody>\n",
       "</table>\n",
       "<p>5 rows × 69 columns</p>\n",
       "</div>"
      ],
      "text/plain": [
       "abbr                         AEC    AECI     AVA    AZPS       BANC    BPAT  \\\n",
       "ts                                                                            \n",
       "2019-05-01 01:00:00+00:00  639.0  2358.0  1384.0  3368.0  -540844.0  5873.0   \n",
       "2019-05-01 02:00:00+00:00  623.0  2360.0  1405.0  3442.0 -1056086.0  5975.0   \n",
       "2019-05-01 03:00:00+00:00  560.0  2210.0  1412.0  3497.0     1846.0  6054.0   \n",
       "2019-05-01 04:00:00+00:00  488.0  1962.0  1439.0  3512.0     1919.0  6176.0   \n",
       "2019-05-01 05:00:00+00:00  429.0  1847.0  1378.0  3314.0     1846.0  5972.0   \n",
       "\n",
       "abbr                           CAL      CAR     CENT   CHPD  ...      TEN  \\\n",
       "ts                                                           ...            \n",
       "2019-05-01 01:00:00+00:00  29459.0  29024.0  29103.0  153.0  ...  20181.0   \n",
       "2019-05-01 02:00:00+00:00  30394.0  27380.0  28949.0  151.0  ...  19815.0   \n",
       "2019-05-01 03:00:00+00:00  31802.0  24653.0  28044.0  156.0  ...  18394.0   \n",
       "2019-05-01 04:00:00+00:00  32619.0  22215.0  26536.0  157.0  ...  16722.0   \n",
       "2019-05-01 05:00:00+00:00  31179.0  20274.0  25041.0  154.0  ...  15205.0   \n",
       "\n",
       "abbr                         TEPC      TEX   TIDC   TPWR      TVA      US48  \\\n",
       "ts                                                                            \n",
       "2019-05-01 01:00:00+00:00  1374.0  46715.0  315.0  519.0  20181.0  473211.0   \n",
       "2019-05-01 02:00:00+00:00  1364.0  47016.0  310.0  521.0  19815.0  465679.0   \n",
       "2019-05-01 03:00:00+00:00  1342.0  45822.0  311.0  522.0  18394.0  443920.0   \n",
       "2019-05-01 04:00:00+00:00  1272.0  43099.0  320.0  533.0  16722.0  418379.0   \n",
       "2019-05-01 05:00:00+00:00  1088.0  40019.0  312.0  522.0  15205.0  391291.0   \n",
       "\n",
       "abbr                         WACM    WALC  WAUW  \n",
       "ts                                               \n",
       "2019-05-01 01:00:00+00:00  3163.0  1017.0  68.0  \n",
       "2019-05-01 02:00:00+00:00  3167.0  1070.0  69.0  \n",
       "2019-05-01 03:00:00+00:00  3246.0  1068.0  68.0  \n",
       "2019-05-01 04:00:00+00:00  3132.0  1044.0  74.0  \n",
       "2019-05-01 05:00:00+00:00  2975.0   997.0  69.0  \n",
       "\n",
       "[5 rows x 69 columns]"
      ]
     },
     "execution_count": 12,
     "metadata": {},
     "output_type": "execute_result"
    }
   ],
   "source": [
    "r0.head()"
   ]
  },
  {
   "cell_type": "markdown",
   "id": "c937b212-0920-4b51-8b4e-be8a1eb25c81",
   "metadata": {
    "collapsed": false
   },
   "source": [
    "DataBase Structure\n",
    "\n",
    "- So this is a mess.  I wanted a place to play with Raw SQL.EBAName\n",
    "\n",
    "Table structure is:\n",
    "EBA (dt, station_id, name_id, value)\n",
    "EBAMeta (id, variable_name)\n",
    "ISO (dt, iso_id, name_id, value)\n",
    "ISOMeta (id, variable_name)\n",
    "\n",
    "Idea being you inner join to Meta tables to get full name at query time.  Save space and inserts just using integers rather than 10^8 long strings.  \n",
    "\n",
    "Then build up SQL queries programmatically in Python to do that work.  use Python classes to collect the labels.\n",
    "\n",
    "Populate the Meta tables initially. \n",
    "\n",
    "ColName used for SQL columns\n",
    "EBAName for EBA tables\n",
    "EBAAbbr for EBA variable names\n",
    "EBAGenAbbr for EBA variable names\n",
    "\n",
    "ISDName for ISD tables\n",
    "ISDDF for ISD variable names and conversion.\n",
    "\n",
    "But, used variable names as abbreviation names, with a dict for lookup.\n",
    "Should probably be tuple to allow lookup of both quickly.\n",
    "\n",
    "Really this feels more like I should just move over to using SQLAlchemy to define the tables, and do the querying rather than building my own crummy library. "
   ]
  },
  {
   "cell_type": "code",
   "execution_count": 13,
   "id": "04ae6de3-124f-482a-9f54-2c88aad65cbf",
   "metadata": {
    "collapsed": false
   },
   "outputs": [],
   "source": [
    "import boto3\n"
   ]
  },
  {
   "cell_type": "code",
   "execution_count": 14,
   "id": "eb298e67-5b17-4e1d-bfc0-ef2b919b7370",
   "metadata": {
    "collapsed": false
   },
   "outputs": [],
   "source": [
    "#!cat /root/.aws/credentials"
   ]
  },
  {
   "cell_type": "code",
   "execution_count": null,
   "id": "5dd59b8e-7854-4705-a823-7a34e69049af",
   "metadata": {
    "collapsed": false
   },
   "outputs": [],
   "source": []
  },
  {
   "cell_type": "code",
   "execution_count": 5,
   "id": "0f9ad61e-331b-46ef-8d44-0c618de8a636",
   "metadata": {
    "collapsed": false
   },
   "outputs": [
    {
     "name": "stdout",
     "output_type": "stream",
     "text": [
      "Automatic pdb calling has been turned OFF\n"
     ]
    }
   ],
   "source": [
    "%pdb off\n",
    "import boto3\n",
    "bucket = 'noaa-ndfd-pds'\n",
    "#Make sure you provide / in the end\n",
    "prefix = 'wmo/temp/2020/04/16/'  \n",
    "\n",
    "# start 2020/4/16\n",
    "\n",
    "def get_res():\n",
    "    #import ipdb; ipdb.set_trace()\n",
    "    client = boto3.client('s3')\n",
    "    result = client.list_objects(Bucket=bucket, Prefix=prefix, Delimiter='/')\n",
    "    return result\n",
    "    #for o in result.get('CommonPrefixes'):\n",
    "    #    print('sub folder : ', o.get('Prefix'))"
   ]
  },
  {
   "cell_type": "code",
   "execution_count": null,
   "id": "168df532-871b-4ca2-a544-c21f75a6a70d",
   "metadata": {
    "collapsed": false
   },
   "outputs": [],
   "source": [
    "2020/4 - present on https://noaa-ndfd-pds.s3.amazonaws.com/index.html\n",
    "2018/06 - 2020/4 on https://www.ncei.noaa.gov/thredds/catalog/model-ndfd-file-old/catalog.html THREDDS\n",
    "\n"
   ]
  },
  {
   "cell_type": "code",
   "execution_count": null,
   "metadata": {},
   "outputs": [],
   "source": []
  },
  {
   "cell_type": "code",
   "execution_count": 19,
   "metadata": {},
   "outputs": [],
   "source": [
    "client = boto3.client('s3')\n",
    "bucket = 'noaa-ndfd-pds'\n",
    "#Make sure you provide / in the end\n",
    "prefix = 'wmo/temp/2021/05/16/'  \n",
    "result = client.list_objects(Bucket=bucket, Prefix=prefix, Delimiter='/')"
   ]
  },
  {
   "cell_type": "code",
   "execution_count": 25,
   "metadata": {},
   "outputs": [],
   "source": [
    "from us_elec.util.get_forecast_data import get_file, download_s3_ndfd_file, get_prefix, get_relevant_file, get_local_file "
   ]
  },
  {
   "cell_type": "code",
   "execution_count": 16,
   "metadata": {},
   "outputs": [],
   "source": [
    "pfx = get_prefix('temp')"
   ]
  },
  {
   "cell_type": "code",
   "execution_count": 23,
   "metadata": {},
   "outputs": [
    {
     "data": {
      "text/plain": [
       "'wmo/temp/2021/05/16/YEUZ88_KWBN_202105162350'"
      ]
     },
     "execution_count": 23,
     "metadata": {},
     "output_type": "execute_result"
    }
   ],
   "source": [
    "get_relevant_file(result['Contents'], pfx, use_newest=True)"
   ]
  },
  {
   "cell_type": "code",
   "execution_count": 24,
   "metadata": {},
   "outputs": [
    {
     "data": {
      "text/plain": [
       "'wmo/temp/2021/05/16/YEUZ88_KWBN_202105160051'"
      ]
     },
     "execution_count": 24,
     "metadata": {},
     "output_type": "execute_result"
    }
   ],
   "source": [
    "get_relevant_file(result['Contents'], pfx, use_newest=False)"
   ]
  },
  {
   "cell_type": "code",
   "execution_count": 13,
   "metadata": {},
   "outputs": [
    {
     "data": {
      "text/plain": [
       "'1.28.29'"
      ]
     },
     "execution_count": 13,
     "metadata": {},
     "output_type": "execute_result"
    }
   ],
   "source": [
    "boto3.__version__"
   ]
  },
  {
   "cell_type": "code",
   "execution_count": 47,
   "metadata": {},
   "outputs": [
    {
     "name": "stdout",
     "output_type": "stream",
     "text": [
      "INFO:root: No files found for (wmo/temp/2020/11/31/)\n"
     ]
    }
   ],
   "source": [
    "get_file(2020, 11, 31, 'temp')"
   ]
  },
  {
   "cell_type": "code",
   "execution_count": 37,
   "metadata": {},
   "outputs": [],
   "source": [
    "import os\n"
   ]
  },
  {
   "cell_type": "code",
   "execution_count": 39,
   "metadata": {},
   "outputs": [
    {
     "data": {
      "text/plain": [
       "('/tf/data/whoah/cool/dir', 'file')"
      ]
     },
     "execution_count": 39,
     "metadata": {},
     "output_type": "execute_result"
    }
   ],
   "source": [
    "os.path.split('/tf/data/whoah/cool/dir/file')"
   ]
  },
  {
   "cell_type": "code",
   "execution_count": 44,
   "metadata": {},
   "outputs": [
    {
     "ename": "FileExistsError",
     "evalue": "[Errno 17] File exists: '/tmp/blah/moo'",
     "output_type": "error",
     "traceback": [
      "\u001b[0;31m---------------------------------------------------------------------------\u001b[0m",
      "\u001b[0;31mFileExistsError\u001b[0m                           Traceback (most recent call last)",
      "\u001b[1;32m/home/jonathan/Data_Science/USElectricity/notebooks/test_data_selection.ipynb Cell 30\u001b[0m line \u001b[0;36m1\n\u001b[0;32m----> <a href='vscode-notebook-cell:/home/jonathan/Data_Science/USElectricity/notebooks/test_data_selection.ipynb#X43sZmlsZQ%3D%3D?line=0'>1</a>\u001b[0m os\u001b[39m.\u001b[39;49mmakedirs(\u001b[39m'\u001b[39;49m\u001b[39m/tmp/blah/moo\u001b[39;49m\u001b[39m'\u001b[39;49m)\n",
      "File \u001b[0;32m/usr/lib/python3.8/os.py:223\u001b[0m, in \u001b[0;36mmakedirs\u001b[0;34m(name, mode, exist_ok)\u001b[0m\n\u001b[1;32m    221\u001b[0m         \u001b[39mreturn\u001b[39;00m\n\u001b[1;32m    222\u001b[0m \u001b[39mtry\u001b[39;00m:\n\u001b[0;32m--> 223\u001b[0m     mkdir(name, mode)\n\u001b[1;32m    224\u001b[0m \u001b[39mexcept\u001b[39;00m \u001b[39mOSError\u001b[39;00m:\n\u001b[1;32m    225\u001b[0m     \u001b[39m# Cannot rely on checking for EEXIST, since the operating system\u001b[39;00m\n\u001b[1;32m    226\u001b[0m     \u001b[39m# could give priority to other errors like EACCES or EROFS\u001b[39;00m\n\u001b[1;32m    227\u001b[0m     \u001b[39mif\u001b[39;00m \u001b[39mnot\u001b[39;00m exist_ok \u001b[39mor\u001b[39;00m \u001b[39mnot\u001b[39;00m path\u001b[39m.\u001b[39misdir(name):\n",
      "\u001b[0;31mFileExistsError\u001b[0m: [Errno 17] File exists: '/tmp/blah/moo'"
     ]
    }
   ],
   "source": [
    "os.makedirs('/tmp/blah/moo')"
   ]
  },
  {
   "cell_type": "code",
   "execution_count": null,
   "metadata": {},
   "outputs": [],
   "source": []
  }
 ],
 "metadata": {
  "kernelspec": {
   "argv": [
    "python",
    "-m",
    "ipykernel_launcher",
    "-f",
    "{connection_file}"
   ],
   "display_name": "Python 3 (ipykernel)",
   "env": null,
   "interrupt_mode": "signal",
   "language": "python",
   "name": "python3"
  },
  "language_info": {
   "codemirror_mode": {
    "name": "ipython",
    "version": 3
   },
   "file_extension": ".py",
   "mimetype": "text/x-python",
   "name": "python",
   "nbconvert_exporter": "python",
   "pygments_lexer": "ipython3",
   "version": "3.8.10"
  },
  "name": "test_data_selection.ipynb",
  "vscode": {
   "interpreter": {
    "hash": "916dbcbb3f70747c44a77c7bcd40155683ae19c65e1c03b4aa3499c5328201f1"
   }
  }
 },
 "nbformat": 4,
 "nbformat_minor": 2
}
