{
 "cells": [
  {
   "cell_type": "markdown",
   "id": "82c45314-2e8f-4091-844e-12b72eeaa3f7",
   "metadata": {
    "collapsed": false
   },
   "source": [
    "# Scratch Data Selection Notebook\n",
    "\n",
    "- After data has been loaded in, lets do the actual data querying in SQL.\n",
    "\n",
    "Builds of us_elec/SQL/datasets.py to build up dataset for forecasting"
   ]
  },
  {
   "cell_type": "code",
   "execution_count": 1,
   "id": "b02469b0-5926-4063-b964-5a5305866215",
   "metadata": {
    "autoscroll": false,
    "collapsed": false,
    "ein.hycell": false,
    "ein.tags": "worksheet-0",
    "slideshow": {
     "slide_type": "-"
    }
   },
   "outputs": [],
   "source": [
    "import pandas as pd\n",
    "import sklearn"
   ]
  },
  {
   "cell_type": "code",
   "execution_count": 3,
   "id": "c22f0071-20d8-44cd-acc0-15b46ce56128",
   "metadata": {
    "collapsed": false
   },
   "outputs": [],
   "source": [
    "from us_elec.SQL.sqldriver import SQLDriver"
   ]
  },
  {
   "cell_type": "code",
   "execution_count": 4,
   "id": "6f9ef394-35d6-49cd-af0a-eee742c9b861",
   "metadata": {
    "collapsed": false
   },
   "outputs": [],
   "source": [
    "from datetime import datetime"
   ]
  },
  {
   "cell_type": "code",
   "execution_count": 5,
   "id": "2f8ed688-b878-4a40-9490-161d61ea3cfc",
   "metadata": {
    "collapsed": false
   },
   "outputs": [],
   "source": [
    "sqldr = SQLDriver()"
   ]
  },
  {
   "cell_type": "code",
   "execution_count": 6,
   "id": "d6b674e0-0307-476b-a073-39dfe193f2ac",
   "metadata": {
    "collapsed": false
   },
   "outputs": [
    {
     "data": {
      "text/plain": [
       "[(datetime.datetime(2023, 3, 2, 22, 0, tzinfo=datetime.timezone.utc),\n",
       "  23,\n",
       "  4,\n",
       "  7953.0),\n",
       " (datetime.datetime(2023, 3, 2, 21, 0, tzinfo=datetime.timezone.utc),\n",
       "  23,\n",
       "  4,\n",
       "  7882.0),\n",
       " (datetime.datetime(2023, 3, 2, 20, 0, tzinfo=datetime.timezone.utc),\n",
       "  23,\n",
       "  4,\n",
       "  8055.0),\n",
       " (datetime.datetime(2023, 3, 2, 19, 0, tzinfo=datetime.timezone.utc),\n",
       "  23,\n",
       "  4,\n",
       "  8269.0),\n",
       " (datetime.datetime(2023, 3, 2, 18, 0, tzinfo=datetime.timezone.utc),\n",
       "  23,\n",
       "  4,\n",
       "  8495.0),\n",
       " (datetime.datetime(2023, 3, 2, 17, 0, tzinfo=datetime.timezone.utc),\n",
       "  23,\n",
       "  4,\n",
       "  8644.0),\n",
       " (datetime.datetime(2023, 3, 2, 16, 0, tzinfo=datetime.timezone.utc),\n",
       "  23,\n",
       "  4,\n",
       "  8736.0),\n",
       " (datetime.datetime(2023, 3, 2, 15, 0, tzinfo=datetime.timezone.utc),\n",
       "  23,\n",
       "  4,\n",
       "  8457.0),\n",
       " (datetime.datetime(2023, 3, 2, 14, 0, tzinfo=datetime.timezone.utc),\n",
       "  23,\n",
       "  4,\n",
       "  7732.0),\n",
       " (datetime.datetime(2023, 3, 2, 13, 0, tzinfo=datetime.timezone.utc),\n",
       "  23,\n",
       "  4,\n",
       "  7158.0)]"
      ]
     },
     "execution_count": 6,
     "metadata": {},
     "output_type": "execute_result"
    }
   ],
   "source": [
    "sqldr.get_data(\"SELECT * FROM EBA LIMIT 10;\")"
   ]
  },
  {
   "cell_type": "code",
   "execution_count": 7,
   "id": "6235506b-dad7-4ae0-9679-d366f57617cb",
   "metadata": {
    "collapsed": false
   },
   "outputs": [],
   "source": [
    "from us_elec.SQL.datasets import SimpleDataSet\n",
    "from us_elec.SQL.sqldriver import ISDDF, EBAName, EBAAbbr\n",
    "from datetime import datetime"
   ]
  },
  {
   "cell_type": "code",
   "execution_count": 8,
   "id": "5dd72a65-12b1-44f2-a00d-56f4f780b55d",
   "metadata": {
    "collapsed": false
   },
   "outputs": [],
   "source": [
    "sd = SimpleDataSet()"
   ]
  },
  {
   "cell_type": "code",
   "execution_count": 9,
   "id": "5949e9b9-425f-46a7-9197-a1df916867ab",
   "metadata": {
    "collapsed": false
   },
   "outputs": [],
   "source": [
    "t1 = datetime(2019,5,1)\n",
    "t2 = datetime(2019,5,2)\n",
    "r0 = sd.get_eba_record(EBAAbbr.D, t1, t2)\n",
    "r1 = sd.get_isd_record(ISDDF.TEMPERATURE, t1, t2)"
   ]
  },
  {
   "cell_type": "code",
   "execution_count": 10,
   "id": "8d27f18b-5a7e-42e4-96f5-30cd50ae91c1",
   "metadata": {
    "collapsed": false
   },
   "outputs": [
    {
     "data": {
      "text/plain": [
       "array([[ 639., 2358., 1384., ..., 3163., 1017.,   68.],\n",
       "       [ 623., 2360., 1405., ..., 3167., 1070.,   69.],\n",
       "       [ 560., 2210., 1412., ..., 3246., 1068.,   68.],\n",
       "       ...,\n",
       "       [ 680., 2133., 1404., ..., 2340.,  956.,   72.],\n",
       "       [ 676., 2190., 1393., ..., 2369., 1006.,   73.],\n",
       "       [ 655., 2257., 1390., ..., 2382., 1050.,   72.]])"
      ]
     },
     "execution_count": 10,
     "metadata": {},
     "output_type": "execute_result"
    }
   ],
   "source": [
    "r0.values"
   ]
  },
  {
   "cell_type": "code",
   "execution_count": 11,
   "metadata": {},
   "outputs": [
    {
     "data": {
      "text/plain": [
       "Index(['AEC', 'AECI', 'AVA', 'AZPS', 'BANC', 'BPAT', 'CAL', 'CAR', 'CENT',\n",
       "       'CHPD', 'CISO', 'CPLE', 'CPLW', 'DOPD', 'DUK', 'EPE', 'ERCO', 'FLA',\n",
       "       'FMPP', 'FPC', 'FPL', 'GCPD', 'GVL', 'HST', 'IID', 'IPCO', 'ISNE',\n",
       "       'JEA', 'LDWP', 'LGEE', 'MIDA', 'MIDW', 'MISO', 'NE', 'NEVP', 'NSB',\n",
       "       'NW', 'NWMT', 'NY', 'NYIS', 'PACE', 'PACW', 'PGE', 'PJM', 'PNM', 'PSCO',\n",
       "       'PSEI', 'SC', 'SCEG', 'SCL', 'SE', 'SEC', 'SOCO', 'SPA', 'SRP', 'SW',\n",
       "       'SWPP', 'TAL', 'TEC', 'TEN', 'TEPC', 'TEX', 'TIDC', 'TPWR', 'TVA',\n",
       "       'US48', 'WACM', 'WALC', 'WAUW'],\n",
       "      dtype='object', name='abbr')"
      ]
     },
     "execution_count": 11,
     "metadata": {},
     "output_type": "execute_result"
    }
   ],
   "source": [
    "r0.columns"
   ]
  },
  {
   "cell_type": "markdown",
   "id": "62d347f3-c973-406b-abea-d267e6730369",
   "metadata": {
    "collapsed": false
   },
   "source": []
  },
  {
   "cell_type": "code",
   "execution_count": 12,
   "id": "01b6a6fd-be32-4f34-8d45-89a3c3feef29",
   "metadata": {
    "collapsed": false
   },
   "outputs": [
    {
     "data": {
      "text/html": [
       "<div>\n",
       "<style scoped>\n",
       "    .dataframe tbody tr th:only-of-type {\n",
       "        vertical-align: middle;\n",
       "    }\n",
       "\n",
       "    .dataframe tbody tr th {\n",
       "        vertical-align: top;\n",
       "    }\n",
       "\n",
       "    .dataframe thead th {\n",
       "        text-align: right;\n",
       "    }\n",
       "</style>\n",
       "<table border=\"1\" class=\"dataframe\">\n",
       "  <thead>\n",
       "    <tr style=\"text-align: right;\">\n",
       "      <th>abbr</th>\n",
       "      <th>AEC</th>\n",
       "      <th>AECI</th>\n",
       "      <th>AVA</th>\n",
       "      <th>AZPS</th>\n",
       "      <th>BANC</th>\n",
       "      <th>BPAT</th>\n",
       "      <th>CAL</th>\n",
       "      <th>CAR</th>\n",
       "      <th>CENT</th>\n",
       "      <th>CHPD</th>\n",
       "      <th>...</th>\n",
       "      <th>TEN</th>\n",
       "      <th>TEPC</th>\n",
       "      <th>TEX</th>\n",
       "      <th>TIDC</th>\n",
       "      <th>TPWR</th>\n",
       "      <th>TVA</th>\n",
       "      <th>US48</th>\n",
       "      <th>WACM</th>\n",
       "      <th>WALC</th>\n",
       "      <th>WAUW</th>\n",
       "    </tr>\n",
       "    <tr>\n",
       "      <th>ts</th>\n",
       "      <th></th>\n",
       "      <th></th>\n",
       "      <th></th>\n",
       "      <th></th>\n",
       "      <th></th>\n",
       "      <th></th>\n",
       "      <th></th>\n",
       "      <th></th>\n",
       "      <th></th>\n",
       "      <th></th>\n",
       "      <th></th>\n",
       "      <th></th>\n",
       "      <th></th>\n",
       "      <th></th>\n",
       "      <th></th>\n",
       "      <th></th>\n",
       "      <th></th>\n",
       "      <th></th>\n",
       "      <th></th>\n",
       "      <th></th>\n",
       "      <th></th>\n",
       "    </tr>\n",
       "  </thead>\n",
       "  <tbody>\n",
       "    <tr>\n",
       "      <th>2019-05-01 01:00:00+00:00</th>\n",
       "      <td>639.0</td>\n",
       "      <td>2358.0</td>\n",
       "      <td>1384.0</td>\n",
       "      <td>3368.0</td>\n",
       "      <td>-540844.0</td>\n",
       "      <td>5873.0</td>\n",
       "      <td>29459.0</td>\n",
       "      <td>29024.0</td>\n",
       "      <td>29103.0</td>\n",
       "      <td>153.0</td>\n",
       "      <td>...</td>\n",
       "      <td>20181.0</td>\n",
       "      <td>1374.0</td>\n",
       "      <td>46715.0</td>\n",
       "      <td>315.0</td>\n",
       "      <td>519.0</td>\n",
       "      <td>20181.0</td>\n",
       "      <td>473211.0</td>\n",
       "      <td>3163.0</td>\n",
       "      <td>1017.0</td>\n",
       "      <td>68.0</td>\n",
       "    </tr>\n",
       "    <tr>\n",
       "      <th>2019-05-01 02:00:00+00:00</th>\n",
       "      <td>623.0</td>\n",
       "      <td>2360.0</td>\n",
       "      <td>1405.0</td>\n",
       "      <td>3442.0</td>\n",
       "      <td>-1056086.0</td>\n",
       "      <td>5975.0</td>\n",
       "      <td>30394.0</td>\n",
       "      <td>27380.0</td>\n",
       "      <td>28949.0</td>\n",
       "      <td>151.0</td>\n",
       "      <td>...</td>\n",
       "      <td>19815.0</td>\n",
       "      <td>1364.0</td>\n",
       "      <td>47016.0</td>\n",
       "      <td>310.0</td>\n",
       "      <td>521.0</td>\n",
       "      <td>19815.0</td>\n",
       "      <td>465679.0</td>\n",
       "      <td>3167.0</td>\n",
       "      <td>1070.0</td>\n",
       "      <td>69.0</td>\n",
       "    </tr>\n",
       "    <tr>\n",
       "      <th>2019-05-01 03:00:00+00:00</th>\n",
       "      <td>560.0</td>\n",
       "      <td>2210.0</td>\n",
       "      <td>1412.0</td>\n",
       "      <td>3497.0</td>\n",
       "      <td>1846.0</td>\n",
       "      <td>6054.0</td>\n",
       "      <td>31802.0</td>\n",
       "      <td>24653.0</td>\n",
       "      <td>28044.0</td>\n",
       "      <td>156.0</td>\n",
       "      <td>...</td>\n",
       "      <td>18394.0</td>\n",
       "      <td>1342.0</td>\n",
       "      <td>45822.0</td>\n",
       "      <td>311.0</td>\n",
       "      <td>522.0</td>\n",
       "      <td>18394.0</td>\n",
       "      <td>443920.0</td>\n",
       "      <td>3246.0</td>\n",
       "      <td>1068.0</td>\n",
       "      <td>68.0</td>\n",
       "    </tr>\n",
       "    <tr>\n",
       "      <th>2019-05-01 04:00:00+00:00</th>\n",
       "      <td>488.0</td>\n",
       "      <td>1962.0</td>\n",
       "      <td>1439.0</td>\n",
       "      <td>3512.0</td>\n",
       "      <td>1919.0</td>\n",
       "      <td>6176.0</td>\n",
       "      <td>32619.0</td>\n",
       "      <td>22215.0</td>\n",
       "      <td>26536.0</td>\n",
       "      <td>157.0</td>\n",
       "      <td>...</td>\n",
       "      <td>16722.0</td>\n",
       "      <td>1272.0</td>\n",
       "      <td>43099.0</td>\n",
       "      <td>320.0</td>\n",
       "      <td>533.0</td>\n",
       "      <td>16722.0</td>\n",
       "      <td>418379.0</td>\n",
       "      <td>3132.0</td>\n",
       "      <td>1044.0</td>\n",
       "      <td>74.0</td>\n",
       "    </tr>\n",
       "    <tr>\n",
       "      <th>2019-05-01 05:00:00+00:00</th>\n",
       "      <td>429.0</td>\n",
       "      <td>1847.0</td>\n",
       "      <td>1378.0</td>\n",
       "      <td>3314.0</td>\n",
       "      <td>1846.0</td>\n",
       "      <td>5972.0</td>\n",
       "      <td>31179.0</td>\n",
       "      <td>20274.0</td>\n",
       "      <td>25041.0</td>\n",
       "      <td>154.0</td>\n",
       "      <td>...</td>\n",
       "      <td>15205.0</td>\n",
       "      <td>1088.0</td>\n",
       "      <td>40019.0</td>\n",
       "      <td>312.0</td>\n",
       "      <td>522.0</td>\n",
       "      <td>15205.0</td>\n",
       "      <td>391291.0</td>\n",
       "      <td>2975.0</td>\n",
       "      <td>997.0</td>\n",
       "      <td>69.0</td>\n",
       "    </tr>\n",
       "  </tbody>\n",
       "</table>\n",
       "<p>5 rows × 69 columns</p>\n",
       "</div>"
      ],
      "text/plain": [
       "abbr                         AEC    AECI     AVA    AZPS       BANC    BPAT  \\\n",
       "ts                                                                            \n",
       "2019-05-01 01:00:00+00:00  639.0  2358.0  1384.0  3368.0  -540844.0  5873.0   \n",
       "2019-05-01 02:00:00+00:00  623.0  2360.0  1405.0  3442.0 -1056086.0  5975.0   \n",
       "2019-05-01 03:00:00+00:00  560.0  2210.0  1412.0  3497.0     1846.0  6054.0   \n",
       "2019-05-01 04:00:00+00:00  488.0  1962.0  1439.0  3512.0     1919.0  6176.0   \n",
       "2019-05-01 05:00:00+00:00  429.0  1847.0  1378.0  3314.0     1846.0  5972.0   \n",
       "\n",
       "abbr                           CAL      CAR     CENT   CHPD  ...      TEN  \\\n",
       "ts                                                           ...            \n",
       "2019-05-01 01:00:00+00:00  29459.0  29024.0  29103.0  153.0  ...  20181.0   \n",
       "2019-05-01 02:00:00+00:00  30394.0  27380.0  28949.0  151.0  ...  19815.0   \n",
       "2019-05-01 03:00:00+00:00  31802.0  24653.0  28044.0  156.0  ...  18394.0   \n",
       "2019-05-01 04:00:00+00:00  32619.0  22215.0  26536.0  157.0  ...  16722.0   \n",
       "2019-05-01 05:00:00+00:00  31179.0  20274.0  25041.0  154.0  ...  15205.0   \n",
       "\n",
       "abbr                         TEPC      TEX   TIDC   TPWR      TVA      US48  \\\n",
       "ts                                                                            \n",
       "2019-05-01 01:00:00+00:00  1374.0  46715.0  315.0  519.0  20181.0  473211.0   \n",
       "2019-05-01 02:00:00+00:00  1364.0  47016.0  310.0  521.0  19815.0  465679.0   \n",
       "2019-05-01 03:00:00+00:00  1342.0  45822.0  311.0  522.0  18394.0  443920.0   \n",
       "2019-05-01 04:00:00+00:00  1272.0  43099.0  320.0  533.0  16722.0  418379.0   \n",
       "2019-05-01 05:00:00+00:00  1088.0  40019.0  312.0  522.0  15205.0  391291.0   \n",
       "\n",
       "abbr                         WACM    WALC  WAUW  \n",
       "ts                                               \n",
       "2019-05-01 01:00:00+00:00  3163.0  1017.0  68.0  \n",
       "2019-05-01 02:00:00+00:00  3167.0  1070.0  69.0  \n",
       "2019-05-01 03:00:00+00:00  3246.0  1068.0  68.0  \n",
       "2019-05-01 04:00:00+00:00  3132.0  1044.0  74.0  \n",
       "2019-05-01 05:00:00+00:00  2975.0   997.0  69.0  \n",
       "\n",
       "[5 rows x 69 columns]"
      ]
     },
     "execution_count": 12,
     "metadata": {},
     "output_type": "execute_result"
    }
   ],
   "source": [
    "r0.head()"
   ]
  },
  {
   "cell_type": "markdown",
   "id": "c937b212-0920-4b51-8b4e-be8a1eb25c81",
   "metadata": {
    "collapsed": false
   },
   "source": [
    "DataBase Structure\n",
    "\n",
    "- So this is a mess.  I wanted a place to play with Raw SQL.EBAName\n",
    "\n",
    "Table structure is:\n",
    "EBA (dt, station_id, name_id, value)\n",
    "EBATable (id, variable_name)\n",
    "ISO (dt, iso_id, name_id, value)\n",
    "ISOMeta (id, variable_name)\n",
    "\n",
    "Idea being you inner join to Meta tables to get full name at query time.  Save space and inserts just using integers rather than 10^8 long strings.  \n",
    "\n",
    "Then build up SQL queries programmatically in Python to do that work.  use Python classes to collect the labels.\n",
    "\n",
    "Populate the Meta tables initially. \n",
    "\n",
    "ColName used for SQL columns\n",
    "EBAName for EBA tables\n",
    "EBAAbbr for EBA variable names\n",
    "EBAGenAbbr for EBA variable names\n",
    "\n",
    "ISDName for ISD tables\n",
    "ISDDF for ISD variable names and conversion.\n",
    "\n",
    "But, used variable names as abbreviation names, with a dict for lookup.\n",
    "Should probably be tuple to allow lookup of both quickly.\n",
    "\n",
    "Really this feels more like I should just move over to using SQLAlchemy to define the tables, and do the querying rather than building my own crummy library. "
   ]
  },
  {
   "cell_type": "code",
   "execution_count": 13,
   "id": "04ae6de3-124f-482a-9f54-2c88aad65cbf",
   "metadata": {
    "collapsed": false
   },
   "outputs": [],
   "source": [
    "import boto3\n"
   ]
  },
  {
   "cell_type": "code",
   "execution_count": 14,
   "id": "eb298e67-5b17-4e1d-bfc0-ef2b919b7370",
   "metadata": {
    "collapsed": false
   },
   "outputs": [],
   "source": [
    "#!cat /root/.aws/credentials"
   ]
  },
  {
   "cell_type": "code",
   "execution_count": null,
   "id": "5dd59b8e-7854-4705-a823-7a34e69049af",
   "metadata": {
    "collapsed": false
   },
   "outputs": [],
   "source": []
  },
  {
   "cell_type": "code",
   "execution_count": 5,
   "id": "0f9ad61e-331b-46ef-8d44-0c618de8a636",
   "metadata": {
    "collapsed": false
   },
   "outputs": [
    {
     "name": "stdout",
     "output_type": "stream",
     "text": [
      "Automatic pdb calling has been turned OFF\n"
     ]
    }
   ],
   "source": [
    "%pdb off\n",
    "import boto3\n",
    "bucket = 'noaa-ndfd-pds'\n",
    "#Make sure you provide / in the end\n",
    "prefix = 'wmo/temp/2020/04/16/'  \n",
    "\n",
    "# start 2020/4/16\n",
    "\n",
    "def get_res():\n",
    "    #import ipdb; ipdb.set_trace()\n",
    "    client = boto3.client('s3')\n",
    "    result = client.list_objects(Bucket=bucket, Prefix=prefix, Delimiter='/')\n",
    "    return result\n",
    "    #for o in result.get('CommonPrefixes'):\n",
    "    #    print('sub folder : ', o.get('Prefix'))"
   ]
  },
  {
   "cell_type": "code",
   "execution_count": null,
   "id": "168df532-871b-4ca2-a544-c21f75a6a70d",
   "metadata": {
    "collapsed": false
   },
   "outputs": [],
   "source": [
    "2020/4 - present on https://noaa-ndfd-pds.s3.amazonaws.com/index.html\n",
    "2018/06 - 2020/4 on https://www.ncei.noaa.gov/thredds/catalog/model-ndfd-file-old/catalog.html THREDDS\n",
    "\n"
   ]
  },
  {
   "cell_type": "code",
   "execution_count": null,
   "metadata": {},
   "outputs": [],
   "source": []
  },
  {
   "cell_type": "code",
   "execution_count": 19,
   "metadata": {},
   "outputs": [],
   "source": [
    "client = boto3.client('s3')\n",
    "bucket = 'noaa-ndfd-pds'\n",
    "#Make sure you provide / in the end\n",
    "prefix = 'wmo/temp/2021/05/16/'  \n",
    "result = client.list_objects(Bucket=bucket, Prefix=prefix, Delimiter='/')"
   ]
  },
  {
   "cell_type": "code",
   "execution_count": 5,
   "metadata": {},
   "outputs": [],
   "source": [
    "from us_elec.util.get_forecast_data import get_file, download_s3_ndfd_file, get_prefix, get_relevant_file, get_local_file "
   ]
  },
  {
   "cell_type": "code",
   "execution_count": 6,
   "metadata": {},
   "outputs": [],
   "source": [
    "pfx = get_prefix('temp')"
   ]
  },
  {
   "cell_type": "code",
   "execution_count": 8,
   "metadata": {},
   "outputs": [
    {
     "name": "stdout",
     "output_type": "stream",
     "text": [
      "INFO:botocore.credentials:Found credentials in shared credentials file: ~/.aws/credentials\n"
     ]
    },
    {
     "name": "stdout",
     "output_type": "stream",
     "text": [
      "INFO:root: No files found for (wmo/temp/2020/11/31/)\n"
     ]
    }
   ],
   "source": [
    "get_file(2020, 11, 31, 'temp')"
   ]
  },
  {
   "cell_type": "code",
   "execution_count": 3,
   "metadata": {},
   "outputs": [],
   "source": [
    "import os\n"
   ]
  },
  {
   "cell_type": "code",
   "execution_count": 4,
   "metadata": {},
   "outputs": [
    {
     "data": {
      "text/plain": [
       "True"
      ]
     },
     "execution_count": 4,
     "metadata": {},
     "output_type": "execute_result"
    }
   ],
   "source": [
    "os.path.exists('/tf/data/NDFD/temp/YEUZ88_KWBN_202004162349')"
   ]
  },
  {
   "cell_type": "code",
   "execution_count": 56,
   "metadata": {},
   "outputs": [],
   "source": [
    "from us_elec.util.get_forecast_data import check_date"
   ]
  },
  {
   "cell_type": "code",
   "execution_count": null,
   "metadata": {},
   "outputs": [],
   "source": []
  },
  {
   "cell_type": "code",
   "execution_count": 58,
   "metadata": {},
   "outputs": [],
   "source": [
    "now = datetime.now()\n"
   ]
  },
  {
   "cell_type": "code",
   "execution_count": null,
   "metadata": {},
   "outputs": [
    {
     "ename": "NameError",
     "evalue": "name 'check_date' is not defined",
     "output_type": "error",
     "traceback": [
      "\u001b[0;31m---------------------------------------------------------------------------\u001b[0m",
      "\u001b[0;31mNameError\u001b[0m                                 Traceback (most recent call last)",
      "\u001b[1;32m/home/jonathan/Data_Science/USElectricity/notebooks/test_data_selection.ipynb Cell 33\u001b[0m line \u001b[0;36m1\n\u001b[0;32m----> <a href='vscode-notebook-cell:/home/jonathan/Data_Science/USElectricity/notebooks/test_data_selection.ipynb#X44sZmlsZQ%3D%3D?line=0'>1</a>\u001b[0m check_date(now, \u001b[39m2020\u001b[39m, \u001b[39m3\u001b[39m, \u001b[39m1\u001b[39m)\n",
      "\u001b[0;31mNameError\u001b[0m: name 'check_date' is not defined"
     ]
    },
    {
     "ename": "",
     "evalue": "",
     "output_type": "error",
     "traceback": [
      "\u001b[1;31mnotebook controller is DISPOSED. \n",
      "\u001b[1;31mView Jupyter <a href='command:jupyter.viewOutput'>log</a> for further details."
     ]
    }
   ],
   "source": [
    "check_date(now, 2020, 3, 1)"
   ]
  },
  {
   "cell_type": "code",
   "execution_count": null,
   "metadata": {},
   "outputs": [],
   "source": []
  },
  {
   "cell_type": "code",
   "execution_count": 2,
   "metadata": {},
   "outputs": [
    {
     "name": "stdout",
     "output_type": "stream",
     "text": [
      "INFO:root:\tStarting temp\n",
      "INFO:root:\tDownloading 2020/1 for temp \n",
      "INFO:root:0 of 1332 after 0.00min\n",
      "INFO:root:\tDownloading 2020/2 for temp \n",
      "INFO:root:0 of 1332 after 0.00min\n",
      "INFO:root:\tDownloading 2020/3 for temp \n",
      "INFO:root:0 of 1332 after 0.00min\n"
     ]
    },
    {
     "name": "stdout",
     "output_type": "stream",
     "text": [
      "INFO:root:\tDownloading 2020/4 for temp \n",
      "INFO:root:0 of 1332 after 0.00min\n",
      "INFO:root:\tDownloading 2020/5 for temp \n",
      "INFO:root:15 of 1332 after 1.27min\n",
      "INFO:root:\tDownloading 2020/6 for temp \n",
      "INFO:root:45 of 1332 after 4.01min\n",
      "INFO:root:\tDownloading 2020/7 for temp \n",
      "INFO:root:75 of 1332 after 7.11min\n",
      "INFO:root:\tDownloading 2020/8 for temp \n",
      "INFO:root:105 of 1332 after 9.96min\n",
      "INFO:root:\tDownloading 2020/9 for temp \n",
      "INFO:root:135 of 1332 after 12.54min\n",
      "INFO:root:\tDownloading 2020/10 for temp \n",
      "INFO:root:165 of 1332 after 15.19min\n",
      "INFO:root:\tDownloading 2020/11 for temp \n",
      "INFO:root:195 of 1332 after 17.59min\n",
      "INFO:root:\tDownloading 2020/12 for temp \n",
      "INFO:root:225 of 1332 after 20.07min\n",
      "INFO:root:\tDownloading 2021/1 for temp \n",
      "INFO:root:255 of 1332 after 23.38min\n",
      "INFO:root:\tDownloading 2021/2 for temp \n",
      "INFO:root:285 of 1332 after 26.31min\n",
      "INFO:root:\tDownloading 2021/3 for temp \n",
      "INFO:root:313 of 1332 after 28.35min\n",
      "INFO:root:\tDownloading 2021/4 for temp \n",
      "INFO:root:343 of 1332 after 30.46min\n",
      "INFO:root:\tDownloading 2021/5 for temp \n",
      "INFO:root:373 of 1332 after 32.58min\n",
      "INFO:root:\tDownloading 2021/6 for temp \n",
      "INFO:root:403 of 1332 after 35.65min\n",
      "INFO:root:\tDownloading 2021/7 for temp \n",
      "INFO:root:433 of 1332 after 38.26min\n",
      "INFO:root:\tDownloading 2021/8 for temp \n",
      "INFO:root:463 of 1332 after 40.73min\n",
      "INFO:root:\tDownloading 2021/9 for temp \n",
      "INFO:root:493 of 1332 after 43.21min\n",
      "INFO:root:\tDownloading 2021/10 for temp \n",
      "INFO:root:523 of 1332 after 45.76min\n",
      "INFO:root:\tDownloading 2021/11 for temp \n",
      "INFO:root:553 of 1332 after 48.60min\n",
      "INFO:root:\tDownloading 2021/12 for temp \n",
      "INFO:root:583 of 1332 after 51.24min\n",
      "INFO:root:\tDownloading 2022/1 for temp \n",
      "INFO:root:613 of 1332 after 53.94min\n",
      "INFO:root:\tDownloading 2022/2 for temp \n",
      "INFO:root:643 of 1332 after 56.73min\n",
      "INFO:root:\tDownloading 2022/3 for temp \n",
      "INFO:root:671 of 1332 after 59.40min\n",
      "INFO:root:\tDownloading 2022/4 for temp \n",
      "INFO:root:701 of 1332 after 61.99min\n",
      "INFO:root:\tDownloading 2022/5 for temp \n",
      "INFO:root:731 of 1332 after 64.56min\n",
      "INFO:root:\tDownloading 2022/6 for temp \n",
      "INFO:root:761 of 1332 after 67.67min\n",
      "INFO:root:\tDownloading 2022/7 for temp \n",
      "INFO:root:791 of 1332 after 70.44min\n",
      "INFO:root:\tDownloading 2022/8 for temp \n",
      "INFO:root:821 of 1332 after 73.38min\n",
      "INFO:root:\tDownloading 2022/9 for temp \n",
      "INFO:root:851 of 1332 after 76.25min\n",
      "INFO:root:\tDownloading 2022/10 for temp \n",
      "INFO:root:881 of 1332 after 78.94min\n",
      "INFO:root:\tDownloading 2022/11 for temp \n",
      "INFO:root:911 of 1332 after 82.06min\n",
      "INFO:root:\tDownloading 2022/12 for temp \n",
      "INFO:root:941 of 1332 after 84.61min\n",
      "INFO:root:\tDownloading 2023/1 for temp \n",
      "INFO:root:971 of 1332 after 87.76min\n",
      "INFO:root:\tDownloading 2023/2 for temp \n",
      "INFO:root:1001 of 1332 after 90.51min\n",
      "INFO:root:\tDownloading 2023/3 for temp \n",
      "INFO:root:1029 of 1332 after 92.98min\n",
      "INFO:root:\tDownloading 2023/4 for temp \n",
      "INFO:root:1059 of 1332 after 95.27min\n",
      "INFO:root:\tDownloading 2023/5 for temp \n",
      "INFO:root:1089 of 1332 after 98.59min\n",
      "INFO:root:\tDownloading 2023/6 for temp \n",
      "INFO:root:1119 of 1332 after 101.32min\n",
      "INFO:root:\tDownloading 2023/7 for temp \n",
      "INFO:root:1149 of 1332 after 103.84min\n",
      "INFO:root:\tDownloading 2023/8 for temp \n",
      "INFO:root:1179 of 1332 after 106.73min\n",
      "INFO:root:\tDownloading 2023/9 for temp \n",
      "INFO:root:1209 of 1332 after 109.22min\n",
      "INFO:root:\tDownloading 2023/10 for temp \n",
      "INFO:root:1239 of 1332 after 111.55min\n",
      "INFO:root:\tDownloading 2023/11 for temp \n",
      "INFO:root:1249 of 1332 after 112.51min\n",
      "INFO:root:\tDownloading 2023/12 for temp \n",
      "INFO:root:1249 of 1332 after 112.51min\n",
      "INFO:root:\tDone with temp in 112.5 min\n",
      "INFO:root:\tStarting wspd\n",
      "INFO:root:\tDownloading 2020/1 for wspd \n",
      "INFO:root:0 of 1332 after 0.00min\n",
      "INFO:root:\tDownloading 2020/2 for wspd \n",
      "INFO:root:0 of 1332 after 0.00min\n",
      "INFO:root:\tDownloading 2020/3 for wspd \n",
      "INFO:root:0 of 1332 after 0.00min\n",
      "INFO:root:\tDownloading 2020/4 for wspd \n",
      "INFO:root:0 of 1332 after 0.00min\n",
      "INFO:root:\tDownloading 2020/5 for wspd \n",
      "INFO:root:15 of 1332 after 1.41min\n",
      "INFO:root:\tDownloading 2020/6 for wspd \n",
      "INFO:root:45 of 1332 after 4.02min\n",
      "INFO:root:\tDownloading 2020/7 for wspd \n",
      "INFO:root:75 of 1332 after 7.66min\n",
      "INFO:root:\tDownloading 2020/8 for wspd \n",
      "INFO:root:105 of 1332 after 10.60min\n",
      "INFO:root:\tDownloading 2020/9 for wspd \n",
      "INFO:root:135 of 1332 after 13.53min\n",
      "INFO:root:\tDownloading 2020/10 for wspd \n",
      "INFO:root:165 of 1332 after 16.62min\n",
      "INFO:root:\tDownloading 2020/11 for wspd \n",
      "INFO:root:195 of 1332 after 19.34min\n",
      "INFO:root:\tDownloading 2020/12 for wspd \n",
      "INFO:root:225 of 1332 after 22.36min\n",
      "INFO:root:\tDownloading 2021/1 for wspd \n",
      "INFO:root:255 of 1332 after 25.32min\n",
      "INFO:root:\tDownloading 2021/2 for wspd \n",
      "INFO:root:285 of 1332 after 28.16min\n",
      "INFO:root:\tDownloading 2021/3 for wspd \n",
      "INFO:root:313 of 1332 after 30.74min\n",
      "INFO:root:\tDownloading 2021/4 for wspd \n",
      "INFO:root:343 of 1332 after 33.29min\n",
      "INFO:root:\tDownloading 2021/5 for wspd \n",
      "INFO:root:373 of 1332 after 37.26min\n",
      "INFO:root:\tDownloading 2021/6 for wspd \n",
      "INFO:root:403 of 1332 after 39.78min\n",
      "INFO:root:\tDownloading 2021/7 for wspd \n",
      "INFO:root:433 of 1332 after 42.33min\n",
      "INFO:root:\tDownloading 2021/8 for wspd \n",
      "INFO:root:463 of 1332 after 45.15min\n",
      "INFO:root:\tDownloading 2021/9 for wspd \n",
      "INFO:root:493 of 1332 after 48.43min\n",
      "INFO:root:\tDownloading 2021/10 for wspd \n",
      "INFO:root:523 of 1332 after 51.29min\n",
      "INFO:root:\tDownloading 2021/11 for wspd \n",
      "INFO:root:553 of 1332 after 54.25min\n",
      "INFO:root:\tDownloading 2021/12 for wspd \n",
      "INFO:root:583 of 1332 after 57.48min\n",
      "INFO:root:\tDownloading 2022/1 for wspd \n",
      "INFO:root:613 of 1332 after 60.17min\n",
      "INFO:root:\tDownloading 2022/2 for wspd \n",
      "INFO:root:643 of 1332 after 63.44min\n",
      "INFO:root:\tDownloading 2022/3 for wspd \n",
      "INFO:root:671 of 1332 after 67.11min\n",
      "INFO:root:\tDownloading 2022/4 for wspd \n",
      "INFO:root:701 of 1332 after 69.82min\n",
      "INFO:root:\tDownloading 2022/5 for wspd \n",
      "INFO:root:731 of 1332 after 72.89min\n",
      "INFO:root:\tDownloading 2022/6 for wspd \n",
      "INFO:root:761 of 1332 after 75.70min\n",
      "INFO:root:\tDownloading 2022/7 for wspd \n",
      "INFO:root:791 of 1332 after 78.80min\n",
      "INFO:root:\tDownloading 2022/8 for wspd \n",
      "INFO:root:821 of 1332 after 82.11min\n",
      "INFO:root:\tDownloading 2022/9 for wspd \n",
      "INFO:root:851 of 1332 after 84.96min\n",
      "INFO:root:\tDownloading 2022/10 for wspd \n",
      "INFO:root:881 of 1332 after 88.29min\n",
      "INFO:root:\tDownloading 2022/11 for wspd \n",
      "INFO:root:911 of 1332 after 90.92min\n",
      "INFO:root:\tDownloading 2022/12 for wspd \n",
      "INFO:root:941 of 1332 after 93.35min\n",
      "INFO:root:\tDownloading 2023/1 for wspd \n",
      "INFO:root:971 of 1332 after 96.41min\n",
      "INFO:root:\tDownloading 2023/2 for wspd \n",
      "INFO:root:1001 of 1332 after 99.00min\n",
      "INFO:root:\tDownloading 2023/3 for wspd \n",
      "INFO:root:1029 of 1332 after 102.18min\n",
      "INFO:root:\tDownloading 2023/4 for wspd \n",
      "INFO:root:1059 of 1332 after 105.23min\n",
      "INFO:root:\tDownloading 2023/5 for wspd \n",
      "INFO:root:1089 of 1332 after 108.83min\n",
      "INFO:root:\tDownloading 2023/6 for wspd \n",
      "INFO:root:1119 of 1332 after 111.69min\n",
      "INFO:root:\tDownloading 2023/7 for wspd \n",
      "INFO:root:1149 of 1332 after 114.44min\n",
      "INFO:root:\tDownloading 2023/8 for wspd \n",
      "INFO:root:1179 of 1332 after 117.35min\n",
      "INFO:root:\tDownloading 2023/9 for wspd \n",
      "INFO:root:1209 of 1332 after 120.16min\n",
      "INFO:root:\tDownloading 2023/10 for wspd \n",
      "INFO:root:1239 of 1332 after 123.10min\n",
      "INFO:root:\tDownloading 2023/11 for wspd \n",
      "INFO:root:1249 of 1332 after 124.08min\n",
      "INFO:root:\tDownloading 2023/12 for wspd \n",
      "INFO:root:1249 of 1332 after 124.08min\n",
      "INFO:root:\tDone with wspd in 124.1 min\n",
      "INFO:root:\tStarting wdir\n",
      "INFO:root:\tDownloading 2020/1 for wdir \n",
      "INFO:root:0 of 1332 after 0.00min\n",
      "INFO:root:\tDownloading 2020/2 for wdir \n",
      "INFO:root:0 of 1332 after 0.00min\n",
      "INFO:root:\tDownloading 2020/3 for wdir \n",
      "INFO:root:0 of 1332 after 0.00min\n",
      "INFO:root:\tDownloading 2020/4 for wdir \n",
      "INFO:root:0 of 1332 after 0.00min\n",
      "INFO:root:\tDownloading 2020/5 for wdir \n",
      "INFO:root:15 of 1332 after 1.24min\n",
      "INFO:root:\tDownloading 2020/6 for wdir \n",
      "INFO:root:45 of 1332 after 3.71min\n",
      "INFO:root:\tDownloading 2020/7 for wdir \n",
      "INFO:root:75 of 1332 after 6.11min\n",
      "INFO:root:\tDownloading 2020/8 for wdir \n",
      "INFO:root:105 of 1332 after 8.25min\n",
      "INFO:root:\tDownloading 2020/9 for wdir \n",
      "INFO:root:135 of 1332 after 13.00min\n",
      "INFO:root:\tDownloading 2020/10 for wdir \n",
      "INFO:root:165 of 1332 after 16.31min\n",
      "INFO:root:\tDownloading 2020/11 for wdir \n",
      "INFO:root:195 of 1332 after 18.57min\n",
      "INFO:root:\tDownloading 2020/12 for wdir \n",
      "INFO:root:225 of 1332 after 21.14min\n",
      "INFO:root:\tDownloading 2021/1 for wdir \n",
      "INFO:root:255 of 1332 after 23.79min\n",
      "INFO:root:\tDownloading 2021/2 for wdir \n",
      "INFO:root:285 of 1332 after 27.35min\n",
      "INFO:root:\tDownloading 2021/3 for wdir \n",
      "INFO:root:313 of 1332 after 29.82min\n",
      "INFO:root:\tDownloading 2021/4 for wdir \n",
      "INFO:root:343 of 1332 after 32.68min\n",
      "INFO:root:\tDownloading 2021/5 for wdir \n",
      "INFO:root:373 of 1332 after 34.76min\n",
      "INFO:root:\tDownloading 2021/6 for wdir \n",
      "INFO:root:403 of 1332 after 37.40min\n",
      "INFO:root:\tDownloading 2021/7 for wdir \n",
      "INFO:root:433 of 1332 after 40.20min\n",
      "INFO:root:\tDownloading 2021/8 for wdir \n",
      "INFO:root:463 of 1332 after 42.76min\n",
      "INFO:root:\tDownloading 2021/9 for wdir \n",
      "INFO:root:493 of 1332 after 45.59min\n",
      "INFO:root:\tDownloading 2021/10 for wdir \n",
      "INFO:root:523 of 1332 after 47.95min\n",
      "INFO:root:\tDownloading 2021/11 for wdir \n",
      "INFO:root:553 of 1332 after 50.01min\n",
      "INFO:root:\tDownloading 2021/12 for wdir \n",
      "INFO:root:583 of 1332 after 52.65min\n",
      "INFO:root:\tDownloading 2022/1 for wdir \n",
      "INFO:root:613 of 1332 after 56.57min\n",
      "INFO:root:\tDownloading 2022/2 for wdir \n",
      "INFO:root:643 of 1332 after 58.68min\n",
      "INFO:root:\tDownloading 2022/3 for wdir \n",
      "INFO:root:671 of 1332 after 60.98min\n",
      "INFO:root:\tDownloading 2022/4 for wdir \n",
      "INFO:root:701 of 1332 after 63.36min\n",
      "INFO:root:\tDownloading 2022/5 for wdir \n",
      "INFO:root:731 of 1332 after 65.76min\n",
      "INFO:root:\tDownloading 2022/6 for wdir \n",
      "INFO:root:761 of 1332 after 67.77min\n",
      "INFO:root:\tDownloading 2022/7 for wdir \n",
      "INFO:root:791 of 1332 after 70.43min\n"
     ]
    },
    {
     "ename": "KeyboardInterrupt",
     "evalue": "",
     "output_type": "error",
     "traceback": [
      "\u001b[0;31m---------------------------------------------------------------------------\u001b[0m",
      "\u001b[0;31mKeyboardInterrupt\u001b[0m                         Traceback (most recent call last)",
      "\u001b[1;32m/home/jonathan/Data_Science/USElectricity/notebooks/test_data_selection.ipynb Cell 32\u001b[0m line \u001b[0;36m1\n\u001b[1;32m     <a href='vscode-notebook-cell:/home/jonathan/Data_Science/USElectricity/notebooks/test_data_selection.ipynb#X43sZmlsZQ%3D%3D?line=10'>11</a>\u001b[0m \u001b[39mfor\u001b[39;00m kv \u001b[39min\u001b[39;00m [\u001b[39m'\u001b[39m\u001b[39mtemp\u001b[39m\u001b[39m'\u001b[39m, \u001b[39m'\u001b[39m\u001b[39mwspd\u001b[39m\u001b[39m'\u001b[39m, \u001b[39m'\u001b[39m\u001b[39mwdir\u001b[39m\u001b[39m'\u001b[39m, \u001b[39m'\u001b[39m\u001b[39msky\u001b[39m\u001b[39m'\u001b[39m]:\n\u001b[1;32m     <a href='vscode-notebook-cell:/home/jonathan/Data_Science/USElectricity/notebooks/test_data_selection.ipynb#X43sZmlsZQ%3D%3D?line=11'>12</a>\u001b[0m     logger\u001b[39m.\u001b[39minfo(\u001b[39mf\u001b[39m\u001b[39m'\u001b[39m\u001b[39m\\t\u001b[39;00m\u001b[39mStarting \u001b[39m\u001b[39m{\u001b[39;00mkv\u001b[39m}\u001b[39;00m\u001b[39m'\u001b[39m)\n\u001b[0;32m---> <a href='vscode-notebook-cell:/home/jonathan/Data_Science/USElectricity/notebooks/test_data_selection.ipynb#X43sZmlsZQ%3D%3D?line=12'>13</a>\u001b[0m     get_all_files(kv)\n\u001b[1;32m     <a href='vscode-notebook-cell:/home/jonathan/Data_Science/USElectricity/notebooks/test_data_selection.ipynb#X43sZmlsZQ%3D%3D?line=13'>14</a>\u001b[0m     t1 \u001b[39m=\u001b[39m time()\n\u001b[1;32m     <a href='vscode-notebook-cell:/home/jonathan/Data_Science/USElectricity/notebooks/test_data_selection.ipynb#X43sZmlsZQ%3D%3D?line=15'>16</a>\u001b[0m     logger\u001b[39m.\u001b[39minfo(\u001b[39mf\u001b[39m\u001b[39m'\u001b[39m\u001b[39m\\t\u001b[39;00m\u001b[39mDone with \u001b[39m\u001b[39m{\u001b[39;00mkv\u001b[39m}\u001b[39;00m\u001b[39m in \u001b[39m\u001b[39m{\u001b[39;00m(t1\u001b[39m-\u001b[39mt0)\u001b[39m/\u001b[39m\u001b[39m60\u001b[39m\u001b[39m:\u001b[39;00m\u001b[39m.1f\u001b[39m\u001b[39m}\u001b[39;00m\u001b[39m min\u001b[39m\u001b[39m'\u001b[39m)\n",
      "File \u001b[0;32m/home/code/src/us_elec/util/get_forecast_data.py:120\u001b[0m, in \u001b[0;36mget_all_files\u001b[0;34m(var, force)\u001b[0m\n\u001b[1;32m    118\u001b[0m \u001b[39melif\u001b[39;00m cs \u001b[39m==\u001b[39m FUTURE:\n\u001b[1;32m    119\u001b[0m     \u001b[39mbreak\u001b[39;00m\n\u001b[0;32m--> 120\u001b[0m fn \u001b[39m=\u001b[39m get_file(year, month, day, var, force\u001b[39m=\u001b[39;49mforce)\n\u001b[1;32m    121\u001b[0m \u001b[39mif\u001b[39;00m fn:\n\u001b[1;32m    122\u001b[0m     files\u001b[39m.\u001b[39mappend(fn)\n",
      "File \u001b[0;32m/home/code/src/us_elec/util/get_forecast_data.py:84\u001b[0m, in \u001b[0;36mget_file\u001b[0;34m(year, month, day, var, force)\u001b[0m\n\u001b[1;32m     82\u001b[0m file_prefix \u001b[39m=\u001b[39m get_prefix(var)\n\u001b[1;32m     83\u001b[0m s3_dir \u001b[39m=\u001b[39m get_s3_dir(year, month, day, var)\n\u001b[0;32m---> 84\u001b[0m fn \u001b[39m=\u001b[39m download_s3_ndfd_file(s3_dir, file_prefix, var, force\u001b[39m=\u001b[39;49mforce)\n\u001b[1;32m     85\u001b[0m \u001b[39mreturn\u001b[39;00m fn\n",
      "File \u001b[0;32m/home/code/src/us_elec/util/get_forecast_data.py:52\u001b[0m, in \u001b[0;36mdownload_s3_ndfd_file\u001b[0;34m(s3_dir, file_prefix, sub_type, use_newest, force)\u001b[0m\n\u001b[1;32m     50\u001b[0m \u001b[39mif\u001b[39;00m os\u001b[39m.\u001b[39mpath\u001b[39m.\u001b[39mexists(local_path) \u001b[39mand\u001b[39;00m \u001b[39mnot\u001b[39;00m force:\n\u001b[1;32m     51\u001b[0m     \u001b[39mreturn\u001b[39;00m local_path\n\u001b[0;32m---> 52\u001b[0m s3_client\u001b[39m.\u001b[39;49mdownload_file(Bucket\u001b[39m=\u001b[39;49mNDFD_BUCKET, Key\u001b[39m=\u001b[39;49mfile, Filename\u001b[39m=\u001b[39;49mlocal_path)\n\u001b[1;32m     53\u001b[0m \u001b[39mreturn\u001b[39;00m local_path\n",
      "File \u001b[0;32m/usr/local/lib/python3.8/dist-packages/boto3/s3/inject.py:190\u001b[0m, in \u001b[0;36mdownload_file\u001b[0;34m(self, Bucket, Key, Filename, ExtraArgs, Callback, Config)\u001b[0m\n\u001b[1;32m    155\u001b[0m \u001b[39m\"\"\"Download an S3 object to a file.\u001b[39;00m\n\u001b[1;32m    156\u001b[0m \n\u001b[1;32m    157\u001b[0m \u001b[39mUsage::\u001b[39;00m\n\u001b[0;32m   (...)\u001b[0m\n\u001b[1;32m    187\u001b[0m \u001b[39m    transfer.\u001b[39;00m\n\u001b[1;32m    188\u001b[0m \u001b[39m\"\"\"\u001b[39;00m\n\u001b[1;32m    189\u001b[0m \u001b[39mwith\u001b[39;00m S3Transfer(\u001b[39mself\u001b[39m, Config) \u001b[39mas\u001b[39;00m transfer:\n\u001b[0;32m--> 190\u001b[0m     \u001b[39mreturn\u001b[39;00m transfer\u001b[39m.\u001b[39;49mdownload_file(\n\u001b[1;32m    191\u001b[0m         bucket\u001b[39m=\u001b[39;49mBucket,\n\u001b[1;32m    192\u001b[0m         key\u001b[39m=\u001b[39;49mKey,\n\u001b[1;32m    193\u001b[0m         filename\u001b[39m=\u001b[39;49mFilename,\n\u001b[1;32m    194\u001b[0m         extra_args\u001b[39m=\u001b[39;49mExtraArgs,\n\u001b[1;32m    195\u001b[0m         callback\u001b[39m=\u001b[39;49mCallback,\n\u001b[1;32m    196\u001b[0m     )\n",
      "File \u001b[0;32m/usr/local/lib/python3.8/dist-packages/boto3/s3/transfer.py:326\u001b[0m, in \u001b[0;36mS3Transfer.download_file\u001b[0;34m(self, bucket, key, filename, extra_args, callback)\u001b[0m\n\u001b[1;32m    322\u001b[0m future \u001b[39m=\u001b[39m \u001b[39mself\u001b[39m\u001b[39m.\u001b[39m_manager\u001b[39m.\u001b[39mdownload(\n\u001b[1;32m    323\u001b[0m     bucket, key, filename, extra_args, subscribers\n\u001b[1;32m    324\u001b[0m )\n\u001b[1;32m    325\u001b[0m \u001b[39mtry\u001b[39;00m:\n\u001b[0;32m--> 326\u001b[0m     future\u001b[39m.\u001b[39;49mresult()\n\u001b[1;32m    327\u001b[0m \u001b[39m# This is for backwards compatibility where when retries are\u001b[39;00m\n\u001b[1;32m    328\u001b[0m \u001b[39m# exceeded we need to throw the same error from boto3 instead of\u001b[39;00m\n\u001b[1;32m    329\u001b[0m \u001b[39m# s3transfer's built in RetriesExceededError as current users are\u001b[39;00m\n\u001b[1;32m    330\u001b[0m \u001b[39m# catching the boto3 one instead of the s3transfer exception to do\u001b[39;00m\n\u001b[1;32m    331\u001b[0m \u001b[39m# their own retries.\u001b[39;00m\n\u001b[1;32m    332\u001b[0m \u001b[39mexcept\u001b[39;00m S3TransferRetriesExceededError \u001b[39mas\u001b[39;00m e:\n",
      "File \u001b[0;32m/usr/local/lib/python3.8/dist-packages/s3transfer/futures.py:106\u001b[0m, in \u001b[0;36mTransferFuture.result\u001b[0;34m(self)\u001b[0m\n\u001b[1;32m    104\u001b[0m \u001b[39mexcept\u001b[39;00m \u001b[39mKeyboardInterrupt\u001b[39;00m \u001b[39mas\u001b[39;00m e:\n\u001b[1;32m    105\u001b[0m     \u001b[39mself\u001b[39m\u001b[39m.\u001b[39mcancel()\n\u001b[0;32m--> 106\u001b[0m     \u001b[39mraise\u001b[39;00m e\n",
      "File \u001b[0;32m/usr/local/lib/python3.8/dist-packages/s3transfer/futures.py:103\u001b[0m, in \u001b[0;36mTransferFuture.result\u001b[0;34m(self)\u001b[0m\n\u001b[1;32m     98\u001b[0m \u001b[39mdef\u001b[39;00m \u001b[39mresult\u001b[39m(\u001b[39mself\u001b[39m):\n\u001b[1;32m     99\u001b[0m     \u001b[39mtry\u001b[39;00m:\n\u001b[1;32m    100\u001b[0m         \u001b[39m# Usually the result() method blocks until the transfer is done,\u001b[39;00m\n\u001b[1;32m    101\u001b[0m         \u001b[39m# however if a KeyboardInterrupt is raised we want want to exit\u001b[39;00m\n\u001b[1;32m    102\u001b[0m         \u001b[39m# out of this and propagate the exception.\u001b[39;00m\n\u001b[0;32m--> 103\u001b[0m         \u001b[39mreturn\u001b[39;00m \u001b[39mself\u001b[39;49m\u001b[39m.\u001b[39;49m_coordinator\u001b[39m.\u001b[39;49mresult()\n\u001b[1;32m    104\u001b[0m     \u001b[39mexcept\u001b[39;00m \u001b[39mKeyboardInterrupt\u001b[39;00m \u001b[39mas\u001b[39;00m e:\n\u001b[1;32m    105\u001b[0m         \u001b[39mself\u001b[39m\u001b[39m.\u001b[39mcancel()\n",
      "File \u001b[0;32m/usr/local/lib/python3.8/dist-packages/s3transfer/futures.py:261\u001b[0m, in \u001b[0;36mTransferCoordinator.result\u001b[0;34m(self)\u001b[0m\n\u001b[1;32m    251\u001b[0m \u001b[39m\"\"\"Waits until TransferFuture is done and returns the result\u001b[39;00m\n\u001b[1;32m    252\u001b[0m \n\u001b[1;32m    253\u001b[0m \u001b[39mIf the TransferFuture succeeded, it will return the result. If the\u001b[39;00m\n\u001b[1;32m    254\u001b[0m \u001b[39mTransferFuture failed, it will raise the exception associated to the\u001b[39;00m\n\u001b[1;32m    255\u001b[0m \u001b[39mfailure.\u001b[39;00m\n\u001b[1;32m    256\u001b[0m \u001b[39m\"\"\"\u001b[39;00m\n\u001b[1;32m    257\u001b[0m \u001b[39m# Doing a wait() with no timeout cannot be interrupted in python2 but\u001b[39;00m\n\u001b[1;32m    258\u001b[0m \u001b[39m# can be interrupted in python3 so we just wait with the largest\u001b[39;00m\n\u001b[1;32m    259\u001b[0m \u001b[39m# possible value integer value, which is on the scale of billions of\u001b[39;00m\n\u001b[1;32m    260\u001b[0m \u001b[39m# years...\u001b[39;00m\n\u001b[0;32m--> 261\u001b[0m \u001b[39mself\u001b[39;49m\u001b[39m.\u001b[39;49m_done_event\u001b[39m.\u001b[39;49mwait(MAXINT)\n\u001b[1;32m    263\u001b[0m \u001b[39m# Once done waiting, raise an exception if present or return the\u001b[39;00m\n\u001b[1;32m    264\u001b[0m \u001b[39m# final result.\u001b[39;00m\n\u001b[1;32m    265\u001b[0m \u001b[39mif\u001b[39;00m \u001b[39mself\u001b[39m\u001b[39m.\u001b[39m_exception:\n",
      "File \u001b[0;32m/usr/lib/python3.8/threading.py:558\u001b[0m, in \u001b[0;36mEvent.wait\u001b[0;34m(self, timeout)\u001b[0m\n\u001b[1;32m    556\u001b[0m signaled \u001b[39m=\u001b[39m \u001b[39mself\u001b[39m\u001b[39m.\u001b[39m_flag\n\u001b[1;32m    557\u001b[0m \u001b[39mif\u001b[39;00m \u001b[39mnot\u001b[39;00m signaled:\n\u001b[0;32m--> 558\u001b[0m     signaled \u001b[39m=\u001b[39m \u001b[39mself\u001b[39;49m\u001b[39m.\u001b[39;49m_cond\u001b[39m.\u001b[39;49mwait(timeout)\n\u001b[1;32m    559\u001b[0m \u001b[39mreturn\u001b[39;00m signaled\n",
      "File \u001b[0;32m/usr/lib/python3.8/threading.py:302\u001b[0m, in \u001b[0;36mCondition.wait\u001b[0;34m(self, timeout)\u001b[0m\n\u001b[1;32m    300\u001b[0m \u001b[39mtry\u001b[39;00m:    \u001b[39m# restore state no matter what (e.g., KeyboardInterrupt)\u001b[39;00m\n\u001b[1;32m    301\u001b[0m     \u001b[39mif\u001b[39;00m timeout \u001b[39mis\u001b[39;00m \u001b[39mNone\u001b[39;00m:\n\u001b[0;32m--> 302\u001b[0m         waiter\u001b[39m.\u001b[39;49macquire()\n\u001b[1;32m    303\u001b[0m         gotit \u001b[39m=\u001b[39m \u001b[39mTrue\u001b[39;00m\n\u001b[1;32m    304\u001b[0m     \u001b[39melse\u001b[39;00m:\n",
      "\u001b[0;31mKeyboardInterrupt\u001b[0m: "
     ]
    }
   ],
   "source": [
    "# Download data across all types and years\n",
    "from us_elec.util.get_forecast_data import get_all_ndfd_files\n",
    "\n",
    "import logging\n",
    "\n",
    "logger = logging.getLogger()\n",
    "\n",
    "from time import time\n",
    "\n",
    "t0 = time()\n",
    "\n",
    "for kv in ['temp', 'wspd', 'wdir', 'sky']:\n",
    "    logger.info(f'\\tStarting {kv}')\n",
    "    get_all_ndfd_files(kv)\n",
    "    t1 = time()\n",
    "\n",
    "    logger.info(f'\\tDone with {kv} in {(t1-t0)/60:.1f} min')\n",
    "    t0 = t1"
   ]
  },
  {
   "cell_type": "code",
   "execution_count": null,
   "metadata": {},
   "outputs": [],
   "source": [
    "# need ot get tuple for local name or NOAA names for wind_speed etc."
   ]
  },
  {
   "cell_type": "code",
   "execution_count": null,
   "metadata": {},
   "outputs": [],
   "source": []
  },
  {
   "cell_type": "code",
   "execution_count": 50,
   "metadata": {},
   "outputs": [],
   "source": [
    "now = datetime.now()"
   ]
  },
  {
   "cell_type": "code",
   "execution_count": 52,
   "metadata": {},
   "outputs": [
    {
     "data": {
      "text/plain": [
       "10"
      ]
     },
     "execution_count": 52,
     "metadata": {},
     "output_type": "execute_result"
    }
   ],
   "source": [
    "now.month"
   ]
  },
  {
   "cell_type": "code",
   "execution_count": null,
   "metadata": {},
   "outputs": [],
   "source": []
  }
 ],
 "metadata": {
  "kernelspec": {
   "argv": [
    "python",
    "-m",
    "ipykernel_launcher",
    "-f",
    "{connection_file}"
   ],
   "display_name": "Python 3 (ipykernel)",
   "env": null,
   "interrupt_mode": "signal",
   "language": "python",
   "name": "python3"
  },
  "name": "test_data_selection.ipynb",
  "vscode": {
   "interpreter": {
    "hash": "916dbcbb3f70747c44a77c7bcd40155683ae19c65e1c03b4aa3499c5328201f1"
   }
  }
 },
 "nbformat": 4,
 "nbformat_minor": 2
}
